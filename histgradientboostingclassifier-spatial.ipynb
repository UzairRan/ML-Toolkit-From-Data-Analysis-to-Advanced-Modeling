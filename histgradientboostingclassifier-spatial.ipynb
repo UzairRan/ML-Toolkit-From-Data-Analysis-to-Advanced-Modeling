{
 "cells": [
  {
   "cell_type": "code",
   "execution_count": 1,
   "id": "7d8a4d49",
   "metadata": {
    "_cell_guid": "b1076dfc-b9ad-4769-8c92-a6c4dae69d19",
    "_uuid": "8f2839f25d086af736a60e9eeb907d3b93b6e0e5",
    "execution": {
     "iopub.execute_input": "2024-02-27T18:11:09.012597Z",
     "iopub.status.busy": "2024-02-27T18:11:09.011846Z",
     "iopub.status.idle": "2024-02-27T18:11:12.648810Z",
     "shell.execute_reply": "2024-02-27T18:11:12.647464Z"
    },
    "papermill": {
     "duration": 3.647571,
     "end_time": "2024-02-27T18:11:12.651883",
     "exception": false,
     "start_time": "2024-02-27T18:11:09.004312",
     "status": "completed"
    },
    "tags": []
   },
   "outputs": [],
   "source": [
    "import pandas as pd\n",
    "import numpy as np\n",
    "from sklearn.preprocessing import LabelEncoder, StandardScaler\n",
    "from sklearn.model_selection import StratifiedKFold\n",
    "from sklearn.metrics import accuracy_score\n",
    "from sklearn.ensemble import HistGradientBoostingClassifier\n"
   ]
  },
  {
   "cell_type": "code",
   "execution_count": 2,
   "id": "d3c18d05",
   "metadata": {
    "execution": {
     "iopub.execute_input": "2024-02-27T18:11:12.665850Z",
     "iopub.status.busy": "2024-02-27T18:11:12.665100Z",
     "iopub.status.idle": "2024-02-27T18:11:12.906098Z",
     "shell.execute_reply": "2024-02-27T18:11:12.905116Z"
    },
    "papermill": {
     "duration": 0.251133,
     "end_time": "2024-02-27T18:11:12.908689",
     "exception": false,
     "start_time": "2024-02-27T18:11:12.657556",
     "status": "completed"
    },
    "tags": []
   },
   "outputs": [],
   "source": [
    "# Load Data\n",
    "train_data = pd.read_csv(\"/kaggle/input/playground-series-s4e2/train.csv\")\n",
    "test_data = pd.read_csv(\"/kaggle/input/playground-series-s4e2/test.csv\")\n",
    "original_data = pd.read_csv(\"/kaggle/input/obesity-or-cvd-risk-classifyregressorcluster/ObesityDataSet.csv\")\n",
    "sample_submission_data = pd.read_csv(\"/kaggle/input/playground-series-s4e2/sample_submission.csv\")\n"
   ]
  },
  {
   "cell_type": "code",
   "execution_count": 3,
   "id": "7a790195",
   "metadata": {
    "execution": {
     "iopub.execute_input": "2024-02-27T18:11:12.921787Z",
     "iopub.status.busy": "2024-02-27T18:11:12.921332Z",
     "iopub.status.idle": "2024-02-27T18:11:12.989012Z",
     "shell.execute_reply": "2024-02-27T18:11:12.987598Z"
    },
    "papermill": {
     "duration": 0.077726,
     "end_time": "2024-02-27T18:11:12.991905",
     "exception": false,
     "start_time": "2024-02-27T18:11:12.914179",
     "status": "completed"
    },
    "tags": []
   },
   "outputs": [],
   "source": [
    "# Merge Data\n",
    "train_data = train_data.drop(\"id\", axis=1)\n",
    "train_data = pd.concat([train_data, original_data], ignore_index=True).drop_duplicates()\n"
   ]
  },
  {
   "cell_type": "code",
   "execution_count": 4,
   "id": "ccfd0908",
   "metadata": {
    "execution": {
     "iopub.execute_input": "2024-02-27T18:11:13.004561Z",
     "iopub.status.busy": "2024-02-27T18:11:13.004141Z",
     "iopub.status.idle": "2024-02-27T18:11:13.025965Z",
     "shell.execute_reply": "2024-02-27T18:11:13.024508Z"
    },
    "papermill": {
     "duration": 0.031598,
     "end_time": "2024-02-27T18:11:13.028873",
     "exception": false,
     "start_time": "2024-02-27T18:11:12.997275",
     "status": "completed"
    },
    "tags": []
   },
   "outputs": [],
   "source": [
    "# Feature Scaling\n",
    "scaler = StandardScaler()\n",
    "num_cols = list(train_data.select_dtypes(exclude=['object']).columns)\n",
    "train_data[num_cols] = scaler.fit_transform(train_data[num_cols])\n",
    "test_data[num_cols] = scaler.transform(test_data[num_cols])\n",
    "\n"
   ]
  },
  {
   "cell_type": "code",
   "execution_count": 5,
   "id": "8ce1b9e9",
   "metadata": {
    "execution": {
     "iopub.execute_input": "2024-02-27T18:11:13.042124Z",
     "iopub.status.busy": "2024-02-27T18:11:13.041476Z",
     "iopub.status.idle": "2024-02-27T18:11:13.147555Z",
     "shell.execute_reply": "2024-02-27T18:11:13.145936Z"
    },
    "papermill": {
     "duration": 0.116271,
     "end_time": "2024-02-27T18:11:13.150500",
     "exception": false,
     "start_time": "2024-02-27T18:11:13.034229",
     "status": "completed"
    },
    "tags": []
   },
   "outputs": [],
   "source": [
    "# Encoding Categorical Variables\n",
    "labelencoder = LabelEncoder()\n",
    "object_columns = train_data.select_dtypes(include='object').columns.difference(['NObeyesdad'])\n",
    "\n",
    "for col_name in object_columns:\n",
    "    if train_data[col_name].dtypes == 'object':\n",
    "        train_data[col_name] = labelencoder.fit_transform(train_data[col_name])\n",
    "        test_data[col_name] = labelencoder.transform(test_data[col_name])\n",
    "\n"
   ]
  },
  {
   "cell_type": "code",
   "execution_count": 6,
   "id": "96a8b099",
   "metadata": {
    "execution": {
     "iopub.execute_input": "2024-02-27T18:11:13.163513Z",
     "iopub.status.busy": "2024-02-27T18:11:13.163097Z",
     "iopub.status.idle": "2024-02-27T18:11:13.183577Z",
     "shell.execute_reply": "2024-02-27T18:11:13.182136Z"
    },
    "papermill": {
     "duration": 0.030009,
     "end_time": "2024-02-27T18:11:13.186183",
     "exception": false,
     "start_time": "2024-02-27T18:11:13.156174",
     "status": "completed"
    },
    "tags": []
   },
   "outputs": [],
   "source": [
    "# Define Features and Target\n",
    "X = train_data.drop(['NObeyesdad'], axis=1)\n",
    "y = labelencoder.fit_transform(train_data['NObeyesdad'])\n",
    "X_test = test_data.drop([\"id\"], axis=1)"
   ]
  },
  {
   "cell_type": "code",
   "execution_count": 7,
   "id": "4f474ed4",
   "metadata": {
    "execution": {
     "iopub.execute_input": "2024-02-27T18:11:13.200460Z",
     "iopub.status.busy": "2024-02-27T18:11:13.200047Z",
     "iopub.status.idle": "2024-02-27T18:11:13.206518Z",
     "shell.execute_reply": "2024-02-27T18:11:13.205550Z"
    },
    "papermill": {
     "duration": 0.016151,
     "end_time": "2024-02-27T18:11:13.209041",
     "exception": false,
     "start_time": "2024-02-27T18:11:13.192890",
     "status": "completed"
    },
    "tags": []
   },
   "outputs": [],
   "source": [
    "# Define HistGradientBoostingClassifier model parameters\n",
    "hgb_param = {\n",
    "    \"loss\": \"categorical_crossentropy\",\n",
    "    \"learning_rate\": 0.1,\n",
    "    \"max_iter\": 100,\n",
    "    \"max_depth\": 6,\n",
    "    \"random_state\": 42,\n",
    "}\n",
    "\n"
   ]
  },
  {
   "cell_type": "code",
   "execution_count": 8,
   "id": "407a6d3e",
   "metadata": {
    "execution": {
     "iopub.execute_input": "2024-02-27T18:11:13.222029Z",
     "iopub.status.busy": "2024-02-27T18:11:13.221627Z",
     "iopub.status.idle": "2024-02-27T18:12:11.275955Z",
     "shell.execute_reply": "2024-02-27T18:12:11.274900Z"
    },
    "papermill": {
     "duration": 58.064155,
     "end_time": "2024-02-27T18:12:11.278932",
     "exception": false,
     "start_time": "2024-02-27T18:11:13.214777",
     "status": "completed"
    },
    "tags": []
   },
   "outputs": [
    {
     "name": "stderr",
     "output_type": "stream",
     "text": [
      "/opt/conda/lib/python3.10/site-packages/sklearn/ensemble/_hist_gradient_boosting/gradient_boosting.py:1998: FutureWarning: The loss 'categorical_crossentropy' was deprecated in v1.1 and will be removed in version 1.3. Use 'log_loss' which is equivalent.\n",
      "  warnings.warn(\n",
      "/opt/conda/lib/python3.10/site-packages/sklearn/ensemble/_hist_gradient_boosting/gradient_boosting.py:1998: FutureWarning: The loss 'categorical_crossentropy' was deprecated in v1.1 and will be removed in version 1.3. Use 'log_loss' which is equivalent.\n",
      "  warnings.warn(\n",
      "/opt/conda/lib/python3.10/site-packages/sklearn/ensemble/_hist_gradient_boosting/gradient_boosting.py:1998: FutureWarning: The loss 'categorical_crossentropy' was deprecated in v1.1 and will be removed in version 1.3. Use 'log_loss' which is equivalent.\n",
      "  warnings.warn(\n",
      "/opt/conda/lib/python3.10/site-packages/sklearn/ensemble/_hist_gradient_boosting/gradient_boosting.py:1998: FutureWarning: The loss 'categorical_crossentropy' was deprecated in v1.1 and will be removed in version 1.3. Use 'log_loss' which is equivalent.\n",
      "  warnings.warn(\n",
      "/opt/conda/lib/python3.10/site-packages/sklearn/ensemble/_hist_gradient_boosting/gradient_boosting.py:1998: FutureWarning: The loss 'categorical_crossentropy' was deprecated in v1.1 and will be removed in version 1.3. Use 'log_loss' which is equivalent.\n",
      "  warnings.warn(\n",
      "/opt/conda/lib/python3.10/site-packages/sklearn/ensemble/_hist_gradient_boosting/gradient_boosting.py:1998: FutureWarning: The loss 'categorical_crossentropy' was deprecated in v1.1 and will be removed in version 1.3. Use 'log_loss' which is equivalent.\n",
      "  warnings.warn(\n",
      "/opt/conda/lib/python3.10/site-packages/sklearn/ensemble/_hist_gradient_boosting/gradient_boosting.py:1998: FutureWarning: The loss 'categorical_crossentropy' was deprecated in v1.1 and will be removed in version 1.3. Use 'log_loss' which is equivalent.\n",
      "  warnings.warn(\n",
      "/opt/conda/lib/python3.10/site-packages/sklearn/ensemble/_hist_gradient_boosting/gradient_boosting.py:1998: FutureWarning: The loss 'categorical_crossentropy' was deprecated in v1.1 and will be removed in version 1.3. Use 'log_loss' which is equivalent.\n",
      "  warnings.warn(\n",
      "/opt/conda/lib/python3.10/site-packages/sklearn/ensemble/_hist_gradient_boosting/gradient_boosting.py:1998: FutureWarning: The loss 'categorical_crossentropy' was deprecated in v1.1 and will be removed in version 1.3. Use 'log_loss' which is equivalent.\n",
      "  warnings.warn(\n",
      "/opt/conda/lib/python3.10/site-packages/sklearn/ensemble/_hist_gradient_boosting/gradient_boosting.py:1998: FutureWarning: The loss 'categorical_crossentropy' was deprecated in v1.1 and will be removed in version 1.3. Use 'log_loss' which is equivalent.\n",
      "  warnings.warn(\n",
      "/opt/conda/lib/python3.10/site-packages/sklearn/ensemble/_hist_gradient_boosting/gradient_boosting.py:1998: FutureWarning: The loss 'categorical_crossentropy' was deprecated in v1.1 and will be removed in version 1.3. Use 'log_loss' which is equivalent.\n",
      "  warnings.warn(\n",
      "/opt/conda/lib/python3.10/site-packages/sklearn/ensemble/_hist_gradient_boosting/gradient_boosting.py:1998: FutureWarning: The loss 'categorical_crossentropy' was deprecated in v1.1 and will be removed in version 1.3. Use 'log_loss' which is equivalent.\n",
      "  warnings.warn(\n",
      "/opt/conda/lib/python3.10/site-packages/sklearn/ensemble/_hist_gradient_boosting/gradient_boosting.py:1998: FutureWarning: The loss 'categorical_crossentropy' was deprecated in v1.1 and will be removed in version 1.3. Use 'log_loss' which is equivalent.\n",
      "  warnings.warn(\n",
      "/opt/conda/lib/python3.10/site-packages/sklearn/ensemble/_hist_gradient_boosting/gradient_boosting.py:1998: FutureWarning: The loss 'categorical_crossentropy' was deprecated in v1.1 and will be removed in version 1.3. Use 'log_loss' which is equivalent.\n",
      "  warnings.warn(\n"
     ]
    }
   ],
   "source": [
    "# Define Spatial Cross-Validation\n",
    "num_splits = 14\n",
    "skf = StratifiedKFold(n_splits=num_splits, shuffle=True, random_state=42)\n",
    "\n",
    "# Initialize lists to store validation accuracies and predictions\n",
    "val_accuracies_hgb = []\n",
    "test_preds_hgb = []\n",
    "\n",
    "# Perform Spatial Cross-Validation\n",
    "for train_index, val_index in skf.split(X, y):\n",
    "    X_train, X_val = X.iloc[train_index], X.iloc[val_index]\n",
    "    y_train, y_val = y[train_index], y[val_index]\n",
    "    \n",
    "    # Train HistGradientBoostingClassifier model\n",
    "    model_hgb = HistGradientBoostingClassifier(**hgb_param)\n",
    "    model_hgb.fit(X_train, y_train)\n",
    "    \n",
    "    # Make predictions on validation set using HistGradientBoostingClassifier\n",
    "    pred_proba_hgb = model_hgb.predict_proba(X_val)\n",
    "    y_pred_hgb = np.argmax(pred_proba_hgb, axis=1)\n",
    "    val_accuracy_hgb = accuracy_score(y_val, y_pred_hgb)\n",
    "    val_accuracies_hgb.append(val_accuracy_hgb)\n",
    "    \n",
    "    # Make predictions on test set using HistGradientBoostingClassifier\n",
    "    test_preds_hgb.append(model_hgb.predict_proba(X_test))\n"
   ]
  },
  {
   "cell_type": "code",
   "execution_count": 9,
   "id": "ffd6ce85",
   "metadata": {
    "execution": {
     "iopub.execute_input": "2024-02-27T18:12:11.296823Z",
     "iopub.status.busy": "2024-02-27T18:12:11.296258Z",
     "iopub.status.idle": "2024-02-27T18:12:11.302755Z",
     "shell.execute_reply": "2024-02-27T18:12:11.301465Z"
    },
    "papermill": {
     "duration": 0.018295,
     "end_time": "2024-02-27T18:12:11.305218",
     "exception": false,
     "start_time": "2024-02-27T18:12:11.286923",
     "status": "completed"
    },
    "tags": []
   },
   "outputs": [
    {
     "name": "stdout",
     "output_type": "stream",
     "text": [
      "Mean Validation Accuracy (HistGradientBoostingClassifier): 0.9120159329826352\n"
     ]
    }
   ],
   "source": [
    "# Average validation accuracy\n",
    "mean_val_accuracy_hgb = np.mean(val_accuracies_hgb)\n",
    "print(\"Mean Validation Accuracy (HistGradientBoostingClassifier):\", mean_val_accuracy_hgb)\n"
   ]
  },
  {
   "cell_type": "code",
   "execution_count": 10,
   "id": "6ea14827",
   "metadata": {
    "execution": {
     "iopub.execute_input": "2024-02-27T18:12:11.321885Z",
     "iopub.status.busy": "2024-02-27T18:12:11.321442Z",
     "iopub.status.idle": "2024-02-27T18:12:11.337031Z",
     "shell.execute_reply": "2024-02-27T18:12:11.335635Z"
    },
    "papermill": {
     "duration": 0.027701,
     "end_time": "2024-02-27T18:12:11.339980",
     "exception": false,
     "start_time": "2024-02-27T18:12:11.312279",
     "status": "completed"
    },
    "tags": []
   },
   "outputs": [],
   "source": [
    "# Average predictions on test set\n",
    "mean_test_preds_hgb = np.mean(test_preds_hgb, axis=0)\n",
    "final_test_preds_hgb = np.argmax(mean_test_preds_hgb, axis=1)\n"
   ]
  },
  {
   "cell_type": "code",
   "execution_count": 11,
   "id": "ef8b2a31",
   "metadata": {
    "execution": {
     "iopub.execute_input": "2024-02-27T18:12:11.356343Z",
     "iopub.status.busy": "2024-02-27T18:12:11.355737Z",
     "iopub.status.idle": "2024-02-27T18:12:11.361973Z",
     "shell.execute_reply": "2024-02-27T18:12:11.360466Z"
    },
    "papermill": {
     "duration": 0.01822,
     "end_time": "2024-02-27T18:12:11.365055",
     "exception": false,
     "start_time": "2024-02-27T18:12:11.346835",
     "status": "completed"
    },
    "tags": []
   },
   "outputs": [],
   "source": [
    "# Decode predictions\n",
    "pred_hgb = labelencoder.inverse_transform(final_test_preds_hgb)\n",
    "\n"
   ]
  },
  {
   "cell_type": "code",
   "execution_count": 12,
   "id": "5336c346",
   "metadata": {
    "execution": {
     "iopub.execute_input": "2024-02-27T18:12:11.381685Z",
     "iopub.status.busy": "2024-02-27T18:12:11.381165Z",
     "iopub.status.idle": "2024-02-27T18:12:11.422350Z",
     "shell.execute_reply": "2024-02-27T18:12:11.420560Z"
    },
    "papermill": {
     "duration": 0.054337,
     "end_time": "2024-02-27T18:12:11.426333",
     "exception": false,
     "start_time": "2024-02-27T18:12:11.371996",
     "status": "completed"
    },
    "tags": []
   },
   "outputs": [],
   "source": [
    "# Create submission file for HistGradientBoostingClassifier predictions\n",
    "submission_hgb = pd.DataFrame({'id': test_data.id, 'NObeyesdad': pred_hgb})\n",
    "submission_hgb.to_csv('submission_hgb.csv', index=False)"
   ]
  },
  {
   "cell_type": "code",
   "execution_count": null,
   "id": "afb3ea46",
   "metadata": {
    "papermill": {
     "duration": 0.006507,
     "end_time": "2024-02-27T18:12:11.439832",
     "exception": false,
     "start_time": "2024-02-27T18:12:11.433325",
     "status": "completed"
    },
    "tags": []
   },
   "outputs": [],
   "source": []
  }
 ],
 "metadata": {
  "kaggle": {
   "accelerator": "none",
   "dataSources": [
    {
     "databundleVersionId": 7609535,
     "sourceId": 68479,
     "sourceType": "competition"
    },
    {
     "datasetId": 4030196,
     "sourceId": 7009925,
     "sourceType": "datasetVersion"
    }
   ],
   "dockerImageVersionId": 30646,
   "isGpuEnabled": false,
   "isInternetEnabled": true,
   "language": "python",
   "sourceType": "notebook"
  },
  "kernelspec": {
   "display_name": "Python 3",
   "language": "python",
   "name": "python3"
  },
  "language_info": {
   "codemirror_mode": {
    "name": "ipython",
    "version": 3
   },
   "file_extension": ".py",
   "mimetype": "text/x-python",
   "name": "python",
   "nbconvert_exporter": "python",
   "pygments_lexer": "ipython3",
   "version": "3.10.13"
  },
  "papermill": {
   "default_parameters": {},
   "duration": 66.569039,
   "end_time": "2024-02-27T18:12:12.169247",
   "environment_variables": {},
   "exception": null,
   "input_path": "__notebook__.ipynb",
   "output_path": "__notebook__.ipynb",
   "parameters": {},
   "start_time": "2024-02-27T18:11:05.600208",
   "version": "2.5.0"
  }
 },
 "nbformat": 4,
 "nbformat_minor": 5
}
