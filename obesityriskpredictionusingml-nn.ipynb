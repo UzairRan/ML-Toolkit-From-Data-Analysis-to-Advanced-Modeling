{
 "cells": [
  {
   "cell_type": "code",
   "execution_count": 1,
   "id": "1d0def92",
   "metadata": {
    "_cell_guid": "b1076dfc-b9ad-4769-8c92-a6c4dae69d19",
    "_uuid": "8f2839f25d086af736a60e9eeb907d3b93b6e0e5",
    "execution": {
     "iopub.execute_input": "2024-02-20T15:18:52.560639Z",
     "iopub.status.busy": "2024-02-20T15:18:52.560202Z",
     "iopub.status.idle": "2024-02-20T15:19:08.607865Z",
     "shell.execute_reply": "2024-02-20T15:19:08.606821Z"
    },
    "papermill": {
     "duration": 16.057907,
     "end_time": "2024-02-20T15:19:08.610468",
     "exception": false,
     "start_time": "2024-02-20T15:18:52.552561",
     "status": "completed"
    },
    "tags": []
   },
   "outputs": [
    {
     "name": "stderr",
     "output_type": "stream",
     "text": [
      "2024-02-20 15:18:56.948791: E external/local_xla/xla/stream_executor/cuda/cuda_dnn.cc:9261] Unable to register cuDNN factory: Attempting to register factory for plugin cuDNN when one has already been registered\n",
      "2024-02-20 15:18:56.948907: E external/local_xla/xla/stream_executor/cuda/cuda_fft.cc:607] Unable to register cuFFT factory: Attempting to register factory for plugin cuFFT when one has already been registered\n",
      "2024-02-20 15:18:57.096091: E external/local_xla/xla/stream_executor/cuda/cuda_blas.cc:1515] Unable to register cuBLAS factory: Attempting to register factory for plugin cuBLAS when one has already been registered\n"
     ]
    }
   ],
   "source": [
    "# Importing necessary libraries\n",
    "import pandas as pd\n",
    "import numpy as np\n",
    "import matplotlib.pyplot as plt\n",
    "import seaborn as sns\n",
    "from sklearn.model_selection import train_test_split\n",
    "from sklearn.preprocessing import LabelEncoder, StandardScaler\n",
    "from sklearn.metrics import accuracy_score, classification_report, confusion_matrix\n",
    "import tensorflow as tf\n",
    "from tensorflow.keras.models import Sequential\n",
    "from tensorflow.keras.layers import Dense, Dropout\n",
    "from tensorflow.keras.utils import to_categorical"
   ]
  },
  {
   "cell_type": "code",
   "execution_count": 2,
   "id": "d6e7d482",
   "metadata": {
    "execution": {
     "iopub.execute_input": "2024-02-20T15:19:08.624421Z",
     "iopub.status.busy": "2024-02-20T15:19:08.623102Z",
     "iopub.status.idle": "2024-02-20T15:19:08.793054Z",
     "shell.execute_reply": "2024-02-20T15:19:08.791991Z"
    },
    "papermill": {
     "duration": 0.179341,
     "end_time": "2024-02-20T15:19:08.795657",
     "exception": false,
     "start_time": "2024-02-20T15:19:08.616316",
     "status": "completed"
    },
    "tags": []
   },
   "outputs": [],
   "source": [
    "# Load the data\n",
    "train_df = pd.read_csv(\"/kaggle/input/playground-series-s4e2/train.csv\")\n",
    "test_df = pd.read_csv(\"/kaggle/input/playground-series-s4e2/test.csv\")\n",
    "sample_submission = pd.read_csv('/kaggle/input/playground-series-s4e2/sample_submission.csv')"
   ]
  },
  {
   "cell_type": "code",
   "execution_count": 3,
   "id": "577879c2",
   "metadata": {
    "execution": {
     "iopub.execute_input": "2024-02-20T15:19:08.809172Z",
     "iopub.status.busy": "2024-02-20T15:19:08.808195Z",
     "iopub.status.idle": "2024-02-20T15:19:08.861873Z",
     "shell.execute_reply": "2024-02-20T15:19:08.860780Z"
    },
    "papermill": {
     "duration": 0.063281,
     "end_time": "2024-02-20T15:19:08.864745",
     "exception": false,
     "start_time": "2024-02-20T15:19:08.801464",
     "status": "completed"
    },
    "tags": []
   },
   "outputs": [],
   "source": [
    "# Preprocessing\n",
    "# Encode categorical variables\n",
    "label_encoders = {}\n",
    "for col in train_df.select_dtypes(include=['object']).columns:\n",
    "    le = LabelEncoder()\n",
    "    train_df[col] = le.fit_transform(train_df[col])\n",
    "    label_encoders[col] = le\n"
   ]
  },
  {
   "cell_type": "code",
   "execution_count": 4,
   "id": "8692097c",
   "metadata": {
    "execution": {
     "iopub.execute_input": "2024-02-20T15:19:08.878153Z",
     "iopub.status.busy": "2024-02-20T15:19:08.877776Z",
     "iopub.status.idle": "2024-02-20T15:19:08.898567Z",
     "shell.execute_reply": "2024-02-20T15:19:08.897496Z"
    },
    "papermill": {
     "duration": 0.030105,
     "end_time": "2024-02-20T15:19:08.900928",
     "exception": false,
     "start_time": "2024-02-20T15:19:08.870823",
     "status": "completed"
    },
    "tags": []
   },
   "outputs": [],
   "source": [
    "# Split features and target variable\n",
    "X = train_df.drop(['id', 'NObeyesdad'], axis=1)\n",
    "y = train_df['NObeyesdad']\n"
   ]
  },
  {
   "cell_type": "code",
   "execution_count": 5,
   "id": "4f55e113",
   "metadata": {
    "execution": {
     "iopub.execute_input": "2024-02-20T15:19:08.914502Z",
     "iopub.status.busy": "2024-02-20T15:19:08.914099Z",
     "iopub.status.idle": "2024-02-20T15:19:08.929461Z",
     "shell.execute_reply": "2024-02-20T15:19:08.928275Z"
    },
    "papermill": {
     "duration": 0.025583,
     "end_time": "2024-02-20T15:19:08.932210",
     "exception": false,
     "start_time": "2024-02-20T15:19:08.906627",
     "status": "completed"
    },
    "tags": []
   },
   "outputs": [],
   "source": [
    "# Normalize numerical features\n",
    "scaler = StandardScaler()\n",
    "X_scaled = scaler.fit_transform(X)"
   ]
  },
  {
   "cell_type": "code",
   "execution_count": 6,
   "id": "98086f01",
   "metadata": {
    "execution": {
     "iopub.execute_input": "2024-02-20T15:19:08.945389Z",
     "iopub.status.busy": "2024-02-20T15:19:08.945006Z",
     "iopub.status.idle": "2024-02-20T15:19:08.952697Z",
     "shell.execute_reply": "2024-02-20T15:19:08.951810Z"
    },
    "papermill": {
     "duration": 0.016676,
     "end_time": "2024-02-20T15:19:08.954797",
     "exception": false,
     "start_time": "2024-02-20T15:19:08.938121",
     "status": "completed"
    },
    "tags": []
   },
   "outputs": [],
   "source": [
    "# One-hot encode the target variable\n",
    "y_encoded = pd.get_dummies(y)\n"
   ]
  },
  {
   "cell_type": "code",
   "execution_count": 7,
   "id": "2905da33",
   "metadata": {
    "execution": {
     "iopub.execute_input": "2024-02-20T15:19:08.968161Z",
     "iopub.status.busy": "2024-02-20T15:19:08.967499Z",
     "iopub.status.idle": "2024-02-20T15:19:08.976633Z",
     "shell.execute_reply": "2024-02-20T15:19:08.975443Z"
    },
    "papermill": {
     "duration": 0.018512,
     "end_time": "2024-02-20T15:19:08.979156",
     "exception": false,
     "start_time": "2024-02-20T15:19:08.960644",
     "status": "completed"
    },
    "tags": []
   },
   "outputs": [],
   "source": [
    "# Splitting the dataset into the Training set and Test set\n",
    "X_train, X_val, y_train, y_val = train_test_split(X_scaled, y_encoded, test_size=0.2, random_state=42)\n"
   ]
  },
  {
   "cell_type": "code",
   "execution_count": 8,
   "id": "4d077ab6",
   "metadata": {
    "execution": {
     "iopub.execute_input": "2024-02-20T15:19:08.992100Z",
     "iopub.status.busy": "2024-02-20T15:19:08.991708Z",
     "iopub.status.idle": "2024-02-20T15:19:09.161246Z",
     "shell.execute_reply": "2024-02-20T15:19:09.160394Z"
    },
    "papermill": {
     "duration": 0.178814,
     "end_time": "2024-02-20T15:19:09.163710",
     "exception": false,
     "start_time": "2024-02-20T15:19:08.984896",
     "status": "completed"
    },
    "tags": []
   },
   "outputs": [],
   "source": [
    "# Model Building\n",
    "model = Sequential([\n",
    "    Dense(64, activation='relu', input_shape=(X_train.shape[1],)),\n",
    "    Dropout(0.5),\n",
    "    Dense(32, activation='relu'),\n",
    "    Dropout(0.5),\n",
    "    Dense(16, activation='relu'),\n",
    "    Dense(y_train.shape[1], activation='softmax')\n",
    "])\n",
    "\n",
    "# Compile the model\n",
    "model.compile(optimizer='adam', loss='categorical_crossentropy', metrics=['accuracy'])\n"
   ]
  },
  {
   "cell_type": "code",
   "execution_count": 9,
   "id": "1ae71eb2",
   "metadata": {
    "execution": {
     "iopub.execute_input": "2024-02-20T15:19:09.177270Z",
     "iopub.status.busy": "2024-02-20T15:19:09.176298Z",
     "iopub.status.idle": "2024-02-20T15:19:37.533787Z",
     "shell.execute_reply": "2024-02-20T15:19:37.532716Z"
    },
    "papermill": {
     "duration": 28.366763,
     "end_time": "2024-02-20T15:19:37.536186",
     "exception": false,
     "start_time": "2024-02-20T15:19:09.169423",
     "status": "completed"
    },
    "tags": []
   },
   "outputs": [
    {
     "name": "stdout",
     "output_type": "stream",
     "text": [
      "Epoch 1/50\n",
      "260/260 - 2s - loss: 1.6242 - accuracy: 0.3614 - val_loss: 1.0292 - val_accuracy: 0.5689 - 2s/epoch - 7ms/step\n",
      "Epoch 2/50\n",
      "260/260 - 1s - loss: 1.0828 - accuracy: 0.5454 - val_loss: 0.7954 - val_accuracy: 0.6712 - 586ms/epoch - 2ms/step\n",
      "Epoch 3/50\n",
      "260/260 - 1s - loss: 0.9277 - accuracy: 0.6010 - val_loss: 0.6803 - val_accuracy: 0.7300 - 510ms/epoch - 2ms/step\n",
      "Epoch 4/50\n",
      "260/260 - 1s - loss: 0.8226 - accuracy: 0.6502 - val_loss: 0.5961 - val_accuracy: 0.7750 - 558ms/epoch - 2ms/step\n",
      "Epoch 5/50\n",
      "260/260 - 1s - loss: 0.7639 - accuracy: 0.6845 - val_loss: 0.5497 - val_accuracy: 0.8254 - 555ms/epoch - 2ms/step\n",
      "Epoch 6/50\n",
      "260/260 - 1s - loss: 0.7108 - accuracy: 0.7097 - val_loss: 0.5119 - val_accuracy: 0.8516 - 555ms/epoch - 2ms/step\n",
      "Epoch 7/50\n",
      "260/260 - 1s - loss: 0.6865 - accuracy: 0.7217 - val_loss: 0.4916 - val_accuracy: 0.8403 - 507ms/epoch - 2ms/step\n",
      "Epoch 8/50\n",
      "260/260 - 0s - loss: 0.6547 - accuracy: 0.7374 - val_loss: 0.4786 - val_accuracy: 0.8562 - 497ms/epoch - 2ms/step\n",
      "Epoch 9/50\n",
      "260/260 - 1s - loss: 0.6397 - accuracy: 0.7441 - val_loss: 0.4662 - val_accuracy: 0.8615 - 502ms/epoch - 2ms/step\n",
      "Epoch 10/50\n",
      "260/260 - 1s - loss: 0.6199 - accuracy: 0.7554 - val_loss: 0.4540 - val_accuracy: 0.8625 - 503ms/epoch - 2ms/step\n",
      "Epoch 11/50\n",
      "260/260 - 1s - loss: 0.6109 - accuracy: 0.7619 - val_loss: 0.4422 - val_accuracy: 0.8639 - 568ms/epoch - 2ms/step\n",
      "Epoch 12/50\n",
      "260/260 - 1s - loss: 0.5997 - accuracy: 0.7686 - val_loss: 0.4518 - val_accuracy: 0.8625 - 532ms/epoch - 2ms/step\n",
      "Epoch 13/50\n",
      "260/260 - 1s - loss: 0.5795 - accuracy: 0.7764 - val_loss: 0.4307 - val_accuracy: 0.8649 - 509ms/epoch - 2ms/step\n",
      "Epoch 14/50\n",
      "260/260 - 1s - loss: 0.5705 - accuracy: 0.7822 - val_loss: 0.4321 - val_accuracy: 0.8711 - 514ms/epoch - 2ms/step\n",
      "Epoch 15/50\n",
      "260/260 - 1s - loss: 0.5729 - accuracy: 0.7836 - val_loss: 0.4259 - val_accuracy: 0.8666 - 530ms/epoch - 2ms/step\n",
      "Epoch 16/50\n",
      "260/260 - 1s - loss: 0.5626 - accuracy: 0.7865 - val_loss: 0.4202 - val_accuracy: 0.8692 - 523ms/epoch - 2ms/step\n",
      "Epoch 17/50\n",
      "260/260 - 1s - loss: 0.5532 - accuracy: 0.7881 - val_loss: 0.4203 - val_accuracy: 0.8697 - 572ms/epoch - 2ms/step\n",
      "Epoch 18/50\n",
      "260/260 - 1s - loss: 0.5497 - accuracy: 0.7893 - val_loss: 0.4183 - val_accuracy: 0.8738 - 576ms/epoch - 2ms/step\n",
      "Epoch 19/50\n",
      "260/260 - 1s - loss: 0.5421 - accuracy: 0.7986 - val_loss: 0.4250 - val_accuracy: 0.8687 - 501ms/epoch - 2ms/step\n",
      "Epoch 20/50\n",
      "260/260 - 1s - loss: 0.5414 - accuracy: 0.7989 - val_loss: 0.4172 - val_accuracy: 0.8728 - 516ms/epoch - 2ms/step\n",
      "Epoch 21/50\n",
      "260/260 - 1s - loss: 0.5294 - accuracy: 0.8020 - val_loss: 0.4336 - val_accuracy: 0.8620 - 518ms/epoch - 2ms/step\n",
      "Epoch 22/50\n",
      "260/260 - 1s - loss: 0.5263 - accuracy: 0.8048 - val_loss: 0.4207 - val_accuracy: 0.8745 - 522ms/epoch - 2ms/step\n",
      "Epoch 23/50\n",
      "260/260 - 1s - loss: 0.5298 - accuracy: 0.8077 - val_loss: 0.4106 - val_accuracy: 0.8791 - 530ms/epoch - 2ms/step\n",
      "Epoch 24/50\n",
      "260/260 - 1s - loss: 0.5231 - accuracy: 0.8074 - val_loss: 0.4126 - val_accuracy: 0.8716 - 613ms/epoch - 2ms/step\n",
      "Epoch 25/50\n",
      "260/260 - 1s - loss: 0.5271 - accuracy: 0.8068 - val_loss: 0.4099 - val_accuracy: 0.8774 - 524ms/epoch - 2ms/step\n",
      "Epoch 26/50\n",
      "260/260 - 1s - loss: 0.5179 - accuracy: 0.8093 - val_loss: 0.4264 - val_accuracy: 0.8680 - 529ms/epoch - 2ms/step\n",
      "Epoch 27/50\n",
      "260/260 - 1s - loss: 0.5122 - accuracy: 0.8118 - val_loss: 0.4205 - val_accuracy: 0.8685 - 525ms/epoch - 2ms/step\n",
      "Epoch 28/50\n",
      "260/260 - 1s - loss: 0.5109 - accuracy: 0.8122 - val_loss: 0.4300 - val_accuracy: 0.8432 - 523ms/epoch - 2ms/step\n",
      "Epoch 29/50\n",
      "260/260 - 1s - loss: 0.5053 - accuracy: 0.8183 - val_loss: 0.4322 - val_accuracy: 0.8463 - 522ms/epoch - 2ms/step\n",
      "Epoch 30/50\n",
      "260/260 - 1s - loss: 0.4997 - accuracy: 0.8193 - val_loss: 0.4339 - val_accuracy: 0.8545 - 518ms/epoch - 2ms/step\n",
      "Epoch 31/50\n",
      "260/260 - 1s - loss: 0.5035 - accuracy: 0.8218 - val_loss: 0.4404 - val_accuracy: 0.8230 - 528ms/epoch - 2ms/step\n",
      "Epoch 32/50\n",
      "260/260 - 1s - loss: 0.5019 - accuracy: 0.8190 - val_loss: 0.4307 - val_accuracy: 0.8483 - 510ms/epoch - 2ms/step\n",
      "Epoch 33/50\n",
      "260/260 - 1s - loss: 0.4900 - accuracy: 0.8236 - val_loss: 0.4313 - val_accuracy: 0.8456 - 503ms/epoch - 2ms/step\n",
      "Epoch 34/50\n",
      "260/260 - 1s - loss: 0.4974 - accuracy: 0.8202 - val_loss: 0.4235 - val_accuracy: 0.8622 - 579ms/epoch - 2ms/step\n",
      "Epoch 35/50\n",
      "260/260 - 1s - loss: 0.4968 - accuracy: 0.8224 - val_loss: 0.4377 - val_accuracy: 0.8198 - 512ms/epoch - 2ms/step\n",
      "Epoch 36/50\n",
      "260/260 - 0s - loss: 0.4943 - accuracy: 0.8225 - val_loss: 0.4455 - val_accuracy: 0.8008 - 499ms/epoch - 2ms/step\n",
      "Epoch 37/50\n",
      "260/260 - 1s - loss: 0.4875 - accuracy: 0.8286 - val_loss: 0.4165 - val_accuracy: 0.8646 - 596ms/epoch - 2ms/step\n",
      "Epoch 38/50\n",
      "260/260 - 1s - loss: 0.4887 - accuracy: 0.8264 - val_loss: 0.4397 - val_accuracy: 0.8068 - 537ms/epoch - 2ms/step\n",
      "Epoch 39/50\n",
      "260/260 - 1s - loss: 0.4825 - accuracy: 0.8246 - val_loss: 0.4072 - val_accuracy: 0.8772 - 636ms/epoch - 2ms/step\n",
      "Epoch 40/50\n",
      "260/260 - 1s - loss: 0.4849 - accuracy: 0.8243 - val_loss: 0.4228 - val_accuracy: 0.8420 - 546ms/epoch - 2ms/step\n",
      "Epoch 41/50\n",
      "260/260 - 1s - loss: 0.4851 - accuracy: 0.8286 - val_loss: 0.4158 - val_accuracy: 0.8627 - 561ms/epoch - 2ms/step\n",
      "Epoch 42/50\n",
      "260/260 - 0s - loss: 0.4811 - accuracy: 0.8266 - val_loss: 0.4562 - val_accuracy: 0.7883 - 498ms/epoch - 2ms/step\n",
      "Epoch 43/50\n",
      "260/260 - 0s - loss: 0.4803 - accuracy: 0.8277 - val_loss: 0.4267 - val_accuracy: 0.8382 - 500ms/epoch - 2ms/step\n",
      "Epoch 44/50\n",
      "260/260 - 1s - loss: 0.4755 - accuracy: 0.8269 - val_loss: 0.4046 - val_accuracy: 0.8764 - 506ms/epoch - 2ms/step\n",
      "Epoch 45/50\n",
      "260/260 - 1s - loss: 0.4769 - accuracy: 0.8283 - val_loss: 0.4376 - val_accuracy: 0.8100 - 520ms/epoch - 2ms/step\n",
      "Epoch 46/50\n",
      "260/260 - 1s - loss: 0.4829 - accuracy: 0.8280 - val_loss: 0.4267 - val_accuracy: 0.8329 - 531ms/epoch - 2ms/step\n",
      "Epoch 47/50\n",
      "260/260 - 1s - loss: 0.4727 - accuracy: 0.8280 - val_loss: 0.3974 - val_accuracy: 0.8798 - 531ms/epoch - 2ms/step\n",
      "Epoch 48/50\n",
      "260/260 - 1s - loss: 0.4771 - accuracy: 0.8294 - val_loss: 0.4385 - val_accuracy: 0.8015 - 522ms/epoch - 2ms/step\n",
      "Epoch 49/50\n",
      "260/260 - 0s - loss: 0.4749 - accuracy: 0.8327 - val_loss: 0.4165 - val_accuracy: 0.8565 - 499ms/epoch - 2ms/step\n",
      "Epoch 50/50\n",
      "260/260 - 1s - loss: 0.4818 - accuracy: 0.8290 - val_loss: 0.4216 - val_accuracy: 0.8415 - 585ms/epoch - 2ms/step\n"
     ]
    }
   ],
   "source": [
    "# Train the model\n",
    "history = model.fit(X_train, y_train, epochs=50, batch_size=64, validation_data=(X_val, y_val), verbose=2)\n"
   ]
  },
  {
   "cell_type": "code",
   "execution_count": 10,
   "id": "9f28971b",
   "metadata": {
    "execution": {
     "iopub.execute_input": "2024-02-20T15:19:37.562734Z",
     "iopub.status.busy": "2024-02-20T15:19:37.562370Z",
     "iopub.status.idle": "2024-02-20T15:19:37.779768Z",
     "shell.execute_reply": "2024-02-20T15:19:37.778737Z"
    },
    "papermill": {
     "duration": 0.233516,
     "end_time": "2024-02-20T15:19:37.782709",
     "exception": false,
     "start_time": "2024-02-20T15:19:37.549193",
     "status": "completed"
    },
    "tags": []
   },
   "outputs": [
    {
     "data": {
      "image/png": "[encoded data removed]",
      "text/plain": [
       "<Figure size 640x480 with 1 Axes>"
      ]
     },
     "metadata": {},
     "output_type": "display_data"
    }
   ],
   "source": [
    "# Plot training history\n",
    "plt.plot(history.history['accuracy'], label='accuracy')\n",
    "plt.plot(history.history['val_accuracy'], label='val_accuracy')\n",
    "plt.xlabel('Epoch')\n",
    "plt.ylabel('Accuracy')\n",
    "plt.legend(loc='lower right')\n",
    "plt.show()\n"
   ]
  },
  {
   "cell_type": "code",
   "execution_count": 11,
   "id": "c1d8d599",
   "metadata": {
    "execution": {
     "iopub.execute_input": "2024-02-20T15:19:37.809514Z",
     "iopub.status.busy": "2024-02-20T15:19:37.808691Z",
     "iopub.status.idle": "2024-02-20T15:19:38.184106Z",
     "shell.execute_reply": "2024-02-20T15:19:38.183030Z"
    },
    "papermill": {
     "duration": 0.391528,
     "end_time": "2024-02-20T15:19:38.186571",
     "exception": false,
     "start_time": "2024-02-20T15:19:37.795043",
     "status": "completed"
    },
    "tags": []
   },
   "outputs": [
    {
     "name": "stdout",
     "output_type": "stream",
     "text": [
      "130/130 [==============================] - 0s 1ms/step\n"
     ]
    }
   ],
   "source": [
    "# Model Evaluation\n",
    "# Predictions on validation set\n",
    "y_pred_proba = model.predict(X_val)\n",
    "y_pred = np.argmax(y_pred_proba, axis=1)"
   ]
  },
  {
   "cell_type": "code",
   "execution_count": 12,
   "id": "89e732bc",
   "metadata": {
    "execution": {
     "iopub.execute_input": "2024-02-20T15:19:38.213784Z",
     "iopub.status.busy": "2024-02-20T15:19:38.213372Z",
     "iopub.status.idle": "2024-02-20T15:19:38.218906Z",
     "shell.execute_reply": "2024-02-20T15:19:38.217607Z"
    },
    "papermill": {
     "duration": 0.021903,
     "end_time": "2024-02-20T15:19:38.221367",
     "exception": false,
     "start_time": "2024-02-20T15:19:38.199464",
     "status": "completed"
    },
    "tags": []
   },
   "outputs": [],
   "source": [
    "# Convert one-hot encoded y_val back to categorical\n",
    "y_val_categorical = np.argmax(np.array(y_val), axis=1)\n"
   ]
  },
  {
   "cell_type": "code",
   "execution_count": 13,
   "id": "b490c992",
   "metadata": {
    "execution": {
     "iopub.execute_input": "2024-02-20T15:19:38.249621Z",
     "iopub.status.busy": "2024-02-20T15:19:38.249215Z",
     "iopub.status.idle": "2024-02-20T15:19:38.256682Z",
     "shell.execute_reply": "2024-02-20T15:19:38.255285Z"
    },
    "papermill": {
     "duration": 0.024141,
     "end_time": "2024-02-20T15:19:38.258862",
     "exception": false,
     "start_time": "2024-02-20T15:19:38.234721",
     "status": "completed"
    },
    "tags": []
   },
   "outputs": [
    {
     "name": "stdout",
     "output_type": "stream",
     "text": [
      "Accuracy: 0.8415221579961464\n"
     ]
    }
   ],
   "source": [
    "# Accuracy\n",
    "accuracy = accuracy_score(y_val_categorical, y_pred)\n",
    "print(\"Accuracy:\", accuracy)\n"
   ]
  },
  {
   "cell_type": "code",
   "execution_count": 14,
   "id": "d32073a5",
   "metadata": {
    "execution": {
     "iopub.execute_input": "2024-02-20T15:19:38.288466Z",
     "iopub.status.busy": "2024-02-20T15:19:38.288079Z",
     "iopub.status.idle": "2024-02-20T15:19:38.310785Z",
     "shell.execute_reply": "2024-02-20T15:19:38.309629Z"
    },
    "papermill": {
     "duration": 0.039611,
     "end_time": "2024-02-20T15:19:38.312998",
     "exception": false,
     "start_time": "2024-02-20T15:19:38.273387",
     "status": "completed"
    },
    "tags": []
   },
   "outputs": [
    {
     "name": "stdout",
     "output_type": "stream",
     "text": [
      "              precision    recall  f1-score   support\n",
      "\n",
      "           0       0.98      0.52      0.68       524\n",
      "           1       0.65      0.92      0.76       626\n",
      "           2       0.86      0.84      0.85       543\n",
      "           3       0.97      0.97      0.97       657\n",
      "           4       1.00      1.00      1.00       804\n",
      "           5       0.76      0.74      0.75       484\n",
      "           6       0.75      0.76      0.75       514\n",
      "\n",
      "    accuracy                           0.84      4152\n",
      "   macro avg       0.85      0.82      0.82      4152\n",
      "weighted avg       0.86      0.84      0.84      4152\n",
      "\n"
     ]
    }
   ],
   "source": [
    "# Classification Report\n",
    "print(classification_report(y_val_categorical, y_pred))\n"
   ]
  },
  {
   "cell_type": "code",
   "execution_count": 15,
   "id": "b6d31ac0",
   "metadata": {
    "execution": {
     "iopub.execute_input": "2024-02-20T15:19:38.341593Z",
     "iopub.status.busy": "2024-02-20T15:19:38.341006Z",
     "iopub.status.idle": "2024-02-20T15:19:38.768939Z",
     "shell.execute_reply": "2024-02-20T15:19:38.767776Z"
    },
    "papermill": {
     "duration": 0.445021,
     "end_time": "2024-02-20T15:19:38.771367",
     "exception": false,
     "start_time": "2024-02-20T15:19:38.326346",
     "status": "completed"
    },
    "tags": []
   },
   "outputs": [
    {
     "data": {
      "image/png": "[encoded data removed]",
      "text/plain": [
       "<Figure size 1000x800 with 2 Axes>"
      ]
     },
     "metadata": {},
     "output_type": "display_data"
    }
   ],
   "source": [
    "# Confusion Matrix\n",
    "cm = confusion_matrix(y_val_categorical, y_pred)\n",
    "plt.figure(figsize=(10, 8))\n",
    "sns.heatmap(cm, annot=True, fmt='d', cmap='Blues')\n",
    "plt.xlabel('Predicted labels')\n",
    "plt.ylabel('True labels')\n",
    "plt.title('Confusion Matrix')\n",
    "plt.show()"
   ]
  },
  {
   "cell_type": "code",
   "execution_count": 16,
   "id": "2b9f66c4",
   "metadata": {
    "execution": {
     "iopub.execute_input": "2024-02-20T15:19:38.800405Z",
     "iopub.status.busy": "2024-02-20T15:19:38.799324Z",
     "iopub.status.idle": "2024-02-20T15:19:38.805916Z",
     "shell.execute_reply": "2024-02-20T15:19:38.805134Z"
    },
    "papermill": {
     "duration": 0.023086,
     "end_time": "2024-02-20T15:19:38.807865",
     "exception": false,
     "start_time": "2024-02-20T15:19:38.784779",
     "status": "completed"
    },
    "tags": []
   },
   "outputs": [],
   "source": [
    "# Initialize label encoders with handle_unknown='ignore'\n",
    "label_encoders = {}\n",
    "for col in train_df.select_dtypes(include=['object']).columns:\n",
    "    le = LabelEncoder(handle_unknown='ignore')  # Add handle_unknown='ignore' parameter here\n",
    "    train_df[col] = le.fit_transform(train_df[col])\n",
    "    label_encoders[col] = le\n",
    "\n",
    "# Preprocessing test data\n",
    "test_ids = test_df['id']  # Assuming 'id' column exists in the test data\n",
    "for col, le in label_encoders.items():\n",
    "    test_df[col] = le.transform(test_df[col])"
   ]
  },
  {
   "cell_type": "code",
   "execution_count": 17,
   "id": "edd4dd1a",
   "metadata": {
    "execution": {
     "iopub.execute_input": "2024-02-20T15:19:38.837678Z",
     "iopub.status.busy": "2024-02-20T15:19:38.836995Z",
     "iopub.status.idle": "2024-02-20T15:19:38.865851Z",
     "shell.execute_reply": "2024-02-20T15:19:38.864754Z"
    },
    "papermill": {
     "duration": 0.045707,
     "end_time": "2024-02-20T15:19:38.868152",
     "exception": false,
     "start_time": "2024-02-20T15:19:38.822445",
     "status": "completed"
    },
    "tags": []
   },
   "outputs": [],
   "source": [
    "# One-hot encode categorical features in the test data\n",
    "test_df_encoded = pd.get_dummies(test_df, columns=test_df.select_dtypes(include=['object']).columns)\n",
    "\n",
    "# Align the columns of the test set with the training set\n",
    "test_df_aligned = test_df_encoded.reindex(columns=train_df.columns, fill_value=0)\n"
   ]
  },
  {
   "cell_type": "code",
   "execution_count": 18,
   "id": "33294ccf",
   "metadata": {
    "execution": {
     "iopub.execute_input": "2024-02-20T15:19:38.897758Z",
     "iopub.status.busy": "2024-02-20T15:19:38.897404Z",
     "iopub.status.idle": "2024-02-20T15:19:38.903958Z",
     "shell.execute_reply": "2024-02-20T15:19:38.903108Z"
    },
    "papermill": {
     "duration": 0.024412,
     "end_time": "2024-02-20T15:19:38.906108",
     "exception": false,
     "start_time": "2024-02-20T15:19:38.881696",
     "status": "completed"
    },
    "tags": []
   },
   "outputs": [],
   "source": [
    "# Exclude 'id' and 'NObeyesdad' columns from the test data\n",
    "test_df_features = test_df_aligned.drop(['id', 'NObeyesdad'], axis=1)"
   ]
  },
  {
   "cell_type": "code",
   "execution_count": 19,
   "id": "2b1163e7",
   "metadata": {
    "execution": {
     "iopub.execute_input": "2024-02-20T15:19:38.934982Z",
     "iopub.status.busy": "2024-02-20T15:19:38.934364Z",
     "iopub.status.idle": "2024-02-20T15:19:38.944473Z",
     "shell.execute_reply": "2024-02-20T15:19:38.943514Z"
    },
    "papermill": {
     "duration": 0.026993,
     "end_time": "2024-02-20T15:19:38.946627",
     "exception": false,
     "start_time": "2024-02-20T15:19:38.919634",
     "status": "completed"
    },
    "tags": []
   },
   "outputs": [],
   "source": [
    "# Scaling test data\n",
    "test_scaled = scaler.transform(test_df_features)\n"
   ]
  },
  {
   "cell_type": "code",
   "execution_count": 20,
   "id": "c68c6de1",
   "metadata": {
    "execution": {
     "iopub.execute_input": "2024-02-20T15:19:38.975585Z",
     "iopub.status.busy": "2024-02-20T15:19:38.975176Z",
     "iopub.status.idle": "2024-02-20T15:19:40.314056Z",
     "shell.execute_reply": "2024-02-20T15:19:40.312980Z"
    },
    "papermill": {
     "duration": 1.356563,
     "end_time": "2024-02-20T15:19:40.316694",
     "exception": false,
     "start_time": "2024-02-20T15:19:38.960131",
     "status": "completed"
    },
    "tags": []
   },
   "outputs": [
    {
     "name": "stdout",
     "output_type": "stream",
     "text": [
      "433/433 [==============================] - 1s 1ms/step\n"
     ]
    }
   ],
   "source": [
    "# Making predictions on test data\n",
    "test_predictions_proba = model.predict(test_scaled)\n",
    "test_predictions = np.argmax(test_predictions_proba, axis=1)\n"
   ]
  },
  {
   "cell_type": "code",
   "execution_count": 21,
   "id": "19806820",
   "metadata": {
    "execution": {
     "iopub.execute_input": "2024-02-20T15:19:40.346767Z",
     "iopub.status.busy": "2024-02-20T15:19:40.346407Z",
     "iopub.status.idle": "2024-02-20T15:19:40.365605Z",
     "shell.execute_reply": "2024-02-20T15:19:40.364517Z"
    },
    "papermill": {
     "duration": 0.037195,
     "end_time": "2024-02-20T15:19:40.368215",
     "exception": false,
     "start_time": "2024-02-20T15:19:40.331020",
     "status": "completed"
    },
    "tags": []
   },
   "outputs": [],
   "source": [
    "# Creating submission file\n",
    "submission_df = pd.DataFrame({'id': test_ids, 'NObeyesdad': test_predictions})\n",
    "submission_df.to_csv('submission.csv', index=False)"
   ]
  },
  {
   "cell_type": "code",
   "execution_count": null,
   "id": "5c916811",
   "metadata": {
    "papermill": {
     "duration": 0.014108,
     "end_time": "2024-02-20T15:19:40.397518",
     "exception": false,
     "start_time": "2024-02-20T15:19:40.383410",
     "status": "completed"
    },
    "tags": []
   },
   "outputs": [],
   "source": []
  }
 ],
 "metadata": {
  "kaggle": {
   "accelerator": "none",
   "dataSources": [
    {
     "databundleVersionId": 7609535,
     "sourceId": 68479,
     "sourceType": "competition"
    }
   ],
   "dockerImageVersionId": 30646,
   "isGpuEnabled": false,
   "isInternetEnabled": true,
   "language": "python",
   "sourceType": "notebook"
  },
  "kernelspec": {
   "display_name": "Python 3",
   "language": "python",
   "name": "python3"
  },
  "language_info": {
   "codemirror_mode": {
    "name": "ipython",
    "version": 3
   },
   "file_extension": ".py",
   "mimetype": "text/x-python",
   "name": "python",
   "nbconvert_exporter": "python",
   "pygments_lexer": "ipython3",
   "version": "3.10.13"
  },
  "papermill": {
   "default_parameters": {},
   "duration": 53.069949,
   "end_time": "2024-02-20T15:19:42.898283",
   "environment_variables": {},
   "exception": null,
   "input_path": "__notebook__.ipynb",
   "output_path": "__notebook__.ipynb",
   "parameters": {},
   "start_time": "2024-02-20T15:18:49.828334",
   "version": "2.5.0"
  }
 },
 "nbformat": 4,
 "nbformat_minor": 5
}
