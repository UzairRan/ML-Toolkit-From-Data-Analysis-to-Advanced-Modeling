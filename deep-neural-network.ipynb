{
 "cells": [
  {
   "cell_type": "code",
   "execution_count": 1,
   "id": "ac243701",
   "metadata": {
    "_cell_guid": "b1076dfc-b9ad-4769-8c92-a6c4dae69d19",
    "_uuid": "8f2839f25d086af736a60e9eeb907d3b93b6e0e5",
    "execution": {
     "iopub.execute_input": "2024-05-30T15:43:22.130753Z",
     "iopub.status.busy": "2024-05-30T15:43:22.129894Z",
     "iopub.status.idle": "2024-05-30T15:43:39.184178Z",
     "shell.execute_reply": "2024-05-30T15:43:39.182795Z"
    },
    "papermill": {
     "duration": 17.064505,
     "end_time": "2024-05-30T15:43:39.186864",
     "exception": false,
     "start_time": "2024-05-30T15:43:22.122359",
     "status": "completed"
    },
    "tags": []
   },
   "outputs": [
    {
     "name": "stderr",
     "output_type": "stream",
     "text": [
      "2024-05-30 15:43:26.760401: E external/local_xla/xla/stream_executor/cuda/cuda_dnn.cc:9261] Unable to register cuDNN factory: Attempting to register factory for plugin cuDNN when one has already been registered\n",
      "2024-05-30 15:43:26.760558: E external/local_xla/xla/stream_executor/cuda/cuda_fft.cc:607] Unable to register cuFFT factory: Attempting to register factory for plugin cuFFT when one has already been registered\n",
      "2024-05-30 15:43:26.909591: E external/local_xla/xla/stream_executor/cuda/cuda_blas.cc:1515] Unable to register cuBLAS factory: Attempting to register factory for plugin cuBLAS when one has already been registered\n"
     ]
    }
   ],
   "source": [
    "import pandas as pd\n",
    "import numpy as np\n",
    "from sklearn.model_selection import train_test_split\n",
    "from sklearn.preprocessing import StandardScaler\n",
    "from tensorflow.keras.models import Sequential\n",
    "from tensorflow.keras.layers import Dense\n",
    "from sklearn.metrics import mean_squared_error"
   ]
  },
  {
   "cell_type": "code",
   "execution_count": 2,
   "id": "b1c472f7",
   "metadata": {
    "execution": {
     "iopub.execute_input": "2024-05-30T15:43:39.198383Z",
     "iopub.status.busy": "2024-05-30T15:43:39.197709Z",
     "iopub.status.idle": "2024-05-30T15:43:43.255694Z",
     "shell.execute_reply": "2024-05-30T15:43:43.254619Z"
    },
    "papermill": {
     "duration": 4.06676,
     "end_time": "2024-05-30T15:43:43.258286",
     "exception": false,
     "start_time": "2024-05-30T15:43:39.191526",
     "status": "completed"
    },
    "tags": []
   },
   "outputs": [],
   "source": [
    "# Load the datasets\n",
    "train_data = pd.read_csv(\"/kaggle/input/playground-series-s4e5/train.csv\")\n",
    "test_data = pd.read_csv(\"/kaggle/input/playground-series-s4e5/test.csv\")\n"
   ]
  },
  {
   "cell_type": "code",
   "execution_count": 3,
   "id": "a584ccab",
   "metadata": {
    "execution": {
     "iopub.execute_input": "2024-05-30T15:43:43.269115Z",
     "iopub.status.busy": "2024-05-30T15:43:43.268658Z",
     "iopub.status.idle": "2024-05-30T15:43:43.404938Z",
     "shell.execute_reply": "2024-05-30T15:43:43.403762Z"
    },
    "papermill": {
     "duration": 0.144803,
     "end_time": "2024-05-30T15:43:43.407660",
     "exception": false,
     "start_time": "2024-05-30T15:43:43.262857",
     "status": "completed"
    },
    "tags": []
   },
   "outputs": [],
   "source": [
    "# Extract features and target variable from training data\n",
    "X_train = train_data.drop(columns=['id', 'FloodProbability'])\n",
    "y_train = train_data['FloodProbability']\n",
    "\n",
    "# Extract features from test data\n",
    "X_test = test_data.drop(columns=['id'])"
   ]
  },
  {
   "cell_type": "code",
   "execution_count": 4,
   "id": "b498d3ab",
   "metadata": {
    "execution": {
     "iopub.execute_input": "2024-05-30T15:43:43.418936Z",
     "iopub.status.busy": "2024-05-30T15:43:43.417874Z",
     "iopub.status.idle": "2024-05-30T15:43:43.917644Z",
     "shell.execute_reply": "2024-05-30T15:43:43.916527Z"
    },
    "papermill": {
     "duration": 0.508378,
     "end_time": "2024-05-30T15:43:43.920580",
     "exception": false,
     "start_time": "2024-05-30T15:43:43.412202",
     "status": "completed"
    },
    "tags": []
   },
   "outputs": [],
   "source": [
    "# Feature Scaling\n",
    "scaler = StandardScaler()\n",
    "X_train_scaled = scaler.fit_transform(X_train)\n",
    "X_test_scaled = scaler.transform(X_test)"
   ]
  },
  {
   "cell_type": "code",
   "execution_count": 5,
   "id": "bbc5f144",
   "metadata": {
    "execution": {
     "iopub.execute_input": "2024-05-30T15:43:43.931938Z",
     "iopub.status.busy": "2024-05-30T15:43:43.930763Z",
     "iopub.status.idle": "2024-05-30T15:43:44.029437Z",
     "shell.execute_reply": "2024-05-30T15:43:44.027690Z"
    },
    "papermill": {
     "duration": 0.106829,
     "end_time": "2024-05-30T15:43:44.031928",
     "exception": false,
     "start_time": "2024-05-30T15:43:43.925099",
     "status": "completed"
    },
    "tags": []
   },
   "outputs": [
    {
     "name": "stderr",
     "output_type": "stream",
     "text": [
      "/opt/conda/lib/python3.10/site-packages/keras/src/layers/core/dense.py:86: UserWarning: Do not pass an `input_shape`/`input_dim` argument to a layer. When using Sequential models, prefer using an `Input(shape)` object as the first layer in the model instead.\n",
      "  super().__init__(activity_regularizer=activity_regularizer, **kwargs)\n"
     ]
    }
   ],
   "source": [
    "# Build the neural network model\n",
    "model = Sequential([\n",
    "    Dense(128, activation='relu', input_shape=(X_train_scaled.shape[1],)),\n",
    "    Dense(64, activation='relu'),\n",
    "    Dense(1)\n",
    "])\n",
    "\n",
    "# Compile the model\n",
    "model.compile(optimizer='adam', loss='mean_squared_error')"
   ]
  },
  {
   "cell_type": "code",
   "execution_count": 6,
   "id": "9ceec69c",
   "metadata": {
    "execution": {
     "iopub.execute_input": "2024-05-30T15:43:44.043558Z",
     "iopub.status.busy": "2024-05-30T15:43:44.042348Z",
     "iopub.status.idle": "2024-05-30T15:54:51.351891Z",
     "shell.execute_reply": "2024-05-30T15:54:51.350808Z"
    },
    "papermill": {
     "duration": 668.292372,
     "end_time": "2024-05-30T15:54:52.328836",
     "exception": false,
     "start_time": "2024-05-30T15:43:44.036464",
     "status": "completed"
    },
    "tags": []
   },
   "outputs": [
    {
     "name": "stdout",
     "output_type": "stream",
     "text": [
      "Epoch 1/10\n",
      "\u001b[1m34937/34937\u001b[0m \u001b[32m━━━━━━━━━━━━━━━━━━━━\u001b[0m\u001b[37m\u001b[0m \u001b[1m53s\u001b[0m 1ms/step - loss: 0.0020\n",
      "Epoch 2/10\n",
      "\u001b[1m34937/34937\u001b[0m \u001b[32m━━━━━━━━━━━━━━━━━━━━\u001b[0m\u001b[37m\u001b[0m \u001b[1m51s\u001b[0m 1ms/step - loss: 3.7032e-04\n",
      "Epoch 3/10\n",
      "\u001b[1m34937/34937\u001b[0m \u001b[32m━━━━━━━━━━━━━━━━━━━━\u001b[0m\u001b[37m\u001b[0m \u001b[1m51s\u001b[0m 1ms/step - loss: 3.6609e-04\n",
      "Epoch 4/10\n",
      "\u001b[1m34937/34937\u001b[0m \u001b[32m━━━━━━━━━━━━━━━━━━━━\u001b[0m\u001b[37m\u001b[0m \u001b[1m81s\u001b[0m 1ms/step - loss: 3.6596e-04\n",
      "Epoch 5/10\n",
      "\u001b[1m34937/34937\u001b[0m \u001b[32m━━━━━━━━━━━━━━━━━━━━\u001b[0m\u001b[37m\u001b[0m \u001b[1m50s\u001b[0m 1ms/step - loss: 3.6409e-04\n",
      "Epoch 6/10\n",
      "\u001b[1m34937/34937\u001b[0m \u001b[32m━━━━━━━━━━━━━━━━━━━━\u001b[0m\u001b[37m\u001b[0m \u001b[1m83s\u001b[0m 1ms/step - loss: 3.6414e-04\n",
      "Epoch 7/10\n",
      "\u001b[1m34937/34937\u001b[0m \u001b[32m━━━━━━━━━━━━━━━━━━━━\u001b[0m\u001b[37m\u001b[0m \u001b[1m52s\u001b[0m 1ms/step - loss: 3.6464e-04\n",
      "Epoch 8/10\n",
      "\u001b[1m34937/34937\u001b[0m \u001b[32m━━━━━━━━━━━━━━━━━━━━\u001b[0m\u001b[37m\u001b[0m \u001b[1m81s\u001b[0m 1ms/step - loss: 3.6362e-04\n",
      "Epoch 9/10\n",
      "\u001b[1m34937/34937\u001b[0m \u001b[32m━━━━━━━━━━━━━━━━━━━━\u001b[0m\u001b[37m\u001b[0m \u001b[1m83s\u001b[0m 1ms/step - loss: 3.6288e-04\n",
      "Epoch 10/10\n",
      "\u001b[1m34937/34937\u001b[0m \u001b[32m━━━━━━━━━━━━━━━━━━━━\u001b[0m\u001b[37m\u001b[0m \u001b[1m52s\u001b[0m 1ms/step - loss: 3.6256e-04\n"
     ]
    },
    {
     "data": {
      "text/plain": [
       "<keras.src.callbacks.history.History at 0x7f9681827640>"
      ]
     },
     "execution_count": 6,
     "metadata": {},
     "output_type": "execute_result"
    }
   ],
   "source": [
    "# Train the model with 10 epochs\n",
    "model.fit(X_train_scaled, y_train, epochs=10, batch_size=32, verbose=1)"
   ]
  },
  {
   "cell_type": "code",
   "execution_count": 7,
   "id": "943882c2",
   "metadata": {
    "execution": {
     "iopub.execute_input": "2024-05-30T15:54:54.329363Z",
     "iopub.status.busy": "2024-05-30T15:54:54.328189Z",
     "iopub.status.idle": "2024-05-30T15:55:51.166174Z",
     "shell.execute_reply": "2024-05-30T15:55:51.164771Z"
    },
    "papermill": {
     "duration": 57.876508,
     "end_time": "2024-05-30T15:55:51.169097",
     "exception": false,
     "start_time": "2024-05-30T15:54:53.292589",
     "status": "completed"
    },
    "tags": []
   },
   "outputs": [
    {
     "name": "stdout",
     "output_type": "stream",
     "text": [
      "\u001b[1m34937/34937\u001b[0m \u001b[32m━━━━━━━━━━━━━━━━━━━━\u001b[0m\u001b[37m\u001b[0m \u001b[1m39s\u001b[0m 1ms/step\n",
      "Neural Network Train MSE: 0.0003742900139502899\n"
     ]
    }
   ],
   "source": [
    "# Predict on training data to evaluate performance\n",
    "y_train_pred_nn = model.predict(X_train_scaled)\n",
    "nn_train_mse = mean_squared_error(y_train, y_train_pred_nn)\n",
    "print(f'Neural Network Train MSE: {nn_train_mse}')"
   ]
  },
  {
   "cell_type": "code",
   "execution_count": 8,
   "id": "403a04c3",
   "metadata": {
    "execution": {
     "iopub.execute_input": "2024-05-30T15:55:53.344693Z",
     "iopub.status.busy": "2024-05-30T15:55:53.344274Z",
     "iopub.status.idle": "2024-05-30T15:56:34.514148Z",
     "shell.execute_reply": "2024-05-30T15:56:34.512733Z"
    },
    "papermill": {
     "duration": 42.219551,
     "end_time": "2024-05-30T15:56:34.517692",
     "exception": false,
     "start_time": "2024-05-30T15:55:52.298141",
     "status": "completed"
    },
    "tags": []
   },
   "outputs": [
    {
     "name": "stdout",
     "output_type": "stream",
     "text": [
      "\u001b[1m23291/23291\u001b[0m \u001b[32m━━━━━━━━━━━━━━━━━━━━\u001b[0m\u001b[37m\u001b[0m \u001b[1m26s\u001b[0m 1ms/step\n"
     ]
    }
   ],
   "source": [
    "# Predict on test data using Neural Network model\n",
    "y_test_pred_nn = model.predict(X_test_scaled)\n"
   ]
  },
  {
   "cell_type": "code",
   "execution_count": 9,
   "id": "0244478c",
   "metadata": {
    "execution": {
     "iopub.execute_input": "2024-05-30T15:56:36.782719Z",
     "iopub.status.busy": "2024-05-30T15:56:36.781927Z",
     "iopub.status.idle": "2024-05-30T15:56:38.657569Z",
     "shell.execute_reply": "2024-05-30T15:56:38.656379Z"
    },
    "papermill": {
     "duration": 3.036258,
     "end_time": "2024-05-30T15:56:38.660208",
     "exception": false,
     "start_time": "2024-05-30T15:56:35.623950",
     "status": "completed"
    },
    "tags": []
   },
   "outputs": [
    {
     "name": "stdout",
     "output_type": "stream",
     "text": [
      "Submission file saved to 'submission.csv'.\n"
     ]
    }
   ],
   "source": [
    "# Prepare submission file\n",
    "submission = pd.DataFrame({\n",
    "    'id': test_data['id'],\n",
    "    'FloodProbability': y_test_pred_nn.flatten()\n",
    "})\n",
    "submission.to_csv('submission.csv', index=False)\n",
    "\n",
    "print(\"Submission file saved to 'submission.csv'.\")"
   ]
  },
  {
   "cell_type": "code",
   "execution_count": null,
   "id": "8c26d5f0",
   "metadata": {
    "papermill": {
     "duration": 1.156457,
     "end_time": "2024-05-30T15:56:40.908113",
     "exception": false,
     "start_time": "2024-05-30T15:56:39.751656",
     "status": "completed"
    },
    "tags": []
   },
   "outputs": [],
   "source": []
  }
 ],
 "metadata": {
  "kaggle": {
   "accelerator": "none",
   "dataSources": [
    {
     "databundleVersionId": 8121328,
     "sourceId": 73278,
     "sourceType": "competition"
    }
   ],
   "dockerImageVersionId": 30698,
   "isGpuEnabled": false,
   "isInternetEnabled": true,
   "language": "python",
   "sourceType": "notebook"
  },
  "kernelspec": {
   "display_name": "Python 3",
   "language": "python",
   "name": "python3"
  },
  "language_info": {
   "codemirror_mode": {
    "name": "ipython",
    "version": 3
   },
   "file_extension": ".py",
   "mimetype": "text/x-python",
   "name": "python",
   "nbconvert_exporter": "python",
   "pygments_lexer": "ipython3",
   "version": "3.10.13"
  },
  "papermill": {
   "default_parameters": {},
   "duration": 804.667701,
   "end_time": "2024-05-30T15:56:43.731491",
   "environment_variables": {},
   "exception": null,
   "input_path": "__notebook__.ipynb",
   "output_path": "__notebook__.ipynb",
   "parameters": {},
   "start_time": "2024-05-30T15:43:19.063790",
   "version": "2.5.0"
  }
 },
 "nbformat": 4,
 "nbformat_minor": 5
}
