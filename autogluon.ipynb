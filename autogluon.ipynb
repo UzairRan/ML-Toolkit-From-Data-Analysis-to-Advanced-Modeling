{
 "cells": [
  {
   "cell_type": "code",
   "execution_count": 1,
   "id": "4fe482f3",
   "metadata": {
    "_cell_guid": "b1076dfc-b9ad-4769-8c92-a6c4dae69d19",
    "_uuid": "8f2839f25d086af736a60e9eeb907d3b93b6e0e5",
    "execution": {
     "iopub.execute_input": "2024-05-22T16:48:25.288506Z",
     "iopub.status.busy": "2024-05-22T16:48:25.287993Z",
     "iopub.status.idle": "2024-05-22T16:52:26.601547Z",
     "shell.execute_reply": "2024-05-22T16:52:26.600179Z"
    },
    "papermill": {
     "duration": 241.329766,
     "end_time": "2024-05-22T16:52:26.604438",
     "exception": false,
     "start_time": "2024-05-22T16:48:25.274672",
     "status": "completed"
    },
    "tags": []
   },
   "outputs": [
    {
     "name": "stdout",
     "output_type": "stream",
     "text": [
      "\u001b[31mERROR: pip's dependency resolver does not currently take into account all the packages that are installed. This behaviour is the source of the following dependency conflicts.\r\n",
      "keras-cv 0.8.2 requires keras-core, which is not installed.\r\n",
      "keras-nlp 0.9.3 requires keras-core, which is not installed.\r\n",
      "tensorflow-decision-forests 1.8.1 requires wurlitzer, which is not installed.\r\n",
      "albumentations 1.4.0 requires scikit-image>=0.21.0, but you have scikit-image 0.20.0 which is incompatible.\r\n",
      "apache-beam 2.46.0 requires dill<0.3.2,>=0.3.1.1, but you have dill 0.3.8 which is incompatible.\r\n",
      "apache-beam 2.46.0 requires numpy<1.25.0,>=1.14.3, but you have numpy 1.26.4 which is incompatible.\r\n",
      "apache-beam 2.46.0 requires pyarrow<10.0.0,>=3.0.0, but you have pyarrow 15.0.2 which is incompatible.\r\n",
      "beatrix-jupyterlab 2023.128.151533 requires jupyterlab~=3.6.0, but you have jupyterlab 4.1.6 which is incompatible.\r\n",
      "conda 24.3.0 requires packaging>=23.0, but you have packaging 21.3 which is incompatible.\r\n",
      "google-cloud-aiplatform 0.6.0a1 requires google-api-core[grpc]<2.0.0dev,>=1.22.2, but you have google-api-core 2.11.1 which is incompatible.\r\n",
      "google-cloud-automl 1.0.1 requires google-api-core[grpc]<2.0.0dev,>=1.14.0, but you have google-api-core 2.11.1 which is incompatible.\r\n",
      "jupyter-events 0.9.0 requires jsonschema[format-nongpl]>=4.18.0, but you have jsonschema 4.17.3 which is incompatible.\r\n",
      "jupyterlab 4.1.6 requires jupyter-lsp>=2.0.0, but you have jupyter-lsp 1.5.1 which is incompatible.\r\n",
      "jupyterlab-lsp 5.1.0 requires jupyter-lsp>=2.0.0, but you have jupyter-lsp 1.5.1 which is incompatible.\r\n",
      "jupyterlab-server 2.25.2 requires jsonschema>=4.18.0, but you have jsonschema 4.17.3 which is incompatible.\r\n",
      "jupyterlab-server 2.25.2 requires requests>=2.31, but you have requests 2.28.2 which is incompatible.\r\n",
      "kaggle-environments 1.14.3 requires transformers>=4.33.1, but you have transformers 4.31.0 which is incompatible.\r\n",
      "kfp 2.5.0 requires google-cloud-storage<3,>=2.2.1, but you have google-cloud-storage 1.44.0 which is incompatible.\r\n",
      "libpysal 4.9.2 requires packaging>=22, but you have packaging 21.3 which is incompatible.\r\n",
      "libpysal 4.9.2 requires shapely>=2.0.1, but you have shapely 1.8.5.post1 which is incompatible.\r\n",
      "momepy 0.7.0 requires shapely>=2, but you have shapely 1.8.5.post1 which is incompatible.\r\n",
      "osmnx 1.9.2 requires shapely>=2.0, but you have shapely 1.8.5.post1 which is incompatible.\r\n",
      "preprocessing 0.1.13 requires nltk==3.2.4, but you have nltk 3.8.1 which is incompatible.\r\n",
      "spopt 0.6.0 requires shapely>=2.0.1, but you have shapely 1.8.5.post1 which is incompatible.\r\n",
      "tensorflow 2.15.0 requires keras<2.16,>=2.15.0, but you have keras 3.2.1 which is incompatible.\r\n",
      "torchaudio 2.1.2+cpu requires torch==2.1.2, but you have torch 2.0.1 which is incompatible.\r\n",
      "torchtext 0.16.2+cpu requires torch==2.1.2, but you have torch 2.0.1 which is incompatible.\r\n",
      "xarray 2024.3.0 requires packaging>=22, but you have packaging 21.3 which is incompatible.\r\n",
      "ydata-profiling 4.6.4 requires numpy<1.26,>=1.16.0, but you have numpy 1.26.4 which is incompatible.\r\n",
      "ydata-profiling 4.6.4 requires pydantic>=2, but you have pydantic 1.10.14 which is incompatible.\u001b[0m\u001b[31m\r\n",
      "\u001b[0m"
     ]
    }
   ],
   "source": [
    "!python -m pip install --no-index --find-links=/kaggle/input/autogluon-pkgs autogluon > /dev/null\n"
   ]
  },
  {
   "cell_type": "code",
   "execution_count": 2,
   "id": "5ebbf2df",
   "metadata": {
    "execution": {
     "iopub.execute_input": "2024-05-22T16:52:26.627627Z",
     "iopub.status.busy": "2024-05-22T16:52:26.627204Z",
     "iopub.status.idle": "2024-05-22T16:52:59.852781Z",
     "shell.execute_reply": "2024-05-22T16:52:59.851655Z"
    },
    "papermill": {
     "duration": 33.240706,
     "end_time": "2024-05-22T16:52:59.855668",
     "exception": false,
     "start_time": "2024-05-22T16:52:26.614962",
     "status": "completed"
    },
    "tags": []
   },
   "outputs": [
    {
     "name": "stdout",
     "output_type": "stream",
     "text": [
      "\u001b[31mERROR: pip's dependency resolver does not currently take into account all the packages that are installed. This behaviour is the source of the following dependency conflicts.\r\n",
      "keras-cv 0.8.2 requires keras-core, which is not installed.\r\n",
      "keras-nlp 0.9.3 requires keras-core, which is not installed.\r\n",
      "tensorflow-decision-forests 1.8.1 requires wurlitzer, which is not installed.\r\n",
      "albumentations 1.4.0 requires scikit-image>=0.21.0, but you have scikit-image 0.20.0 which is incompatible.\r\n",
      "apache-beam 2.46.0 requires dill<0.3.2,>=0.3.1.1, but you have dill 0.3.8 which is incompatible.\r\n",
      "apache-beam 2.46.0 requires numpy<1.25.0,>=1.14.3, but you have numpy 1.26.4 which is incompatible.\r\n",
      "apache-beam 2.46.0 requires protobuf<4,>3.12.2, but you have protobuf 4.25.2 which is incompatible.\r\n",
      "apache-beam 2.46.0 requires pyarrow<10.0.0,>=3.0.0, but you have pyarrow 15.0.2 which is incompatible.\r\n",
      "autogluon-multimodal 1.0.0 requires jsonschema<4.18,>=4.14, but you have jsonschema 4.21.1 which is incompatible.\r\n",
      "beatrix-jupyterlab 2023.128.151533 requires jupyterlab~=3.6.0, but you have jupyterlab 4.1.6 which is incompatible.\r\n",
      "botocore 1.34.69 requires urllib3!=2.2.0,<3,>=1.25.4; python_version >= \"3.10\", but you have urllib3 2.2.0 which is incompatible.\r\n",
      "google-cloud-aiplatform 0.6.0a1 requires google-api-core[grpc]<2.0.0dev,>=1.22.2, but you have google-api-core 2.11.1 which is incompatible.\r\n",
      "google-cloud-automl 1.0.1 requires google-api-core[grpc]<2.0.0dev,>=1.14.0, but you have google-api-core 2.11.1 which is incompatible.\r\n",
      "google-cloud-bigquery 2.34.4 requires packaging<22.0dev,>=14.3, but you have packaging 23.2 which is incompatible.\r\n",
      "google-cloud-bigquery 2.34.4 requires protobuf<4.0.0dev,>=3.12.0, but you have protobuf 4.25.2 which is incompatible.\r\n",
      "google-cloud-bigtable 1.7.3 requires protobuf<4.0.0dev, but you have protobuf 4.25.2 which is incompatible.\r\n",
      "google-cloud-datastore 1.15.5 requires protobuf<4.0.0dev, but you have protobuf 4.25.2 which is incompatible.\r\n",
      "google-cloud-vision 2.8.0 requires protobuf<4.0.0dev,>=3.19.0, but you have protobuf 4.25.2 which is incompatible.\r\n",
      "jupyterlab 4.1.6 requires jupyter-lsp>=2.0.0, but you have jupyter-lsp 1.5.1 which is incompatible.\r\n",
      "jupyterlab-lsp 5.1.0 requires jupyter-lsp>=2.0.0, but you have jupyter-lsp 1.5.1 which is incompatible.\r\n",
      "kaggle-environments 1.14.3 requires transformers>=4.33.1, but you have transformers 4.31.0 which is incompatible.\r\n",
      "kfp 2.5.0 requires google-cloud-storage<3,>=2.2.1, but you have google-cloud-storage 1.44.0 which is incompatible.\r\n",
      "kfp 2.5.0 requires protobuf<4,>=3.13.0, but you have protobuf 4.25.2 which is incompatible.\r\n",
      "kfp 2.5.0 requires urllib3<2.0.0, but you have urllib3 2.2.0 which is incompatible.\r\n",
      "kfp-pipeline-spec 0.2.2 requires protobuf<4,>=3.13.0, but you have protobuf 4.25.2 which is incompatible.\r\n",
      "libpysal 4.9.2 requires shapely>=2.0.1, but you have shapely 1.8.5.post1 which is incompatible.\r\n",
      "momepy 0.7.0 requires shapely>=2, but you have shapely 1.8.5.post1 which is incompatible.\r\n",
      "openxlab 0.0.34 requires requests~=2.28.2, but you have requests 2.31.0 which is incompatible.\r\n",
      "osmnx 1.9.2 requires shapely>=2.0, but you have shapely 1.8.5.post1 which is incompatible.\r\n",
      "preprocessing 0.1.13 requires nltk==3.2.4, but you have nltk 3.8.1 which is incompatible.\r\n",
      "spopt 0.6.0 requires shapely>=2.0.1, but you have shapely 1.8.5.post1 which is incompatible.\r\n",
      "tensorboard 2.15.1 requires protobuf<4.24,>=3.19.6, but you have protobuf 4.25.2 which is incompatible.\r\n",
      "tensorflow 2.15.0 requires keras<2.16,>=2.15.0, but you have keras 3.2.1 which is incompatible.\r\n",
      "tensorflow-metadata 0.14.0 requires protobuf<4,>=3.7, but you have protobuf 4.25.2 which is incompatible.\r\n",
      "tensorflow-transform 0.14.0 requires protobuf<4,>=3.7, but you have protobuf 4.25.2 which is incompatible.\r\n",
      "tensorstore 0.1.56 requires ml-dtypes>=0.3.1, but you have ml-dtypes 0.2.0 which is incompatible.\r\n",
      "torchaudio 2.1.2+cpu requires torch==2.1.2, but you have torch 2.0.1 which is incompatible.\r\n",
      "torchtext 0.16.2+cpu requires torch==2.1.2, but you have torch 2.0.1 which is incompatible.\r\n",
      "ydata-profiling 4.6.4 requires numpy<1.26,>=1.16.0, but you have numpy 1.26.4 which is incompatible.\r\n",
      "ydata-profiling 4.6.4 requires pydantic>=2, but you have pydantic 1.10.14 which is incompatible.\u001b[0m\u001b[31m\r\n",
      "\u001b[0m"
     ]
    }
   ],
   "source": [
    "!python -m pip install --no-index --find-links=/kaggle/input/ray-pkgs --upgrade --force-reinstall -q ray==2.6.3\n"
   ]
  },
  {
   "cell_type": "markdown",
   "id": "c77a0efd",
   "metadata": {
    "papermill": {
     "duration": 0.011386,
     "end_time": "2024-05-22T16:52:59.877501",
     "exception": false,
     "start_time": "2024-05-22T16:52:59.866115",
     "status": "completed"
    },
    "tags": []
   },
   "source": [
    "# Imports"
   ]
  },
  {
   "cell_type": "code",
   "execution_count": 3,
   "id": "c27d7b9e",
   "metadata": {
    "execution": {
     "iopub.execute_input": "2024-05-22T16:52:59.903013Z",
     "iopub.status.busy": "2024-05-22T16:52:59.902612Z",
     "iopub.status.idle": "2024-05-22T16:53:04.369700Z",
     "shell.execute_reply": "2024-05-22T16:53:04.368331Z"
    },
    "papermill": {
     "duration": 4.482719,
     "end_time": "2024-05-22T16:53:04.373253",
     "exception": false,
     "start_time": "2024-05-22T16:52:59.890534",
     "status": "completed"
    },
    "tags": []
   },
   "outputs": [],
   "source": [
    "import os\n",
    "import gc\n",
    "from glob import glob\n",
    "from pathlib import Path\n",
    "from datetime import datetime\n",
    "import numpy as np\n",
    "import pandas as pd\n",
    "import polars as pl\n",
    "import matplotlib.pyplot as plt\n",
    "import seaborn as sns\n",
    "from sklearn.model_selection import StratifiedGroupKFold\n",
    "from sklearn.base import BaseEstimator, RegressorMixin\n",
    "import joblib\n",
    "import lightgbm as lgb\n",
    "import warnings\n",
    "warnings.simplefilter(action='ignore', category=FutureWarning)\n",
    "\n",
    "from autogluon.tabular import TabularDataset, TabularPredictor\n"
   ]
  },
  {
   "cell_type": "markdown",
   "id": "40701eac",
   "metadata": {
    "papermill": {
     "duration": 0.010178,
     "end_time": "2024-05-22T16:53:04.396223",
     "exception": false,
     "start_time": "2024-05-22T16:53:04.386045",
     "status": "completed"
    },
    "tags": []
   },
   "source": [
    "# Pipeline"
   ]
  },
  {
   "cell_type": "code",
   "execution_count": 4,
   "id": "ed83d30b",
   "metadata": {
    "execution": {
     "iopub.execute_input": "2024-05-22T16:53:04.419437Z",
     "iopub.status.busy": "2024-05-22T16:53:04.418530Z",
     "iopub.status.idle": "2024-05-22T16:53:04.429607Z",
     "shell.execute_reply": "2024-05-22T16:53:04.428339Z"
    },
    "papermill": {
     "duration": 0.025277,
     "end_time": "2024-05-22T16:53:04.431971",
     "exception": false,
     "start_time": "2024-05-22T16:53:04.406694",
     "status": "completed"
    },
    "tags": []
   },
   "outputs": [],
   "source": [
    "class Pipeline:\n",
    "    @staticmethod\n",
    "    def set_table_dtypes(df):\n",
    "        for col in df.columns:\n",
    "            if col in [\"case_id\", \"WEEK_NUM\", \"num_group1\", \"num_group2\"]:\n",
    "                df = df.with_columns(pl.col(col).cast(pl.Int64))\n",
    "            elif col in [\"date_decision\"]:\n",
    "                df = df.with_columns(pl.col(col).cast(pl.Date))\n",
    "            elif col[-1] in (\"P\", \"A\"):\n",
    "                df = df.with_columns(pl.col(col).cast(pl.Float64))\n",
    "            elif col[-1] in (\"M\",):\n",
    "                df = df.with_columns(pl.col(col).cast(pl.String))\n",
    "            elif col[-1] in (\"D\",):\n",
    "                df = df.with_columns(pl.col(col).cast(pl.Date))\n",
    "        return df\n",
    "    \n",
    "    "
   ]
  },
  {
   "cell_type": "code",
   "execution_count": 5,
   "id": "4049686e",
   "metadata": {
    "execution": {
     "iopub.execute_input": "2024-05-22T16:53:04.454923Z",
     "iopub.status.busy": "2024-05-22T16:53:04.454543Z",
     "iopub.status.idle": "2024-05-22T16:53:04.461686Z",
     "shell.execute_reply": "2024-05-22T16:53:04.460364Z"
    },
    "papermill": {
     "duration": 0.021529,
     "end_time": "2024-05-22T16:53:04.463984",
     "exception": false,
     "start_time": "2024-05-22T16:53:04.442455",
     "status": "completed"
    },
    "tags": []
   },
   "outputs": [],
   "source": [
    "@staticmethod\n",
    "def handle_dates(df):\n",
    "    \n",
    "     for col in df.columns:\n",
    "            \n",
    "            if col[-1] in (\"D\",):\n",
    "                \n",
    "                df = df.with_columns(pl.col(col) - pl.col(\"date_decision\"))\n",
    "                df = df.with_columns(pl.col(col).dt.total_days())\n",
    "                df = df.drop(\"date_decision\", \"MONTH\")\n",
    "                \n",
    "                return df\n",
    "    \n",
    "   "
   ]
  },
  {
   "cell_type": "code",
   "execution_count": 6,
   "id": "b4248d0f",
   "metadata": {
    "execution": {
     "iopub.execute_input": "2024-05-22T16:53:04.486860Z",
     "iopub.status.busy": "2024-05-22T16:53:04.486104Z",
     "iopub.status.idle": "2024-05-22T16:53:04.494073Z",
     "shell.execute_reply": "2024-05-22T16:53:04.493095Z"
    },
    "papermill": {
     "duration": 0.022241,
     "end_time": "2024-05-22T16:53:04.496551",
     "exception": false,
     "start_time": "2024-05-22T16:53:04.474310",
     "status": "completed"
    },
    "tags": []
   },
   "outputs": [],
   "source": [
    "@staticmethod\n",
    "def filter_cols(df):\n",
    "    for col in df.columns:\n",
    "        if col not in [\"target\", \"case_id\", \"WEEK_NUM\"]:\n",
    "            isnull = df[col].is_null().mean()\n",
    "            if isnull > 0.95:\n",
    "                df = df.drop(col)\n",
    "    for col in df.columns:\n",
    "        if (col not in [\"target\", \"case_id\", \"WEEK_NUM\"]) and (df[col].dtype == pl.String):\n",
    "            freq = df[col].n_unique()\n",
    "            if (freq == 1) or (freq > 200):\n",
    "                df = df.drop(col)\n",
    "    return df\n",
    "\n"
   ]
  },
  {
   "cell_type": "code",
   "execution_count": 7,
   "id": "9961b381",
   "metadata": {
    "execution": {
     "iopub.execute_input": "2024-05-22T16:53:04.519967Z",
     "iopub.status.busy": "2024-05-22T16:53:04.519119Z",
     "iopub.status.idle": "2024-05-22T16:53:04.542029Z",
     "shell.execute_reply": "2024-05-22T16:53:04.540912Z"
    },
    "papermill": {
     "duration": 0.037325,
     "end_time": "2024-05-22T16:53:04.544612",
     "exception": false,
     "start_time": "2024-05-22T16:53:04.507287",
     "status": "completed"
    },
    "tags": []
   },
   "outputs": [],
   "source": [
    "class Aggregator:\n",
    "    @staticmethod\n",
    "    def num_expr(df):\n",
    "        cols = [col for col in df.columns if col[-1] in (\"P\", \"A\")]\n",
    "        expr_max = [pl.max(col).alias(f\"max_{col}\") for col in cols]\n",
    "        expr_min = [pl.min(col).alias(f\"min_{col}\") for col in cols]\n",
    "        return expr_max, expr_min\n",
    "\n",
    "    @staticmethod\n",
    "    def num_expr_mean(df):\n",
    "        cols = [col for col in df.columns if col[-1] in (\"P\", \"A\")]\n",
    "        expr_max = [pl.mean(col).alias(f\"mean_{col}\") for col in cols]\n",
    "        return expr_max\n",
    "    \n",
    "    @staticmethod\n",
    "    def num_expr_std(df):\n",
    "        cols = [col for col in df.columns if col[-1] in (\"P\", \"A\")]\n",
    "        expr_max = [pl.std(col).alias(f\"std_{col}\") for col in cols]\n",
    "        return expr_max\n",
    "    \n",
    "    @staticmethod\n",
    "    def date_expr(df):\n",
    "        cols = [col for col in df.columns if col[-1] in (\"D\",)]\n",
    "        expr_max = [pl.max(col).alias(f\"max_{col}\") for col in cols]\n",
    "        expr_min = [pl.min(col).alias(f\"min_{col}\") for col in cols]\n",
    "        return expr_max, expr_min\n",
    "\n",
    "    @staticmethod\n",
    "    def str_expr(df):\n",
    "        cols = [col for col in df.columns if col[-1] in (\"M\",)]\n",
    "        expr_max = [pl.max(col).alias(f\"max_{col}\") for col in cols]\n",
    "        expr_min = [pl.min(col).alias(f\"min_{col}\") for col in cols]\n",
    "        return expr_max, expr_min\n",
    "\n",
    "    @staticmethod\n",
    "    def other_expr(df):\n",
    "        cols = [col for col in df.columns if col[-1] in (\"T\", \"L\")]\n",
    "        expr_max = [pl.max(col).alias(f\"max_{col}\") for col in cols]\n",
    "        expr_min = [pl.min(col).alias(f\"min_{col}\") for col in cols]\n",
    "        return expr_max, expr_min\n",
    "    \n",
    "    @staticmethod\n",
    "    def count_expr(df):\n",
    "        cols = [col for col in df.columns if \"num_group\" in col]\n",
    "        expr_max = [pl.max(col).alias(f\"max_{col}\") for col in cols]\n",
    "        expr_min = [pl.min(col).alias(f\"min_{col}\") for col in cols]\n",
    "        return expr_max, expr_min\n",
    "\n",
    "    @staticmethod\n",
    "    def get_exprs(df):\n",
    "        maxexprs = (Aggregator.num_expr(df)[0] +\n",
    "                    Aggregator.date_expr(df)[0] +\n",
    "                    Aggregator.str_expr(df)[0] +\n",
    "                    Aggregator.other_expr(df)[0] +\n",
    "                    Aggregator.count_expr(df)[0])\n",
    "        minexprs = (Aggregator.num_expr(df)[1] +\n",
    "                    Aggregator.date_expr(df)[1] +\n",
    "                    Aggregator.str_expr(df)[1] +\n",
    "                    Aggregator.other_expr(df)[1] +\n",
    "                    Aggregator.count_expr(df)[1])\n",
    "        return maxexprs, minexprs\n",
    "\n",
    "def read_file(path, depth=None):\n",
    "    df = pl.read_parquet(path)\n",
    "    df = df.pipe(Pipeline.set_table_dtypes)\n",
    "    if depth in [1, 2]:\n",
    "        maxexprs, minexprs = Aggregator.get_exprs(df)\n",
    "        df = df.group_by(\"case_id\").agg(*maxexprs, *minexprs)\n",
    "    return df\n",
    "\n"
   ]
  },
  {
   "cell_type": "code",
   "execution_count": 8,
   "id": "d72468f4",
   "metadata": {
    "execution": {
     "iopub.execute_input": "2024-05-22T16:53:04.567353Z",
     "iopub.status.busy": "2024-05-22T16:53:04.566988Z",
     "iopub.status.idle": "2024-05-22T16:53:04.573995Z",
     "shell.execute_reply": "2024-05-22T16:53:04.572831Z"
    },
    "papermill": {
     "duration": 0.021026,
     "end_time": "2024-05-22T16:53:04.576272",
     "exception": false,
     "start_time": "2024-05-22T16:53:04.555246",
     "status": "completed"
    },
    "tags": []
   },
   "outputs": [],
   "source": [
    "def read_files(regex_path, depth=None):\n",
    "    chunks = [pl.read_parquet(path).pipe(Pipeline.set_table_dtypes) for path in glob(str(regex_path))]\n",
    "    df = pl.concat(chunks, how=\"vertical_relaxed\")\n",
    "    if depth in [1, 2]:\n",
    "        maxexprs, minexprs = Aggregator.get_exprs(df)\n",
    "        df = df.group_by(\"case_id\").agg(*maxexprs, *minexprs)\n",
    "    return df\n",
    "\n"
   ]
  },
  {
   "cell_type": "code",
   "execution_count": 9,
   "id": "a203ebd1",
   "metadata": {
    "execution": {
     "iopub.execute_input": "2024-05-22T16:53:04.598374Z",
     "iopub.status.busy": "2024-05-22T16:53:04.597995Z",
     "iopub.status.idle": "2024-05-22T16:53:04.605305Z",
     "shell.execute_reply": "2024-05-22T16:53:04.604278Z"
    },
    "papermill": {
     "duration": 0.020968,
     "end_time": "2024-05-22T16:53:04.607639",
     "exception": false,
     "start_time": "2024-05-22T16:53:04.586671",
     "status": "completed"
    },
    "tags": []
   },
   "outputs": [],
   "source": [
    "def feature_eng(df_base, depth_0, depth_1, depth_2):\n",
    "    df_base = (df_base.with_columns(\n",
    "        month_decision=pl.col(\"date_decision\").dt.month(),\n",
    "        weekday_decision=pl.col(\"date_decision\").dt.weekday(),\n",
    "    ))\n",
    "    for i, df in enumerate(depth_0 + depth_1 + depth_2):\n",
    "        df_base = df_base.join(df, how=\"left\", on=\"case_id\", suffix=f\"_{i}\")\n",
    "    df_base = df_base.pipe(Pipeline.handle_dates)\n",
    "    return df_base\n",
    "\n"
   ]
  },
  {
   "cell_type": "code",
   "execution_count": 10,
   "id": "7bafca13",
   "metadata": {
    "execution": {
     "iopub.execute_input": "2024-05-22T16:53:04.630559Z",
     "iopub.status.busy": "2024-05-22T16:53:04.630116Z",
     "iopub.status.idle": "2024-05-22T16:53:04.636441Z",
     "shell.execute_reply": "2024-05-22T16:53:04.635338Z"
    },
    "papermill": {
     "duration": 0.020723,
     "end_time": "2024-05-22T16:53:04.638890",
     "exception": false,
     "start_time": "2024-05-22T16:53:04.618167",
     "status": "completed"
    },
    "tags": []
   },
   "outputs": [],
   "source": [
    "def to_pandas(df_data, cat_cols=None):\n",
    "    df_data = df_data.to_pandas()\n",
    "    if cat_cols is None:\n",
    "        cat_cols = list(df_data.select_dtypes(\"object\").columns)\n",
    "    df_data[cat_cols] = df_data[cat_cols].astype(\"category\")\n",
    "    return df_data, cat_cols\n",
    "\n"
   ]
  },
  {
   "cell_type": "code",
   "execution_count": 11,
   "id": "ac68229f",
   "metadata": {
    "execution": {
     "iopub.execute_input": "2024-05-22T16:53:04.661552Z",
     "iopub.status.busy": "2024-05-22T16:53:04.661101Z",
     "iopub.status.idle": "2024-05-22T16:53:04.676252Z",
     "shell.execute_reply": "2024-05-22T16:53:04.675208Z"
    },
    "papermill": {
     "duration": 0.029218,
     "end_time": "2024-05-22T16:53:04.678671",
     "exception": false,
     "start_time": "2024-05-22T16:53:04.649453",
     "status": "completed"
    },
    "tags": []
   },
   "outputs": [],
   "source": [
    "def reduce_mem_usage(df):\n",
    "    start_mem = df.memory_usage().sum() / 1024**2\n",
    "    print('Memory usage of dataframe is {:.2f} MB'.format(start_mem))\n",
    "    \n",
    "    for col in df.columns:\n",
    "        col_type = df[col].dtype\n",
    "        if str(col_type) == \"category\":\n",
    "            continue\n",
    "        if col_type != object:\n",
    "            c_min = df[col].min()\n",
    "            c_max = df[col].max()\n",
    "            if str(col_type)[:3] == 'int':\n",
    "                if c_min > np.iinfo(np.int8).min and c_max < np.iinfo(np.int8).max:\n",
    "                    df[col] = df[col].astype(np.int8)\n",
    "                elif c_min > np.iinfo(np.int16).min and c_max < np.iinfo(np.int16).max:\n",
    "                    df[col] = df[col].astype(np.int16)\n",
    "                elif c_min > np.iinfo(np.int32).min and c_max < np.iinfo(np.int32).max:\n",
    "                    df[col] = df[col].astype(np.int32)\n",
    "                elif c_min > np.iinfo(np.int64).min and c_max < np.iinfo(np.int64).max:\n",
    "                    df[col] = df[col].astype(np.int64)\n",
    "            else:\n",
    "                if c_min > np.finfo(np.float16).min and c_max < np.finfo(np.float16).max:\n",
    "                    df[col] = df[col].astype(np.float16)\n",
    "                elif c_min > np.finfo(np.float32).min and c_max < np.finfo(np.float32).max:\n",
    "                    df[col] = df[col].astype(np.float32)\n",
    "                else:\n",
    "                    df[col] = df[col].astype(np.float64)\n",
    "        else:\n",
    "            df[col] = df[col].astype('category')\n",
    "    \n",
    "    end_mem = df.memory_usage().sum() / 1024**2\n",
    "    print('Memory usage after optimization is: {:.2f} MB'.format(end_mem))\n",
    "    print('Decreased by {:.1f}%'.format(100 * (start_mem - end_mem) / start_mem))\n",
    "    \n",
    "    return df\n",
    "\n"
   ]
  },
  {
   "cell_type": "markdown",
   "id": "9e3a4604",
   "metadata": {
    "papermill": {
     "duration": 0.009932,
     "end_time": "2024-05-22T16:53:04.699147",
     "exception": false,
     "start_time": "2024-05-22T16:53:04.689215",
     "status": "completed"
    },
    "tags": []
   },
   "source": [
    "# Configuration"
   ]
  },
  {
   "cell_type": "code",
   "execution_count": 12,
   "id": "ab19c8a6",
   "metadata": {
    "execution": {
     "iopub.execute_input": "2024-05-22T16:53:04.722319Z",
     "iopub.status.busy": "2024-05-22T16:53:04.721437Z",
     "iopub.status.idle": "2024-05-22T16:53:48.227945Z",
     "shell.execute_reply": "2024-05-22T16:53:48.226863Z"
    },
    "papermill": {
     "duration": 43.521366,
     "end_time": "2024-05-22T16:53:48.230890",
     "exception": false,
     "start_time": "2024-05-22T16:53:04.709524",
     "status": "completed"
    },
    "tags": []
   },
   "outputs": [],
   "source": [
    "sample = pd.read_csv(\"/kaggle/input/home-credit-credit-risk-model-stability/sample_submission.csv\")\n",
    "DRY_RUN = sample.shape[0] == 10  # if num of records of test data is 10, dry-run is enabled\n",
    "PRESETS = \"medium_quality\"\n",
    "MODEL_PATH = \"/kaggle/input/home-credit-automl-training/predictor\"\n",
    "ROOT = Path(\"/kaggle/input/home-credit-credit-risk-model-stability\")\n",
    "TRAIN_DIR = ROOT / \"parquet_files\" / \"train\"\n",
    "TEST_DIR = ROOT / \"parquet_files\" / \"test\"\n",
    "\n",
    "data_store = {\n",
    "    \"df_base\": read_file(TRAIN_DIR / \"train_base.parquet\"),\n",
    "    \"depth_0\": [\n",
    "        read_file(TRAIN_DIR / \"train_static_cb_0.parquet\"),\n",
    "        read_files(TRAIN_DIR / \"train_static_0_*.parquet\")\n",
    "    ],\n",
    "    \"depth_1\": [\n",
    "        read_files(TRAIN_DIR / \"train_applprev_1_*.parquet\", 1),\n",
    "        read_file(TRAIN_DIR / \"train_tax_registry_a_1.parquet\", 1),\n",
    "        read_file(TRAIN_DIR / \"train_tax_registry_b_1.parquet\", 1),\n",
    "        read_file(TRAIN_DIR / \"train_tax_registry_c_1.parquet\", 1),\n",
    "        read_file(TRAIN_DIR / \"train_credit_bureau_b_1.parquet\", 1),\n",
    "        read_file(TRAIN_DIR / \"train_other_1.parquet\", 1),\n",
    "        read_file(TRAIN_DIR / \"train_person_1.parquet\", 1),\n",
    "        read_file(TRAIN_DIR / \"train_deposit_1.parquet\", 1),\n",
    "        read_file(TRAIN_DIR / \"train_debitcard_1.parquet\", 1)\n",
    "    ],\n",
    "    \"depth_2\": [\n",
    "        read_file(TRAIN_DIR / \"train_credit_bureau_b_2.parquet\", 2)\n",
    "    ]\n",
    "}\n",
    "\n"
   ]
  },
  {
   "cell_type": "code",
   "execution_count": 13,
   "id": "3c5081e6",
   "metadata": {
    "execution": {
     "iopub.execute_input": "2024-05-22T16:53:48.254522Z",
     "iopub.status.busy": "2024-05-22T16:53:48.253699Z",
     "iopub.status.idle": "2024-05-22T16:53:48.268344Z",
     "shell.execute_reply": "2024-05-22T16:53:48.267255Z"
    },
    "papermill": {
     "duration": 0.029069,
     "end_time": "2024-05-22T16:53:48.270667",
     "exception": false,
     "start_time": "2024-05-22T16:53:48.241598",
     "status": "completed"
    },
    "tags": []
   },
   "outputs": [],
   "source": [
    "class Pipeline:\n",
    "    @staticmethod\n",
    "    def set_table_dtypes(df):\n",
    "        for col in df.columns:\n",
    "            if col in [\"case_id\", \"WEEK_NUM\", \"num_group1\", \"num_group2\"]:\n",
    "                df = df.with_columns(pl.col(col).cast(pl.Int64))\n",
    "            elif col in [\"date_decision\"]:\n",
    "                df = df.with_columns(pl.col(col).cast(pl.Date))\n",
    "            elif col[-1] in (\"P\", \"A\"):\n",
    "                df = df.with_columns(pl.col(col).cast(pl.Float64))\n",
    "            elif col[-1] in (\"M\",):\n",
    "                df = df.with_columns(pl.col(col).cast(pl.String))\n",
    "            elif col[-1] in (\"D\",):\n",
    "                df = df.with_columns(pl.col(col).cast(pl.Date))\n",
    "        return df\n",
    "    \n",
    "    @staticmethod\n",
    "    def handle_dates(df):\n",
    "        for col in df.columns:\n",
    "            if col[-1] in (\"D\",):\n",
    "                df = df.with_columns((pl.col(col) - pl.col(\"date_decision\")).dt.days().alias(col))\n",
    "        df = df.drop(\"date_decision\").drop(\"MONTH\")\n",
    "        return df\n",
    "    \n",
    "    @staticmethod\n",
    "    def filter_cols(df):\n",
    "        for col in df.columns:\n",
    "            if col not in [\"target\", \"case_id\", \"WEEK_NUM\"]:\n",
    "                isnull = df[col].is_null().mean()\n",
    "                if isnull > 0.95:\n",
    "                    df = df.drop(col)\n",
    "        for col in df.columns:\n",
    "            if (col not in [\"target\", \"case_id\", \"WEEK_NUM\"]) & (df[col].dtype == pl.String):\n",
    "                freq = df[col].n_unique()\n",
    "                if (freq == 1) | (freq > 200):\n",
    "                    df = df.drop(col)\n",
    "        return df\n"
   ]
  },
  {
   "cell_type": "code",
   "execution_count": 14,
   "id": "4588ea2f",
   "metadata": {
    "execution": {
     "iopub.execute_input": "2024-05-22T16:53:48.292827Z",
     "iopub.status.busy": "2024-05-22T16:53:48.292461Z",
     "iopub.status.idle": "2024-05-22T16:53:58.147701Z",
     "shell.execute_reply": "2024-05-22T16:53:58.146478Z"
    },
    "papermill": {
     "duration": 9.875167,
     "end_time": "2024-05-22T16:53:58.156130",
     "exception": false,
     "start_time": "2024-05-22T16:53:48.280963",
     "status": "completed"
    },
    "tags": []
   },
   "outputs": [
    {
     "name": "stderr",
     "output_type": "stream",
     "text": [
      "/tmp/ipykernel_18/1098963660.py:21: DeprecationWarning: `days` is deprecated. It has been renamed to `total_days`.\n",
      "  df = df.with_columns((pl.col(col) - pl.col(\"date_decision\")).dt.days().alias(col))\n"
     ]
    },
    {
     "name": "stdout",
     "output_type": "stream",
     "text": [
      "train data shape:\t (1526659, 528)\n"
     ]
    }
   ],
   "source": [
    "df_train = feature_eng(**data_store)\n",
    "print(\"train data shape:\\t\", df_train.shape)\n"
   ]
  },
  {
   "cell_type": "code",
   "execution_count": 15,
   "id": "1d521701",
   "metadata": {
    "execution": {
     "iopub.execute_input": "2024-05-22T16:53:58.183671Z",
     "iopub.status.busy": "2024-05-22T16:53:58.182636Z",
     "iopub.status.idle": "2024-05-22T16:54:02.017659Z",
     "shell.execute_reply": "2024-05-22T16:54:02.016305Z"
    },
    "papermill": {
     "duration": 3.850021,
     "end_time": "2024-05-22T16:54:02.020261",
     "exception": false,
     "start_time": "2024-05-22T16:53:58.170240",
     "status": "completed"
    },
    "tags": []
   },
   "outputs": [
    {
     "name": "stdout",
     "output_type": "stream",
     "text": [
      "train data shape:\t (1526659, 341)\n"
     ]
    }
   ],
   "source": [
    "df_train = df_train.pipe(Pipeline.filter_cols)\n",
    "print(\"train data shape:\\t\", df_train.shape)\n"
   ]
  },
  {
   "cell_type": "code",
   "execution_count": 16,
   "id": "14012b3b",
   "metadata": {
    "execution": {
     "iopub.execute_input": "2024-05-22T16:54:02.043573Z",
     "iopub.status.busy": "2024-05-22T16:54:02.043102Z",
     "iopub.status.idle": "2024-05-22T16:54:28.910758Z",
     "shell.execute_reply": "2024-05-22T16:54:28.909344Z"
    },
    "papermill": {
     "duration": 26.883243,
     "end_time": "2024-05-22T16:54:28.914209",
     "exception": false,
     "start_time": "2024-05-22T16:54:02.030966",
     "status": "completed"
    },
    "tags": []
   },
   "outputs": [
    {
     "name": "stdout",
     "output_type": "stream",
     "text": [
      "(1526659, 341)\n"
     ]
    },
    {
     "data": {
      "text/html": [
       "<div>\n",
       "<style scoped>\n",
       "    .dataframe tbody tr th:only-of-type {\n",
       "        vertical-align: middle;\n",
       "    }\n",
       "\n",
       "    .dataframe tbody tr th {\n",
       "        vertical-align: top;\n",
       "    }\n",
       "\n",
       "    .dataframe thead th {\n",
       "        text-align: right;\n",
       "    }\n",
       "</style>\n",
       "<table border=\"1\" class=\"dataframe\">\n",
       "  <thead>\n",
       "    <tr style=\"text-align: right;\">\n",
       "      <th></th>\n",
       "      <th>case_id</th>\n",
       "      <th>WEEK_NUM</th>\n",
       "      <th>target</th>\n",
       "      <th>month_decision</th>\n",
       "      <th>weekday_decision</th>\n",
       "      <th>assignmentdate_238D</th>\n",
       "      <th>assignmentdate_4527235D</th>\n",
       "      <th>birthdate_574D</th>\n",
       "      <th>contractssum_5085716L</th>\n",
       "      <th>dateofbirth_337D</th>\n",
       "      <th>...</th>\n",
       "      <th>max_amount_416A</th>\n",
       "      <th>max_openingdate_313D</th>\n",
       "      <th>max_num_group1_9</th>\n",
       "      <th>min_amount_416A</th>\n",
       "      <th>min_openingdate_313D</th>\n",
       "      <th>min_num_group1_9</th>\n",
       "      <th>max_openingdate_857D</th>\n",
       "      <th>max_num_group1_10</th>\n",
       "      <th>min_openingdate_857D</th>\n",
       "      <th>min_num_group1_10</th>\n",
       "    </tr>\n",
       "  </thead>\n",
       "  <tbody>\n",
       "    <tr>\n",
       "      <th>0</th>\n",
       "      <td>0</td>\n",
       "      <td>0</td>\n",
       "      <td>0</td>\n",
       "      <td>1</td>\n",
       "      <td>4</td>\n",
       "      <td>NaN</td>\n",
       "      <td>NaN</td>\n",
       "      <td>NaN</td>\n",
       "      <td>NaN</td>\n",
       "      <td>NaN</td>\n",
       "      <td>...</td>\n",
       "      <td>NaN</td>\n",
       "      <td>NaN</td>\n",
       "      <td>NaN</td>\n",
       "      <td>NaN</td>\n",
       "      <td>NaN</td>\n",
       "      <td>NaN</td>\n",
       "      <td>NaN</td>\n",
       "      <td>NaN</td>\n",
       "      <td>NaN</td>\n",
       "      <td>NaN</td>\n",
       "    </tr>\n",
       "    <tr>\n",
       "      <th>1</th>\n",
       "      <td>1</td>\n",
       "      <td>0</td>\n",
       "      <td>0</td>\n",
       "      <td>1</td>\n",
       "      <td>4</td>\n",
       "      <td>NaN</td>\n",
       "      <td>NaN</td>\n",
       "      <td>NaN</td>\n",
       "      <td>NaN</td>\n",
       "      <td>NaN</td>\n",
       "      <td>...</td>\n",
       "      <td>NaN</td>\n",
       "      <td>NaN</td>\n",
       "      <td>NaN</td>\n",
       "      <td>NaN</td>\n",
       "      <td>NaN</td>\n",
       "      <td>NaN</td>\n",
       "      <td>NaN</td>\n",
       "      <td>NaN</td>\n",
       "      <td>NaN</td>\n",
       "      <td>NaN</td>\n",
       "    </tr>\n",
       "    <tr>\n",
       "      <th>2</th>\n",
       "      <td>2</td>\n",
       "      <td>0</td>\n",
       "      <td>0</td>\n",
       "      <td>1</td>\n",
       "      <td>5</td>\n",
       "      <td>NaN</td>\n",
       "      <td>NaN</td>\n",
       "      <td>NaN</td>\n",
       "      <td>NaN</td>\n",
       "      <td>NaN</td>\n",
       "      <td>...</td>\n",
       "      <td>NaN</td>\n",
       "      <td>NaN</td>\n",
       "      <td>NaN</td>\n",
       "      <td>NaN</td>\n",
       "      <td>NaN</td>\n",
       "      <td>NaN</td>\n",
       "      <td>NaN</td>\n",
       "      <td>NaN</td>\n",
       "      <td>NaN</td>\n",
       "      <td>NaN</td>\n",
       "    </tr>\n",
       "    <tr>\n",
       "      <th>3</th>\n",
       "      <td>3</td>\n",
       "      <td>0</td>\n",
       "      <td>0</td>\n",
       "      <td>1</td>\n",
       "      <td>4</td>\n",
       "      <td>NaN</td>\n",
       "      <td>NaN</td>\n",
       "      <td>NaN</td>\n",
       "      <td>NaN</td>\n",
       "      <td>NaN</td>\n",
       "      <td>...</td>\n",
       "      <td>NaN</td>\n",
       "      <td>NaN</td>\n",
       "      <td>NaN</td>\n",
       "      <td>NaN</td>\n",
       "      <td>NaN</td>\n",
       "      <td>NaN</td>\n",
       "      <td>NaN</td>\n",
       "      <td>NaN</td>\n",
       "      <td>NaN</td>\n",
       "      <td>NaN</td>\n",
       "    </tr>\n",
       "    <tr>\n",
       "      <th>4</th>\n",
       "      <td>4</td>\n",
       "      <td>0</td>\n",
       "      <td>1</td>\n",
       "      <td>1</td>\n",
       "      <td>5</td>\n",
       "      <td>NaN</td>\n",
       "      <td>NaN</td>\n",
       "      <td>NaN</td>\n",
       "      <td>NaN</td>\n",
       "      <td>NaN</td>\n",
       "      <td>...</td>\n",
       "      <td>NaN</td>\n",
       "      <td>NaN</td>\n",
       "      <td>NaN</td>\n",
       "      <td>NaN</td>\n",
       "      <td>NaN</td>\n",
       "      <td>NaN</td>\n",
       "      <td>NaN</td>\n",
       "      <td>NaN</td>\n",
       "      <td>NaN</td>\n",
       "      <td>NaN</td>\n",
       "    </tr>\n",
       "  </tbody>\n",
       "</table>\n",
       "<p>5 rows × 341 columns</p>\n",
       "</div>"
      ],
      "text/plain": [
       "   case_id  WEEK_NUM  target  month_decision  weekday_decision  \\\n",
       "0        0         0       0               1                 4   \n",
       "1        1         0       0               1                 4   \n",
       "2        2         0       0               1                 5   \n",
       "3        3         0       0               1                 4   \n",
       "4        4         0       1               1                 5   \n",
       "\n",
       "   assignmentdate_238D  assignmentdate_4527235D  birthdate_574D  \\\n",
       "0                  NaN                      NaN             NaN   \n",
       "1                  NaN                      NaN             NaN   \n",
       "2                  NaN                      NaN             NaN   \n",
       "3                  NaN                      NaN             NaN   \n",
       "4                  NaN                      NaN             NaN   \n",
       "\n",
       "   contractssum_5085716L  dateofbirth_337D  ...  max_amount_416A  \\\n",
       "0                    NaN               NaN  ...              NaN   \n",
       "1                    NaN               NaN  ...              NaN   \n",
       "2                    NaN               NaN  ...              NaN   \n",
       "3                    NaN               NaN  ...              NaN   \n",
       "4                    NaN               NaN  ...              NaN   \n",
       "\n",
       "   max_openingdate_313D  max_num_group1_9  min_amount_416A  \\\n",
       "0                   NaN               NaN              NaN   \n",
       "1                   NaN               NaN              NaN   \n",
       "2                   NaN               NaN              NaN   \n",
       "3                   NaN               NaN              NaN   \n",
       "4                   NaN               NaN              NaN   \n",
       "\n",
       "   min_openingdate_313D min_num_group1_9 max_openingdate_857D  \\\n",
       "0                   NaN              NaN                  NaN   \n",
       "1                   NaN              NaN                  NaN   \n",
       "2                   NaN              NaN                  NaN   \n",
       "3                   NaN              NaN                  NaN   \n",
       "4                   NaN              NaN                  NaN   \n",
       "\n",
       "  max_num_group1_10  min_openingdate_857D  min_num_group1_10  \n",
       "0               NaN                   NaN                NaN  \n",
       "1               NaN                   NaN                NaN  \n",
       "2               NaN                   NaN                NaN  \n",
       "3               NaN                   NaN                NaN  \n",
       "4               NaN                   NaN                NaN  \n",
       "\n",
       "[5 rows x 341 columns]"
      ]
     },
     "execution_count": 16,
     "metadata": {},
     "output_type": "execute_result"
    }
   ],
   "source": [
    "df_train, cat_cols = to_pandas(df_train)\n",
    "print(df_train.shape)\n",
    "df_train.head()\n"
   ]
  },
  {
   "cell_type": "code",
   "execution_count": 17,
   "id": "4be7df29",
   "metadata": {
    "execution": {
     "iopub.execute_input": "2024-05-22T16:54:28.939984Z",
     "iopub.status.busy": "2024-05-22T16:54:28.938866Z",
     "iopub.status.idle": "2024-05-22T16:54:37.490822Z",
     "shell.execute_reply": "2024-05-22T16:54:37.489615Z"
    },
    "papermill": {
     "duration": 8.567674,
     "end_time": "2024-05-22T16:54:37.493578",
     "exception": false,
     "start_time": "2024-05-22T16:54:28.925904",
     "status": "completed"
    },
    "tags": []
   },
   "outputs": [
    {
     "name": "stdout",
     "output_type": "stream",
     "text": [
      "Memory usage of dataframe is 3107.00 MB\n",
      "Memory usage after optimization is: 1055.59 MB\n",
      "Decreased by 66.0%\n"
     ]
    },
    {
     "data": {
      "text/plain": [
       "68"
      ]
     },
     "execution_count": 17,
     "metadata": {},
     "output_type": "execute_result"
    }
   ],
   "source": [
    "del data_store\n",
    "df_train = reduce_mem_usage(df_train)\n",
    "gc.collect()"
   ]
  },
  {
   "cell_type": "code",
   "execution_count": 18,
   "id": "e0f9eb0f",
   "metadata": {
    "execution": {
     "iopub.execute_input": "2024-05-22T16:54:37.518222Z",
     "iopub.status.busy": "2024-05-22T16:54:37.517813Z",
     "iopub.status.idle": "2024-05-22T16:54:37.526573Z",
     "shell.execute_reply": "2024-05-22T16:54:37.525469Z"
    },
    "papermill": {
     "duration": 0.023987,
     "end_time": "2024-05-22T16:54:37.528957",
     "exception": false,
     "start_time": "2024-05-22T16:54:37.504970",
     "status": "completed"
    },
    "tags": []
   },
   "outputs": [
    {
     "name": "stdout",
     "output_type": "stream",
     "text": [
      "df_train.shape : (1526659, 341) --> (1526659, 341)\n"
     ]
    }
   ],
   "source": [
    "# Training\n",
    "NUM = len(df_train)\n",
    "\n",
    "if DRY_RUN:\n",
    "    print(f\"df_train.shape : {df_train.shape} --> \", end=\"\")\n",
    "    df_train = df_train.iloc[:NUM]\n",
    "    print(df_train.shape)\n"
   ]
  },
  {
   "cell_type": "code",
   "execution_count": 19,
   "id": "d5ccf3b0",
   "metadata": {
    "execution": {
     "iopub.execute_input": "2024-05-22T16:54:37.554794Z",
     "iopub.status.busy": "2024-05-22T16:54:37.553646Z",
     "iopub.status.idle": "2024-05-22T16:54:38.443887Z",
     "shell.execute_reply": "2024-05-22T16:54:38.442702Z"
    },
    "papermill": {
     "duration": 0.905721,
     "end_time": "2024-05-22T16:54:38.446398",
     "exception": false,
     "start_time": "2024-05-22T16:54:37.540677",
     "status": "completed"
    },
    "tags": []
   },
   "outputs": [
    {
     "data": {
      "image/png": "[encoded data removed]",
      "text/plain": [
       "<Figure size 640x480 with 1 Axes>"
      ]
     },
     "metadata": {},
     "output_type": "display_data"
    }
   ],
   "source": [
    "# Load model\n",
    "predictor = TabularPredictor.load(path=MODEL_PATH)\n",
    "predictor.leaderboard()\n",
    "df_lb = predictor.leaderboard()\n",
    "\n",
    "plt.scatter(df_lb[\"score_val\"], df_lb[\"model\"])\n",
    "plt.grid()\n",
    "plt.xlabel(\"CV(roc_auc)\")\n",
    "plt.ylabel(\"Model name\")\n",
    "plt.show()"
   ]
  },
  {
   "cell_type": "code",
   "execution_count": 20,
   "id": "5715e970",
   "metadata": {
    "execution": {
     "iopub.execute_input": "2024-05-22T16:54:38.473744Z",
     "iopub.status.busy": "2024-05-22T16:54:38.472666Z",
     "iopub.status.idle": "2024-05-22T16:54:38.693033Z",
     "shell.execute_reply": "2024-05-22T16:54:38.691763Z"
    },
    "papermill": {
     "duration": 0.237023,
     "end_time": "2024-05-22T16:54:38.695894",
     "exception": false,
     "start_time": "2024-05-22T16:54:38.458871",
     "status": "completed"
    },
    "tags": []
   },
   "outputs": [],
   "source": [
    "# Test Files Read & Feature Engineering\n",
    "data_store = {\n",
    "    \"df_base\": read_file(TEST_DIR / \"test_base.parquet\"),\n",
    "    \"depth_0\": [\n",
    "        read_file(TEST_DIR / \"test_static_cb_0.parquet\"),\n",
    "        read_files(TEST_DIR / \"test_static_0_*.parquet\")\n",
    "    ],\n",
    "    \"depth_1\": [\n",
    "        read_files(TEST_DIR / \"test_applprev_1_*.parquet\", 1),\n",
    "        read_file(TEST_DIR / \"test_tax_registry_a_1.parquet\", 1),\n",
    "        read_file(TEST_DIR / \"test_tax_registry_b_1.parquet\", 1),\n",
    "        read_file(TEST_DIR / \"test_tax_registry_c_1.parquet\", 1),\n",
    "        read_file(TEST_DIR / \"test_credit_bureau_b_1.parquet\", 1),\n",
    "        read_file(TEST_DIR / \"test_other_1.parquet\", 1),\n",
    "        read_file(TEST_DIR / \"test_person_1.parquet\", 1),\n",
    "        read_file(TEST_DIR / \"test_deposit_1.parquet\", 1),\n",
    "        read_file(TEST_DIR / \"test_debitcard_1.parquet\", 1)\n",
    "    ],\n",
    "    \"depth_2\": [\n",
    "        read_file(TEST_DIR / \"test_credit_bureau_b_2.parquet\", 2)\n",
    "    ]\n",
    "}\n",
    "\n"
   ]
  },
  {
   "cell_type": "code",
   "execution_count": 21,
   "id": "78991c14",
   "metadata": {
    "execution": {
     "iopub.execute_input": "2024-05-22T16:54:38.722376Z",
     "iopub.status.busy": "2024-05-22T16:54:38.721965Z",
     "iopub.status.idle": "2024-05-22T16:54:38.765581Z",
     "shell.execute_reply": "2024-05-22T16:54:38.764498Z"
    },
    "papermill": {
     "duration": 0.06093,
     "end_time": "2024-05-22T16:54:38.769202",
     "exception": false,
     "start_time": "2024-05-22T16:54:38.708272",
     "status": "completed"
    },
    "tags": []
   },
   "outputs": [
    {
     "name": "stdout",
     "output_type": "stream",
     "text": [
      "test data shape:\t (10, 527)\n"
     ]
    },
    {
     "name": "stderr",
     "output_type": "stream",
     "text": [
      "/tmp/ipykernel_18/1098963660.py:21: DeprecationWarning: `days` is deprecated. It has been renamed to `total_days`.\n",
      "  df = df.with_columns((pl.col(col) - pl.col(\"date_decision\")).dt.days().alias(col))\n"
     ]
    }
   ],
   "source": [
    "df_test = feature_eng(**data_store)\n",
    "print(\"test data shape:\\t\", df_test.shape)\n"
   ]
  },
  {
   "cell_type": "code",
   "execution_count": 22,
   "id": "6d4945bf",
   "metadata": {
    "execution": {
     "iopub.execute_input": "2024-05-22T16:54:38.795972Z",
     "iopub.status.busy": "2024-05-22T16:54:38.795551Z",
     "iopub.status.idle": "2024-05-22T16:54:38.805603Z",
     "shell.execute_reply": "2024-05-22T16:54:38.804334Z"
    },
    "papermill": {
     "duration": 0.026277,
     "end_time": "2024-05-22T16:54:38.807928",
     "exception": false,
     "start_time": "2024-05-22T16:54:38.781651",
     "status": "completed"
    },
    "tags": []
   },
   "outputs": [
    {
     "name": "stdout",
     "output_type": "stream",
     "text": [
      "test data shape:\t (10, 527)\n"
     ]
    }
   ],
   "source": [
    "df_test = df_test.select([col for col in df_test.columns if col != \"target\"])\n",
    "print(\"test data shape:\\t\", df_test.shape)\n"
   ]
  },
  {
   "cell_type": "code",
   "execution_count": 23,
   "id": "87b255bd",
   "metadata": {
    "execution": {
     "iopub.execute_input": "2024-05-22T16:54:38.834877Z",
     "iopub.status.busy": "2024-05-22T16:54:38.834459Z",
     "iopub.status.idle": "2024-05-22T16:54:38.942308Z",
     "shell.execute_reply": "2024-05-22T16:54:38.941164Z"
    },
    "papermill": {
     "duration": 0.124732,
     "end_time": "2024-05-22T16:54:38.945261",
     "exception": false,
     "start_time": "2024-05-22T16:54:38.820529",
     "status": "completed"
    },
    "tags": []
   },
   "outputs": [
    {
     "name": "stdout",
     "output_type": "stream",
     "text": [
      "(10, 527)\n"
     ]
    },
    {
     "data": {
      "text/html": [
       "<div>\n",
       "<style scoped>\n",
       "    .dataframe tbody tr th:only-of-type {\n",
       "        vertical-align: middle;\n",
       "    }\n",
       "\n",
       "    .dataframe tbody tr th {\n",
       "        vertical-align: top;\n",
       "    }\n",
       "\n",
       "    .dataframe thead th {\n",
       "        text-align: right;\n",
       "    }\n",
       "</style>\n",
       "<table border=\"1\" class=\"dataframe\">\n",
       "  <thead>\n",
       "    <tr style=\"text-align: right;\">\n",
       "      <th></th>\n",
       "      <th>case_id</th>\n",
       "      <th>WEEK_NUM</th>\n",
       "      <th>month_decision</th>\n",
       "      <th>weekday_decision</th>\n",
       "      <th>assignmentdate_238D</th>\n",
       "      <th>assignmentdate_4527235D</th>\n",
       "      <th>assignmentdate_4955616D</th>\n",
       "      <th>birthdate_574D</th>\n",
       "      <th>contractssum_5085716L</th>\n",
       "      <th>dateofbirth_337D</th>\n",
       "      <th>...</th>\n",
       "      <th>max_pmts_dpdvalue_108P</th>\n",
       "      <th>max_pmts_pmtsoverdue_635A</th>\n",
       "      <th>max_pmts_date_1107D</th>\n",
       "      <th>max_num_group1_11</th>\n",
       "      <th>max_num_group2</th>\n",
       "      <th>min_pmts_dpdvalue_108P</th>\n",
       "      <th>min_pmts_pmtsoverdue_635A</th>\n",
       "      <th>min_pmts_date_1107D</th>\n",
       "      <th>min_num_group1_11</th>\n",
       "      <th>min_num_group2</th>\n",
       "    </tr>\n",
       "  </thead>\n",
       "  <tbody>\n",
       "    <tr>\n",
       "      <th>0</th>\n",
       "      <td>57543</td>\n",
       "      <td>100</td>\n",
       "      <td>5</td>\n",
       "      <td>5</td>\n",
       "      <td>NaN</td>\n",
       "      <td>NaN</td>\n",
       "      <td>NaN</td>\n",
       "      <td>NaN</td>\n",
       "      <td>151364.00</td>\n",
       "      <td>-14804</td>\n",
       "      <td>...</td>\n",
       "      <td>NaN</td>\n",
       "      <td>NaN</td>\n",
       "      <td>NaN</td>\n",
       "      <td>NaN</td>\n",
       "      <td>NaN</td>\n",
       "      <td>NaN</td>\n",
       "      <td>NaN</td>\n",
       "      <td>NaN</td>\n",
       "      <td>NaN</td>\n",
       "      <td>NaN</td>\n",
       "    </tr>\n",
       "    <tr>\n",
       "      <th>1</th>\n",
       "      <td>57549</td>\n",
       "      <td>100</td>\n",
       "      <td>1</td>\n",
       "      <td>1</td>\n",
       "      <td>NaN</td>\n",
       "      <td>NaN</td>\n",
       "      <td>-1352.0</td>\n",
       "      <td>NaN</td>\n",
       "      <td>1563077.92</td>\n",
       "      <td>-22723</td>\n",
       "      <td>...</td>\n",
       "      <td>NaN</td>\n",
       "      <td>NaN</td>\n",
       "      <td>NaN</td>\n",
       "      <td>NaN</td>\n",
       "      <td>NaN</td>\n",
       "      <td>NaN</td>\n",
       "      <td>NaN</td>\n",
       "      <td>NaN</td>\n",
       "      <td>NaN</td>\n",
       "      <td>NaN</td>\n",
       "    </tr>\n",
       "    <tr>\n",
       "      <th>2</th>\n",
       "      <td>57551</td>\n",
       "      <td>100</td>\n",
       "      <td>11</td>\n",
       "      <td>5</td>\n",
       "      <td>NaN</td>\n",
       "      <td>NaN</td>\n",
       "      <td>NaN</td>\n",
       "      <td>NaN</td>\n",
       "      <td>2926195.30</td>\n",
       "      <td>-14090</td>\n",
       "      <td>...</td>\n",
       "      <td>NaN</td>\n",
       "      <td>NaN</td>\n",
       "      <td>NaN</td>\n",
       "      <td>NaN</td>\n",
       "      <td>NaN</td>\n",
       "      <td>NaN</td>\n",
       "      <td>NaN</td>\n",
       "      <td>NaN</td>\n",
       "      <td>NaN</td>\n",
       "      <td>NaN</td>\n",
       "    </tr>\n",
       "    <tr>\n",
       "      <th>3</th>\n",
       "      <td>57552</td>\n",
       "      <td>100</td>\n",
       "      <td>11</td>\n",
       "      <td>5</td>\n",
       "      <td>NaN</td>\n",
       "      <td>NaN</td>\n",
       "      <td>-740.0</td>\n",
       "      <td>NaN</td>\n",
       "      <td>747031.73</td>\n",
       "      <td>-23768</td>\n",
       "      <td>...</td>\n",
       "      <td>NaN</td>\n",
       "      <td>NaN</td>\n",
       "      <td>NaN</td>\n",
       "      <td>NaN</td>\n",
       "      <td>NaN</td>\n",
       "      <td>NaN</td>\n",
       "      <td>NaN</td>\n",
       "      <td>NaN</td>\n",
       "      <td>NaN</td>\n",
       "      <td>NaN</td>\n",
       "    </tr>\n",
       "    <tr>\n",
       "      <th>4</th>\n",
       "      <td>57569</td>\n",
       "      <td>100</td>\n",
       "      <td>12</td>\n",
       "      <td>1</td>\n",
       "      <td>NaN</td>\n",
       "      <td>NaN</td>\n",
       "      <td>-3720.0</td>\n",
       "      <td>NaN</td>\n",
       "      <td>NaN</td>\n",
       "      <td>-26408</td>\n",
       "      <td>...</td>\n",
       "      <td>NaN</td>\n",
       "      <td>NaN</td>\n",
       "      <td>NaN</td>\n",
       "      <td>NaN</td>\n",
       "      <td>NaN</td>\n",
       "      <td>NaN</td>\n",
       "      <td>NaN</td>\n",
       "      <td>NaN</td>\n",
       "      <td>NaN</td>\n",
       "      <td>NaN</td>\n",
       "    </tr>\n",
       "  </tbody>\n",
       "</table>\n",
       "<p>5 rows × 527 columns</p>\n",
       "</div>"
      ],
      "text/plain": [
       "   case_id  WEEK_NUM  month_decision  weekday_decision  assignmentdate_238D  \\\n",
       "0    57543       100               5                 5                  NaN   \n",
       "1    57549       100               1                 1                  NaN   \n",
       "2    57551       100              11                 5                  NaN   \n",
       "3    57552       100              11                 5                  NaN   \n",
       "4    57569       100              12                 1                  NaN   \n",
       "\n",
       "   assignmentdate_4527235D  assignmentdate_4955616D  birthdate_574D  \\\n",
       "0                      NaN                      NaN             NaN   \n",
       "1                      NaN                  -1352.0             NaN   \n",
       "2                      NaN                      NaN             NaN   \n",
       "3                      NaN                   -740.0             NaN   \n",
       "4                      NaN                  -3720.0             NaN   \n",
       "\n",
       "   contractssum_5085716L  dateofbirth_337D  ...  max_pmts_dpdvalue_108P  \\\n",
       "0              151364.00            -14804  ...                     NaN   \n",
       "1             1563077.92            -22723  ...                     NaN   \n",
       "2             2926195.30            -14090  ...                     NaN   \n",
       "3              747031.73            -23768  ...                     NaN   \n",
       "4                    NaN            -26408  ...                     NaN   \n",
       "\n",
       "   max_pmts_pmtsoverdue_635A  max_pmts_date_1107D  max_num_group1_11  \\\n",
       "0                        NaN                  NaN                NaN   \n",
       "1                        NaN                  NaN                NaN   \n",
       "2                        NaN                  NaN                NaN   \n",
       "3                        NaN                  NaN                NaN   \n",
       "4                        NaN                  NaN                NaN   \n",
       "\n",
       "   max_num_group2  min_pmts_dpdvalue_108P min_pmts_pmtsoverdue_635A  \\\n",
       "0             NaN                     NaN                       NaN   \n",
       "1             NaN                     NaN                       NaN   \n",
       "2             NaN                     NaN                       NaN   \n",
       "3             NaN                     NaN                       NaN   \n",
       "4             NaN                     NaN                       NaN   \n",
       "\n",
       "  min_pmts_date_1107D min_num_group1_11  min_num_group2  \n",
       "0                 NaN               NaN             NaN  \n",
       "1                 NaN               NaN             NaN  \n",
       "2                 NaN               NaN             NaN  \n",
       "3                 NaN               NaN             NaN  \n",
       "4                 NaN               NaN             NaN  \n",
       "\n",
       "[5 rows x 527 columns]"
      ]
     },
     "execution_count": 23,
     "metadata": {},
     "output_type": "execute_result"
    }
   ],
   "source": [
    "df_test, cat_cols = to_pandas(df_test, cat_cols)  # cat_cols was created by train data\n",
    "print(df_test.shape)\n",
    "df_test.head()\n"
   ]
  },
  {
   "cell_type": "code",
   "execution_count": 24,
   "id": "d5506e9f",
   "metadata": {
    "execution": {
     "iopub.execute_input": "2024-05-22T16:54:38.973240Z",
     "iopub.status.busy": "2024-05-22T16:54:38.972814Z",
     "iopub.status.idle": "2024-05-22T16:54:39.375961Z",
     "shell.execute_reply": "2024-05-22T16:54:39.374859Z"
    },
    "papermill": {
     "duration": 0.419934,
     "end_time": "2024-05-22T16:54:39.378306",
     "exception": false,
     "start_time": "2024-05-22T16:54:38.958372",
     "status": "completed"
    },
    "tags": []
   },
   "outputs": [
    {
     "name": "stdout",
     "output_type": "stream",
     "text": [
      "Memory usage of dataframe is 0.04 MB\n",
      "Memory usage after optimization is: 0.03 MB\n",
      "Decreased by 23.5%\n"
     ]
    },
    {
     "data": {
      "text/plain": [
       "3538"
      ]
     },
     "execution_count": 24,
     "metadata": {},
     "output_type": "execute_result"
    }
   ],
   "source": [
    "del data_store\n",
    "df_test = reduce_mem_usage(df_test)\n",
    "gc.collect()"
   ]
  },
  {
   "cell_type": "code",
   "execution_count": 25,
   "id": "787f9093",
   "metadata": {
    "execution": {
     "iopub.execute_input": "2024-05-22T16:54:39.407128Z",
     "iopub.status.busy": "2024-05-22T16:54:39.406712Z",
     "iopub.status.idle": "2024-05-22T16:54:51.629456Z",
     "shell.execute_reply": "2024-05-22T16:54:51.628309Z"
    },
    "papermill": {
     "duration": 12.240065,
     "end_time": "2024-05-22T16:54:51.632206",
     "exception": false,
     "start_time": "2024-05-22T16:54:39.392141",
     "status": "completed"
    },
    "tags": []
   },
   "outputs": [
    {
     "name": "stderr",
     "output_type": "stream",
     "text": [
      "WARNING: Int features without null values at train time contain null values at inference time! Imputing nulls to 0. To avoid this, pass the features as floats during fit!\n",
      "WARNING: Int features with nulls: ['max_birth_259D', 'max_num_group1_8']\n"
     ]
    }
   ],
   "source": [
    "# Prediction\n",
    "X_test = df_test.drop(columns=[\"case_id\", \"WEEK_NUM\"])\n",
    "test_data = TabularDataset(df_test)\n",
    "y_pred = predictor.predict_proba(test_data).iloc[:, 1].values\n",
    "\n"
   ]
  },
  {
   "cell_type": "code",
   "execution_count": 26,
   "id": "761fe4fe",
   "metadata": {
    "execution": {
     "iopub.execute_input": "2024-05-22T16:54:51.661923Z",
     "iopub.status.busy": "2024-05-22T16:54:51.661213Z",
     "iopub.status.idle": "2024-05-22T16:54:51.681455Z",
     "shell.execute_reply": "2024-05-22T16:54:51.680321Z"
    },
    "papermill": {
     "duration": 0.037924,
     "end_time": "2024-05-22T16:54:51.684019",
     "exception": false,
     "start_time": "2024-05-22T16:54:51.646095",
     "status": "completed"
    },
    "tags": []
   },
   "outputs": [
    {
     "name": "stdout",
     "output_type": "stream",
     "text": [
      "Check null:  False\n"
     ]
    }
   ],
   "source": [
    "# Submission\n",
    "df_subm = pd.read_csv(ROOT / \"sample_submission.csv\")\n",
    "df_subm = df_subm.set_index(\"case_id\")\n",
    "df_subm[\"score\"] = y_pred\n",
    "print(\"Check null: \", df_subm[\"score\"].isnull().any())\n",
    "df_subm.head()\n",
    "df_subm.to_csv(\"submission.csv\")"
   ]
  },
  {
   "cell_type": "code",
   "execution_count": null,
   "id": "ea76d5ba",
   "metadata": {
    "papermill": {
     "duration": 0.013618,
     "end_time": "2024-05-22T16:54:51.711716",
     "exception": false,
     "start_time": "2024-05-22T16:54:51.698098",
     "status": "completed"
    },
    "tags": []
   },
   "outputs": [],
   "source": []
  }
 ],
 "metadata": {
  "kaggle": {
   "accelerator": "none",
   "dataSources": [
    {
     "databundleVersionId": 7921029,
     "sourceId": 50160,
     "sourceType": "competition"
    },
    {
     "sourceId": 162314401,
     "sourceType": "kernelVersion"
    },
    {
     "sourceId": 162317063,
     "sourceType": "kernelVersion"
    },
    {
     "sourceId": 162351144,
     "sourceType": "kernelVersion"
    }
   ],
   "dockerImageVersionId": 30698,
   "isGpuEnabled": false,
   "isInternetEnabled": false,
   "language": "python",
   "sourceType": "notebook"
  },
  "kernelspec": {
   "display_name": "Python 3",
   "language": "python",
   "name": "python3"
  },
  "language_info": {
   "codemirror_mode": {
    "name": "ipython",
    "version": 3
   },
   "file_extension": ".py",
   "mimetype": "text/x-python",
   "name": "python",
   "nbconvert_exporter": "python",
   "pygments_lexer": "ipython3",
   "version": "3.10.13"
  },
  "papermill": {
   "default_parameters": {},
   "duration": 392.321116,
   "end_time": "2024-05-22T16:54:54.569951",
   "environment_variables": {},
   "exception": null,
   "input_path": "__notebook__.ipynb",
   "output_path": "__notebook__.ipynb",
   "parameters": {},
   "start_time": "2024-05-22T16:48:22.248835",
   "version": "2.5.0"
  }
 },
 "nbformat": 4,
 "nbformat_minor": 5
}
