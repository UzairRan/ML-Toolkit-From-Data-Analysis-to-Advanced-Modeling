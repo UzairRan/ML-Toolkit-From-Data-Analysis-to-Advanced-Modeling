{
 "cells": [
  {
   "cell_type": "code",
   "execution_count": 1,
   "id": "e4e3c1cc",
   "metadata": {
    "_cell_guid": "b1076dfc-b9ad-4769-8c92-a6c4dae69d19",
    "_uuid": "8f2839f25d086af736a60e9eeb907d3b93b6e0e5",
    "execution": {
     "iopub.execute_input": "2023-11-19T15:28:32.058235Z",
     "iopub.status.busy": "2023-11-19T15:28:32.057777Z",
     "iopub.status.idle": "2023-11-19T15:28:34.137223Z",
     "shell.execute_reply": "2023-11-19T15:28:34.136125Z"
    },
    "papermill": {
     "duration": 2.089728,
     "end_time": "2023-11-19T15:28:34.140231",
     "exception": false,
     "start_time": "2023-11-19T15:28:32.050503",
     "status": "completed"
    },
    "tags": []
   },
   "outputs": [],
   "source": [
    "# Import necessary libraries\n",
    "import pandas as pd\n",
    "import numpy as np\n",
    "from sklearn.model_selection import train_test_split, RandomizedSearchCV\n",
    "from xgboost import XGBRegressor\n",
    "from sklearn.metrics import median_absolute_error\n"
   ]
  },
  {
   "cell_type": "code",
   "execution_count": 2,
   "id": "1b69bba5",
   "metadata": {
    "execution": {
     "iopub.execute_input": "2023-11-19T15:28:34.153324Z",
     "iopub.status.busy": "2023-11-19T15:28:34.152704Z",
     "iopub.status.idle": "2023-11-19T15:28:34.253478Z",
     "shell.execute_reply": "2023-11-19T15:28:34.252125Z"
    },
    "papermill": {
     "duration": 0.109643,
     "end_time": "2023-11-19T15:28:34.256451",
     "exception": false,
     "start_time": "2023-11-19T15:28:34.146808",
     "status": "completed"
    },
    "tags": []
   },
   "outputs": [],
   "source": [
    "# Load the datasets\n",
    "train_data = pd.read_csv('/kaggle/input/playground-series-s3e25/train.csv')\n",
    "test_data = pd.read_csv('/kaggle/input/playground-series-s3e25/test.csv')\n",
    "submission_sample = pd.read_csv('/kaggle/input/playground-series-s3e25/sample_submission.csv')\n"
   ]
  },
  {
   "cell_type": "code",
   "execution_count": 3,
   "id": "9807cf26",
   "metadata": {
    "execution": {
     "iopub.execute_input": "2023-11-19T15:28:34.267449Z",
     "iopub.status.busy": "2023-11-19T15:28:34.266995Z",
     "iopub.status.idle": "2023-11-19T15:28:34.288981Z",
     "shell.execute_reply": "2023-11-19T15:28:34.288094Z"
    },
    "papermill": {
     "duration": 0.030455,
     "end_time": "2023-11-19T15:28:34.291399",
     "exception": false,
     "start_time": "2023-11-19T15:28:34.260944",
     "status": "completed"
    },
    "tags": []
   },
   "outputs": [],
   "source": [
    "# Data Preprocessing\n",
    "columns_to_drop = ['id']\n",
    "train_data = train_data.drop(columns=columns_to_drop)\n",
    "test_data = test_data.drop(columns=columns_to_drop)"
   ]
  },
  {
   "cell_type": "code",
   "execution_count": 4,
   "id": "c867e47a",
   "metadata": {
    "execution": {
     "iopub.execute_input": "2023-11-19T15:28:34.302714Z",
     "iopub.status.busy": "2023-11-19T15:28:34.301566Z",
     "iopub.status.idle": "2023-11-19T15:28:34.308655Z",
     "shell.execute_reply": "2023-11-19T15:28:34.307442Z"
    },
    "papermill": {
     "duration": 0.015841,
     "end_time": "2023-11-19T15:28:34.311681",
     "exception": false,
     "start_time": "2023-11-19T15:28:34.295840",
     "status": "completed"
    },
    "tags": []
   },
   "outputs": [],
   "source": [
    "# Separate features and target variable\n",
    "X = train_data.drop(columns=['Hardness'])\n",
    "y = train_data['Hardness']\n"
   ]
  },
  {
   "cell_type": "code",
   "execution_count": 5,
   "id": "7385fa7d",
   "metadata": {
    "execution": {
     "iopub.execute_input": "2023-11-19T15:28:34.322528Z",
     "iopub.status.busy": "2023-11-19T15:28:34.321813Z",
     "iopub.status.idle": "2023-11-19T15:28:34.330743Z",
     "shell.execute_reply": "2023-11-19T15:28:34.329713Z"
    },
    "papermill": {
     "duration": 0.017021,
     "end_time": "2023-11-19T15:28:34.333248",
     "exception": false,
     "start_time": "2023-11-19T15:28:34.316227",
     "status": "completed"
    },
    "tags": []
   },
   "outputs": [],
   "source": [
    "# Split the data into training and validation sets\n",
    "X_train, X_val, y_train, y_val = train_test_split(X, y, test_size=0.2, random_state=42)"
   ]
  },
  {
   "cell_type": "code",
   "execution_count": 6,
   "id": "b6d42705",
   "metadata": {
    "execution": {
     "iopub.execute_input": "2023-11-19T15:28:34.344326Z",
     "iopub.status.busy": "2023-11-19T15:28:34.343557Z",
     "iopub.status.idle": "2023-11-19T15:28:57.741876Z",
     "shell.execute_reply": "2023-11-19T15:28:57.740584Z"
    },
    "papermill": {
     "duration": 23.407342,
     "end_time": "2023-11-19T15:28:57.744961",
     "exception": false,
     "start_time": "2023-11-19T15:28:34.337619",
     "status": "completed"
    },
    "tags": []
   },
   "outputs": [],
   "source": [
    "# Model Selection and Training with Hyperparameter Tuning\n",
    "param_dist = {\n",
    "    'n_estimators': [800, 1000],\n",
    "    'learning_rate': [0.01, 0.05],\n",
    "    'max_depth': [5, 7],\n",
    "    'min_child_weight': [1, 3]\n",
    "}\n",
    "\n",
    "random_search = RandomizedSearchCV(\n",
    "    XGBRegressor(random_state=42),\n",
    "    param_distributions=param_dist,\n",
    "    n_iter=5,  # Adjust the number of iterations as needed\n",
    "    cv=3,\n",
    "    scoring='neg_median_absolute_error',\n",
    "    n_jobs=-1\n",
    ")\n",
    "\n",
    "random_search.fit(X_train, y_train)\n",
    "\n",
    "best_model = random_search.best_estimator_"
   ]
  },
  {
   "cell_type": "code",
   "execution_count": 7,
   "id": "c52740f0",
   "metadata": {
    "execution": {
     "iopub.execute_input": "2023-11-19T15:28:57.756639Z",
     "iopub.status.busy": "2023-11-19T15:28:57.756234Z",
     "iopub.status.idle": "2023-11-19T15:28:57.796669Z",
     "shell.execute_reply": "2023-11-19T15:28:57.795711Z"
    },
    "papermill": {
     "duration": 0.0495,
     "end_time": "2023-11-19T15:28:57.799601",
     "exception": false,
     "start_time": "2023-11-19T15:28:57.750101",
     "status": "completed"
    },
    "tags": []
   },
   "outputs": [
    {
     "name": "stdout",
     "output_type": "stream",
     "text": [
      "Median Absolute Error on Validation Set: 0.6611325502395631\n"
     ]
    }
   ],
   "source": [
    "# Model Evaluation\n",
    "val_predictions = best_model.predict(X_val)\n",
    "medae = median_absolute_error(y_val, val_predictions)\n",
    "print(f'Median Absolute Error on Validation Set: {medae}')"
   ]
  },
  {
   "cell_type": "code",
   "execution_count": 8,
   "id": "37fcb115",
   "metadata": {
    "execution": {
     "iopub.execute_input": "2023-11-19T15:28:57.810940Z",
     "iopub.status.busy": "2023-11-19T15:28:57.810547Z",
     "iopub.status.idle": "2023-11-19T15:28:57.894887Z",
     "shell.execute_reply": "2023-11-19T15:28:57.893924Z"
    },
    "papermill": {
     "duration": 0.093502,
     "end_time": "2023-11-19T15:28:57.898104",
     "exception": false,
     "start_time": "2023-11-19T15:28:57.804602",
     "status": "completed"
    },
    "tags": []
   },
   "outputs": [],
   "source": [
    "# Prediction on the Test Set\n",
    "test_predictions = best_model.predict(test_data)"
   ]
  },
  {
   "cell_type": "code",
   "execution_count": 9,
   "id": "3f51cef9",
   "metadata": {
    "execution": {
     "iopub.execute_input": "2023-11-19T15:28:57.910805Z",
     "iopub.status.busy": "2023-11-19T15:28:57.909824Z",
     "iopub.status.idle": "2023-11-19T15:28:57.942742Z",
     "shell.execute_reply": "2023-11-19T15:28:57.941817Z"
    },
    "papermill": {
     "duration": 0.042213,
     "end_time": "2023-11-19T15:28:57.945414",
     "exception": false,
     "start_time": "2023-11-19T15:28:57.903201",
     "status": "completed"
    },
    "tags": []
   },
   "outputs": [],
   "source": [
    "# Create Submission File\n",
    "submission_df = pd.DataFrame({'id': submission_sample['id'], 'Hardness': test_predictions})\n",
    "submission_df.to_csv('improved_submission.csv', index=False)"
   ]
  },
  {
   "cell_type": "code",
   "execution_count": 10,
   "id": "68411cbc",
   "metadata": {
    "execution": {
     "iopub.execute_input": "2023-11-19T15:28:57.957122Z",
     "iopub.status.busy": "2023-11-19T15:28:57.955905Z",
     "iopub.status.idle": "2023-11-19T15:28:57.967095Z",
     "shell.execute_reply": "2023-11-19T15:28:57.965722Z"
    },
    "papermill": {
     "duration": 0.019639,
     "end_time": "2023-11-19T15:28:57.969615",
     "exception": false,
     "start_time": "2023-11-19T15:28:57.949976",
     "status": "completed"
    },
    "tags": []
   },
   "outputs": [
    {
     "name": "stdout",
     "output_type": "stream",
     "text": [
      "      id  Hardness\n",
      "0  10407  2.725334\n",
      "1  10408  2.662307\n",
      "2  10409  5.669130\n",
      "3  10410  3.670359\n",
      "4  10411  5.304950\n"
     ]
    }
   ],
   "source": [
    "# Display the first few rows of the improved submission file\n",
    "print(submission_df.head())"
   ]
  }
 ],
 "metadata": {
  "kaggle": {
   "accelerator": "none",
   "dataSources": [
    {
     "databundleVersionId": 6989718,
     "sourceId": 60892,
     "sourceType": "competition"
    }
   ],
   "dockerImageVersionId": 30587,
   "isGpuEnabled": false,
   "isInternetEnabled": true,
   "language": "python",
   "sourceType": "notebook"
  },
  "kernelspec": {
   "display_name": "Python 3",
   "language": "python",
   "name": "python3"
  },
  "language_info": {
   "codemirror_mode": {
    "name": "ipython",
    "version": 3
   },
   "file_extension": ".py",
   "mimetype": "text/x-python",
   "name": "python",
   "nbconvert_exporter": "python",
   "pygments_lexer": "ipython3",
   "version": "3.10.12"
  },
  "papermill": {
   "default_parameters": {},
   "duration": 32.136044,
   "end_time": "2023-11-19T15:29:00.594758",
   "environment_variables": {},
   "exception": null,
   "input_path": "__notebook__.ipynb",
   "output_path": "__notebook__.ipynb",
   "parameters": {},
   "start_time": "2023-11-19T15:28:28.458714",
   "version": "2.4.0"
  }
 },
 "nbformat": 4,
 "nbformat_minor": 5
}
