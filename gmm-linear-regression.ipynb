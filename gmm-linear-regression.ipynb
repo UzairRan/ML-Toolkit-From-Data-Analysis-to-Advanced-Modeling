{
 "cells": [
  {
   "cell_type": "code",
   "execution_count": 1,
   "id": "adb44e8e",
   "metadata": {
    "_cell_guid": "b1076dfc-b9ad-4769-8c92-a6c4dae69d19",
    "_uuid": "8f2839f25d086af736a60e9eeb907d3b93b6e0e5",
    "execution": {
     "iopub.execute_input": "2024-05-31T11:23:33.335321Z",
     "iopub.status.busy": "2024-05-31T11:23:33.334888Z",
     "iopub.status.idle": "2024-05-31T11:23:36.162475Z",
     "shell.execute_reply": "2024-05-31T11:23:36.161284Z"
    },
    "papermill": {
     "duration": 2.837549,
     "end_time": "2024-05-31T11:23:36.165702",
     "exception": false,
     "start_time": "2024-05-31T11:23:33.328153",
     "status": "completed"
    },
    "tags": []
   },
   "outputs": [],
   "source": [
    "import pandas as pd\n",
    "import numpy as np\n",
    "from sklearn.preprocessing import StandardScaler\n",
    "from sklearn.mixture import GaussianMixture\n",
    "from sklearn.linear_model import LinearRegression\n",
    "from sklearn.metrics import mean_squared_error\n"
   ]
  },
  {
   "cell_type": "code",
   "execution_count": 2,
   "id": "75c91b80",
   "metadata": {
    "execution": {
     "iopub.execute_input": "2024-05-31T11:23:36.177387Z",
     "iopub.status.busy": "2024-05-31T11:23:36.176811Z",
     "iopub.status.idle": "2024-05-31T11:23:40.206024Z",
     "shell.execute_reply": "2024-05-31T11:23:40.204951Z"
    },
    "papermill": {
     "duration": 4.038038,
     "end_time": "2024-05-31T11:23:40.208772",
     "exception": false,
     "start_time": "2024-05-31T11:23:36.170734",
     "status": "completed"
    },
    "tags": []
   },
   "outputs": [],
   "source": [
    "# Load the datasets\n",
    "train_data = pd.read_csv(\"/kaggle/input/playground-series-s4e5/train.csv\")\n",
    "test_data = pd.read_csv(\"/kaggle/input/playground-series-s4e5/test.csv\")"
   ]
  },
  {
   "cell_type": "code",
   "execution_count": 3,
   "id": "1272f11d",
   "metadata": {
    "execution": {
     "iopub.execute_input": "2024-05-31T11:23:40.219935Z",
     "iopub.status.busy": "2024-05-31T11:23:40.219487Z",
     "iopub.status.idle": "2024-05-31T11:23:40.362573Z",
     "shell.execute_reply": "2024-05-31T11:23:40.361338Z"
    },
    "papermill": {
     "duration": 0.152105,
     "end_time": "2024-05-31T11:23:40.365618",
     "exception": false,
     "start_time": "2024-05-31T11:23:40.213513",
     "status": "completed"
    },
    "tags": []
   },
   "outputs": [],
   "source": [
    "# Extract features and target variable from training data\n",
    "X_train = train_data.drop(columns=['id', 'FloodProbability'])\n",
    "y_train = train_data['FloodProbability']\n",
    "\n",
    "# Extract features from test data\n",
    "X_test = test_data.drop(columns=['id'])"
   ]
  },
  {
   "cell_type": "code",
   "execution_count": 4,
   "id": "f7404777",
   "metadata": {
    "execution": {
     "iopub.execute_input": "2024-05-31T11:23:40.376773Z",
     "iopub.status.busy": "2024-05-31T11:23:40.376370Z",
     "iopub.status.idle": "2024-05-31T11:23:40.861542Z",
     "shell.execute_reply": "2024-05-31T11:23:40.860301Z"
    },
    "papermill": {
     "duration": 0.494174,
     "end_time": "2024-05-31T11:23:40.864563",
     "exception": false,
     "start_time": "2024-05-31T11:23:40.370389",
     "status": "completed"
    },
    "tags": []
   },
   "outputs": [],
   "source": [
    "# Feature Scaling\n",
    "scaler = StandardScaler()\n",
    "X_train_scaled = scaler.fit_transform(X_train)\n",
    "X_test_scaled = scaler.transform(X_test)\n"
   ]
  },
  {
   "cell_type": "code",
   "execution_count": 5,
   "id": "cd6bc455",
   "metadata": {
    "execution": {
     "iopub.execute_input": "2024-05-31T11:23:40.875941Z",
     "iopub.status.busy": "2024-05-31T11:23:40.875469Z",
     "iopub.status.idle": "2024-05-31T11:24:21.885209Z",
     "shell.execute_reply": "2024-05-31T11:24:21.883974Z"
    },
    "papermill": {
     "duration": 41.02353,
     "end_time": "2024-05-31T11:24:21.892949",
     "exception": false,
     "start_time": "2024-05-31T11:23:40.869419",
     "status": "completed"
    },
    "tags": []
   },
   "outputs": [
    {
     "data": {
      "text/html": [
       "<style>#sk-container-id-1 {color: black;background-color: white;}#sk-container-id-1 pre{padding: 0;}#sk-container-id-1 div.sk-toggleable {background-color: white;}#sk-container-id-1 label.sk-toggleable__label {cursor: pointer;display: block;width: 100%;margin-bottom: 0;padding: 0.3em;box-sizing: border-box;text-align: center;}#sk-container-id-1 label.sk-toggleable__label-arrow:before {content: \"▸\";float: left;margin-right: 0.25em;color: #696969;}#sk-container-id-1 label.sk-toggleable__label-arrow:hover:before {color: black;}#sk-container-id-1 div.sk-estimator:hover label.sk-toggleable__label-arrow:before {color: black;}#sk-container-id-1 div.sk-toggleable__content {max-height: 0;max-width: 0;overflow: hidden;text-align: left;background-color: #f0f8ff;}#sk-container-id-1 div.sk-toggleable__content pre {margin: 0.2em;color: black;border-radius: 0.25em;background-color: #f0f8ff;}#sk-container-id-1 input.sk-toggleable__control:checked~div.sk-toggleable__content {max-height: 200px;max-width: 100%;overflow: auto;}#sk-container-id-1 input.sk-toggleable__control:checked~label.sk-toggleable__label-arrow:before {content: \"▾\";}#sk-container-id-1 div.sk-estimator input.sk-toggleable__control:checked~label.sk-toggleable__label {background-color: #d4ebff;}#sk-container-id-1 div.sk-label input.sk-toggleable__control:checked~label.sk-toggleable__label {background-color: #d4ebff;}#sk-container-id-1 input.sk-hidden--visually {border: 0;clip: rect(1px 1px 1px 1px);clip: rect(1px, 1px, 1px, 1px);height: 1px;margin: -1px;overflow: hidden;padding: 0;position: absolute;width: 1px;}#sk-container-id-1 div.sk-estimator {font-family: monospace;background-color: #f0f8ff;border: 1px dotted black;border-radius: 0.25em;box-sizing: border-box;margin-bottom: 0.5em;}#sk-container-id-1 div.sk-estimator:hover {background-color: #d4ebff;}#sk-container-id-1 div.sk-parallel-item::after {content: \"\";width: 100%;border-bottom: 1px solid gray;flex-grow: 1;}#sk-container-id-1 div.sk-label:hover label.sk-toggleable__label {background-color: #d4ebff;}#sk-container-id-1 div.sk-serial::before {content: \"\";position: absolute;border-left: 1px solid gray;box-sizing: border-box;top: 0;bottom: 0;left: 50%;z-index: 0;}#sk-container-id-1 div.sk-serial {display: flex;flex-direction: column;align-items: center;background-color: white;padding-right: 0.2em;padding-left: 0.2em;position: relative;}#sk-container-id-1 div.sk-item {position: relative;z-index: 1;}#sk-container-id-1 div.sk-parallel {display: flex;align-items: stretch;justify-content: center;background-color: white;position: relative;}#sk-container-id-1 div.sk-item::before, #sk-container-id-1 div.sk-parallel-item::before {content: \"\";position: absolute;border-left: 1px solid gray;box-sizing: border-box;top: 0;bottom: 0;left: 50%;z-index: -1;}#sk-container-id-1 div.sk-parallel-item {display: flex;flex-direction: column;z-index: 1;position: relative;background-color: white;}#sk-container-id-1 div.sk-parallel-item:first-child::after {align-self: flex-end;width: 50%;}#sk-container-id-1 div.sk-parallel-item:last-child::after {align-self: flex-start;width: 50%;}#sk-container-id-1 div.sk-parallel-item:only-child::after {width: 0;}#sk-container-id-1 div.sk-dashed-wrapped {border: 1px dashed gray;margin: 0 0.4em 0.5em 0.4em;box-sizing: border-box;padding-bottom: 0.4em;background-color: white;}#sk-container-id-1 div.sk-label label {font-family: monospace;font-weight: bold;display: inline-block;line-height: 1.2em;}#sk-container-id-1 div.sk-label-container {text-align: center;}#sk-container-id-1 div.sk-container {/* jupyter's `normalize.less` sets `[hidden] { display: none; }` but bootstrap.min.css set `[hidden] { display: none !important; }` so we also need the `!important` here to be able to override the default hidden behavior on the sphinx rendered scikit-learn.org. See: https://github.com/scikit-learn/scikit-learn/issues/21755 */display: inline-block !important;position: relative;}#sk-container-id-1 div.sk-text-repr-fallback {display: none;}</style><div id=\"sk-container-id-1\" class=\"sk-top-container\"><div class=\"sk-text-repr-fallback\"><pre>GaussianMixture(n_components=5, random_state=42)</pre><b>In a Jupyter environment, please rerun this cell to show the HTML representation or trust the notebook. <br />On GitHub, the HTML representation is unable to render, please try loading this page with nbviewer.org.</b></div><div class=\"sk-container\" hidden><div class=\"sk-item\"><div class=\"sk-estimator sk-toggleable\"><input class=\"sk-toggleable__control sk-hidden--visually\" id=\"sk-estimator-id-1\" type=\"checkbox\" checked><label for=\"sk-estimator-id-1\" class=\"sk-toggleable__label sk-toggleable__label-arrow\">GaussianMixture</label><div class=\"sk-toggleable__content\"><pre>GaussianMixture(n_components=5, random_state=42)</pre></div></div></div></div></div>"
      ],
      "text/plain": [
       "GaussianMixture(n_components=5, random_state=42)"
      ]
     },
     "execution_count": 5,
     "metadata": {},
     "output_type": "execute_result"
    }
   ],
   "source": [
    "# Initialize and train the GMM model\n",
    "gmm_model = GaussianMixture(n_components=5, random_state=42)\n",
    "gmm_model.fit(X_train_scaled)"
   ]
  },
  {
   "cell_type": "code",
   "execution_count": 6,
   "id": "8d9a6329",
   "metadata": {
    "execution": {
     "iopub.execute_input": "2024-05-31T11:24:21.905285Z",
     "iopub.status.busy": "2024-05-31T11:24:21.904833Z",
     "iopub.status.idle": "2024-05-31T11:24:24.026527Z",
     "shell.execute_reply": "2024-05-31T11:24:24.025346Z"
    },
    "papermill": {
     "duration": 2.131244,
     "end_time": "2024-05-31T11:24:24.029452",
     "exception": false,
     "start_time": "2024-05-31T11:24:21.898208",
     "status": "completed"
    },
    "tags": []
   },
   "outputs": [],
   "source": [
    "# Predict cluster assignments for training data\n",
    "train_cluster_probs = gmm_model.predict_proba(X_train_scaled)\n"
   ]
  },
  {
   "cell_type": "code",
   "execution_count": 7,
   "id": "88dceadc",
   "metadata": {
    "execution": {
     "iopub.execute_input": "2024-05-31T11:24:24.041070Z",
     "iopub.status.busy": "2024-05-31T11:24:24.040649Z",
     "iopub.status.idle": "2024-05-31T11:24:25.993347Z",
     "shell.execute_reply": "2024-05-31T11:24:25.991747Z"
    },
    "papermill": {
     "duration": 1.962507,
     "end_time": "2024-05-31T11:24:25.996920",
     "exception": false,
     "start_time": "2024-05-31T11:24:24.034413",
     "status": "completed"
    },
    "tags": []
   },
   "outputs": [],
   "source": [
    "# Use cluster assignments to train separate Linear Regression models\n",
    "regression_models = []\n",
    "for i in range(gmm_model.n_components):\n",
    "    cluster_indices = np.where(train_cluster_probs.argmax(axis=1) == i)[0]\n",
    "    cluster_X_train = X_train_scaled[cluster_indices]\n",
    "    cluster_y_train = y_train.iloc[cluster_indices]\n",
    "    regression_model = LinearRegression()\n",
    "    regression_model.fit(cluster_X_train, cluster_y_train)\n",
    "    regression_models.append(regression_model)"
   ]
  },
  {
   "cell_type": "code",
   "execution_count": 8,
   "id": "a9af0aa1",
   "metadata": {
    "execution": {
     "iopub.execute_input": "2024-05-31T11:24:26.014201Z",
     "iopub.status.busy": "2024-05-31T11:24:26.013452Z",
     "iopub.status.idle": "2024-05-31T11:24:33.045777Z",
     "shell.execute_reply": "2024-05-31T11:24:33.044120Z"
    },
    "papermill": {
     "duration": 7.046843,
     "end_time": "2024-05-31T11:24:33.050660",
     "exception": false,
     "start_time": "2024-05-31T11:24:26.003817",
     "status": "completed"
    },
    "tags": []
   },
   "outputs": [],
   "source": [
    "# Predict using the GMM-based regression ensemble\n",
    "y_test_pred_gmm = np.zeros(len(X_test_scaled))\n",
    "for i, regression_model in enumerate(regression_models):\n",
    "    cluster_indices = np.where(gmm_model.predict(X_test_scaled) == i)[0]\n",
    "    cluster_X_test = X_test_scaled[cluster_indices]\n",
    "    y_test_pred_gmm[cluster_indices] = regression_model.predict(cluster_X_test)"
   ]
  },
  {
   "cell_type": "code",
   "execution_count": 9,
   "id": "5ef5d41d",
   "metadata": {
    "execution": {
     "iopub.execute_input": "2024-05-31T11:24:33.074141Z",
     "iopub.status.busy": "2024-05-31T11:24:33.073350Z",
     "iopub.status.idle": "2024-05-31T11:24:33.626927Z",
     "shell.execute_reply": "2024-05-31T11:24:33.625325Z"
    },
    "papermill": {
     "duration": 0.570702,
     "end_time": "2024-05-31T11:24:33.631807",
     "exception": false,
     "start_time": "2024-05-31T11:24:33.061105",
     "status": "completed"
    },
    "tags": []
   },
   "outputs": [
    {
     "name": "stdout",
     "output_type": "stream",
     "text": [
      "GMM Train MSE: 0.0004036251138017552\n"
     ]
    }
   ],
   "source": [
    "# Evaluate performance on training data\n",
    "y_train_pred_gmm = np.zeros(len(X_train_scaled))\n",
    "for i, regression_model in enumerate(regression_models):\n",
    "    cluster_indices = np.where(train_cluster_probs.argmax(axis=1) == i)[0]\n",
    "    cluster_X_train = X_train_scaled[cluster_indices]\n",
    "    y_train_pred_gmm[cluster_indices] = regression_model.predict(cluster_X_train)\n",
    "\n",
    "gmm_train_mse = mean_squared_error(y_train, y_train_pred_gmm)\n",
    "print(f'GMM Train MSE: {gmm_train_mse}')"
   ]
  },
  {
   "cell_type": "code",
   "execution_count": 10,
   "id": "b5255ab9",
   "metadata": {
    "execution": {
     "iopub.execute_input": "2024-05-31T11:24:33.655074Z",
     "iopub.status.busy": "2024-05-31T11:24:33.654326Z",
     "iopub.status.idle": "2024-05-31T11:24:36.131738Z",
     "shell.execute_reply": "2024-05-31T11:24:36.130141Z"
    },
    "papermill": {
     "duration": 2.492453,
     "end_time": "2024-05-31T11:24:36.134633",
     "exception": false,
     "start_time": "2024-05-31T11:24:33.642180",
     "status": "completed"
    },
    "tags": []
   },
   "outputs": [
    {
     "name": "stdout",
     "output_type": "stream",
     "text": [
      "Submission file saved to 'submission.csv'.\n"
     ]
    }
   ],
   "source": [
    "# Prepare submission file\n",
    "submission = pd.DataFrame({\n",
    "    'id': test_data['id'],\n",
    "    'FloodProbability': y_test_pred_gmm\n",
    "})\n",
    "submission.to_csv('submission.csv', index=False)\n",
    "\n",
    "print(\"Submission file saved to 'submission.csv'.\")"
   ]
  },
  {
   "cell_type": "code",
   "execution_count": null,
   "id": "ceea1d75",
   "metadata": {
    "papermill": {
     "duration": 0.004946,
     "end_time": "2024-05-31T11:24:36.144782",
     "exception": false,
     "start_time": "2024-05-31T11:24:36.139836",
     "status": "completed"
    },
    "tags": []
   },
   "outputs": [],
   "source": []
  }
 ],
 "metadata": {
  "kaggle": {
   "accelerator": "none",
   "dataSources": [
    {
     "databundleVersionId": 8121328,
     "sourceId": 73278,
     "sourceType": "competition"
    }
   ],
   "dockerImageVersionId": 30715,
   "isGpuEnabled": false,
   "isInternetEnabled": true,
   "language": "python",
   "sourceType": "notebook"
  },
  "kernelspec": {
   "display_name": "Python 3",
   "language": "python",
   "name": "python3"
  },
  "language_info": {
   "codemirror_mode": {
    "name": "ipython",
    "version": 3
   },
   "file_extension": ".py",
   "mimetype": "text/x-python",
   "name": "python",
   "nbconvert_exporter": "python",
   "pygments_lexer": "ipython3",
   "version": "3.10.13"
  },
  "papermill": {
   "default_parameters": {},
   "duration": 66.635312,
   "end_time": "2024-05-31T11:24:36.772086",
   "environment_variables": {},
   "exception": null,
   "input_path": "__notebook__.ipynb",
   "output_path": "__notebook__.ipynb",
   "parameters": {},
   "start_time": "2024-05-31T11:23:30.136774",
   "version": "2.5.0"
  }
 },
 "nbformat": 4,
 "nbformat_minor": 5
}
