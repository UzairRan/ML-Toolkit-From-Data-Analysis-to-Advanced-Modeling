{
 "cells": [
  {
   "cell_type": "code",
   "execution_count": 1,
   "id": "82f404e5",
   "metadata": {
    "_cell_guid": "b1076dfc-b9ad-4769-8c92-a6c4dae69d19",
    "_uuid": "8f2839f25d086af736a60e9eeb907d3b93b6e0e5",
    "execution": {
     "iopub.execute_input": "2024-02-29T14:25:57.828763Z",
     "iopub.status.busy": "2024-02-29T14:25:57.828359Z",
     "iopub.status.idle": "2024-02-29T14:26:01.226781Z",
     "shell.execute_reply": "2024-02-29T14:26:01.225554Z"
    },
    "papermill": {
     "duration": 3.407074,
     "end_time": "2024-02-29T14:26:01.229452",
     "exception": false,
     "start_time": "2024-02-29T14:25:57.822378",
     "status": "completed"
    },
    "tags": []
   },
   "outputs": [],
   "source": [
    "import pandas as pd\n",
    "import numpy as np\n",
    "from sklearn.preprocessing import LabelEncoder, StandardScaler\n",
    "from sklearn.model_selection import RepeatedStratifiedKFold\n",
    "from sklearn.metrics import accuracy_score\n",
    "import lightgbm as lgb\n",
    "import xgboost as xgb\n"
   ]
  },
  {
   "cell_type": "code",
   "execution_count": 2,
   "id": "ec0ab3e9",
   "metadata": {
    "execution": {
     "iopub.execute_input": "2024-02-29T14:26:01.239992Z",
     "iopub.status.busy": "2024-02-29T14:26:01.239417Z",
     "iopub.status.idle": "2024-02-29T14:26:01.437761Z",
     "shell.execute_reply": "2024-02-29T14:26:01.436569Z"
    },
    "papermill": {
     "duration": 0.206487,
     "end_time": "2024-02-29T14:26:01.440354",
     "exception": false,
     "start_time": "2024-02-29T14:26:01.233867",
     "status": "completed"
    },
    "tags": []
   },
   "outputs": [],
   "source": [
    "# Load Data\n",
    "train_data = pd.read_csv(\"/kaggle/input/playground-series-s4e2/train.csv\")\n",
    "test_data = pd.read_csv(\"/kaggle/input/playground-series-s4e2/test.csv\")\n",
    "original_data = pd.read_csv(\"/kaggle/input/obesity-or-cvd-risk-classifyregressorcluster/ObesityDataSet.csv\")\n",
    "sample_submission_data = pd.read_csv(\"/kaggle/input/playground-series-s4e2/sample_submission.csv\")\n",
    "\n"
   ]
  },
  {
   "cell_type": "code",
   "execution_count": 3,
   "id": "131f4fb8",
   "metadata": {
    "execution": {
     "iopub.execute_input": "2024-02-29T14:26:01.450605Z",
     "iopub.status.busy": "2024-02-29T14:26:01.449840Z",
     "iopub.status.idle": "2024-02-29T14:26:01.503733Z",
     "shell.execute_reply": "2024-02-29T14:26:01.502459Z"
    },
    "papermill": {
     "duration": 0.061876,
     "end_time": "2024-02-29T14:26:01.506401",
     "exception": false,
     "start_time": "2024-02-29T14:26:01.444525",
     "status": "completed"
    },
    "tags": []
   },
   "outputs": [],
   "source": [
    "# Merge Data\n",
    "train_data = train_data.drop(\"id\", axis=1)\n",
    "train_data = pd.concat([train_data, original_data], ignore_index=True).drop_duplicates()\n",
    "\n"
   ]
  },
  {
   "cell_type": "code",
   "execution_count": 4,
   "id": "dbc1d767",
   "metadata": {
    "execution": {
     "iopub.execute_input": "2024-02-29T14:26:01.516958Z",
     "iopub.status.busy": "2024-02-29T14:26:01.516011Z",
     "iopub.status.idle": "2024-02-29T14:26:01.536860Z",
     "shell.execute_reply": "2024-02-29T14:26:01.535590Z"
    },
    "papermill": {
     "duration": 0.029151,
     "end_time": "2024-02-29T14:26:01.539771",
     "exception": false,
     "start_time": "2024-02-29T14:26:01.510620",
     "status": "completed"
    },
    "tags": []
   },
   "outputs": [],
   "source": [
    "# Feature Scaling\n",
    "scaler = StandardScaler()\n",
    "num_cols = list(train_data.select_dtypes(exclude=['object']).columns)\n",
    "train_data[num_cols] = scaler.fit_transform(train_data[num_cols])\n",
    "test_data[num_cols] = scaler.transform(test_data[num_cols])\n",
    "\n"
   ]
  },
  {
   "cell_type": "code",
   "execution_count": 5,
   "id": "e1c3280b",
   "metadata": {
    "execution": {
     "iopub.execute_input": "2024-02-29T14:26:01.549845Z",
     "iopub.status.busy": "2024-02-29T14:26:01.549450Z",
     "iopub.status.idle": "2024-02-29T14:26:01.621807Z",
     "shell.execute_reply": "2024-02-29T14:26:01.620637Z"
    },
    "papermill": {
     "duration": 0.080288,
     "end_time": "2024-02-29T14:26:01.624290",
     "exception": false,
     "start_time": "2024-02-29T14:26:01.544002",
     "status": "completed"
    },
    "tags": []
   },
   "outputs": [],
   "source": [
    "# Encoding Categorical Variables\n",
    "labelencoder = LabelEncoder()\n",
    "object_columns = train_data.select_dtypes(include='object').columns.difference(['NObeyesdad'])\n",
    "\n",
    "for col_name in object_columns:\n",
    "    if train_data[col_name].dtypes == 'object':\n",
    "        train_data[col_name] = labelencoder.fit_transform(train_data[col_name])\n",
    "        test_data[col_name] = labelencoder.transform(test_data[col_name])\n",
    "\n"
   ]
  },
  {
   "cell_type": "code",
   "execution_count": 6,
   "id": "aa88bd60",
   "metadata": {
    "execution": {
     "iopub.execute_input": "2024-02-29T14:26:01.634753Z",
     "iopub.status.busy": "2024-02-29T14:26:01.634363Z",
     "iopub.status.idle": "2024-02-29T14:26:01.648775Z",
     "shell.execute_reply": "2024-02-29T14:26:01.647882Z"
    },
    "papermill": {
     "duration": 0.022422,
     "end_time": "2024-02-29T14:26:01.650889",
     "exception": false,
     "start_time": "2024-02-29T14:26:01.628467",
     "status": "completed"
    },
    "tags": []
   },
   "outputs": [],
   "source": [
    "# Define Features and Target\n",
    "X = train_data.drop(['NObeyesdad'], axis=1)\n",
    "y = labelencoder.fit_transform(train_data['NObeyesdad'])\n",
    "X_test = test_data.drop([\"id\"], axis=1)\n"
   ]
  },
  {
   "cell_type": "code",
   "execution_count": 7,
   "id": "80cf5009",
   "metadata": {
    "execution": {
     "iopub.execute_input": "2024-02-29T14:26:01.660921Z",
     "iopub.status.busy": "2024-02-29T14:26:01.660284Z",
     "iopub.status.idle": "2024-02-29T14:26:01.666408Z",
     "shell.execute_reply": "2024-02-29T14:26:01.665375Z"
    },
    "papermill": {
     "duration": 0.013704,
     "end_time": "2024-02-29T14:26:01.668653",
     "exception": false,
     "start_time": "2024-02-29T14:26:01.654949",
     "status": "completed"
    },
    "tags": []
   },
   "outputs": [],
   "source": [
    "# Define LightGBM model parameters\n",
    "lgb_param = {\n",
    "    \"objective\": \"multiclass\",\n",
    "    \"metric\": \"multi_logloss\",\n",
    "    \"verbosity\": -1,\n",
    "    \"boosting_type\": \"gbdt\",\n",
    "    \"random_state\": 42,\n",
    "    \"num_class\": 7,\n",
    "    'learning_rate': 0.030962211546832760,\n",
    "    'n_estimators': 500,\n",
    "    'lambda_l1': 0.009667446568254372,\n",
    "    'lambda_l2': 0.04018641437301800,\n",
    "    'max_depth': 10,\n",
    "    'colsample_bytree': 0.40977129346872643,\n",
    "    'subsample': 0.9535797422450176,\n",
    "    'min_child_samples': 26\n",
    "}\n",
    "\n"
   ]
  },
  {
   "cell_type": "code",
   "execution_count": 8,
   "id": "fc6698e2",
   "metadata": {
    "execution": {
     "iopub.execute_input": "2024-02-29T14:26:01.678828Z",
     "iopub.status.busy": "2024-02-29T14:26:01.677685Z",
     "iopub.status.idle": "2024-02-29T14:26:01.682973Z",
     "shell.execute_reply": "2024-02-29T14:26:01.682178Z"
    },
    "papermill": {
     "duration": 0.012368,
     "end_time": "2024-02-29T14:26:01.684994",
     "exception": false,
     "start_time": "2024-02-29T14:26:01.672626",
     "status": "completed"
    },
    "tags": []
   },
   "outputs": [],
   "source": [
    "# Define XGBoost model parameters\n",
    "xgb_param = {\n",
    "    'objective': 'multi:softmax',\n",
    "    'num_class': 7,\n",
    "    'learning_rate': 0.1,\n",
    "    'max_depth': 6,\n",
    "    'subsample': 0.8,\n",
    "    'colsample_bytree': 0.8,\n",
    "    'gamma': 0,\n",
    "    'seed': 42\n",
    "}\n"
   ]
  },
  {
   "cell_type": "code",
   "execution_count": 9,
   "id": "57891f89",
   "metadata": {
    "execution": {
     "iopub.execute_input": "2024-02-29T14:26:01.694968Z",
     "iopub.status.busy": "2024-02-29T14:26:01.694377Z",
     "iopub.status.idle": "2024-02-29T14:32:00.645151Z",
     "shell.execute_reply": "2024-02-29T14:32:00.643750Z"
    },
    "papermill": {
     "duration": 358.958839,
     "end_time": "2024-02-29T14:32:00.647934",
     "exception": false,
     "start_time": "2024-02-29T14:26:01.689095",
     "status": "completed"
    },
    "tags": []
   },
   "outputs": [],
   "source": [
    "# Define Repeated Stratified K-Fold Cross-Validation\n",
    "num_splits = 5\n",
    "num_repeats = 3\n",
    "rskf = RepeatedStratifiedKFold(n_splits=num_splits, n_repeats=num_repeats, random_state=42)\n",
    "\n",
    "# Initialize lists to store validation accuracies and predictions\n",
    "val_accuracies_lgb = []\n",
    "val_accuracies_xgb = []\n",
    "test_preds_lgb = []\n",
    "test_preds_xgb = []\n",
    "\n",
    "# Perform Repeated Stratified K-Fold Cross-Validation\n",
    "for train_index, val_index in rskf.split(X, y):\n",
    "    X_train, X_val = X.iloc[train_index], X.iloc[val_index]\n",
    "    y_train, y_val = y[train_index], y[val_index]\n",
    "    \n",
    "    # Train LightGBM model\n",
    "    model_lgb = lgb.LGBMClassifier(**lgb_param, verbose=100)\n",
    "    model_lgb.fit(X_train, y_train)\n",
    "    \n",
    "    # Make predictions on validation set using LightGBM\n",
    "    pred_proba_lgb = model_lgb.predict_proba(X_val)\n",
    "    y_pred_lgb = np.argmax(pred_proba_lgb, axis=1)\n",
    "    val_accuracy_lgb = accuracy_score(y_val, y_pred_lgb)\n",
    "    val_accuracies_lgb.append(val_accuracy_lgb)\n",
    "    \n",
    "    # Train XGBoost model\n",
    "    dtrain = xgb.DMatrix(X_train, label=y_train)\n",
    "    dval = xgb.DMatrix(X_val)\n",
    "    num_round = 100\n",
    "    model_xgb = xgb.train(xgb_param, dtrain, num_round)\n",
    "    \n",
    "    # Make predictions on validation set using XGBoost\n",
    "    pred_proba_xgb = model_xgb.predict(dval)\n",
    "    y_pred_xgb = np.array(pred_proba_xgb, dtype=int)\n",
    "    val_accuracy_xgb = accuracy_score(y_val, y_pred_xgb)\n",
    "    val_accuracies_xgb.append(val_accuracy_xgb)\n",
    "    \n",
    "    # Make predictions on test set using both models\n",
    "    dtest = xgb.DMatrix(X_test)\n",
    "    test_preds_lgb.append(model_lgb.predict_proba(X_test))\n",
    "    test_preds_xgb.append(model_xgb.predict(dtest))\n"
   ]
  },
  {
   "cell_type": "code",
   "execution_count": 10,
   "id": "faaed72c",
   "metadata": {
    "execution": {
     "iopub.execute_input": "2024-02-29T14:32:00.658649Z",
     "iopub.status.busy": "2024-02-29T14:32:00.658248Z",
     "iopub.status.idle": "2024-02-29T14:32:00.664305Z",
     "shell.execute_reply": "2024-02-29T14:32:00.663239Z"
    },
    "papermill": {
     "duration": 0.014717,
     "end_time": "2024-02-29T14:32:00.667352",
     "exception": false,
     "start_time": "2024-02-29T14:32:00.652635",
     "status": "completed"
    },
    "tags": []
   },
   "outputs": [
    {
     "name": "stdout",
     "output_type": "stream",
     "text": [
      "Mean Validation Accuracy (LightGBM): 0.9146713358138178\n",
      "Mean Validation Accuracy (XGBoost): 0.9141606478441672\n"
     ]
    }
   ],
   "source": [
    "# Average validation accuracies\n",
    "mean_val_accuracy_lgb = np.mean(val_accuracies_lgb)\n",
    "mean_val_accuracy_xgb = np.mean(val_accuracies_xgb)\n",
    "print(\"Mean Validation Accuracy (LightGBM):\", mean_val_accuracy_lgb)\n",
    "print(\"Mean Validation Accuracy (XGBoost):\", mean_val_accuracy_xgb)\n"
   ]
  },
  {
   "cell_type": "code",
   "execution_count": 11,
   "id": "00e620ed",
   "metadata": {
    "execution": {
     "iopub.execute_input": "2024-02-29T14:32:00.677781Z",
     "iopub.status.busy": "2024-02-29T14:32:00.677394Z",
     "iopub.status.idle": "2024-02-29T14:32:00.691626Z",
     "shell.execute_reply": "2024-02-29T14:32:00.690561Z"
    },
    "papermill": {
     "duration": 0.02258,
     "end_time": "2024-02-29T14:32:00.694267",
     "exception": false,
     "start_time": "2024-02-29T14:32:00.671687",
     "status": "completed"
    },
    "tags": []
   },
   "outputs": [],
   "source": [
    "\n",
    "# Average predictions on test set\n",
    "mean_test_preds_lgb = np.mean(test_preds_lgb, axis=0)\n",
    "mean_test_preds_xgb = np.mean(test_preds_xgb, axis=0)\n",
    "\n",
    "final_test_preds_lgb = np.argmax(mean_test_preds_lgb, axis=1)\n",
    "final_test_preds_xgb = np.array(mean_test_preds_xgb, dtype=int)\n",
    "\n"
   ]
  },
  {
   "cell_type": "code",
   "execution_count": 12,
   "id": "8feacc14",
   "metadata": {
    "execution": {
     "iopub.execute_input": "2024-02-29T14:32:00.705398Z",
     "iopub.status.busy": "2024-02-29T14:32:00.705007Z",
     "iopub.status.idle": "2024-02-29T14:32:00.711811Z",
     "shell.execute_reply": "2024-02-29T14:32:00.710836Z"
    },
    "papermill": {
     "duration": 0.0144,
     "end_time": "2024-02-29T14:32:00.714073",
     "exception": false,
     "start_time": "2024-02-29T14:32:00.699673",
     "status": "completed"
    },
    "tags": []
   },
   "outputs": [],
   "source": [
    "# Decode predictions\n",
    "pred_lgb = labelencoder.inverse_transform(final_test_preds_lgb)\n",
    "pred_xgb = labelencoder.inverse_transform(final_test_preds_xgb)\n",
    "\n"
   ]
  },
  {
   "cell_type": "code",
   "execution_count": 13,
   "id": "df5679f6",
   "metadata": {
    "execution": {
     "iopub.execute_input": "2024-02-29T14:32:00.724688Z",
     "iopub.status.busy": "2024-02-29T14:32:00.723775Z",
     "iopub.status.idle": "2024-02-29T14:32:00.769934Z",
     "shell.execute_reply": "2024-02-29T14:32:00.768677Z"
    },
    "papermill": {
     "duration": 0.054139,
     "end_time": "2024-02-29T14:32:00.772516",
     "exception": false,
     "start_time": "2024-02-29T14:32:00.718377",
     "status": "completed"
    },
    "tags": []
   },
   "outputs": [],
   "source": [
    "# Create submission files for both models\n",
    "submission_lgb = pd.DataFrame({'id': test_data.id, 'NObeyesdad': pred_lgb})\n",
    "submission_xgb = pd.DataFrame({'id': test_data.id, 'NObeyesdad': pred_xgb})\n",
    "\n",
    "submission_lgb.to_csv('submission_lgb.csv', index=False)\n",
    "submission_xgb.to_csv('submission_xgb.csv', index=False)"
   ]
  },
  {
   "cell_type": "code",
   "execution_count": null,
   "id": "85baf459",
   "metadata": {
    "papermill": {
     "duration": 0.004066,
     "end_time": "2024-02-29T14:32:00.781256",
     "exception": false,
     "start_time": "2024-02-29T14:32:00.777190",
     "status": "completed"
    },
    "tags": []
   },
   "outputs": [],
   "source": []
  }
 ],
 "metadata": {
  "kaggle": {
   "accelerator": "none",
   "dataSources": [
    {
     "databundleVersionId": 7609535,
     "sourceId": 68479,
     "sourceType": "competition"
    },
    {
     "datasetId": 4030196,
     "sourceId": 7009925,
     "sourceType": "datasetVersion"
    }
   ],
   "dockerImageVersionId": 30664,
   "isGpuEnabled": false,
   "isInternetEnabled": true,
   "language": "python",
   "sourceType": "notebook"
  },
  "kernelspec": {
   "display_name": "Python 3",
   "language": "python",
   "name": "python3"
  },
  "language_info": {
   "codemirror_mode": {
    "name": "ipython",
    "version": 3
   },
   "file_extension": ".py",
   "mimetype": "text/x-python",
   "name": "python",
   "nbconvert_exporter": "python",
   "pygments_lexer": "ipython3",
   "version": "3.10.13"
  },
  "papermill": {
   "default_parameters": {},
   "duration": 366.548746,
   "end_time": "2024-02-29T14:32:01.509405",
   "environment_variables": {},
   "exception": null,
   "input_path": "__notebook__.ipynb",
   "output_path": "__notebook__.ipynb",
   "parameters": {},
   "start_time": "2024-02-29T14:25:54.960659",
   "version": "2.5.0"
  }
 },
 "nbformat": 4,
 "nbformat_minor": 5
}
