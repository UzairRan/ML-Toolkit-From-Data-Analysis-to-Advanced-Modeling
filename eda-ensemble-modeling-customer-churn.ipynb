{
 "cells": [
  {
   "cell_type": "markdown",
   "id": "651d4eb0",
   "metadata": {
    "_cell_guid": "b1076dfc-b9ad-4769-8c92-a6c4dae69d19",
    "_uuid": "8f2839f25d086af736a60e9eeb907d3b93b6e0e5",
    "papermill": {
     "duration": 0.00876,
     "end_time": "2024-01-06T14:13:03.837170",
     "exception": false,
     "start_time": "2024-01-06T14:13:03.828410",
     "status": "completed"
    },
    "tags": []
   },
   "source": [
    "# Introduction to Dataset Headers\n",
    "\n",
    "**RowNumber:** Unique identifier for each row.\n",
    "\n",
    "**CustomerId**: Unique identifier for each customer.\n",
    "\n",
    "**Surname:** Last name of the customer.\n",
    "\n",
    "**CreditScore:** Numerical credit score of the customer.\n",
    "\n",
    "**Geography**: Categorical variable indicating customer's location.\n",
    "\n",
    "**Gender**: Categorical variable indicating customer's gender.\n",
    "\n",
    "**Age:** Numerical variable representing the customer's age.\n",
    "\n",
    "**Tenure:** Numerical variable representing the number of years the customer has been with the bank.\n",
    "\n",
    "**Balance**: Numerical variable indicating the customer's account balance.\n",
    "\n",
    "**NumOfProducts:** Numerical variable indicating the number of bank products held by the customer.\n",
    "\n",
    "**HasCrCard:** Binary variable indicating whether the customer has a credit card (1) or not (0).\n",
    "\n",
    "**IsActiveMember**: Binary variable indicating whether the customer is an active member (1) or not (0).\n",
    "\n",
    "**EstimatedSalary**: Numerical variable indicating the estimated salary of the customer.\n",
    "\n",
    "**Exited:** Binary target variable indicating whether the customer exited (1) or not (0)."
   ]
  },
  {
   "cell_type": "markdown",
   "id": "f50fa26b",
   "metadata": {
    "papermill": {
     "duration": 0.008016,
     "end_time": "2024-01-06T14:13:03.853671",
     "exception": false,
     "start_time": "2024-01-06T14:13:03.845655",
     "status": "completed"
    },
    "tags": []
   },
   "source": [
    "# Imports"
   ]
  },
  {
   "cell_type": "code",
   "execution_count": 1,
   "id": "5e404f4c",
   "metadata": {
    "execution": {
     "iopub.execute_input": "2024-01-06T14:13:03.872095Z",
     "iopub.status.busy": "2024-01-06T14:13:03.871457Z",
     "iopub.status.idle": "2024-01-06T14:13:07.661112Z",
     "shell.execute_reply": "2024-01-06T14:13:07.660022Z"
    },
    "papermill": {
     "duration": 3.801474,
     "end_time": "2024-01-06T14:13:07.663462",
     "exception": false,
     "start_time": "2024-01-06T14:13:03.861988",
     "status": "completed"
    },
    "tags": []
   },
   "outputs": [],
   "source": [
    "import pandas as pd\n",
    "import numpy as np\n",
    "import seaborn as sns\n",
    "import matplotlib.pyplot as plt\n",
    "from sklearn.model_selection import RepeatedStratifiedKFold, cross_val_score\n",
    "from sklearn.ensemble import GradientBoostingClassifier, HistGradientBoostingClassifier\n",
    "from sklearn.neural_network import MLPClassifier\n",
    "from sklearn.preprocessing import PowerTransformer\n",
    "from sklearn.pipeline import Pipeline\n",
    "from sklearn.ensemble import VotingClassifier, StackingClassifier\n",
    "from xgboost import XGBClassifier\n",
    "from sklearn.linear_model import LogisticRegression\n",
    "from lightgbm import LGBMClassifier  \n",
    "from sklearn.compose import ColumnTransformer"
   ]
  },
  {
   "cell_type": "code",
   "execution_count": 2,
   "id": "3b461773",
   "metadata": {
    "execution": {
     "iopub.execute_input": "2024-01-06T14:13:07.681792Z",
     "iopub.status.busy": "2024-01-06T14:13:07.681427Z",
     "iopub.status.idle": "2024-01-06T14:13:08.215868Z",
     "shell.execute_reply": "2024-01-06T14:13:08.214717Z"
    },
    "papermill": {
     "duration": 0.546192,
     "end_time": "2024-01-06T14:13:08.218072",
     "exception": false,
     "start_time": "2024-01-06T14:13:07.671880",
     "status": "completed"
    },
    "tags": []
   },
   "outputs": [],
   "source": [
    "train_data = pd.read_csv(\"/kaggle/input/playground-series-s4e1/train.csv\")\n",
    "test_data = pd.read_csv(\"/kaggle/input/playground-series-s4e1/test.csv\")\n",
    "original_data = pd.read_csv(\"/kaggle/input/bank-customer-churn-prediction/Churn_Modelling.csv\")\n",
    "\n",
    "sample_submission = pd.read_csv(\"/kaggle/input/playground-series-s4e1/sample_submission.csv\")"
   ]
  },
  {
   "cell_type": "markdown",
   "id": "40b088e7",
   "metadata": {
    "papermill": {
     "duration": 0.008094,
     "end_time": "2024-01-06T14:13:08.234634",
     "exception": false,
     "start_time": "2024-01-06T14:13:08.226540",
     "status": "completed"
    },
    "tags": []
   },
   "source": [
    "# 1 Data Exloration"
   ]
  },
  {
   "cell_type": "markdown",
   "id": "cab0eee2",
   "metadata": {
    "papermill": {
     "duration": 0.007912,
     "end_time": "2024-01-06T14:13:08.250516",
     "exception": false,
     "start_time": "2024-01-06T14:13:08.242604",
     "status": "completed"
    },
    "tags": []
   },
   "source": [
    "***1.1 Train Data***"
   ]
  },
  {
   "cell_type": "code",
   "execution_count": 3,
   "id": "dc8c1625",
   "metadata": {
    "execution": {
     "iopub.execute_input": "2024-01-06T14:13:08.269204Z",
     "iopub.status.busy": "2024-01-06T14:13:08.268832Z",
     "iopub.status.idle": "2024-01-06T14:13:08.298356Z",
     "shell.execute_reply": "2024-01-06T14:13:08.297260Z"
    },
    "papermill": {
     "duration": 0.042565,
     "end_time": "2024-01-06T14:13:08.301067",
     "exception": false,
     "start_time": "2024-01-06T14:13:08.258502",
     "status": "completed"
    },
    "tags": []
   },
   "outputs": [
    {
     "data": {
      "text/html": [
       "<div>\n",
       "<style scoped>\n",
       "    .dataframe tbody tr th:only-of-type {\n",
       "        vertical-align: middle;\n",
       "    }\n",
       "\n",
       "    .dataframe tbody tr th {\n",
       "        vertical-align: top;\n",
       "    }\n",
       "\n",
       "    .dataframe thead th {\n",
       "        text-align: right;\n",
       "    }\n",
       "</style>\n",
       "<table border=\"1\" class=\"dataframe\">\n",
       "  <thead>\n",
       "    <tr style=\"text-align: right;\">\n",
       "      <th></th>\n",
       "      <th>id</th>\n",
       "      <th>CustomerId</th>\n",
       "      <th>Surname</th>\n",
       "      <th>CreditScore</th>\n",
       "      <th>Geography</th>\n",
       "      <th>Gender</th>\n",
       "      <th>Age</th>\n",
       "      <th>Tenure</th>\n",
       "      <th>Balance</th>\n",
       "      <th>NumOfProducts</th>\n",
       "      <th>HasCrCard</th>\n",
       "      <th>IsActiveMember</th>\n",
       "      <th>EstimatedSalary</th>\n",
       "      <th>Exited</th>\n",
       "    </tr>\n",
       "  </thead>\n",
       "  <tbody>\n",
       "    <tr>\n",
       "      <th>0</th>\n",
       "      <td>0</td>\n",
       "      <td>15674932</td>\n",
       "      <td>Okwudilichukwu</td>\n",
       "      <td>668</td>\n",
       "      <td>France</td>\n",
       "      <td>Male</td>\n",
       "      <td>33.0</td>\n",
       "      <td>3</td>\n",
       "      <td>0.00</td>\n",
       "      <td>2</td>\n",
       "      <td>1.0</td>\n",
       "      <td>0.0</td>\n",
       "      <td>181449.97</td>\n",
       "      <td>0</td>\n",
       "    </tr>\n",
       "    <tr>\n",
       "      <th>1</th>\n",
       "      <td>1</td>\n",
       "      <td>15749177</td>\n",
       "      <td>Okwudiliolisa</td>\n",
       "      <td>627</td>\n",
       "      <td>France</td>\n",
       "      <td>Male</td>\n",
       "      <td>33.0</td>\n",
       "      <td>1</td>\n",
       "      <td>0.00</td>\n",
       "      <td>2</td>\n",
       "      <td>1.0</td>\n",
       "      <td>1.0</td>\n",
       "      <td>49503.50</td>\n",
       "      <td>0</td>\n",
       "    </tr>\n",
       "    <tr>\n",
       "      <th>2</th>\n",
       "      <td>2</td>\n",
       "      <td>15694510</td>\n",
       "      <td>Hsueh</td>\n",
       "      <td>678</td>\n",
       "      <td>France</td>\n",
       "      <td>Male</td>\n",
       "      <td>40.0</td>\n",
       "      <td>10</td>\n",
       "      <td>0.00</td>\n",
       "      <td>2</td>\n",
       "      <td>1.0</td>\n",
       "      <td>0.0</td>\n",
       "      <td>184866.69</td>\n",
       "      <td>0</td>\n",
       "    </tr>\n",
       "    <tr>\n",
       "      <th>3</th>\n",
       "      <td>3</td>\n",
       "      <td>15741417</td>\n",
       "      <td>Kao</td>\n",
       "      <td>581</td>\n",
       "      <td>France</td>\n",
       "      <td>Male</td>\n",
       "      <td>34.0</td>\n",
       "      <td>2</td>\n",
       "      <td>148882.54</td>\n",
       "      <td>1</td>\n",
       "      <td>1.0</td>\n",
       "      <td>1.0</td>\n",
       "      <td>84560.88</td>\n",
       "      <td>0</td>\n",
       "    </tr>\n",
       "    <tr>\n",
       "      <th>4</th>\n",
       "      <td>4</td>\n",
       "      <td>15766172</td>\n",
       "      <td>Chiemenam</td>\n",
       "      <td>716</td>\n",
       "      <td>Spain</td>\n",
       "      <td>Male</td>\n",
       "      <td>33.0</td>\n",
       "      <td>5</td>\n",
       "      <td>0.00</td>\n",
       "      <td>2</td>\n",
       "      <td>1.0</td>\n",
       "      <td>1.0</td>\n",
       "      <td>15068.83</td>\n",
       "      <td>0</td>\n",
       "    </tr>\n",
       "    <tr>\n",
       "      <th>5</th>\n",
       "      <td>5</td>\n",
       "      <td>15771669</td>\n",
       "      <td>Genovese</td>\n",
       "      <td>588</td>\n",
       "      <td>Germany</td>\n",
       "      <td>Male</td>\n",
       "      <td>36.0</td>\n",
       "      <td>4</td>\n",
       "      <td>131778.58</td>\n",
       "      <td>1</td>\n",
       "      <td>1.0</td>\n",
       "      <td>0.0</td>\n",
       "      <td>136024.31</td>\n",
       "      <td>1</td>\n",
       "    </tr>\n",
       "    <tr>\n",
       "      <th>6</th>\n",
       "      <td>6</td>\n",
       "      <td>15692819</td>\n",
       "      <td>Ch'ang</td>\n",
       "      <td>593</td>\n",
       "      <td>France</td>\n",
       "      <td>Female</td>\n",
       "      <td>30.0</td>\n",
       "      <td>8</td>\n",
       "      <td>144772.69</td>\n",
       "      <td>1</td>\n",
       "      <td>1.0</td>\n",
       "      <td>0.0</td>\n",
       "      <td>29792.11</td>\n",
       "      <td>0</td>\n",
       "    </tr>\n",
       "    <tr>\n",
       "      <th>7</th>\n",
       "      <td>7</td>\n",
       "      <td>15669611</td>\n",
       "      <td>Chukwuebuka</td>\n",
       "      <td>678</td>\n",
       "      <td>Spain</td>\n",
       "      <td>Male</td>\n",
       "      <td>37.0</td>\n",
       "      <td>1</td>\n",
       "      <td>138476.41</td>\n",
       "      <td>1</td>\n",
       "      <td>1.0</td>\n",
       "      <td>0.0</td>\n",
       "      <td>106851.60</td>\n",
       "      <td>0</td>\n",
       "    </tr>\n",
       "    <tr>\n",
       "      <th>8</th>\n",
       "      <td>8</td>\n",
       "      <td>15691707</td>\n",
       "      <td>Manna</td>\n",
       "      <td>676</td>\n",
       "      <td>France</td>\n",
       "      <td>Male</td>\n",
       "      <td>43.0</td>\n",
       "      <td>4</td>\n",
       "      <td>0.00</td>\n",
       "      <td>2</td>\n",
       "      <td>1.0</td>\n",
       "      <td>0.0</td>\n",
       "      <td>142917.13</td>\n",
       "      <td>0</td>\n",
       "    </tr>\n",
       "    <tr>\n",
       "      <th>9</th>\n",
       "      <td>9</td>\n",
       "      <td>15591721</td>\n",
       "      <td>Cattaneo</td>\n",
       "      <td>583</td>\n",
       "      <td>Germany</td>\n",
       "      <td>Male</td>\n",
       "      <td>40.0</td>\n",
       "      <td>4</td>\n",
       "      <td>81274.33</td>\n",
       "      <td>1</td>\n",
       "      <td>1.0</td>\n",
       "      <td>1.0</td>\n",
       "      <td>170843.07</td>\n",
       "      <td>0</td>\n",
       "    </tr>\n",
       "  </tbody>\n",
       "</table>\n",
       "</div>"
      ],
      "text/plain": [
       "   id  CustomerId         Surname  CreditScore Geography  Gender   Age  \\\n",
       "0   0    15674932  Okwudilichukwu          668    France    Male  33.0   \n",
       "1   1    15749177   Okwudiliolisa          627    France    Male  33.0   \n",
       "2   2    15694510           Hsueh          678    France    Male  40.0   \n",
       "3   3    15741417             Kao          581    France    Male  34.0   \n",
       "4   4    15766172       Chiemenam          716     Spain    Male  33.0   \n",
       "5   5    15771669        Genovese          588   Germany    Male  36.0   \n",
       "6   6    15692819          Ch'ang          593    France  Female  30.0   \n",
       "7   7    15669611     Chukwuebuka          678     Spain    Male  37.0   \n",
       "8   8    15691707           Manna          676    France    Male  43.0   \n",
       "9   9    15591721        Cattaneo          583   Germany    Male  40.0   \n",
       "\n",
       "   Tenure    Balance  NumOfProducts  HasCrCard  IsActiveMember  \\\n",
       "0       3       0.00              2        1.0             0.0   \n",
       "1       1       0.00              2        1.0             1.0   \n",
       "2      10       0.00              2        1.0             0.0   \n",
       "3       2  148882.54              1        1.0             1.0   \n",
       "4       5       0.00              2        1.0             1.0   \n",
       "5       4  131778.58              1        1.0             0.0   \n",
       "6       8  144772.69              1        1.0             0.0   \n",
       "7       1  138476.41              1        1.0             0.0   \n",
       "8       4       0.00              2        1.0             0.0   \n",
       "9       4   81274.33              1        1.0             1.0   \n",
       "\n",
       "   EstimatedSalary  Exited  \n",
       "0        181449.97       0  \n",
       "1         49503.50       0  \n",
       "2        184866.69       0  \n",
       "3         84560.88       0  \n",
       "4         15068.83       0  \n",
       "5        136024.31       1  \n",
       "6         29792.11       0  \n",
       "7        106851.60       0  \n",
       "8        142917.13       0  \n",
       "9        170843.07       0  "
      ]
     },
     "execution_count": 3,
     "metadata": {},
     "output_type": "execute_result"
    }
   ],
   "source": [
    "train_data.head(10)"
   ]
  },
  {
   "cell_type": "code",
   "execution_count": 4,
   "id": "6aff4ec6",
   "metadata": {
    "execution": {
     "iopub.execute_input": "2024-01-06T14:13:08.320157Z",
     "iopub.status.busy": "2024-01-06T14:13:08.319622Z",
     "iopub.status.idle": "2024-01-06T14:13:08.344300Z",
     "shell.execute_reply": "2024-01-06T14:13:08.343083Z"
    },
    "papermill": {
     "duration": 0.03645,
     "end_time": "2024-01-06T14:13:08.346233",
     "exception": false,
     "start_time": "2024-01-06T14:13:08.309783",
     "status": "completed"
    },
    "tags": []
   },
   "outputs": [
    {
     "name": "stdout",
     "output_type": "stream",
     "text": [
      "id                 0\n",
      "CustomerId         0\n",
      "Surname            0\n",
      "CreditScore        0\n",
      "Geography          0\n",
      "Gender             0\n",
      "Age                0\n",
      "Tenure             0\n",
      "Balance            0\n",
      "NumOfProducts      0\n",
      "HasCrCard          0\n",
      "IsActiveMember     0\n",
      "EstimatedSalary    0\n",
      "Exited             0\n",
      "dtype: int64\n"
     ]
    }
   ],
   "source": [
    "print(train_data.isnull().sum())"
   ]
  },
  {
   "cell_type": "markdown",
   "id": "673a1824",
   "metadata": {
    "papermill": {
     "duration": 0.009219,
     "end_time": "2024-01-06T14:13:08.364141",
     "exception": false,
     "start_time": "2024-01-06T14:13:08.354922",
     "status": "completed"
    },
    "tags": []
   },
   "source": [
    "No null value in train data"
   ]
  },
  {
   "cell_type": "code",
   "execution_count": 5,
   "id": "f57cd61f",
   "metadata": {
    "execution": {
     "iopub.execute_input": "2024-01-06T14:13:08.382890Z",
     "iopub.status.busy": "2024-01-06T14:13:08.382553Z",
     "iopub.status.idle": "2024-01-06T14:13:08.389458Z",
     "shell.execute_reply": "2024-01-06T14:13:08.388357Z"
    },
    "papermill": {
     "duration": 0.01893,
     "end_time": "2024-01-06T14:13:08.391653",
     "exception": false,
     "start_time": "2024-01-06T14:13:08.372723",
     "status": "completed"
    },
    "tags": []
   },
   "outputs": [
    {
     "name": "stdout",
     "output_type": "stream",
     "text": [
      "id: numerical\n",
      "CustomerId: numerical\n",
      "Surname: categorical\n",
      "CreditScore: numerical\n",
      "Geography: categorical\n",
      "Gender: categorical\n",
      "Age: numerical\n",
      "Tenure: numerical\n",
      "Balance: numerical\n",
      "NumOfProducts: numerical\n",
      "HasCrCard: numerical\n",
      "IsActiveMember: numerical\n",
      "EstimatedSalary: numerical\n",
      "Exited: numerical\n"
     ]
    }
   ],
   "source": [
    "def get_feature_types(data):\n",
    "    return {col: \"numerical\" if pd.api.types.is_numeric_dtype(data[col]) else \"categorical\" for col in data}\n",
    "\n",
    "\n",
    "\n",
    "print(\"\\n\".join(f\"{col}: {feat_type}\" for col, feat_type in get_feature_types(train_data).items()))"
   ]
  },
  {
   "cell_type": "markdown",
   "id": "60dbc435",
   "metadata": {
    "execution": {
     "iopub.execute_input": "2024-01-04T13:35:10.741457Z",
     "iopub.status.busy": "2024-01-04T13:35:10.740991Z",
     "iopub.status.idle": "2024-01-04T13:35:10.749201Z",
     "shell.execute_reply": "2024-01-04T13:35:10.747349Z",
     "shell.execute_reply.started": "2024-01-04T13:35:10.741417Z"
    },
    "papermill": {
     "duration": 0.008679,
     "end_time": "2024-01-06T14:13:08.410066",
     "exception": false,
     "start_time": "2024-01-06T14:13:08.401387",
     "status": "completed"
    },
    "tags": []
   },
   "source": [
    "Three Features are Categorical\n",
    "\n",
    "* Gender\n",
    "* Surname\n",
    "* Age"
   ]
  },
  {
   "cell_type": "code",
   "execution_count": 6,
   "id": "30cd41b9",
   "metadata": {
    "execution": {
     "iopub.execute_input": "2024-01-06T14:13:08.429173Z",
     "iopub.status.busy": "2024-01-06T14:13:08.428832Z",
     "iopub.status.idle": "2024-01-06T14:13:08.569438Z",
     "shell.execute_reply": "2024-01-06T14:13:08.568417Z"
    },
    "papermill": {
     "duration": 0.152838,
     "end_time": "2024-01-06T14:13:08.571612",
     "exception": false,
     "start_time": "2024-01-06T14:13:08.418774",
     "status": "completed"
    },
    "tags": []
   },
   "outputs": [
    {
     "data": {
      "text/html": [
       "<style type=\"text/css\">\n",
       "#T_694ab_row0_col0, #T_694ab_row0_col3, #T_694ab_row0_col4, #T_694ab_row1_col0, #T_694ab_row2_col0, #T_694ab_row2_col1, #T_694ab_row2_col2, #T_694ab_row2_col3, #T_694ab_row2_col4, #T_694ab_row2_col5, #T_694ab_row2_col6, #T_694ab_row2_col7, #T_694ab_row3_col0, #T_694ab_row3_col1, #T_694ab_row3_col2, #T_694ab_row3_col3, #T_694ab_row3_col4, #T_694ab_row3_col5, #T_694ab_row3_col6, #T_694ab_row3_col7, #T_694ab_row4_col0, #T_694ab_row4_col1, #T_694ab_row4_col2, #T_694ab_row4_col3, #T_694ab_row4_col4, #T_694ab_row4_col5, #T_694ab_row4_col6, #T_694ab_row4_col7, #T_694ab_row5_col0, #T_694ab_row5_col1, #T_694ab_row5_col3, #T_694ab_row5_col4, #T_694ab_row5_col5, #T_694ab_row6_col0, #T_694ab_row6_col1, #T_694ab_row6_col2, #T_694ab_row6_col3, #T_694ab_row6_col4, #T_694ab_row6_col5, #T_694ab_row6_col6, #T_694ab_row6_col7, #T_694ab_row7_col0, #T_694ab_row7_col1, #T_694ab_row7_col2, #T_694ab_row7_col3, #T_694ab_row7_col4, #T_694ab_row7_col5, #T_694ab_row7_col6, #T_694ab_row7_col7, #T_694ab_row8_col0, #T_694ab_row8_col1, #T_694ab_row8_col2, #T_694ab_row8_col3, #T_694ab_row8_col4, #T_694ab_row8_col5, #T_694ab_row8_col6, #T_694ab_row8_col7, #T_694ab_row9_col0, #T_694ab_row9_col3, #T_694ab_row10_col0, #T_694ab_row10_col1, #T_694ab_row10_col2, #T_694ab_row10_col3, #T_694ab_row10_col4, #T_694ab_row10_col5, #T_694ab_row10_col6, #T_694ab_row10_col7 {\n",
       "  background-color: #440154;\n",
       "  color: #f1f1f1;\n",
       "}\n",
       "#T_694ab_row0_col1, #T_694ab_row0_col5, #T_694ab_row5_col6, #T_694ab_row9_col1, #T_694ab_row9_col4, #T_694ab_row9_col5 {\n",
       "  background-color: #440256;\n",
       "  color: #f1f1f1;\n",
       "}\n",
       "#T_694ab_row0_col2 {\n",
       "  background-color: #35b779;\n",
       "  color: #f1f1f1;\n",
       "}\n",
       "#T_694ab_row0_col6, #T_694ab_row0_col7, #T_694ab_row9_col6 {\n",
       "  background-color: #450457;\n",
       "  color: #f1f1f1;\n",
       "}\n",
       "#T_694ab_row1_col1, #T_694ab_row1_col2, #T_694ab_row1_col3, #T_694ab_row1_col4, #T_694ab_row1_col5, #T_694ab_row1_col6, #T_694ab_row1_col7 {\n",
       "  background-color: #fde725;\n",
       "  color: #000000;\n",
       "}\n",
       "#T_694ab_row5_col2 {\n",
       "  background-color: #b0dd2f;\n",
       "  color: #000000;\n",
       "}\n",
       "#T_694ab_row5_col7 {\n",
       "  background-color: #46075a;\n",
       "  color: #f1f1f1;\n",
       "}\n",
       "#T_694ab_row9_col2 {\n",
       "  background-color: #46c06f;\n",
       "  color: #f1f1f1;\n",
       "}\n",
       "#T_694ab_row9_col7 {\n",
       "  background-color: #450559;\n",
       "  color: #f1f1f1;\n",
       "}\n",
       "</style>\n",
       "<table id=\"T_694ab\">\n",
       "  <thead>\n",
       "    <tr>\n",
       "      <th class=\"blank level0\" >&nbsp;</th>\n",
       "      <th id=\"T_694ab_level0_col0\" class=\"col_heading level0 col0\" >count</th>\n",
       "      <th id=\"T_694ab_level0_col1\" class=\"col_heading level0 col1\" >mean</th>\n",
       "      <th id=\"T_694ab_level0_col2\" class=\"col_heading level0 col2\" >std</th>\n",
       "      <th id=\"T_694ab_level0_col3\" class=\"col_heading level0 col3\" >min</th>\n",
       "      <th id=\"T_694ab_level0_col4\" class=\"col_heading level0 col4\" >25%</th>\n",
       "      <th id=\"T_694ab_level0_col5\" class=\"col_heading level0 col5\" >50%</th>\n",
       "      <th id=\"T_694ab_level0_col6\" class=\"col_heading level0 col6\" >75%</th>\n",
       "      <th id=\"T_694ab_level0_col7\" class=\"col_heading level0 col7\" >max</th>\n",
       "    </tr>\n",
       "  </thead>\n",
       "  <tbody>\n",
       "    <tr>\n",
       "      <th id=\"T_694ab_level0_row0\" class=\"row_heading level0 row0\" >id</th>\n",
       "      <td id=\"T_694ab_row0_col0\" class=\"data row0 col0\" >165034.000000</td>\n",
       "      <td id=\"T_694ab_row0_col1\" class=\"data row0 col1\" >82516.500000</td>\n",
       "      <td id=\"T_694ab_row0_col2\" class=\"data row0 col2\" >47641.356500</td>\n",
       "      <td id=\"T_694ab_row0_col3\" class=\"data row0 col3\" >0.000000</td>\n",
       "      <td id=\"T_694ab_row0_col4\" class=\"data row0 col4\" >41258.250000</td>\n",
       "      <td id=\"T_694ab_row0_col5\" class=\"data row0 col5\" >82516.500000</td>\n",
       "      <td id=\"T_694ab_row0_col6\" class=\"data row0 col6\" >123774.750000</td>\n",
       "      <td id=\"T_694ab_row0_col7\" class=\"data row0 col7\" >165033.000000</td>\n",
       "    </tr>\n",
       "    <tr>\n",
       "      <th id=\"T_694ab_level0_row1\" class=\"row_heading level0 row1\" >CustomerId</th>\n",
       "      <td id=\"T_694ab_row1_col0\" class=\"data row1 col0\" >165034.000000</td>\n",
       "      <td id=\"T_694ab_row1_col1\" class=\"data row1 col1\" >15692005.019026</td>\n",
       "      <td id=\"T_694ab_row1_col2\" class=\"data row1 col2\" >71397.816791</td>\n",
       "      <td id=\"T_694ab_row1_col3\" class=\"data row1 col3\" >15565701.000000</td>\n",
       "      <td id=\"T_694ab_row1_col4\" class=\"data row1 col4\" >15633141.000000</td>\n",
       "      <td id=\"T_694ab_row1_col5\" class=\"data row1 col5\" >15690169.000000</td>\n",
       "      <td id=\"T_694ab_row1_col6\" class=\"data row1 col6\" >15756824.000000</td>\n",
       "      <td id=\"T_694ab_row1_col7\" class=\"data row1 col7\" >15815690.000000</td>\n",
       "    </tr>\n",
       "    <tr>\n",
       "      <th id=\"T_694ab_level0_row2\" class=\"row_heading level0 row2\" >CreditScore</th>\n",
       "      <td id=\"T_694ab_row2_col0\" class=\"data row2 col0\" >165034.000000</td>\n",
       "      <td id=\"T_694ab_row2_col1\" class=\"data row2 col1\" >656.454373</td>\n",
       "      <td id=\"T_694ab_row2_col2\" class=\"data row2 col2\" >80.103340</td>\n",
       "      <td id=\"T_694ab_row2_col3\" class=\"data row2 col3\" >350.000000</td>\n",
       "      <td id=\"T_694ab_row2_col4\" class=\"data row2 col4\" >597.000000</td>\n",
       "      <td id=\"T_694ab_row2_col5\" class=\"data row2 col5\" >659.000000</td>\n",
       "      <td id=\"T_694ab_row2_col6\" class=\"data row2 col6\" >710.000000</td>\n",
       "      <td id=\"T_694ab_row2_col7\" class=\"data row2 col7\" >850.000000</td>\n",
       "    </tr>\n",
       "    <tr>\n",
       "      <th id=\"T_694ab_level0_row3\" class=\"row_heading level0 row3\" >Age</th>\n",
       "      <td id=\"T_694ab_row3_col0\" class=\"data row3 col0\" >165034.000000</td>\n",
       "      <td id=\"T_694ab_row3_col1\" class=\"data row3 col1\" >38.125888</td>\n",
       "      <td id=\"T_694ab_row3_col2\" class=\"data row3 col2\" >8.867205</td>\n",
       "      <td id=\"T_694ab_row3_col3\" class=\"data row3 col3\" >18.000000</td>\n",
       "      <td id=\"T_694ab_row3_col4\" class=\"data row3 col4\" >32.000000</td>\n",
       "      <td id=\"T_694ab_row3_col5\" class=\"data row3 col5\" >37.000000</td>\n",
       "      <td id=\"T_694ab_row3_col6\" class=\"data row3 col6\" >42.000000</td>\n",
       "      <td id=\"T_694ab_row3_col7\" class=\"data row3 col7\" >92.000000</td>\n",
       "    </tr>\n",
       "    <tr>\n",
       "      <th id=\"T_694ab_level0_row4\" class=\"row_heading level0 row4\" >Tenure</th>\n",
       "      <td id=\"T_694ab_row4_col0\" class=\"data row4 col0\" >165034.000000</td>\n",
       "      <td id=\"T_694ab_row4_col1\" class=\"data row4 col1\" >5.020353</td>\n",
       "      <td id=\"T_694ab_row4_col2\" class=\"data row4 col2\" >2.806159</td>\n",
       "      <td id=\"T_694ab_row4_col3\" class=\"data row4 col3\" >0.000000</td>\n",
       "      <td id=\"T_694ab_row4_col4\" class=\"data row4 col4\" >3.000000</td>\n",
       "      <td id=\"T_694ab_row4_col5\" class=\"data row4 col5\" >5.000000</td>\n",
       "      <td id=\"T_694ab_row4_col6\" class=\"data row4 col6\" >7.000000</td>\n",
       "      <td id=\"T_694ab_row4_col7\" class=\"data row4 col7\" >10.000000</td>\n",
       "    </tr>\n",
       "    <tr>\n",
       "      <th id=\"T_694ab_level0_row5\" class=\"row_heading level0 row5\" >Balance</th>\n",
       "      <td id=\"T_694ab_row5_col0\" class=\"data row5 col0\" >165034.000000</td>\n",
       "      <td id=\"T_694ab_row5_col1\" class=\"data row5 col1\" >55478.086689</td>\n",
       "      <td id=\"T_694ab_row5_col2\" class=\"data row5 col2\" >62817.663278</td>\n",
       "      <td id=\"T_694ab_row5_col3\" class=\"data row5 col3\" >0.000000</td>\n",
       "      <td id=\"T_694ab_row5_col4\" class=\"data row5 col4\" >0.000000</td>\n",
       "      <td id=\"T_694ab_row5_col5\" class=\"data row5 col5\" >0.000000</td>\n",
       "      <td id=\"T_694ab_row5_col6\" class=\"data row5 col6\" >119939.517500</td>\n",
       "      <td id=\"T_694ab_row5_col7\" class=\"data row5 col7\" >250898.090000</td>\n",
       "    </tr>\n",
       "    <tr>\n",
       "      <th id=\"T_694ab_level0_row6\" class=\"row_heading level0 row6\" >NumOfProducts</th>\n",
       "      <td id=\"T_694ab_row6_col0\" class=\"data row6 col0\" >165034.000000</td>\n",
       "      <td id=\"T_694ab_row6_col1\" class=\"data row6 col1\" >1.554455</td>\n",
       "      <td id=\"T_694ab_row6_col2\" class=\"data row6 col2\" >0.547154</td>\n",
       "      <td id=\"T_694ab_row6_col3\" class=\"data row6 col3\" >1.000000</td>\n",
       "      <td id=\"T_694ab_row6_col4\" class=\"data row6 col4\" >1.000000</td>\n",
       "      <td id=\"T_694ab_row6_col5\" class=\"data row6 col5\" >2.000000</td>\n",
       "      <td id=\"T_694ab_row6_col6\" class=\"data row6 col6\" >2.000000</td>\n",
       "      <td id=\"T_694ab_row6_col7\" class=\"data row6 col7\" >4.000000</td>\n",
       "    </tr>\n",
       "    <tr>\n",
       "      <th id=\"T_694ab_level0_row7\" class=\"row_heading level0 row7\" >HasCrCard</th>\n",
       "      <td id=\"T_694ab_row7_col0\" class=\"data row7 col0\" >165034.000000</td>\n",
       "      <td id=\"T_694ab_row7_col1\" class=\"data row7 col1\" >0.753954</td>\n",
       "      <td id=\"T_694ab_row7_col2\" class=\"data row7 col2\" >0.430707</td>\n",
       "      <td id=\"T_694ab_row7_col3\" class=\"data row7 col3\" >0.000000</td>\n",
       "      <td id=\"T_694ab_row7_col4\" class=\"data row7 col4\" >1.000000</td>\n",
       "      <td id=\"T_694ab_row7_col5\" class=\"data row7 col5\" >1.000000</td>\n",
       "      <td id=\"T_694ab_row7_col6\" class=\"data row7 col6\" >1.000000</td>\n",
       "      <td id=\"T_694ab_row7_col7\" class=\"data row7 col7\" >1.000000</td>\n",
       "    </tr>\n",
       "    <tr>\n",
       "      <th id=\"T_694ab_level0_row8\" class=\"row_heading level0 row8\" >IsActiveMember</th>\n",
       "      <td id=\"T_694ab_row8_col0\" class=\"data row8 col0\" >165034.000000</td>\n",
       "      <td id=\"T_694ab_row8_col1\" class=\"data row8 col1\" >0.497770</td>\n",
       "      <td id=\"T_694ab_row8_col2\" class=\"data row8 col2\" >0.499997</td>\n",
       "      <td id=\"T_694ab_row8_col3\" class=\"data row8 col3\" >0.000000</td>\n",
       "      <td id=\"T_694ab_row8_col4\" class=\"data row8 col4\" >0.000000</td>\n",
       "      <td id=\"T_694ab_row8_col5\" class=\"data row8 col5\" >0.000000</td>\n",
       "      <td id=\"T_694ab_row8_col6\" class=\"data row8 col6\" >1.000000</td>\n",
       "      <td id=\"T_694ab_row8_col7\" class=\"data row8 col7\" >1.000000</td>\n",
       "    </tr>\n",
       "    <tr>\n",
       "      <th id=\"T_694ab_level0_row9\" class=\"row_heading level0 row9\" >EstimatedSalary</th>\n",
       "      <td id=\"T_694ab_row9_col0\" class=\"data row9 col0\" >165034.000000</td>\n",
       "      <td id=\"T_694ab_row9_col1\" class=\"data row9 col1\" >112574.822734</td>\n",
       "      <td id=\"T_694ab_row9_col2\" class=\"data row9 col2\" >50292.865585</td>\n",
       "      <td id=\"T_694ab_row9_col3\" class=\"data row9 col3\" >11.580000</td>\n",
       "      <td id=\"T_694ab_row9_col4\" class=\"data row9 col4\" >74637.570000</td>\n",
       "      <td id=\"T_694ab_row9_col5\" class=\"data row9 col5\" >117948.000000</td>\n",
       "      <td id=\"T_694ab_row9_col6\" class=\"data row9 col6\" >155152.467500</td>\n",
       "      <td id=\"T_694ab_row9_col7\" class=\"data row9 col7\" >199992.480000</td>\n",
       "    </tr>\n",
       "    <tr>\n",
       "      <th id=\"T_694ab_level0_row10\" class=\"row_heading level0 row10\" >Exited</th>\n",
       "      <td id=\"T_694ab_row10_col0\" class=\"data row10 col0\" >165034.000000</td>\n",
       "      <td id=\"T_694ab_row10_col1\" class=\"data row10 col1\" >0.211599</td>\n",
       "      <td id=\"T_694ab_row10_col2\" class=\"data row10 col2\" >0.408443</td>\n",
       "      <td id=\"T_694ab_row10_col3\" class=\"data row10 col3\" >0.000000</td>\n",
       "      <td id=\"T_694ab_row10_col4\" class=\"data row10 col4\" >0.000000</td>\n",
       "      <td id=\"T_694ab_row10_col5\" class=\"data row10 col5\" >0.000000</td>\n",
       "      <td id=\"T_694ab_row10_col6\" class=\"data row10 col6\" >0.000000</td>\n",
       "      <td id=\"T_694ab_row10_col7\" class=\"data row10 col7\" >1.000000</td>\n",
       "    </tr>\n",
       "  </tbody>\n",
       "</table>\n"
      ],
      "text/plain": [
       "<pandas.io.formats.style.Styler at 0x7f1c0d267d00>"
      ]
     },
     "execution_count": 6,
     "metadata": {},
     "output_type": "execute_result"
    }
   ],
   "source": [
    " train_data.describe().T.style.background_gradient(cmap='viridis', axis=0)\n"
   ]
  },
  {
   "cell_type": "markdown",
   "id": "283aa5ad",
   "metadata": {
    "papermill": {
     "duration": 0.008351,
     "end_time": "2024-01-06T14:13:08.588963",
     "exception": false,
     "start_time": "2024-01-06T14:13:08.580612",
     "status": "completed"
    },
    "tags": []
   },
   "source": [
    "***1.2 Test Data***"
   ]
  },
  {
   "cell_type": "code",
   "execution_count": 7,
   "id": "ef13bbe4",
   "metadata": {
    "execution": {
     "iopub.execute_input": "2024-01-06T14:13:08.608277Z",
     "iopub.status.busy": "2024-01-06T14:13:08.607959Z",
     "iopub.status.idle": "2024-01-06T14:13:08.628926Z",
     "shell.execute_reply": "2024-01-06T14:13:08.627924Z"
    },
    "papermill": {
     "duration": 0.033591,
     "end_time": "2024-01-06T14:13:08.631191",
     "exception": false,
     "start_time": "2024-01-06T14:13:08.597600",
     "status": "completed"
    },
    "tags": []
   },
   "outputs": [
    {
     "data": {
      "text/html": [
       "<div>\n",
       "<style scoped>\n",
       "    .dataframe tbody tr th:only-of-type {\n",
       "        vertical-align: middle;\n",
       "    }\n",
       "\n",
       "    .dataframe tbody tr th {\n",
       "        vertical-align: top;\n",
       "    }\n",
       "\n",
       "    .dataframe thead th {\n",
       "        text-align: right;\n",
       "    }\n",
       "</style>\n",
       "<table border=\"1\" class=\"dataframe\">\n",
       "  <thead>\n",
       "    <tr style=\"text-align: right;\">\n",
       "      <th></th>\n",
       "      <th>id</th>\n",
       "      <th>CustomerId</th>\n",
       "      <th>Surname</th>\n",
       "      <th>CreditScore</th>\n",
       "      <th>Geography</th>\n",
       "      <th>Gender</th>\n",
       "      <th>Age</th>\n",
       "      <th>Tenure</th>\n",
       "      <th>Balance</th>\n",
       "      <th>NumOfProducts</th>\n",
       "      <th>HasCrCard</th>\n",
       "      <th>IsActiveMember</th>\n",
       "      <th>EstimatedSalary</th>\n",
       "    </tr>\n",
       "  </thead>\n",
       "  <tbody>\n",
       "    <tr>\n",
       "      <th>0</th>\n",
       "      <td>165034</td>\n",
       "      <td>15773898</td>\n",
       "      <td>Lucchese</td>\n",
       "      <td>586</td>\n",
       "      <td>France</td>\n",
       "      <td>Female</td>\n",
       "      <td>23.0</td>\n",
       "      <td>2</td>\n",
       "      <td>0.00</td>\n",
       "      <td>2</td>\n",
       "      <td>0.0</td>\n",
       "      <td>1.0</td>\n",
       "      <td>160976.75</td>\n",
       "    </tr>\n",
       "    <tr>\n",
       "      <th>1</th>\n",
       "      <td>165035</td>\n",
       "      <td>15782418</td>\n",
       "      <td>Nott</td>\n",
       "      <td>683</td>\n",
       "      <td>France</td>\n",
       "      <td>Female</td>\n",
       "      <td>46.0</td>\n",
       "      <td>2</td>\n",
       "      <td>0.00</td>\n",
       "      <td>1</td>\n",
       "      <td>1.0</td>\n",
       "      <td>0.0</td>\n",
       "      <td>72549.27</td>\n",
       "    </tr>\n",
       "    <tr>\n",
       "      <th>2</th>\n",
       "      <td>165036</td>\n",
       "      <td>15807120</td>\n",
       "      <td>K?</td>\n",
       "      <td>656</td>\n",
       "      <td>France</td>\n",
       "      <td>Female</td>\n",
       "      <td>34.0</td>\n",
       "      <td>7</td>\n",
       "      <td>0.00</td>\n",
       "      <td>2</td>\n",
       "      <td>1.0</td>\n",
       "      <td>0.0</td>\n",
       "      <td>138882.09</td>\n",
       "    </tr>\n",
       "    <tr>\n",
       "      <th>3</th>\n",
       "      <td>165037</td>\n",
       "      <td>15808905</td>\n",
       "      <td>O'Donnell</td>\n",
       "      <td>681</td>\n",
       "      <td>France</td>\n",
       "      <td>Male</td>\n",
       "      <td>36.0</td>\n",
       "      <td>8</td>\n",
       "      <td>0.00</td>\n",
       "      <td>1</td>\n",
       "      <td>1.0</td>\n",
       "      <td>0.0</td>\n",
       "      <td>113931.57</td>\n",
       "    </tr>\n",
       "    <tr>\n",
       "      <th>4</th>\n",
       "      <td>165038</td>\n",
       "      <td>15607314</td>\n",
       "      <td>Higgins</td>\n",
       "      <td>752</td>\n",
       "      <td>Germany</td>\n",
       "      <td>Male</td>\n",
       "      <td>38.0</td>\n",
       "      <td>10</td>\n",
       "      <td>121263.62</td>\n",
       "      <td>1</td>\n",
       "      <td>1.0</td>\n",
       "      <td>0.0</td>\n",
       "      <td>139431.00</td>\n",
       "    </tr>\n",
       "    <tr>\n",
       "      <th>5</th>\n",
       "      <td>165039</td>\n",
       "      <td>15672704</td>\n",
       "      <td>Pearson</td>\n",
       "      <td>593</td>\n",
       "      <td>France</td>\n",
       "      <td>Female</td>\n",
       "      <td>22.0</td>\n",
       "      <td>9</td>\n",
       "      <td>0.00</td>\n",
       "      <td>2</td>\n",
       "      <td>0.0</td>\n",
       "      <td>0.0</td>\n",
       "      <td>51907.72</td>\n",
       "    </tr>\n",
       "    <tr>\n",
       "      <th>6</th>\n",
       "      <td>165040</td>\n",
       "      <td>15647838</td>\n",
       "      <td>Onyemere</td>\n",
       "      <td>682</td>\n",
       "      <td>Spain</td>\n",
       "      <td>Male</td>\n",
       "      <td>45.0</td>\n",
       "      <td>4</td>\n",
       "      <td>0.00</td>\n",
       "      <td>2</td>\n",
       "      <td>1.0</td>\n",
       "      <td>1.0</td>\n",
       "      <td>157878.67</td>\n",
       "    </tr>\n",
       "    <tr>\n",
       "      <th>7</th>\n",
       "      <td>165041</td>\n",
       "      <td>15775307</td>\n",
       "      <td>Hargreaves</td>\n",
       "      <td>539</td>\n",
       "      <td>Spain</td>\n",
       "      <td>Female</td>\n",
       "      <td>47.0</td>\n",
       "      <td>8</td>\n",
       "      <td>0.00</td>\n",
       "      <td>2</td>\n",
       "      <td>1.0</td>\n",
       "      <td>1.0</td>\n",
       "      <td>126784.29</td>\n",
       "    </tr>\n",
       "    <tr>\n",
       "      <th>8</th>\n",
       "      <td>165042</td>\n",
       "      <td>15653937</td>\n",
       "      <td>Hsueh</td>\n",
       "      <td>845</td>\n",
       "      <td>France</td>\n",
       "      <td>Female</td>\n",
       "      <td>47.0</td>\n",
       "      <td>3</td>\n",
       "      <td>111096.91</td>\n",
       "      <td>1</td>\n",
       "      <td>1.0</td>\n",
       "      <td>0.0</td>\n",
       "      <td>94978.10</td>\n",
       "    </tr>\n",
       "    <tr>\n",
       "      <th>9</th>\n",
       "      <td>165043</td>\n",
       "      <td>15752344</td>\n",
       "      <td>Teng</td>\n",
       "      <td>645</td>\n",
       "      <td>Spain</td>\n",
       "      <td>Male</td>\n",
       "      <td>30.0</td>\n",
       "      <td>5</td>\n",
       "      <td>0.00</td>\n",
       "      <td>2</td>\n",
       "      <td>0.0</td>\n",
       "      <td>1.0</td>\n",
       "      <td>149195.44</td>\n",
       "    </tr>\n",
       "  </tbody>\n",
       "</table>\n",
       "</div>"
      ],
      "text/plain": [
       "       id  CustomerId     Surname  CreditScore Geography  Gender   Age  \\\n",
       "0  165034    15773898    Lucchese          586    France  Female  23.0   \n",
       "1  165035    15782418        Nott          683    France  Female  46.0   \n",
       "2  165036    15807120          K?          656    France  Female  34.0   \n",
       "3  165037    15808905   O'Donnell          681    France    Male  36.0   \n",
       "4  165038    15607314     Higgins          752   Germany    Male  38.0   \n",
       "5  165039    15672704     Pearson          593    France  Female  22.0   \n",
       "6  165040    15647838    Onyemere          682     Spain    Male  45.0   \n",
       "7  165041    15775307  Hargreaves          539     Spain  Female  47.0   \n",
       "8  165042    15653937       Hsueh          845    France  Female  47.0   \n",
       "9  165043    15752344        Teng          645     Spain    Male  30.0   \n",
       "\n",
       "   Tenure    Balance  NumOfProducts  HasCrCard  IsActiveMember  \\\n",
       "0       2       0.00              2        0.0             1.0   \n",
       "1       2       0.00              1        1.0             0.0   \n",
       "2       7       0.00              2        1.0             0.0   \n",
       "3       8       0.00              1        1.0             0.0   \n",
       "4      10  121263.62              1        1.0             0.0   \n",
       "5       9       0.00              2        0.0             0.0   \n",
       "6       4       0.00              2        1.0             1.0   \n",
       "7       8       0.00              2        1.0             1.0   \n",
       "8       3  111096.91              1        1.0             0.0   \n",
       "9       5       0.00              2        0.0             1.0   \n",
       "\n",
       "   EstimatedSalary  \n",
       "0        160976.75  \n",
       "1         72549.27  \n",
       "2        138882.09  \n",
       "3        113931.57  \n",
       "4        139431.00  \n",
       "5         51907.72  \n",
       "6        157878.67  \n",
       "7        126784.29  \n",
       "8         94978.10  \n",
       "9        149195.44  "
      ]
     },
     "execution_count": 7,
     "metadata": {},
     "output_type": "execute_result"
    }
   ],
   "source": [
    "test_data.head(10)"
   ]
  },
  {
   "cell_type": "code",
   "execution_count": 8,
   "id": "6db932ae",
   "metadata": {
    "execution": {
     "iopub.execute_input": "2024-01-06T14:13:08.651118Z",
     "iopub.status.busy": "2024-01-06T14:13:08.650768Z",
     "iopub.status.idle": "2024-01-06T14:13:08.668154Z",
     "shell.execute_reply": "2024-01-06T14:13:08.667049Z"
    },
    "papermill": {
     "duration": 0.029435,
     "end_time": "2024-01-06T14:13:08.670172",
     "exception": false,
     "start_time": "2024-01-06T14:13:08.640737",
     "status": "completed"
    },
    "tags": []
   },
   "outputs": [
    {
     "name": "stdout",
     "output_type": "stream",
     "text": [
      "id                 0\n",
      "CustomerId         0\n",
      "Surname            0\n",
      "CreditScore        0\n",
      "Geography          0\n",
      "Gender             0\n",
      "Age                0\n",
      "Tenure             0\n",
      "Balance            0\n",
      "NumOfProducts      0\n",
      "HasCrCard          0\n",
      "IsActiveMember     0\n",
      "EstimatedSalary    0\n",
      "dtype: int64\n"
     ]
    }
   ],
   "source": [
    "print(test_data.isnull().sum())"
   ]
  },
  {
   "cell_type": "code",
   "execution_count": 9,
   "id": "9d1e3bbd",
   "metadata": {
    "execution": {
     "iopub.execute_input": "2024-01-06T14:13:08.690817Z",
     "iopub.status.busy": "2024-01-06T14:13:08.690444Z",
     "iopub.status.idle": "2024-01-06T14:13:08.753365Z",
     "shell.execute_reply": "2024-01-06T14:13:08.752096Z"
    },
    "papermill": {
     "duration": 0.075803,
     "end_time": "2024-01-06T14:13:08.755604",
     "exception": false,
     "start_time": "2024-01-06T14:13:08.679801",
     "status": "completed"
    },
    "tags": []
   },
   "outputs": [
    {
     "data": {
      "text/html": [
       "<style type=\"text/css\">\n",
       "#T_ff4b8_row0_col0, #T_ff4b8_row1_col0, #T_ff4b8_row2_col0, #T_ff4b8_row2_col1, #T_ff4b8_row2_col2, #T_ff4b8_row2_col3, #T_ff4b8_row2_col4, #T_ff4b8_row2_col5, #T_ff4b8_row2_col6, #T_ff4b8_row2_col7, #T_ff4b8_row3_col0, #T_ff4b8_row3_col1, #T_ff4b8_row3_col2, #T_ff4b8_row3_col3, #T_ff4b8_row3_col4, #T_ff4b8_row3_col5, #T_ff4b8_row3_col6, #T_ff4b8_row3_col7, #T_ff4b8_row4_col0, #T_ff4b8_row4_col1, #T_ff4b8_row4_col2, #T_ff4b8_row4_col3, #T_ff4b8_row4_col4, #T_ff4b8_row4_col5, #T_ff4b8_row4_col6, #T_ff4b8_row4_col7, #T_ff4b8_row5_col0, #T_ff4b8_row5_col1, #T_ff4b8_row5_col3, #T_ff4b8_row5_col4, #T_ff4b8_row5_col5, #T_ff4b8_row6_col0, #T_ff4b8_row6_col1, #T_ff4b8_row6_col2, #T_ff4b8_row6_col3, #T_ff4b8_row6_col4, #T_ff4b8_row6_col5, #T_ff4b8_row6_col6, #T_ff4b8_row6_col7, #T_ff4b8_row7_col0, #T_ff4b8_row7_col1, #T_ff4b8_row7_col2, #T_ff4b8_row7_col3, #T_ff4b8_row7_col4, #T_ff4b8_row7_col5, #T_ff4b8_row7_col6, #T_ff4b8_row7_col7, #T_ff4b8_row8_col0, #T_ff4b8_row8_col1, #T_ff4b8_row8_col2, #T_ff4b8_row8_col3, #T_ff4b8_row8_col4, #T_ff4b8_row8_col5, #T_ff4b8_row8_col6, #T_ff4b8_row8_col7, #T_ff4b8_row9_col0, #T_ff4b8_row9_col3 {\n",
       "  background-color: #440154;\n",
       "  color: #f1f1f1;\n",
       "}\n",
       "#T_ff4b8_row0_col1, #T_ff4b8_row0_col4, #T_ff4b8_row0_col5, #T_ff4b8_row9_col7 {\n",
       "  background-color: #450559;\n",
       "  color: #f1f1f1;\n",
       "}\n",
       "#T_ff4b8_row0_col2 {\n",
       "  background-color: #26828e;\n",
       "  color: #f1f1f1;\n",
       "}\n",
       "#T_ff4b8_row0_col3, #T_ff4b8_row9_col6 {\n",
       "  background-color: #450457;\n",
       "  color: #f1f1f1;\n",
       "}\n",
       "#T_ff4b8_row0_col6, #T_ff4b8_row0_col7, #T_ff4b8_row5_col7 {\n",
       "  background-color: #46075a;\n",
       "  color: #f1f1f1;\n",
       "}\n",
       "#T_ff4b8_row1_col1, #T_ff4b8_row1_col2, #T_ff4b8_row1_col3, #T_ff4b8_row1_col4, #T_ff4b8_row1_col5, #T_ff4b8_row1_col6, #T_ff4b8_row1_col7 {\n",
       "  background-color: #fde725;\n",
       "  color: #000000;\n",
       "}\n",
       "#T_ff4b8_row5_col2 {\n",
       "  background-color: #addc30;\n",
       "  color: #000000;\n",
       "}\n",
       "#T_ff4b8_row5_col6, #T_ff4b8_row9_col1, #T_ff4b8_row9_col4, #T_ff4b8_row9_col5 {\n",
       "  background-color: #440256;\n",
       "  color: #f1f1f1;\n",
       "}\n",
       "#T_ff4b8_row9_col2 {\n",
       "  background-color: #44bf70;\n",
       "  color: #f1f1f1;\n",
       "}\n",
       "</style>\n",
       "<table id=\"T_ff4b8\">\n",
       "  <thead>\n",
       "    <tr>\n",
       "      <th class=\"blank level0\" >&nbsp;</th>\n",
       "      <th id=\"T_ff4b8_level0_col0\" class=\"col_heading level0 col0\" >count</th>\n",
       "      <th id=\"T_ff4b8_level0_col1\" class=\"col_heading level0 col1\" >mean</th>\n",
       "      <th id=\"T_ff4b8_level0_col2\" class=\"col_heading level0 col2\" >std</th>\n",
       "      <th id=\"T_ff4b8_level0_col3\" class=\"col_heading level0 col3\" >min</th>\n",
       "      <th id=\"T_ff4b8_level0_col4\" class=\"col_heading level0 col4\" >25%</th>\n",
       "      <th id=\"T_ff4b8_level0_col5\" class=\"col_heading level0 col5\" >50%</th>\n",
       "      <th id=\"T_ff4b8_level0_col6\" class=\"col_heading level0 col6\" >75%</th>\n",
       "      <th id=\"T_ff4b8_level0_col7\" class=\"col_heading level0 col7\" >max</th>\n",
       "    </tr>\n",
       "  </thead>\n",
       "  <tbody>\n",
       "    <tr>\n",
       "      <th id=\"T_ff4b8_level0_row0\" class=\"row_heading level0 row0\" >id</th>\n",
       "      <td id=\"T_ff4b8_row0_col0\" class=\"data row0 col0\" >110023.000000</td>\n",
       "      <td id=\"T_ff4b8_row0_col1\" class=\"data row0 col1\" >220045.000000</td>\n",
       "      <td id=\"T_ff4b8_row0_col2\" class=\"data row0 col2\" >31761.048671</td>\n",
       "      <td id=\"T_ff4b8_row0_col3\" class=\"data row0 col3\" >165034.000000</td>\n",
       "      <td id=\"T_ff4b8_row0_col4\" class=\"data row0 col4\" >192539.500000</td>\n",
       "      <td id=\"T_ff4b8_row0_col5\" class=\"data row0 col5\" >220045.000000</td>\n",
       "      <td id=\"T_ff4b8_row0_col6\" class=\"data row0 col6\" >247550.500000</td>\n",
       "      <td id=\"T_ff4b8_row0_col7\" class=\"data row0 col7\" >275056.000000</td>\n",
       "    </tr>\n",
       "    <tr>\n",
       "      <th id=\"T_ff4b8_level0_row1\" class=\"row_heading level0 row1\" >CustomerId</th>\n",
       "      <td id=\"T_ff4b8_row1_col0\" class=\"data row1 col0\" >110023.000000</td>\n",
       "      <td id=\"T_ff4b8_row1_col1\" class=\"data row1 col1\" >15692096.605101</td>\n",
       "      <td id=\"T_ff4b8_row1_col2\" class=\"data row1 col2\" >71684.990992</td>\n",
       "      <td id=\"T_ff4b8_row1_col3\" class=\"data row1 col3\" >15565701.000000</td>\n",
       "      <td id=\"T_ff4b8_row1_col4\" class=\"data row1 col4\" >15632859.000000</td>\n",
       "      <td id=\"T_ff4b8_row1_col5\" class=\"data row1 col5\" >15690175.000000</td>\n",
       "      <td id=\"T_ff4b8_row1_col6\" class=\"data row1 col6\" >15756926.000000</td>\n",
       "      <td id=\"T_ff4b8_row1_col7\" class=\"data row1 col7\" >15815690.000000</td>\n",
       "    </tr>\n",
       "    <tr>\n",
       "      <th id=\"T_ff4b8_level0_row2\" class=\"row_heading level0 row2\" >CreditScore</th>\n",
       "      <td id=\"T_ff4b8_row2_col0\" class=\"data row2 col0\" >110023.000000</td>\n",
       "      <td id=\"T_ff4b8_row2_col1\" class=\"data row2 col1\" >656.530789</td>\n",
       "      <td id=\"T_ff4b8_row2_col2\" class=\"data row2 col2\" >80.315415</td>\n",
       "      <td id=\"T_ff4b8_row2_col3\" class=\"data row2 col3\" >350.000000</td>\n",
       "      <td id=\"T_ff4b8_row2_col4\" class=\"data row2 col4\" >597.000000</td>\n",
       "      <td id=\"T_ff4b8_row2_col5\" class=\"data row2 col5\" >660.000000</td>\n",
       "      <td id=\"T_ff4b8_row2_col6\" class=\"data row2 col6\" >710.000000</td>\n",
       "      <td id=\"T_ff4b8_row2_col7\" class=\"data row2 col7\" >850.000000</td>\n",
       "    </tr>\n",
       "    <tr>\n",
       "      <th id=\"T_ff4b8_level0_row3\" class=\"row_heading level0 row3\" >Age</th>\n",
       "      <td id=\"T_ff4b8_row3_col0\" class=\"data row3 col0\" >110023.000000</td>\n",
       "      <td id=\"T_ff4b8_row3_col1\" class=\"data row3 col1\" >38.122205</td>\n",
       "      <td id=\"T_ff4b8_row3_col2\" class=\"data row3 col2\" >8.861550</td>\n",
       "      <td id=\"T_ff4b8_row3_col3\" class=\"data row3 col3\" >18.000000</td>\n",
       "      <td id=\"T_ff4b8_row3_col4\" class=\"data row3 col4\" >32.000000</td>\n",
       "      <td id=\"T_ff4b8_row3_col5\" class=\"data row3 col5\" >37.000000</td>\n",
       "      <td id=\"T_ff4b8_row3_col6\" class=\"data row3 col6\" >42.000000</td>\n",
       "      <td id=\"T_ff4b8_row3_col7\" class=\"data row3 col7\" >92.000000</td>\n",
       "    </tr>\n",
       "    <tr>\n",
       "      <th id=\"T_ff4b8_level0_row4\" class=\"row_heading level0 row4\" >Tenure</th>\n",
       "      <td id=\"T_ff4b8_row4_col0\" class=\"data row4 col0\" >110023.000000</td>\n",
       "      <td id=\"T_ff4b8_row4_col1\" class=\"data row4 col1\" >4.996637</td>\n",
       "      <td id=\"T_ff4b8_row4_col2\" class=\"data row4 col2\" >2.806148</td>\n",
       "      <td id=\"T_ff4b8_row4_col3\" class=\"data row4 col3\" >0.000000</td>\n",
       "      <td id=\"T_ff4b8_row4_col4\" class=\"data row4 col4\" >3.000000</td>\n",
       "      <td id=\"T_ff4b8_row4_col5\" class=\"data row4 col5\" >5.000000</td>\n",
       "      <td id=\"T_ff4b8_row4_col6\" class=\"data row4 col6\" >7.000000</td>\n",
       "      <td id=\"T_ff4b8_row4_col7\" class=\"data row4 col7\" >10.000000</td>\n",
       "    </tr>\n",
       "    <tr>\n",
       "      <th id=\"T_ff4b8_level0_row5\" class=\"row_heading level0 row5\" >Balance</th>\n",
       "      <td id=\"T_ff4b8_row5_col0\" class=\"data row5 col0\" >110023.000000</td>\n",
       "      <td id=\"T_ff4b8_row5_col1\" class=\"data row5 col1\" >55333.611354</td>\n",
       "      <td id=\"T_ff4b8_row5_col2\" class=\"data row5 col2\" >62788.519675</td>\n",
       "      <td id=\"T_ff4b8_row5_col3\" class=\"data row5 col3\" >0.000000</td>\n",
       "      <td id=\"T_ff4b8_row5_col4\" class=\"data row5 col4\" >0.000000</td>\n",
       "      <td id=\"T_ff4b8_row5_col5\" class=\"data row5 col5\" >0.000000</td>\n",
       "      <td id=\"T_ff4b8_row5_col6\" class=\"data row5 col6\" >120145.605000</td>\n",
       "      <td id=\"T_ff4b8_row5_col7\" class=\"data row5 col7\" >250898.090000</td>\n",
       "    </tr>\n",
       "    <tr>\n",
       "      <th id=\"T_ff4b8_level0_row6\" class=\"row_heading level0 row6\" >NumOfProducts</th>\n",
       "      <td id=\"T_ff4b8_row6_col0\" class=\"data row6 col0\" >110023.000000</td>\n",
       "      <td id=\"T_ff4b8_row6_col1\" class=\"data row6 col1\" >1.553321</td>\n",
       "      <td id=\"T_ff4b8_row6_col2\" class=\"data row6 col2\" >0.544714</td>\n",
       "      <td id=\"T_ff4b8_row6_col3\" class=\"data row6 col3\" >1.000000</td>\n",
       "      <td id=\"T_ff4b8_row6_col4\" class=\"data row6 col4\" >1.000000</td>\n",
       "      <td id=\"T_ff4b8_row6_col5\" class=\"data row6 col5\" >2.000000</td>\n",
       "      <td id=\"T_ff4b8_row6_col6\" class=\"data row6 col6\" >2.000000</td>\n",
       "      <td id=\"T_ff4b8_row6_col7\" class=\"data row6 col7\" >4.000000</td>\n",
       "    </tr>\n",
       "    <tr>\n",
       "      <th id=\"T_ff4b8_level0_row7\" class=\"row_heading level0 row7\" >HasCrCard</th>\n",
       "      <td id=\"T_ff4b8_row7_col0\" class=\"data row7 col0\" >110023.000000</td>\n",
       "      <td id=\"T_ff4b8_row7_col1\" class=\"data row7 col1\" >0.753043</td>\n",
       "      <td id=\"T_ff4b8_row7_col2\" class=\"data row7 col2\" >0.431244</td>\n",
       "      <td id=\"T_ff4b8_row7_col3\" class=\"data row7 col3\" >0.000000</td>\n",
       "      <td id=\"T_ff4b8_row7_col4\" class=\"data row7 col4\" >1.000000</td>\n",
       "      <td id=\"T_ff4b8_row7_col5\" class=\"data row7 col5\" >1.000000</td>\n",
       "      <td id=\"T_ff4b8_row7_col6\" class=\"data row7 col6\" >1.000000</td>\n",
       "      <td id=\"T_ff4b8_row7_col7\" class=\"data row7 col7\" >1.000000</td>\n",
       "    </tr>\n",
       "    <tr>\n",
       "      <th id=\"T_ff4b8_level0_row8\" class=\"row_heading level0 row8\" >IsActiveMember</th>\n",
       "      <td id=\"T_ff4b8_row8_col0\" class=\"data row8 col0\" >110023.000000</td>\n",
       "      <td id=\"T_ff4b8_row8_col1\" class=\"data row8 col1\" >0.495233</td>\n",
       "      <td id=\"T_ff4b8_row8_col2\" class=\"data row8 col2\" >0.499980</td>\n",
       "      <td id=\"T_ff4b8_row8_col3\" class=\"data row8 col3\" >0.000000</td>\n",
       "      <td id=\"T_ff4b8_row8_col4\" class=\"data row8 col4\" >0.000000</td>\n",
       "      <td id=\"T_ff4b8_row8_col5\" class=\"data row8 col5\" >0.000000</td>\n",
       "      <td id=\"T_ff4b8_row8_col6\" class=\"data row8 col6\" >1.000000</td>\n",
       "      <td id=\"T_ff4b8_row8_col7\" class=\"data row8 col7\" >1.000000</td>\n",
       "    </tr>\n",
       "    <tr>\n",
       "      <th id=\"T_ff4b8_level0_row9\" class=\"row_heading level0 row9\" >EstimatedSalary</th>\n",
       "      <td id=\"T_ff4b8_row9_col0\" class=\"data row9 col0\" >110023.000000</td>\n",
       "      <td id=\"T_ff4b8_row9_col1\" class=\"data row9 col1\" >112315.147765</td>\n",
       "      <td id=\"T_ff4b8_row9_col2\" class=\"data row9 col2\" >50277.048244</td>\n",
       "      <td id=\"T_ff4b8_row9_col3\" class=\"data row9 col3\" >11.580000</td>\n",
       "      <td id=\"T_ff4b8_row9_col4\" class=\"data row9 col4\" >74440.325000</td>\n",
       "      <td id=\"T_ff4b8_row9_col5\" class=\"data row9 col5\" >117832.230000</td>\n",
       "      <td id=\"T_ff4b8_row9_col6\" class=\"data row9 col6\" >154631.350000</td>\n",
       "      <td id=\"T_ff4b8_row9_col7\" class=\"data row9 col7\" >199992.480000</td>\n",
       "    </tr>\n",
       "  </tbody>\n",
       "</table>\n"
      ],
      "text/plain": [
       "<pandas.io.formats.style.Styler at 0x7f1c1b1e8250>"
      ]
     },
     "execution_count": 9,
     "metadata": {},
     "output_type": "execute_result"
    }
   ],
   "source": [
    "test_data.describe().T.style.background_gradient(cmap='viridis', axis=0)"
   ]
  },
  {
   "cell_type": "markdown",
   "id": "34240aea",
   "metadata": {
    "papermill": {
     "duration": 0.009802,
     "end_time": "2024-01-06T14:13:08.775894",
     "exception": false,
     "start_time": "2024-01-06T14:13:08.766092",
     "status": "completed"
    },
    "tags": []
   },
   "source": [
    "***1.3 Original Data***"
   ]
  },
  {
   "cell_type": "code",
   "execution_count": 10,
   "id": "667bb716",
   "metadata": {
    "execution": {
     "iopub.execute_input": "2024-01-06T14:13:08.797200Z",
     "iopub.status.busy": "2024-01-06T14:13:08.796846Z",
     "iopub.status.idle": "2024-01-06T14:13:08.816950Z",
     "shell.execute_reply": "2024-01-06T14:13:08.816015Z"
    },
    "papermill": {
     "duration": 0.033475,
     "end_time": "2024-01-06T14:13:08.819270",
     "exception": false,
     "start_time": "2024-01-06T14:13:08.785795",
     "status": "completed"
    },
    "tags": []
   },
   "outputs": [
    {
     "data": {
      "text/html": [
       "<div>\n",
       "<style scoped>\n",
       "    .dataframe tbody tr th:only-of-type {\n",
       "        vertical-align: middle;\n",
       "    }\n",
       "\n",
       "    .dataframe tbody tr th {\n",
       "        vertical-align: top;\n",
       "    }\n",
       "\n",
       "    .dataframe thead th {\n",
       "        text-align: right;\n",
       "    }\n",
       "</style>\n",
       "<table border=\"1\" class=\"dataframe\">\n",
       "  <thead>\n",
       "    <tr style=\"text-align: right;\">\n",
       "      <th></th>\n",
       "      <th>RowNumber</th>\n",
       "      <th>CustomerId</th>\n",
       "      <th>Surname</th>\n",
       "      <th>CreditScore</th>\n",
       "      <th>Geography</th>\n",
       "      <th>Gender</th>\n",
       "      <th>Age</th>\n",
       "      <th>Tenure</th>\n",
       "      <th>Balance</th>\n",
       "      <th>NumOfProducts</th>\n",
       "      <th>HasCrCard</th>\n",
       "      <th>IsActiveMember</th>\n",
       "      <th>EstimatedSalary</th>\n",
       "      <th>Exited</th>\n",
       "    </tr>\n",
       "  </thead>\n",
       "  <tbody>\n",
       "    <tr>\n",
       "      <th>0</th>\n",
       "      <td>1</td>\n",
       "      <td>15634602</td>\n",
       "      <td>Hargrave</td>\n",
       "      <td>619</td>\n",
       "      <td>France</td>\n",
       "      <td>Female</td>\n",
       "      <td>42.0</td>\n",
       "      <td>2</td>\n",
       "      <td>0.00</td>\n",
       "      <td>1</td>\n",
       "      <td>1.0</td>\n",
       "      <td>1.0</td>\n",
       "      <td>101348.88</td>\n",
       "      <td>1</td>\n",
       "    </tr>\n",
       "    <tr>\n",
       "      <th>1</th>\n",
       "      <td>2</td>\n",
       "      <td>15647311</td>\n",
       "      <td>Hill</td>\n",
       "      <td>608</td>\n",
       "      <td>Spain</td>\n",
       "      <td>Female</td>\n",
       "      <td>41.0</td>\n",
       "      <td>1</td>\n",
       "      <td>83807.86</td>\n",
       "      <td>1</td>\n",
       "      <td>0.0</td>\n",
       "      <td>1.0</td>\n",
       "      <td>112542.58</td>\n",
       "      <td>0</td>\n",
       "    </tr>\n",
       "    <tr>\n",
       "      <th>2</th>\n",
       "      <td>3</td>\n",
       "      <td>15619304</td>\n",
       "      <td>Onio</td>\n",
       "      <td>502</td>\n",
       "      <td>France</td>\n",
       "      <td>Female</td>\n",
       "      <td>42.0</td>\n",
       "      <td>8</td>\n",
       "      <td>159660.80</td>\n",
       "      <td>3</td>\n",
       "      <td>1.0</td>\n",
       "      <td>0.0</td>\n",
       "      <td>113931.57</td>\n",
       "      <td>1</td>\n",
       "    </tr>\n",
       "    <tr>\n",
       "      <th>3</th>\n",
       "      <td>4</td>\n",
       "      <td>15701354</td>\n",
       "      <td>Boni</td>\n",
       "      <td>699</td>\n",
       "      <td>France</td>\n",
       "      <td>Female</td>\n",
       "      <td>39.0</td>\n",
       "      <td>1</td>\n",
       "      <td>0.00</td>\n",
       "      <td>2</td>\n",
       "      <td>0.0</td>\n",
       "      <td>0.0</td>\n",
       "      <td>93826.63</td>\n",
       "      <td>0</td>\n",
       "    </tr>\n",
       "    <tr>\n",
       "      <th>4</th>\n",
       "      <td>5</td>\n",
       "      <td>15737888</td>\n",
       "      <td>Mitchell</td>\n",
       "      <td>850</td>\n",
       "      <td>Spain</td>\n",
       "      <td>Female</td>\n",
       "      <td>43.0</td>\n",
       "      <td>2</td>\n",
       "      <td>125510.82</td>\n",
       "      <td>1</td>\n",
       "      <td>NaN</td>\n",
       "      <td>1.0</td>\n",
       "      <td>79084.10</td>\n",
       "      <td>0</td>\n",
       "    </tr>\n",
       "    <tr>\n",
       "      <th>5</th>\n",
       "      <td>6</td>\n",
       "      <td>15574012</td>\n",
       "      <td>Chu</td>\n",
       "      <td>645</td>\n",
       "      <td>Spain</td>\n",
       "      <td>Male</td>\n",
       "      <td>44.0</td>\n",
       "      <td>8</td>\n",
       "      <td>113755.78</td>\n",
       "      <td>2</td>\n",
       "      <td>1.0</td>\n",
       "      <td>0.0</td>\n",
       "      <td>149756.71</td>\n",
       "      <td>1</td>\n",
       "    </tr>\n",
       "    <tr>\n",
       "      <th>6</th>\n",
       "      <td>7</td>\n",
       "      <td>15592531</td>\n",
       "      <td>Bartlett</td>\n",
       "      <td>822</td>\n",
       "      <td>NaN</td>\n",
       "      <td>Male</td>\n",
       "      <td>50.0</td>\n",
       "      <td>7</td>\n",
       "      <td>0.00</td>\n",
       "      <td>2</td>\n",
       "      <td>1.0</td>\n",
       "      <td>1.0</td>\n",
       "      <td>10062.80</td>\n",
       "      <td>0</td>\n",
       "    </tr>\n",
       "    <tr>\n",
       "      <th>7</th>\n",
       "      <td>8</td>\n",
       "      <td>15656148</td>\n",
       "      <td>Obinna</td>\n",
       "      <td>376</td>\n",
       "      <td>Germany</td>\n",
       "      <td>Female</td>\n",
       "      <td>29.0</td>\n",
       "      <td>4</td>\n",
       "      <td>115046.74</td>\n",
       "      <td>4</td>\n",
       "      <td>1.0</td>\n",
       "      <td>0.0</td>\n",
       "      <td>119346.88</td>\n",
       "      <td>1</td>\n",
       "    </tr>\n",
       "    <tr>\n",
       "      <th>8</th>\n",
       "      <td>9</td>\n",
       "      <td>15792365</td>\n",
       "      <td>He</td>\n",
       "      <td>501</td>\n",
       "      <td>France</td>\n",
       "      <td>Male</td>\n",
       "      <td>44.0</td>\n",
       "      <td>4</td>\n",
       "      <td>142051.07</td>\n",
       "      <td>2</td>\n",
       "      <td>0.0</td>\n",
       "      <td>NaN</td>\n",
       "      <td>74940.50</td>\n",
       "      <td>0</td>\n",
       "    </tr>\n",
       "    <tr>\n",
       "      <th>9</th>\n",
       "      <td>10</td>\n",
       "      <td>15592389</td>\n",
       "      <td>H?</td>\n",
       "      <td>684</td>\n",
       "      <td>France</td>\n",
       "      <td>Male</td>\n",
       "      <td>NaN</td>\n",
       "      <td>2</td>\n",
       "      <td>134603.88</td>\n",
       "      <td>1</td>\n",
       "      <td>1.0</td>\n",
       "      <td>1.0</td>\n",
       "      <td>71725.73</td>\n",
       "      <td>0</td>\n",
       "    </tr>\n",
       "  </tbody>\n",
       "</table>\n",
       "</div>"
      ],
      "text/plain": [
       "   RowNumber  CustomerId   Surname  CreditScore Geography  Gender   Age  \\\n",
       "0          1    15634602  Hargrave          619    France  Female  42.0   \n",
       "1          2    15647311      Hill          608     Spain  Female  41.0   \n",
       "2          3    15619304      Onio          502    France  Female  42.0   \n",
       "3          4    15701354      Boni          699    France  Female  39.0   \n",
       "4          5    15737888  Mitchell          850     Spain  Female  43.0   \n",
       "5          6    15574012       Chu          645     Spain    Male  44.0   \n",
       "6          7    15592531  Bartlett          822       NaN    Male  50.0   \n",
       "7          8    15656148    Obinna          376   Germany  Female  29.0   \n",
       "8          9    15792365        He          501    France    Male  44.0   \n",
       "9         10    15592389        H?          684    France    Male   NaN   \n",
       "\n",
       "   Tenure    Balance  NumOfProducts  HasCrCard  IsActiveMember  \\\n",
       "0       2       0.00              1        1.0             1.0   \n",
       "1       1   83807.86              1        0.0             1.0   \n",
       "2       8  159660.80              3        1.0             0.0   \n",
       "3       1       0.00              2        0.0             0.0   \n",
       "4       2  125510.82              1        NaN             1.0   \n",
       "5       8  113755.78              2        1.0             0.0   \n",
       "6       7       0.00              2        1.0             1.0   \n",
       "7       4  115046.74              4        1.0             0.0   \n",
       "8       4  142051.07              2        0.0             NaN   \n",
       "9       2  134603.88              1        1.0             1.0   \n",
       "\n",
       "   EstimatedSalary  Exited  \n",
       "0        101348.88       1  \n",
       "1        112542.58       0  \n",
       "2        113931.57       1  \n",
       "3         93826.63       0  \n",
       "4         79084.10       0  \n",
       "5        149756.71       1  \n",
       "6         10062.80       0  \n",
       "7        119346.88       1  \n",
       "8         74940.50       0  \n",
       "9         71725.73       0  "
      ]
     },
     "execution_count": 10,
     "metadata": {},
     "output_type": "execute_result"
    }
   ],
   "source": [
    "original_data.head(10)"
   ]
  },
  {
   "cell_type": "code",
   "execution_count": 11,
   "id": "e3178ef5",
   "metadata": {
    "execution": {
     "iopub.execute_input": "2024-01-06T14:13:08.898617Z",
     "iopub.status.busy": "2024-01-06T14:13:08.898249Z",
     "iopub.status.idle": "2024-01-06T14:13:08.905707Z",
     "shell.execute_reply": "2024-01-06T14:13:08.904772Z"
    },
    "papermill": {
     "duration": 0.02063,
     "end_time": "2024-01-06T14:13:08.907510",
     "exception": false,
     "start_time": "2024-01-06T14:13:08.886880",
     "status": "completed"
    },
    "tags": []
   },
   "outputs": [
    {
     "name": "stdout",
     "output_type": "stream",
     "text": [
      "RowNumber          0\n",
      "CustomerId         0\n",
      "Surname            0\n",
      "CreditScore        0\n",
      "Geography          1\n",
      "Gender             0\n",
      "Age                1\n",
      "Tenure             0\n",
      "Balance            0\n",
      "NumOfProducts      0\n",
      "HasCrCard          1\n",
      "IsActiveMember     1\n",
      "EstimatedSalary    0\n",
      "Exited             0\n",
      "dtype: int64\n"
     ]
    }
   ],
   "source": [
    "print(original_data.isnull().sum())"
   ]
  },
  {
   "cell_type": "markdown",
   "id": "4af9b886",
   "metadata": {
    "papermill": {
     "duration": 0.009772,
     "end_time": "2024-01-06T14:13:08.927754",
     "exception": false,
     "start_time": "2024-01-06T14:13:08.917982",
     "status": "completed"
    },
    "tags": []
   },
   "source": [
    "original data has some null values"
   ]
  },
  {
   "cell_type": "code",
   "execution_count": 12,
   "id": "fd21e49f",
   "metadata": {
    "execution": {
     "iopub.execute_input": "2024-01-06T14:13:08.949585Z",
     "iopub.status.busy": "2024-01-06T14:13:08.949228Z",
     "iopub.status.idle": "2024-01-06T14:13:08.990587Z",
     "shell.execute_reply": "2024-01-06T14:13:08.989884Z"
    },
    "papermill": {
     "duration": 0.054421,
     "end_time": "2024-01-06T14:13:08.992183",
     "exception": false,
     "start_time": "2024-01-06T14:13:08.937762",
     "status": "completed"
    },
    "tags": []
   },
   "outputs": [
    {
     "data": {
      "text/html": [
       "<style type=\"text/css\">\n",
       "#T_3eea8_row0_col0, #T_3eea8_row1_col0, #T_3eea8_row1_col1, #T_3eea8_row1_col2, #T_3eea8_row1_col3, #T_3eea8_row1_col4, #T_3eea8_row1_col5, #T_3eea8_row1_col6, #T_3eea8_row1_col7, #T_3eea8_row2_col0, #T_3eea8_row4_col0, #T_3eea8_row5_col0, #T_3eea8_row6_col0, #T_3eea8_row9_col0, #T_3eea8_row10_col0 {\n",
       "  background-color: #fde725;\n",
       "  color: #000000;\n",
       "}\n",
       "#T_3eea8_row0_col1, #T_3eea8_row0_col3, #T_3eea8_row0_col4, #T_3eea8_row0_col5, #T_3eea8_row0_col6, #T_3eea8_row0_col7, #T_3eea8_row2_col1, #T_3eea8_row2_col2, #T_3eea8_row2_col3, #T_3eea8_row2_col4, #T_3eea8_row2_col5, #T_3eea8_row2_col6, #T_3eea8_row2_col7, #T_3eea8_row3_col0, #T_3eea8_row3_col1, #T_3eea8_row3_col2, #T_3eea8_row3_col3, #T_3eea8_row3_col4, #T_3eea8_row3_col5, #T_3eea8_row3_col6, #T_3eea8_row3_col7, #T_3eea8_row4_col1, #T_3eea8_row4_col2, #T_3eea8_row4_col3, #T_3eea8_row4_col4, #T_3eea8_row4_col5, #T_3eea8_row4_col6, #T_3eea8_row4_col7, #T_3eea8_row5_col3, #T_3eea8_row5_col4, #T_3eea8_row6_col1, #T_3eea8_row6_col2, #T_3eea8_row6_col3, #T_3eea8_row6_col4, #T_3eea8_row6_col5, #T_3eea8_row6_col6, #T_3eea8_row6_col7, #T_3eea8_row7_col0, #T_3eea8_row7_col1, #T_3eea8_row7_col2, #T_3eea8_row7_col3, #T_3eea8_row7_col4, #T_3eea8_row7_col5, #T_3eea8_row7_col6, #T_3eea8_row7_col7, #T_3eea8_row8_col0, #T_3eea8_row8_col1, #T_3eea8_row8_col2, #T_3eea8_row8_col3, #T_3eea8_row8_col4, #T_3eea8_row8_col5, #T_3eea8_row8_col6, #T_3eea8_row8_col7, #T_3eea8_row9_col3, #T_3eea8_row9_col4, #T_3eea8_row10_col1, #T_3eea8_row10_col2, #T_3eea8_row10_col3, #T_3eea8_row10_col4, #T_3eea8_row10_col5, #T_3eea8_row10_col6, #T_3eea8_row10_col7 {\n",
       "  background-color: #440154;\n",
       "  color: #f1f1f1;\n",
       "}\n",
       "#T_3eea8_row0_col2 {\n",
       "  background-color: #471063;\n",
       "  color: #f1f1f1;\n",
       "}\n",
       "#T_3eea8_row5_col1, #T_3eea8_row5_col5, #T_3eea8_row9_col1, #T_3eea8_row9_col5 {\n",
       "  background-color: #440256;\n",
       "  color: #f1f1f1;\n",
       "}\n",
       "#T_3eea8_row5_col2 {\n",
       "  background-color: #a8db34;\n",
       "  color: #000000;\n",
       "}\n",
       "#T_3eea8_row5_col6, #T_3eea8_row9_col6 {\n",
       "  background-color: #450457;\n",
       "  color: #f1f1f1;\n",
       "}\n",
       "#T_3eea8_row5_col7 {\n",
       "  background-color: #46075a;\n",
       "  color: #f1f1f1;\n",
       "}\n",
       "#T_3eea8_row9_col2 {\n",
       "  background-color: #7ad151;\n",
       "  color: #000000;\n",
       "}\n",
       "#T_3eea8_row9_col7 {\n",
       "  background-color: #450559;\n",
       "  color: #f1f1f1;\n",
       "}\n",
       "</style>\n",
       "<table id=\"T_3eea8\">\n",
       "  <thead>\n",
       "    <tr>\n",
       "      <th class=\"blank level0\" >&nbsp;</th>\n",
       "      <th id=\"T_3eea8_level0_col0\" class=\"col_heading level0 col0\" >count</th>\n",
       "      <th id=\"T_3eea8_level0_col1\" class=\"col_heading level0 col1\" >mean</th>\n",
       "      <th id=\"T_3eea8_level0_col2\" class=\"col_heading level0 col2\" >std</th>\n",
       "      <th id=\"T_3eea8_level0_col3\" class=\"col_heading level0 col3\" >min</th>\n",
       "      <th id=\"T_3eea8_level0_col4\" class=\"col_heading level0 col4\" >25%</th>\n",
       "      <th id=\"T_3eea8_level0_col5\" class=\"col_heading level0 col5\" >50%</th>\n",
       "      <th id=\"T_3eea8_level0_col6\" class=\"col_heading level0 col6\" >75%</th>\n",
       "      <th id=\"T_3eea8_level0_col7\" class=\"col_heading level0 col7\" >max</th>\n",
       "    </tr>\n",
       "  </thead>\n",
       "  <tbody>\n",
       "    <tr>\n",
       "      <th id=\"T_3eea8_level0_row0\" class=\"row_heading level0 row0\" >RowNumber</th>\n",
       "      <td id=\"T_3eea8_row0_col0\" class=\"data row0 col0\" >10002.000000</td>\n",
       "      <td id=\"T_3eea8_row0_col1\" class=\"data row0 col1\" >5001.499600</td>\n",
       "      <td id=\"T_3eea8_row0_col2\" class=\"data row0 col2\" >2887.472338</td>\n",
       "      <td id=\"T_3eea8_row0_col3\" class=\"data row0 col3\" >1.000000</td>\n",
       "      <td id=\"T_3eea8_row0_col4\" class=\"data row0 col4\" >2501.250000</td>\n",
       "      <td id=\"T_3eea8_row0_col5\" class=\"data row0 col5\" >5001.500000</td>\n",
       "      <td id=\"T_3eea8_row0_col6\" class=\"data row0 col6\" >7501.750000</td>\n",
       "      <td id=\"T_3eea8_row0_col7\" class=\"data row0 col7\" >10000.000000</td>\n",
       "    </tr>\n",
       "    <tr>\n",
       "      <th id=\"T_3eea8_level0_row1\" class=\"row_heading level0 row1\" >CustomerId</th>\n",
       "      <td id=\"T_3eea8_row1_col0\" class=\"data row1 col0\" >10002.000000</td>\n",
       "      <td id=\"T_3eea8_row1_col1\" class=\"data row1 col1\" >15690933.450110</td>\n",
       "      <td id=\"T_3eea8_row1_col2\" class=\"data row1 col2\" >71931.769345</td>\n",
       "      <td id=\"T_3eea8_row1_col3\" class=\"data row1 col3\" >15565701.000000</td>\n",
       "      <td id=\"T_3eea8_row1_col4\" class=\"data row1 col4\" >15628524.750000</td>\n",
       "      <td id=\"T_3eea8_row1_col5\" class=\"data row1 col5\" >15690732.000000</td>\n",
       "      <td id=\"T_3eea8_row1_col6\" class=\"data row1 col6\" >15753225.500000</td>\n",
       "      <td id=\"T_3eea8_row1_col7\" class=\"data row1 col7\" >15815690.000000</td>\n",
       "    </tr>\n",
       "    <tr>\n",
       "      <th id=\"T_3eea8_level0_row2\" class=\"row_heading level0 row2\" >CreditScore</th>\n",
       "      <td id=\"T_3eea8_row2_col0\" class=\"data row2 col0\" >10002.000000</td>\n",
       "      <td id=\"T_3eea8_row2_col1\" class=\"data row2 col1\" >650.555089</td>\n",
       "      <td id=\"T_3eea8_row2_col2\" class=\"data row2 col2\" >96.661615</td>\n",
       "      <td id=\"T_3eea8_row2_col3\" class=\"data row2 col3\" >350.000000</td>\n",
       "      <td id=\"T_3eea8_row2_col4\" class=\"data row2 col4\" >584.000000</td>\n",
       "      <td id=\"T_3eea8_row2_col5\" class=\"data row2 col5\" >652.000000</td>\n",
       "      <td id=\"T_3eea8_row2_col6\" class=\"data row2 col6\" >718.000000</td>\n",
       "      <td id=\"T_3eea8_row2_col7\" class=\"data row2 col7\" >850.000000</td>\n",
       "    </tr>\n",
       "    <tr>\n",
       "      <th id=\"T_3eea8_level0_row3\" class=\"row_heading level0 row3\" >Age</th>\n",
       "      <td id=\"T_3eea8_row3_col0\" class=\"data row3 col0\" >10001.000000</td>\n",
       "      <td id=\"T_3eea8_row3_col1\" class=\"data row3 col1\" >38.922311</td>\n",
       "      <td id=\"T_3eea8_row3_col2\" class=\"data row3 col2\" >10.487200</td>\n",
       "      <td id=\"T_3eea8_row3_col3\" class=\"data row3 col3\" >18.000000</td>\n",
       "      <td id=\"T_3eea8_row3_col4\" class=\"data row3 col4\" >32.000000</td>\n",
       "      <td id=\"T_3eea8_row3_col5\" class=\"data row3 col5\" >37.000000</td>\n",
       "      <td id=\"T_3eea8_row3_col6\" class=\"data row3 col6\" >44.000000</td>\n",
       "      <td id=\"T_3eea8_row3_col7\" class=\"data row3 col7\" >92.000000</td>\n",
       "    </tr>\n",
       "    <tr>\n",
       "      <th id=\"T_3eea8_level0_row4\" class=\"row_heading level0 row4\" >Tenure</th>\n",
       "      <td id=\"T_3eea8_row4_col0\" class=\"data row4 col0\" >10002.000000</td>\n",
       "      <td id=\"T_3eea8_row4_col1\" class=\"data row4 col1\" >5.012498</td>\n",
       "      <td id=\"T_3eea8_row4_col2\" class=\"data row4 col2\" >2.891973</td>\n",
       "      <td id=\"T_3eea8_row4_col3\" class=\"data row4 col3\" >0.000000</td>\n",
       "      <td id=\"T_3eea8_row4_col4\" class=\"data row4 col4\" >3.000000</td>\n",
       "      <td id=\"T_3eea8_row4_col5\" class=\"data row4 col5\" >5.000000</td>\n",
       "      <td id=\"T_3eea8_row4_col6\" class=\"data row4 col6\" >7.000000</td>\n",
       "      <td id=\"T_3eea8_row4_col7\" class=\"data row4 col7\" >10.000000</td>\n",
       "    </tr>\n",
       "    <tr>\n",
       "      <th id=\"T_3eea8_level0_row5\" class=\"row_heading level0 row5\" >Balance</th>\n",
       "      <td id=\"T_3eea8_row5_col0\" class=\"data row5 col0\" >10002.000000</td>\n",
       "      <td id=\"T_3eea8_row5_col1\" class=\"data row5 col1\" >76491.112875</td>\n",
       "      <td id=\"T_3eea8_row5_col2\" class=\"data row5 col2\" >62393.474144</td>\n",
       "      <td id=\"T_3eea8_row5_col3\" class=\"data row5 col3\" >0.000000</td>\n",
       "      <td id=\"T_3eea8_row5_col4\" class=\"data row5 col4\" >0.000000</td>\n",
       "      <td id=\"T_3eea8_row5_col5\" class=\"data row5 col5\" >97198.540000</td>\n",
       "      <td id=\"T_3eea8_row5_col6\" class=\"data row5 col6\" >127647.840000</td>\n",
       "      <td id=\"T_3eea8_row5_col7\" class=\"data row5 col7\" >250898.090000</td>\n",
       "    </tr>\n",
       "    <tr>\n",
       "      <th id=\"T_3eea8_level0_row6\" class=\"row_heading level0 row6\" >NumOfProducts</th>\n",
       "      <td id=\"T_3eea8_row6_col0\" class=\"data row6 col0\" >10002.000000</td>\n",
       "      <td id=\"T_3eea8_row6_col1\" class=\"data row6 col1\" >1.530194</td>\n",
       "      <td id=\"T_3eea8_row6_col2\" class=\"data row6 col2\" >0.581639</td>\n",
       "      <td id=\"T_3eea8_row6_col3\" class=\"data row6 col3\" >1.000000</td>\n",
       "      <td id=\"T_3eea8_row6_col4\" class=\"data row6 col4\" >1.000000</td>\n",
       "      <td id=\"T_3eea8_row6_col5\" class=\"data row6 col5\" >1.000000</td>\n",
       "      <td id=\"T_3eea8_row6_col6\" class=\"data row6 col6\" >2.000000</td>\n",
       "      <td id=\"T_3eea8_row6_col7\" class=\"data row6 col7\" >4.000000</td>\n",
       "    </tr>\n",
       "    <tr>\n",
       "      <th id=\"T_3eea8_level0_row7\" class=\"row_heading level0 row7\" >HasCrCard</th>\n",
       "      <td id=\"T_3eea8_row7_col0\" class=\"data row7 col0\" >10001.000000</td>\n",
       "      <td id=\"T_3eea8_row7_col1\" class=\"data row7 col1\" >0.705529</td>\n",
       "      <td id=\"T_3eea8_row7_col2\" class=\"data row7 col2\" >0.455827</td>\n",
       "      <td id=\"T_3eea8_row7_col3\" class=\"data row7 col3\" >0.000000</td>\n",
       "      <td id=\"T_3eea8_row7_col4\" class=\"data row7 col4\" >0.000000</td>\n",
       "      <td id=\"T_3eea8_row7_col5\" class=\"data row7 col5\" >1.000000</td>\n",
       "      <td id=\"T_3eea8_row7_col6\" class=\"data row7 col6\" >1.000000</td>\n",
       "      <td id=\"T_3eea8_row7_col7\" class=\"data row7 col7\" >1.000000</td>\n",
       "    </tr>\n",
       "    <tr>\n",
       "      <th id=\"T_3eea8_level0_row8\" class=\"row_heading level0 row8\" >IsActiveMember</th>\n",
       "      <td id=\"T_3eea8_row8_col0\" class=\"data row8 col0\" >10001.000000</td>\n",
       "      <td id=\"T_3eea8_row8_col1\" class=\"data row8 col1\" >0.514949</td>\n",
       "      <td id=\"T_3eea8_row8_col2\" class=\"data row8 col2\" >0.499801</td>\n",
       "      <td id=\"T_3eea8_row8_col3\" class=\"data row8 col3\" >0.000000</td>\n",
       "      <td id=\"T_3eea8_row8_col4\" class=\"data row8 col4\" >0.000000</td>\n",
       "      <td id=\"T_3eea8_row8_col5\" class=\"data row8 col5\" >1.000000</td>\n",
       "      <td id=\"T_3eea8_row8_col6\" class=\"data row8 col6\" >1.000000</td>\n",
       "      <td id=\"T_3eea8_row8_col7\" class=\"data row8 col7\" >1.000000</td>\n",
       "    </tr>\n",
       "    <tr>\n",
       "      <th id=\"T_3eea8_level0_row9\" class=\"row_heading level0 row9\" >EstimatedSalary</th>\n",
       "      <td id=\"T_3eea8_row9_col0\" class=\"data row9 col0\" >10002.000000</td>\n",
       "      <td id=\"T_3eea8_row9_col1\" class=\"data row9 col1\" >100083.331145</td>\n",
       "      <td id=\"T_3eea8_row9_col2\" class=\"data row9 col2\" >57508.117802</td>\n",
       "      <td id=\"T_3eea8_row9_col3\" class=\"data row9 col3\" >11.580000</td>\n",
       "      <td id=\"T_3eea8_row9_col4\" class=\"data row9 col4\" >50983.750000</td>\n",
       "      <td id=\"T_3eea8_row9_col5\" class=\"data row9 col5\" >100185.240000</td>\n",
       "      <td id=\"T_3eea8_row9_col6\" class=\"data row9 col6\" >149383.652500</td>\n",
       "      <td id=\"T_3eea8_row9_col7\" class=\"data row9 col7\" >199992.480000</td>\n",
       "    </tr>\n",
       "    <tr>\n",
       "      <th id=\"T_3eea8_level0_row10\" class=\"row_heading level0 row10\" >Exited</th>\n",
       "      <td id=\"T_3eea8_row10_col0\" class=\"data row10 col0\" >10002.000000</td>\n",
       "      <td id=\"T_3eea8_row10_col1\" class=\"data row10 col1\" >0.203759</td>\n",
       "      <td id=\"T_3eea8_row10_col2\" class=\"data row10 col2\" >0.402812</td>\n",
       "      <td id=\"T_3eea8_row10_col3\" class=\"data row10 col3\" >0.000000</td>\n",
       "      <td id=\"T_3eea8_row10_col4\" class=\"data row10 col4\" >0.000000</td>\n",
       "      <td id=\"T_3eea8_row10_col5\" class=\"data row10 col5\" >0.000000</td>\n",
       "      <td id=\"T_3eea8_row10_col6\" class=\"data row10 col6\" >0.000000</td>\n",
       "      <td id=\"T_3eea8_row10_col7\" class=\"data row10 col7\" >1.000000</td>\n",
       "    </tr>\n",
       "  </tbody>\n",
       "</table>\n"
      ],
      "text/plain": [
       "<pandas.io.formats.style.Styler at 0x7f1bf2f86ad0>"
      ]
     },
     "execution_count": 12,
     "metadata": {},
     "output_type": "execute_result"
    }
   ],
   "source": [
    "original_data.describe().T.style.background_gradient(cmap='viridis', axis=0)"
   ]
  },
  {
   "cell_type": "markdown",
   "id": "e2e833e1",
   "metadata": {
    "papermill": {
     "duration": 0.009744,
     "end_time": "2024-01-06T14:13:09.012453",
     "exception": false,
     "start_time": "2024-01-06T14:13:09.002709",
     "status": "completed"
    },
    "tags": []
   },
   "source": [
    "# 2  Data Visualization"
   ]
  },
  {
   "cell_type": "markdown",
   "id": "9a8f5493",
   "metadata": {
    "papermill": {
     "duration": 0.009684,
     "end_time": "2024-01-06T14:13:09.032229",
     "exception": false,
     "start_time": "2024-01-06T14:13:09.022545",
     "status": "completed"
    },
    "tags": []
   },
   "source": [
    "***2.1 Plot distribution of 'Exited' variable***"
   ]
  },
  {
   "cell_type": "code",
   "execution_count": 13,
   "id": "8b3bc8f7",
   "metadata": {
    "execution": {
     "iopub.execute_input": "2024-01-06T14:13:09.057043Z",
     "iopub.status.busy": "2024-01-06T14:13:09.056006Z",
     "iopub.status.idle": "2024-01-06T14:13:09.299719Z",
     "shell.execute_reply": "2024-01-06T14:13:09.299023Z"
    },
    "papermill": {
     "duration": 0.257967,
     "end_time": "2024-01-06T14:13:09.301613",
     "exception": false,
     "start_time": "2024-01-06T14:13:09.043646",
     "status": "completed"
    },
    "tags": []
   },
   "outputs": [
    {
     "data": {
      "image/png": "[encoded data removed]",
      "text/plain": [
       "<Figure size 640x480 with 1 Axes>"
      ]
     },
     "metadata": {},
     "output_type": "display_data"
    }
   ],
   "source": [
    "sns.countplot(x='Exited', data=train_data, hue='Exited', palette='Set1')\n",
    "plt.title('Distribution of Customer (Exited)')\n",
    "plt.xlabel('Exited Status (0: Not Churned, 1: Churned)')\n",
    "plt.ylabel('Count')\n",
    "plt.legend(['Not Churned', 'Churned'], loc='upper right')\n",
    "plt.show()\n"
   ]
  },
  {
   "cell_type": "markdown",
   "id": "c6f8424e",
   "metadata": {
    "papermill": {
     "duration": 0.010301,
     "end_time": "2024-01-06T14:13:09.322972",
     "exception": false,
     "start_time": "2024-01-06T14:13:09.312671",
     "status": "completed"
    },
    "tags": []
   },
   "source": [
    "Churn refers to customers who discontinue using a service, while not churned refers to customers who continue using the service."
   ]
  },
  {
   "cell_type": "markdown",
   "id": "f24b0c32",
   "metadata": {
    "papermill": {
     "duration": 0.01045,
     "end_time": "2024-01-06T14:13:09.344211",
     "exception": false,
     "start_time": "2024-01-06T14:13:09.333761",
     "status": "completed"
    },
    "tags": []
   },
   "source": [
    "***2.2 Plot count distribution for categorical variables(Gender and Geography)***"
   ]
  },
  {
   "cell_type": "code",
   "execution_count": 14,
   "id": "fa13aa35",
   "metadata": {
    "execution": {
     "iopub.execute_input": "2024-01-06T14:13:09.367774Z",
     "iopub.status.busy": "2024-01-06T14:13:09.366954Z",
     "iopub.status.idle": "2024-01-06T14:13:09.959238Z",
     "shell.execute_reply": "2024-01-06T14:13:09.957844Z"
    },
    "papermill": {
     "duration": 0.608001,
     "end_time": "2024-01-06T14:13:09.962636",
     "exception": false,
     "start_time": "2024-01-06T14:13:09.354635",
     "status": "completed"
    },
    "tags": []
   },
   "outputs": [
    {
     "data": {
      "image/png": "[encoded data removed]",
      "text/plain": [
       "<Figure size 1500x600 with 2 Axes>"
      ]
     },
     "metadata": {},
     "output_type": "display_data"
    }
   ],
   "source": [
    "sns.set(style=\"whitegrid\")\n",
    "plt.figure(figsize=(15, 6))\n",
    "\n",
    "\n",
    "plt.subplot(1, 2, 1)\n",
    "sns.countplot(x='Geography', data=train_data, palette='viridis')\n",
    "plt.title('Distribution by Geography', fontsize=16)\n",
    "plt.xlabel('Geography', fontsize=12)\n",
    "plt.ylabel('Count', fontsize=12)\n",
    "plt.xticks(fontsize=10)\n",
    "plt.yticks(fontsize=10)\n",
    "\n",
    "\n",
    "geo_counts = train_data['Geography'].value_counts()\n",
    "for i, count in enumerate(geo_counts):\n",
    "    plt.text(i, count + 100, str(count), ha='center', va='bottom', fontsize=10)\n",
    "\n",
    "\n",
    "plt.subplot(1, 2, 2)\n",
    "sns.countplot(x='Gender', data=train_data, palette='muted')\n",
    "plt.title('Distribution by Gender', fontsize=16)\n",
    "plt.xlabel('Gender', fontsize=12)\n",
    "plt.ylabel('Count', fontsize=12)\n",
    "plt.xticks(fontsize=10)\n",
    "plt.yticks(fontsize=10)\n",
    "\n",
    "gender_counts = train_data['Gender'].value_counts()\n",
    "for i, count in enumerate(gender_counts):\n",
    "    plt.text(i, count + 100, str(count), ha='center', va='bottom', fontsize=10)\n",
    "\n",
    "plt.tight_layout()\n",
    "plt.show()\n"
   ]
  },
  {
   "cell_type": "markdown",
   "id": "37fe8878",
   "metadata": {
    "papermill": {
     "duration": 0.01332,
     "end_time": "2024-01-06T14:13:09.990977",
     "exception": false,
     "start_time": "2024-01-06T14:13:09.977657",
     "status": "completed"
    },
    "tags": []
   },
   "source": [
    "***2.3 Pie chart for Geography and Gender Distribution***"
   ]
  },
  {
   "cell_type": "code",
   "execution_count": 15,
   "id": "590032d0",
   "metadata": {
    "execution": {
     "iopub.execute_input": "2024-01-06T14:13:10.016747Z",
     "iopub.status.busy": "2024-01-06T14:13:10.015879Z",
     "iopub.status.idle": "2024-01-06T14:13:10.249603Z",
     "shell.execute_reply": "2024-01-06T14:13:10.248857Z"
    },
    "papermill": {
     "duration": 0.249501,
     "end_time": "2024-01-06T14:13:10.252054",
     "exception": false,
     "start_time": "2024-01-06T14:13:10.002553",
     "status": "completed"
    },
    "tags": []
   },
   "outputs": [
    {
     "data": {
      "image/png": "[encoded data removed]",
      "text/plain": [
       "<Figure size 1000x500 with 2 Axes>"
      ]
     },
     "metadata": {},
     "output_type": "display_data"
    }
   ],
   "source": [
    "plt.figure(figsize=(10, 5))\n",
    "\n",
    "plt.subplot(1, 2, 1)\n",
    "patches, texts, autotexts = plt.pie(geo_counts, labels=geo_counts.index, autopct='%1.1f%%', startangle=90)\n",
    "for patch in patches:\n",
    "    patch.set_alpha(0.7) \n",
    "plt.title('Geography Distribution')\n",
    "\n",
    "plt.subplot(1, 2, 2)\n",
    "patches, texts, autotexts = plt.pie(gender_counts, labels=gender_counts.index, autopct='%1.1f%%', startangle=90)\n",
    "for patch in patches:\n",
    "    patch.set_alpha(0.7)  \n",
    "plt.title('Gender Distribution')\n",
    "\n",
    "plt.show()\n"
   ]
  },
  {
   "cell_type": "markdown",
   "id": "bd6cf8d0",
   "metadata": {
    "papermill": {
     "duration": 0.015753,
     "end_time": "2024-01-06T14:13:10.285188",
     "exception": false,
     "start_time": "2024-01-06T14:13:10.269435",
     "status": "completed"
    },
    "tags": []
   },
   "source": [
    "***2.4 Distribution of Customers by Geography and Gender***"
   ]
  },
  {
   "cell_type": "code",
   "execution_count": 16,
   "id": "666e7427",
   "metadata": {
    "execution": {
     "iopub.execute_input": "2024-01-06T14:13:10.315553Z",
     "iopub.status.busy": "2024-01-06T14:13:10.314944Z",
     "iopub.status.idle": "2024-01-06T14:13:10.720594Z",
     "shell.execute_reply": "2024-01-06T14:13:10.719402Z"
    },
    "papermill": {
     "duration": 0.42244,
     "end_time": "2024-01-06T14:13:10.723212",
     "exception": false,
     "start_time": "2024-01-06T14:13:10.300772",
     "status": "completed"
    },
    "tags": []
   },
   "outputs": [
    {
     "data": {
      "image/png": "[encoded data removed]",
      "text/plain": [
       "<Figure size 1200x800 with 1 Axes>"
      ]
     },
     "metadata": {},
     "output_type": "display_data"
    }
   ],
   "source": [
    "sns.set(style=\"whitegrid\")\n",
    "\n",
    "plt.figure(figsize=(12, 8))\n",
    "\n",
    "\n",
    "custom_palette = sns.color_palette('muted').as_hex()\n",
    "\n",
    "\n",
    "sns.countplot(x='Geography', hue='Gender', data=train_data, palette=custom_palette)\n",
    "\n",
    "\n",
    "plt.title('Distribution of Customers by Geography and Gender', fontsize=18)\n",
    "plt.xlabel('Geography', fontsize=14)\n",
    "plt.ylabel('Count', fontsize=14)\n",
    "\n",
    "\n",
    "for p in plt.gca().patches:\n",
    "    plt.gca().annotate(f'{int(p.get_height())}', (p.get_x() + p.get_width() / 2., p.get_height()),\n",
    "                       ha='center', va='center', fontsize=12, color='black', xytext=(0, 5),\n",
    "                       textcoords='offset points')\n",
    "\n",
    "plt.legend(title='Gender', title_fontsize='14', fontsize='12', loc='upper right')\n",
    "\n",
    "plt.show()"
   ]
  },
  {
   "cell_type": "markdown",
   "id": "5d707971",
   "metadata": {
    "papermill": {
     "duration": 0.012082,
     "end_time": "2024-01-06T14:13:10.747797",
     "exception": false,
     "start_time": "2024-01-06T14:13:10.735715",
     "status": "completed"
    },
    "tags": []
   },
   "source": [
    "***2.5 Plot box plots for numerical features grouped by 'Exited' status***"
   ]
  },
  {
   "cell_type": "code",
   "execution_count": 17,
   "id": "8eb019c5",
   "metadata": {
    "execution": {
     "iopub.execute_input": "2024-01-06T14:13:10.774179Z",
     "iopub.status.busy": "2024-01-06T14:13:10.773838Z",
     "iopub.status.idle": "2024-01-06T14:13:11.817254Z",
     "shell.execute_reply": "2024-01-06T14:13:11.816472Z"
    },
    "papermill": {
     "duration": 1.05951,
     "end_time": "2024-01-06T14:13:11.819766",
     "exception": false,
     "start_time": "2024-01-06T14:13:10.760256",
     "status": "completed"
    },
    "tags": []
   },
   "outputs": [
    {
     "data": {
      "image/png": "[encoded data removed]",
      "text/plain": [
       "<Figure size 1200x800 with 5 Axes>"
      ]
     },
     "metadata": {},
     "output_type": "display_data"
    }
   ],
   "source": [
    "plt.figure(figsize=(12, 8))\n",
    "num_features = ['CreditScore', 'Age', 'Balance', 'NumOfProducts', 'EstimatedSalary']\n",
    "for i, feature in enumerate(num_features, 1):\n",
    "    plt.subplot(2, 3, i)\n",
    "    sns.boxplot(x='Exited', y=feature, data=train_data)\n",
    "    plt.title(f'{feature} vs. Exited')\n",
    "\n",
    "plt.tight_layout()\n",
    "plt.show()\n"
   ]
  },
  {
   "cell_type": "markdown",
   "id": "09d7de18",
   "metadata": {
    "papermill": {
     "duration": 0.012731,
     "end_time": "2024-01-06T14:13:11.845768",
     "exception": false,
     "start_time": "2024-01-06T14:13:11.833037",
     "status": "completed"
    },
    "tags": []
   },
   "source": [
    "# 3  Data Preprocessing"
   ]
  },
  {
   "cell_type": "code",
   "execution_count": 18,
   "id": "6045cccd",
   "metadata": {
    "execution": {
     "iopub.execute_input": "2024-01-06T14:13:11.873772Z",
     "iopub.status.busy": "2024-01-06T14:13:11.873457Z",
     "iopub.status.idle": "2024-01-06T14:13:11.952023Z",
     "shell.execute_reply": "2024-01-06T14:13:11.950578Z"
    },
    "papermill": {
     "duration": 0.096112,
     "end_time": "2024-01-06T14:13:11.954426",
     "exception": false,
     "start_time": "2024-01-06T14:13:11.858314",
     "status": "completed"
    },
    "tags": []
   },
   "outputs": [],
   "source": [
    "\n",
    "def preprocess_data(df):\n",
    "    df['Age'] = df['Age'].astype(int)\n",
    "    df['NumOfProducts'] = df['NumOfProducts'].astype(int)\n",
    "    df['HasCrCard'] = df['HasCrCard'].astype(int)\n",
    "    df['IsActiveMember'] = df['IsActiveMember'].astype(int)\n",
    "    df['Gender'] = df['Gender'].map({'Female': 0, 'Male': 1})\n",
    "    df = pd.concat([df.drop(columns=['Geography'], axis=1), pd.get_dummies(df['Geography'], drop_first=True, dtype=int)], axis=1)\n",
    "    return df\n",
    "\n",
    "X_train = preprocess_data(train_data.drop(columns=['id', 'CustomerId', 'Surname', 'Exited'], axis=1))\n",
    "Y_train = train_data['Exited']\n",
    "X_test = preprocess_data(test_data.drop(columns=['id', 'CustomerId', 'Surname'], axis=1))"
   ]
  },
  {
   "cell_type": "markdown",
   "id": "796aa47b",
   "metadata": {
    "papermill": {
     "duration": 0.014238,
     "end_time": "2024-01-06T14:13:11.981908",
     "exception": false,
     "start_time": "2024-01-06T14:13:11.967670",
     "status": "completed"
    },
    "tags": []
   },
   "source": [
    "***Cross-Validation***"
   ]
  },
  {
   "cell_type": "code",
   "execution_count": 19,
   "id": "ae045f09",
   "metadata": {
    "execution": {
     "iopub.execute_input": "2024-01-06T14:13:12.011055Z",
     "iopub.status.busy": "2024-01-06T14:13:12.010154Z",
     "iopub.status.idle": "2024-01-06T14:13:12.015559Z",
     "shell.execute_reply": "2024-01-06T14:13:12.014534Z"
    },
    "papermill": {
     "duration": 0.021681,
     "end_time": "2024-01-06T14:13:12.017495",
     "exception": false,
     "start_time": "2024-01-06T14:13:11.995814",
     "status": "completed"
    },
    "tags": []
   },
   "outputs": [],
   "source": [
    "skf = RepeatedStratifiedKFold(n_splits=10, n_repeats=1, random_state=42)"
   ]
  },
  {
   "cell_type": "markdown",
   "id": "d6fac6a1",
   "metadata": {
    "papermill": {
     "duration": 0.012942,
     "end_time": "2024-01-06T14:13:12.043616",
     "exception": false,
     "start_time": "2024-01-06T14:13:12.030674",
     "status": "completed"
    },
    "tags": []
   },
   "source": [
    "# 4 Model Building "
   ]
  },
  {
   "cell_type": "code",
   "execution_count": 20,
   "id": "ad5c90e3",
   "metadata": {
    "execution": {
     "iopub.execute_input": "2024-01-06T14:13:12.072644Z",
     "iopub.status.busy": "2024-01-06T14:13:12.072242Z",
     "iopub.status.idle": "2024-01-06T14:13:12.081037Z",
     "shell.execute_reply": "2024-01-06T14:13:12.079445Z"
    },
    "papermill": {
     "duration": 0.025988,
     "end_time": "2024-01-06T14:13:12.083184",
     "exception": false,
     "start_time": "2024-01-06T14:13:12.057196",
     "status": "completed"
    },
    "tags": []
   },
   "outputs": [],
   "source": [
    "models = {\n",
    "    'GB': GradientBoostingClassifier(n_estimators=98, max_depth=6, min_samples_split=29, \n",
    "                                     min_samples_leaf=5, max_features=10, subsample=0.6747060291909489, random_state=1),\n",
    "    'HG': HistGradientBoostingClassifier(l2_regularization=3.592621845843185, early_stopping=False,\n",
    "                                         learning_rate=0.05161573294192279, max_iter=441, max_depth=9, max_bins=255,\n",
    "                                         min_samples_leaf=17, max_leaf_nodes=19, random_state=10),\n",
    "    'LGBM': LGBMClassifier(n_estimators=944, learning_rate=0.023710760431498095, max_depth=20, \n",
    "                           reg_alpha=1.6333094681195481, reg_lambda=6.302381882653114, num_leaves=46, \n",
    "                           subsample=0.3778057790467601, colsample_bytree=0.4822343703997122),\n",
    "    'MLP': Pipeline([('transformation', ColumnTransformer([('stand', PowerTransformer(), \n",
    "                                                             ['Age', 'Tenure', 'EstimatedSalary', 'Balance', 'CreditScore'])],\n",
    "                                                           remainder='passthrough')),\n",
    "                     ('MLP', MLPClassifier(hidden_layer_sizes=(16, 16), activation='relu', random_state=10))]),\n",
    "    'XGB': XGBClassifier(max_depth=11, learning_rate=0.023619617114657637, n_estimators=452, gamma=4.471717179966761,\n",
    "                          min_child_weight=2, colsample_bytree=0.683425957554843, subsample=0.6331796732702679)\n",
    "}"
   ]
  },
  {
   "cell_type": "markdown",
   "id": "645bcd30",
   "metadata": {
    "papermill": {
     "duration": 0.01317,
     "end_time": "2024-01-06T14:13:12.110068",
     "exception": false,
     "start_time": "2024-01-06T14:13:12.096898",
     "status": "completed"
    },
    "tags": []
   },
   "source": [
    "***Cross-Validation Scores***"
   ]
  },
  {
   "cell_type": "code",
   "execution_count": 21,
   "id": "ed0865aa",
   "metadata": {
    "execution": {
     "iopub.execute_input": "2024-01-06T14:13:12.139082Z",
     "iopub.status.busy": "2024-01-06T14:13:12.138045Z",
     "iopub.status.idle": "2024-01-06T14:22:57.469506Z",
     "shell.execute_reply": "2024-01-06T14:22:57.467552Z"
    },
    "papermill": {
     "duration": 585.360637,
     "end_time": "2024-01-06T14:22:57.484117",
     "exception": false,
     "start_time": "2024-01-06T14:13:12.123480",
     "status": "completed"
    },
    "tags": []
   },
   "outputs": [
    {
     "name": "stdout",
     "output_type": "stream",
     "text": [
      "The average 10-folds oof ROC-AUC score of GB is 0.8895078690216257\n",
      "The average 10-folds oof ROC-AUC score of HG is 0.8898921129966016\n",
      "The average 10-folds oof ROC-AUC score of LGBM is 0.890245999060139\n",
      "The average 10-folds oof ROC-AUC score of MLP is 0.8873377177445807\n",
      "The average 10-folds oof ROC-AUC score of XGB is 0.8897430113763141\n"
     ]
    }
   ],
   "source": [
    "cv_scores = {}\n",
    "for name, model in models.items():\n",
    "    cv_score = cross_val_score(model, X_train, Y_train, scoring='roc_auc', cv=skf, n_jobs=-1)\n",
    "    cv_scores[name] = cv_score.mean()\n",
    "    print(f\"The average 10-folds oof ROC-AUC score of {name} is {cv_score.mean()}\")"
   ]
  },
  {
   "cell_type": "markdown",
   "id": "1f97c27f",
   "metadata": {
    "papermill": {
     "duration": 0.012959,
     "end_time": "2024-01-06T14:22:57.510189",
     "exception": false,
     "start_time": "2024-01-06T14:22:57.497230",
     "status": "completed"
    },
    "tags": []
   },
   "source": [
    "***Ensemble Models***"
   ]
  },
  {
   "cell_type": "code",
   "execution_count": 22,
   "id": "fde05f31",
   "metadata": {
    "execution": {
     "iopub.execute_input": "2024-01-06T14:22:57.540021Z",
     "iopub.status.busy": "2024-01-06T14:22:57.539262Z",
     "iopub.status.idle": "2024-01-06T14:22:57.548411Z",
     "shell.execute_reply": "2024-01-06T14:22:57.547604Z"
    },
    "papermill": {
     "duration": 0.027064,
     "end_time": "2024-01-06T14:22:57.550438",
     "exception": false,
     "start_time": "2024-01-06T14:22:57.523374",
     "status": "completed"
    },
    "tags": []
   },
   "outputs": [],
   "source": [
    "\n",
    "voting_model = VotingClassifier(estimators=[('GB', models['GB']), ('HG', models['HG']),\n",
    "                                            ('LGBM', models['LGBM']), ('MLP', models['MLP']),\n",
    "                                            ('XGB', models['XGB'])],\n",
    "                                voting='soft', weights=[1/5, 1/5, 1/5, 1/5, 1/5])\n",
    "\n",
    "stacking_model_1 = StackingClassifier(estimators=[('GB', models['GB']), ('HG', models['HG']),\n",
    "                                                  ('LGBM', models['LGBM']), ('MLP', models['MLP']),\n",
    "                                                  ('XGB', models['XGB'])],\n",
    "                                      final_estimator=LogisticRegression(C=0.1),\n",
    "                                      stack_method='predict_proba', n_jobs=-1)\n",
    "\n",
    "stacking_model_2 = StackingClassifier(estimators=[('GB', models['GB']), ('HG', models['HG']),\n",
    "                                                  ('LGBM', models['LGBM']), ('MLP', models['MLP']),\n",
    "                                                  ('XGB', models['XGB'])],\n",
    "                                      final_estimator=LogisticRegression(C=0.1, penalty='l1', solver='saga', random_state=10),\n",
    "                                      stack_method='predict_proba', n_jobs=-1)"
   ]
  },
  {
   "cell_type": "markdown",
   "id": "51e3e21b",
   "metadata": {
    "papermill": {
     "duration": 0.013743,
     "end_time": "2024-01-06T14:22:57.577847",
     "exception": false,
     "start_time": "2024-01-06T14:22:57.564104",
     "status": "completed"
    },
    "tags": []
   },
   "source": [
    "***Fit Ensemble Models***"
   ]
  },
  {
   "cell_type": "code",
   "execution_count": 23,
   "id": "f0a7905b",
   "metadata": {
    "execution": {
     "iopub.execute_input": "2024-01-06T14:22:57.608858Z",
     "iopub.status.busy": "2024-01-06T14:22:57.608303Z",
     "iopub.status.idle": "2024-01-06T14:41:34.816332Z",
     "shell.execute_reply": "2024-01-06T14:41:34.815015Z"
    },
    "papermill": {
     "duration": 1117.232746,
     "end_time": "2024-01-06T14:41:34.825178",
     "exception": false,
     "start_time": "2024-01-06T14:22:57.592432",
     "status": "completed"
    },
    "tags": []
   },
   "outputs": [
    {
     "data": {
      "text/html": [
       "<style>#sk-container-id-1 {color: black;background-color: white;}#sk-container-id-1 pre{padding: 0;}#sk-container-id-1 div.sk-toggleable {background-color: white;}#sk-container-id-1 label.sk-toggleable__label {cursor: pointer;display: block;width: 100%;margin-bottom: 0;padding: 0.3em;box-sizing: border-box;text-align: center;}#sk-container-id-1 label.sk-toggleable__label-arrow:before {content: \"▸\";float: left;margin-right: 0.25em;color: #696969;}#sk-container-id-1 label.sk-toggleable__label-arrow:hover:before {color: black;}#sk-container-id-1 div.sk-estimator:hover label.sk-toggleable__label-arrow:before {color: black;}#sk-container-id-1 div.sk-toggleable__content {max-height: 0;max-width: 0;overflow: hidden;text-align: left;background-color: #f0f8ff;}#sk-container-id-1 div.sk-toggleable__content pre {margin: 0.2em;color: black;border-radius: 0.25em;background-color: #f0f8ff;}#sk-container-id-1 input.sk-toggleable__control:checked~div.sk-toggleable__content {max-height: 200px;max-width: 100%;overflow: auto;}#sk-container-id-1 input.sk-toggleable__control:checked~label.sk-toggleable__label-arrow:before {content: \"▾\";}#sk-container-id-1 div.sk-estimator input.sk-toggleable__control:checked~label.sk-toggleable__label {background-color: #d4ebff;}#sk-container-id-1 div.sk-label input.sk-toggleable__control:checked~label.sk-toggleable__label {background-color: #d4ebff;}#sk-container-id-1 input.sk-hidden--visually {border: 0;clip: rect(1px 1px 1px 1px);clip: rect(1px, 1px, 1px, 1px);height: 1px;margin: -1px;overflow: hidden;padding: 0;position: absolute;width: 1px;}#sk-container-id-1 div.sk-estimator {font-family: monospace;background-color: #f0f8ff;border: 1px dotted black;border-radius: 0.25em;box-sizing: border-box;margin-bottom: 0.5em;}#sk-container-id-1 div.sk-estimator:hover {background-color: #d4ebff;}#sk-container-id-1 div.sk-parallel-item::after {content: \"\";width: 100%;border-bottom: 1px solid gray;flex-grow: 1;}#sk-container-id-1 div.sk-label:hover label.sk-toggleable__label {background-color: #d4ebff;}#sk-container-id-1 div.sk-serial::before {content: \"\";position: absolute;border-left: 1px solid gray;box-sizing: border-box;top: 0;bottom: 0;left: 50%;z-index: 0;}#sk-container-id-1 div.sk-serial {display: flex;flex-direction: column;align-items: center;background-color: white;padding-right: 0.2em;padding-left: 0.2em;position: relative;}#sk-container-id-1 div.sk-item {position: relative;z-index: 1;}#sk-container-id-1 div.sk-parallel {display: flex;align-items: stretch;justify-content: center;background-color: white;position: relative;}#sk-container-id-1 div.sk-item::before, #sk-container-id-1 div.sk-parallel-item::before {content: \"\";position: absolute;border-left: 1px solid gray;box-sizing: border-box;top: 0;bottom: 0;left: 50%;z-index: -1;}#sk-container-id-1 div.sk-parallel-item {display: flex;flex-direction: column;z-index: 1;position: relative;background-color: white;}#sk-container-id-1 div.sk-parallel-item:first-child::after {align-self: flex-end;width: 50%;}#sk-container-id-1 div.sk-parallel-item:last-child::after {align-self: flex-start;width: 50%;}#sk-container-id-1 div.sk-parallel-item:only-child::after {width: 0;}#sk-container-id-1 div.sk-dashed-wrapped {border: 1px dashed gray;margin: 0 0.4em 0.5em 0.4em;box-sizing: border-box;padding-bottom: 0.4em;background-color: white;}#sk-container-id-1 div.sk-label label {font-family: monospace;font-weight: bold;display: inline-block;line-height: 1.2em;}#sk-container-id-1 div.sk-label-container {text-align: center;}#sk-container-id-1 div.sk-container {/* jupyter's `normalize.less` sets `[hidden] { display: none; }` but bootstrap.min.css set `[hidden] { display: none !important; }` so we also need the `!important` here to be able to override the default hidden behavior on the sphinx rendered scikit-learn.org. See: https://github.com/scikit-learn/scikit-learn/issues/21755 */display: inline-block !important;position: relative;}#sk-container-id-1 div.sk-text-repr-fallback {display: none;}</style><div id=\"sk-container-id-1\" class=\"sk-top-container\"><div class=\"sk-text-repr-fallback\"><pre>StackingClassifier(estimators=[(&#x27;GB&#x27;,\n",
       "                                GradientBoostingClassifier(max_depth=6,\n",
       "                                                           max_features=10,\n",
       "                                                           min_samples_leaf=5,\n",
       "                                                           min_samples_split=29,\n",
       "                                                           n_estimators=98,\n",
       "                                                           random_state=1,\n",
       "                                                           subsample=0.6747060291909489)),\n",
       "                               (&#x27;HG&#x27;,\n",
       "                                HistGradientBoostingClassifier(early_stopping=False,\n",
       "                                                               l2_regularization=3.592621845843185,\n",
       "                                                               learning_rate=0.05161573294192279,\n",
       "                                                               max_depth=9,\n",
       "                                                               max_iter=441,\n",
       "                                                               max...\n",
       "                                              max_cat_to_onehot=None,\n",
       "                                              max_delta_step=None, max_depth=11,\n",
       "                                              max_leaves=None,\n",
       "                                              min_child_weight=2, missing=nan,\n",
       "                                              monotone_constraints=None,\n",
       "                                              multi_strategy=None,\n",
       "                                              n_estimators=452, n_jobs=None,\n",
       "                                              num_parallel_tree=None,\n",
       "                                              random_state=None, ...))],\n",
       "                   final_estimator=LogisticRegression(C=0.1, penalty=&#x27;l1&#x27;,\n",
       "                                                      random_state=10,\n",
       "                                                      solver=&#x27;saga&#x27;),\n",
       "                   n_jobs=-1, stack_method=&#x27;predict_proba&#x27;)</pre><b>In a Jupyter environment, please rerun this cell to show the HTML representation or trust the notebook. <br />On GitHub, the HTML representation is unable to render, please try loading this page with nbviewer.org.</b></div><div class=\"sk-container\" hidden><div class=\"sk-item sk-dashed-wrapped\"><div class=\"sk-label-container\"><div class=\"sk-label sk-toggleable\"><input class=\"sk-toggleable__control sk-hidden--visually\" id=\"sk-estimator-id-1\" type=\"checkbox\" ><label for=\"sk-estimator-id-1\" class=\"sk-toggleable__label sk-toggleable__label-arrow\">StackingClassifier</label><div class=\"sk-toggleable__content\"><pre>StackingClassifier(estimators=[(&#x27;GB&#x27;,\n",
       "                                GradientBoostingClassifier(max_depth=6,\n",
       "                                                           max_features=10,\n",
       "                                                           min_samples_leaf=5,\n",
       "                                                           min_samples_split=29,\n",
       "                                                           n_estimators=98,\n",
       "                                                           random_state=1,\n",
       "                                                           subsample=0.6747060291909489)),\n",
       "                               (&#x27;HG&#x27;,\n",
       "                                HistGradientBoostingClassifier(early_stopping=False,\n",
       "                                                               l2_regularization=3.592621845843185,\n",
       "                                                               learning_rate=0.05161573294192279,\n",
       "                                                               max_depth=9,\n",
       "                                                               max_iter=441,\n",
       "                                                               max...\n",
       "                                              max_cat_to_onehot=None,\n",
       "                                              max_delta_step=None, max_depth=11,\n",
       "                                              max_leaves=None,\n",
       "                                              min_child_weight=2, missing=nan,\n",
       "                                              monotone_constraints=None,\n",
       "                                              multi_strategy=None,\n",
       "                                              n_estimators=452, n_jobs=None,\n",
       "                                              num_parallel_tree=None,\n",
       "                                              random_state=None, ...))],\n",
       "                   final_estimator=LogisticRegression(C=0.1, penalty=&#x27;l1&#x27;,\n",
       "                                                      random_state=10,\n",
       "                                                      solver=&#x27;saga&#x27;),\n",
       "                   n_jobs=-1, stack_method=&#x27;predict_proba&#x27;)</pre></div></div></div><div class=\"sk-serial\"><div class=\"sk-item\"><div class=\"sk-parallel\"><div class=\"sk-parallel-item\"><div class=\"sk-item\"><div class=\"sk-label-container\"><div class=\"sk-label sk-toggleable\"><label>GB</label></div></div><div class=\"sk-serial\"><div class=\"sk-item\"><div class=\"sk-estimator sk-toggleable\"><input class=\"sk-toggleable__control sk-hidden--visually\" id=\"sk-estimator-id-2\" type=\"checkbox\" ><label for=\"sk-estimator-id-2\" class=\"sk-toggleable__label sk-toggleable__label-arrow\">GradientBoostingClassifier</label><div class=\"sk-toggleable__content\"><pre>GradientBoostingClassifier(max_depth=6, max_features=10, min_samples_leaf=5,\n",
       "                           min_samples_split=29, n_estimators=98,\n",
       "                           random_state=1, subsample=0.6747060291909489)</pre></div></div></div></div></div></div><div class=\"sk-parallel-item\"><div class=\"sk-item\"><div class=\"sk-label-container\"><div class=\"sk-label sk-toggleable\"><label>HG</label></div></div><div class=\"sk-serial\"><div class=\"sk-item\"><div class=\"sk-estimator sk-toggleable\"><input class=\"sk-toggleable__control sk-hidden--visually\" id=\"sk-estimator-id-3\" type=\"checkbox\" ><label for=\"sk-estimator-id-3\" class=\"sk-toggleable__label sk-toggleable__label-arrow\">HistGradientBoostingClassifier</label><div class=\"sk-toggleable__content\"><pre>HistGradientBoostingClassifier(early_stopping=False,\n",
       "                               l2_regularization=3.592621845843185,\n",
       "                               learning_rate=0.05161573294192279, max_depth=9,\n",
       "                               max_iter=441, max_leaf_nodes=19,\n",
       "                               min_samples_leaf=17, random_state=10)</pre></div></div></div></div></div></div><div class=\"sk-parallel-item\"><div class=\"sk-item\"><div class=\"sk-label-container\"><div class=\"sk-label sk-toggleable\"><label>LGBM</label></div></div><div class=\"sk-serial\"><div class=\"sk-item\"><div class=\"sk-estimator sk-toggleable\"><input class=\"sk-toggleable__control sk-hidden--visually\" id=\"sk-estimator-id-4\" type=\"checkbox\" ><label for=\"sk-estimator-id-4\" class=\"sk-toggleable__label sk-toggleable__label-arrow\">LGBMClassifier</label><div class=\"sk-toggleable__content\"><pre>LGBMClassifier(colsample_bytree=0.4822343703997122,\n",
       "               learning_rate=0.023710760431498095, max_depth=20,\n",
       "               n_estimators=944, num_leaves=46, reg_alpha=1.6333094681195481,\n",
       "               reg_lambda=6.302381882653114, subsample=0.3778057790467601)</pre></div></div></div></div></div></div><div class=\"sk-parallel-item\"><div class=\"sk-item\"><div class=\"sk-label-container\"><div class=\"sk-label sk-toggleable\"><label>MLP</label></div></div><div class=\"sk-serial\"><div class=\"sk-item\"><div class=\"sk-serial\"><div class=\"sk-item sk-dashed-wrapped\"><div class=\"sk-label-container\"><div class=\"sk-label sk-toggleable\"><input class=\"sk-toggleable__control sk-hidden--visually\" id=\"sk-estimator-id-5\" type=\"checkbox\" ><label for=\"sk-estimator-id-5\" class=\"sk-toggleable__label sk-toggleable__label-arrow\">transformation: ColumnTransformer</label><div class=\"sk-toggleable__content\"><pre>ColumnTransformer(remainder=&#x27;passthrough&#x27;,\n",
       "                  transformers=[(&#x27;stand&#x27;, PowerTransformer(),\n",
       "                                 [&#x27;Age&#x27;, &#x27;Tenure&#x27;, &#x27;EstimatedSalary&#x27;, &#x27;Balance&#x27;,\n",
       "                                  &#x27;CreditScore&#x27;])])</pre></div></div></div><div class=\"sk-parallel\"><div class=\"sk-parallel-item\"><div class=\"sk-item\"><div class=\"sk-label-container\"><div class=\"sk-label sk-toggleable\"><input class=\"sk-toggleable__control sk-hidden--visually\" id=\"sk-estimator-id-6\" type=\"checkbox\" ><label for=\"sk-estimator-id-6\" class=\"sk-toggleable__label sk-toggleable__label-arrow\">stand</label><div class=\"sk-toggleable__content\"><pre>[&#x27;Age&#x27;, &#x27;Tenure&#x27;, &#x27;EstimatedSalary&#x27;, &#x27;Balance&#x27;, &#x27;CreditScore&#x27;]</pre></div></div></div><div class=\"sk-serial\"><div class=\"sk-item\"><div class=\"sk-estimator sk-toggleable\"><input class=\"sk-toggleable__control sk-hidden--visually\" id=\"sk-estimator-id-7\" type=\"checkbox\" ><label for=\"sk-estimator-id-7\" class=\"sk-toggleable__label sk-toggleable__label-arrow\">PowerTransformer</label><div class=\"sk-toggleable__content\"><pre>PowerTransformer()</pre></div></div></div></div></div></div><div class=\"sk-parallel-item\"><div class=\"sk-item\"><div class=\"sk-label-container\"><div class=\"sk-label sk-toggleable\"><input class=\"sk-toggleable__control sk-hidden--visually\" id=\"sk-estimator-id-8\" type=\"checkbox\" ><label for=\"sk-estimator-id-8\" class=\"sk-toggleable__label sk-toggleable__label-arrow\">remainder</label><div class=\"sk-toggleable__content\"><pre></pre></div></div></div><div class=\"sk-serial\"><div class=\"sk-item\"><div class=\"sk-estimator sk-toggleable\"><input class=\"sk-toggleable__control sk-hidden--visually\" id=\"sk-estimator-id-9\" type=\"checkbox\" ><label for=\"sk-estimator-id-9\" class=\"sk-toggleable__label sk-toggleable__label-arrow\">passthrough</label><div class=\"sk-toggleable__content\"><pre>passthrough</pre></div></div></div></div></div></div></div></div><div class=\"sk-item\"><div class=\"sk-estimator sk-toggleable\"><input class=\"sk-toggleable__control sk-hidden--visually\" id=\"sk-estimator-id-10\" type=\"checkbox\" ><label for=\"sk-estimator-id-10\" class=\"sk-toggleable__label sk-toggleable__label-arrow\">MLPClassifier</label><div class=\"sk-toggleable__content\"><pre>MLPClassifier(hidden_layer_sizes=(16, 16), random_state=10)</pre></div></div></div></div></div></div></div></div><div class=\"sk-parallel-item\"><div class=\"sk-item\"><div class=\"sk-label-container\"><div class=\"sk-label sk-toggleable\"><label>XGB</label></div></div><div class=\"sk-serial\"><div class=\"sk-item\"><div class=\"sk-estimator sk-toggleable\"><input class=\"sk-toggleable__control sk-hidden--visually\" id=\"sk-estimator-id-11\" type=\"checkbox\" ><label for=\"sk-estimator-id-11\" class=\"sk-toggleable__label sk-toggleable__label-arrow\">XGBClassifier</label><div class=\"sk-toggleable__content\"><pre>XGBClassifier(base_score=None, booster=None, callbacks=None,\n",
       "              colsample_bylevel=None, colsample_bynode=None,\n",
       "              colsample_bytree=0.683425957554843, device=None,\n",
       "              early_stopping_rounds=None, enable_categorical=False,\n",
       "              eval_metric=None, feature_types=None, gamma=4.471717179966761,\n",
       "              grow_policy=None, importance_type=None,\n",
       "              interaction_constraints=None, learning_rate=0.023619617114657637,\n",
       "              max_bin=None, max_cat_threshold=None, max_cat_to_onehot=None,\n",
       "              max_delta_step=None, max_depth=11, max_leaves=None,\n",
       "              min_child_weight=2, missing=nan, monotone_constraints=None,\n",
       "              multi_strategy=None, n_estimators=452, n_jobs=None,\n",
       "              num_parallel_tree=None, random_state=None, ...)</pre></div></div></div></div></div></div></div></div><div class=\"sk-item\"><div class=\"sk-parallel\"><div class=\"sk-parallel-item\"><div class=\"sk-item\"><div class=\"sk-label-container\"><div class=\"sk-label sk-toggleable\"><label>final_estimator</label></div></div><div class=\"sk-serial\"><div class=\"sk-item\"><div class=\"sk-estimator sk-toggleable\"><input class=\"sk-toggleable__control sk-hidden--visually\" id=\"sk-estimator-id-12\" type=\"checkbox\" ><label for=\"sk-estimator-id-12\" class=\"sk-toggleable__label sk-toggleable__label-arrow\">LogisticRegression</label><div class=\"sk-toggleable__content\"><pre>LogisticRegression(C=0.1, penalty=&#x27;l1&#x27;, random_state=10, solver=&#x27;saga&#x27;)</pre></div></div></div></div></div></div></div></div></div></div></div></div>"
      ],
      "text/plain": [
       "StackingClassifier(estimators=[('GB',\n",
       "                                GradientBoostingClassifier(max_depth=6,\n",
       "                                                           max_features=10,\n",
       "                                                           min_samples_leaf=5,\n",
       "                                                           min_samples_split=29,\n",
       "                                                           n_estimators=98,\n",
       "                                                           random_state=1,\n",
       "                                                           subsample=0.6747060291909489)),\n",
       "                               ('HG',\n",
       "                                HistGradientBoostingClassifier(early_stopping=False,\n",
       "                                                               l2_regularization=3.592621845843185,\n",
       "                                                               learning_rate=0.05161573294192279,\n",
       "                                                               max_depth=9,\n",
       "                                                               max_iter=441,\n",
       "                                                               max...\n",
       "                                              max_cat_to_onehot=None,\n",
       "                                              max_delta_step=None, max_depth=11,\n",
       "                                              max_leaves=None,\n",
       "                                              min_child_weight=2, missing=nan,\n",
       "                                              monotone_constraints=None,\n",
       "                                              multi_strategy=None,\n",
       "                                              n_estimators=452, n_jobs=None,\n",
       "                                              num_parallel_tree=None,\n",
       "                                              random_state=None, ...))],\n",
       "                   final_estimator=LogisticRegression(C=0.1, penalty='l1',\n",
       "                                                      random_state=10,\n",
       "                                                      solver='saga'),\n",
       "                   n_jobs=-1, stack_method='predict_proba')"
      ]
     },
     "execution_count": 23,
     "metadata": {},
     "output_type": "execute_result"
    }
   ],
   "source": [
    "\n",
    "voting_model.fit(X_train, Y_train)\n",
    "stacking_model_1.fit(X_train, Y_train)\n",
    "stacking_model_2.fit(X_train, Y_train)"
   ]
  },
  {
   "cell_type": "markdown",
   "id": "c7d0dcc7",
   "metadata": {
    "papermill": {
     "duration": 0.015912,
     "end_time": "2024-01-06T14:41:34.856469",
     "exception": false,
     "start_time": "2024-01-06T14:41:34.840557",
     "status": "completed"
    },
    "tags": []
   },
   "source": [
    "# 5 Predictions and Submission"
   ]
  },
  {
   "cell_type": "code",
   "execution_count": 24,
   "id": "ad220170",
   "metadata": {
    "execution": {
     "iopub.execute_input": "2024-01-06T14:41:34.886363Z",
     "iopub.status.busy": "2024-01-06T14:41:34.885974Z",
     "iopub.status.idle": "2024-01-06T14:41:58.940191Z",
     "shell.execute_reply": "2024-01-06T14:41:58.938760Z"
    },
    "papermill": {
     "duration": 24.072193,
     "end_time": "2024-01-06T14:41:58.942979",
     "exception": false,
     "start_time": "2024-01-06T14:41:34.870786",
     "status": "completed"
    },
    "tags": []
   },
   "outputs": [],
   "source": [
    "sample_submission['Exited'] = (voting_model.predict_proba(X_test)[:, 1] + \n",
    "                        stacking_model_1.predict_proba(X_test)[:, 1] +\n",
    "                        stacking_model_2.predict_proba(X_test)[:, 1]) / 3\n",
    "\n",
    "\n",
    "sample_submission.to_csv('modified_baseline_submission.csv', index=False)"
   ]
  },
  {
   "cell_type": "code",
   "execution_count": null,
   "id": "ddf9d320",
   "metadata": {
    "papermill": {
     "duration": 0.013882,
     "end_time": "2024-01-06T14:41:58.971434",
     "exception": false,
     "start_time": "2024-01-06T14:41:58.957552",
     "status": "completed"
    },
    "tags": []
   },
   "outputs": [],
   "source": []
  }
 ],
 "metadata": {
  "kaggle": {
   "accelerator": "none",
   "dataSources": [
    {
     "databundleVersionId": 7405009,
     "sourceId": 65711,
     "sourceType": "competition"
    },
    {
     "datasetId": 3191230,
     "sourceId": 5536933,
     "sourceType": "datasetVersion"
    }
   ],
   "dockerImageVersionId": 30626,
   "isGpuEnabled": false,
   "isInternetEnabled": true,
   "language": "python",
   "sourceType": "notebook"
  },
  "kernelspec": {
   "display_name": "Python 3",
   "language": "python",
   "name": "python3"
  },
  "language_info": {
   "codemirror_mode": {
    "name": "ipython",
    "version": 3
   },
   "file_extension": ".py",
   "mimetype": "text/x-python",
   "name": "python",
   "nbconvert_exporter": "python",
   "pygments_lexer": "ipython3",
   "version": "3.10.12"
  },
  "papermill": {
   "default_parameters": {},
   "duration": 1740.505316,
   "end_time": "2024-01-06T14:42:01.608903",
   "environment_variables": {},
   "exception": null,
   "input_path": "__notebook__.ipynb",
   "output_path": "__notebook__.ipynb",
   "parameters": {},
   "start_time": "2024-01-06T14:13:01.103587",
   "version": "2.4.0"
  }
 },
 "nbformat": 4,
 "nbformat_minor": 5
}
