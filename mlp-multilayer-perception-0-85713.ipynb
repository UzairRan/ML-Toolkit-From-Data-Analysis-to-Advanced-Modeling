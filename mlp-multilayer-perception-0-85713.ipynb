{
 "cells": [
  {
   "cell_type": "code",
   "execution_count": 1,
   "id": "d167e108",
   "metadata": {
    "_cell_guid": "b1076dfc-b9ad-4769-8c92-a6c4dae69d19",
    "_uuid": "8f2839f25d086af736a60e9eeb907d3b93b6e0e5",
    "execution": {
     "iopub.execute_input": "2024-05-29T17:10:54.470388Z",
     "iopub.status.busy": "2024-05-29T17:10:54.469975Z",
     "iopub.status.idle": "2024-05-29T17:10:56.628090Z",
     "shell.execute_reply": "2024-05-29T17:10:56.627008Z"
    },
    "papermill": {
     "duration": 2.166828,
     "end_time": "2024-05-29T17:10:56.630842",
     "exception": false,
     "start_time": "2024-05-29T17:10:54.464014",
     "status": "completed"
    },
    "tags": []
   },
   "outputs": [],
   "source": [
    "import pandas as pd\n",
    "import numpy as np\n",
    "from sklearn.model_selection import train_test_split\n",
    "from sklearn.preprocessing import StandardScaler\n",
    "from sklearn.svm import SVR\n",
    "from sklearn.neural_network import MLPRegressor\n",
    "from sklearn.metrics import mean_squared_error\n"
   ]
  },
  {
   "cell_type": "code",
   "execution_count": 2,
   "id": "f118c005",
   "metadata": {
    "execution": {
     "iopub.execute_input": "2024-05-29T17:10:56.640578Z",
     "iopub.status.busy": "2024-05-29T17:10:56.640107Z",
     "iopub.status.idle": "2024-05-29T17:11:00.571118Z",
     "shell.execute_reply": "2024-05-29T17:11:00.570096Z"
    },
    "papermill": {
     "duration": 3.938685,
     "end_time": "2024-05-29T17:11:00.573815",
     "exception": false,
     "start_time": "2024-05-29T17:10:56.635130",
     "status": "completed"
    },
    "tags": []
   },
   "outputs": [],
   "source": [
    "# Load the datasets\n",
    "train_data = pd.read_csv(\"/kaggle/input/playground-series-s4e5/train.csv\")\n",
    "test_data = pd.read_csv(\"/kaggle/input/playground-series-s4e5/test.csv\")"
   ]
  },
  {
   "cell_type": "code",
   "execution_count": 3,
   "id": "de54e12d",
   "metadata": {
    "execution": {
     "iopub.execute_input": "2024-05-29T17:11:00.583119Z",
     "iopub.status.busy": "2024-05-29T17:11:00.582732Z",
     "iopub.status.idle": "2024-05-29T17:11:00.666055Z",
     "shell.execute_reply": "2024-05-29T17:11:00.664973Z"
    },
    "papermill": {
     "duration": 0.091002,
     "end_time": "2024-05-29T17:11:00.668821",
     "exception": false,
     "start_time": "2024-05-29T17:11:00.577819",
     "status": "completed"
    },
    "tags": []
   },
   "outputs": [],
   "source": [
    "# Extract features and target variable from training data\n",
    "X_train = train_data.drop(columns=['id', 'FloodProbability'])\n",
    "y_train = train_data['FloodProbability']\n"
   ]
  },
  {
   "cell_type": "code",
   "execution_count": 4,
   "id": "a796231e",
   "metadata": {
    "execution": {
     "iopub.execute_input": "2024-05-29T17:11:00.678050Z",
     "iopub.status.busy": "2024-05-29T17:11:00.677676Z",
     "iopub.status.idle": "2024-05-29T17:11:00.736465Z",
     "shell.execute_reply": "2024-05-29T17:11:00.735319Z"
    },
    "papermill": {
     "duration": 0.066382,
     "end_time": "2024-05-29T17:11:00.739196",
     "exception": false,
     "start_time": "2024-05-29T17:11:00.672814",
     "status": "completed"
    },
    "tags": []
   },
   "outputs": [],
   "source": [
    "# Extract features from test data\n",
    "X_test = test_data.drop(columns=['id'])"
   ]
  },
  {
   "cell_type": "code",
   "execution_count": 5,
   "id": "5dfa7fd5",
   "metadata": {
    "execution": {
     "iopub.execute_input": "2024-05-29T17:11:00.748622Z",
     "iopub.status.busy": "2024-05-29T17:11:00.748228Z",
     "iopub.status.idle": "2024-05-29T17:11:01.223339Z",
     "shell.execute_reply": "2024-05-29T17:11:01.222128Z"
    },
    "papermill": {
     "duration": 0.482911,
     "end_time": "2024-05-29T17:11:01.226145",
     "exception": false,
     "start_time": "2024-05-29T17:11:00.743234",
     "status": "completed"
    },
    "tags": []
   },
   "outputs": [],
   "source": [
    "# Feature Scaling\n",
    "scaler = StandardScaler()\n",
    "X_train_scaled = scaler.fit_transform(X_train)\n",
    "X_test_scaled = scaler.transform(X_test)\n"
   ]
  },
  {
   "cell_type": "code",
   "execution_count": 6,
   "id": "7eb228b3",
   "metadata": {
    "execution": {
     "iopub.execute_input": "2024-05-29T17:11:01.236184Z",
     "iopub.status.busy": "2024-05-29T17:11:01.235081Z",
     "iopub.status.idle": "2024-05-29T17:15:12.426631Z",
     "shell.execute_reply": "2024-05-29T17:15:12.416818Z"
    },
    "papermill": {
     "duration": 251.202208,
     "end_time": "2024-05-29T17:15:12.432336",
     "exception": false,
     "start_time": "2024-05-29T17:11:01.230128",
     "status": "completed"
    },
    "tags": []
   },
   "outputs": [
    {
     "name": "stdout",
     "output_type": "stream",
     "text": [
      "MLP Train MSE: 0.00037139523118260296\n"
     ]
    }
   ],
   "source": [
    "# Train and evaluate MLP model\n",
    "mlp_model = MLPRegressor(hidden_layer_sizes=(100,), max_iter=500, random_state=42)\n",
    "mlp_model.fit(X_train_scaled, y_train)\n",
    "y_train_pred_mlp = mlp_model.predict(X_train_scaled)\n",
    "mlp_train_mse = mean_squared_error(y_train, y_train_pred_mlp)\n",
    "print(f'MLP Train MSE: {mlp_train_mse}')\n"
   ]
  },
  {
   "cell_type": "code",
   "execution_count": 7,
   "id": "a734dbcc",
   "metadata": {
    "execution": {
     "iopub.execute_input": "2024-05-29T17:15:12.449746Z",
     "iopub.status.busy": "2024-05-29T17:15:12.449093Z",
     "iopub.status.idle": "2024-05-29T17:15:19.873995Z",
     "shell.execute_reply": "2024-05-29T17:15:19.872415Z"
    },
    "papermill": {
     "duration": 7.438283,
     "end_time": "2024-05-29T17:15:19.878374",
     "exception": false,
     "start_time": "2024-05-29T17:15:12.440091",
     "status": "completed"
    },
    "tags": []
   },
   "outputs": [],
   "source": [
    "# Predict on test data using MLP model\n",
    "y_test_pred_mlp = mlp_model.predict(X_test_scaled)\n",
    "\n"
   ]
  },
  {
   "cell_type": "code",
   "execution_count": 8,
   "id": "de79fd38",
   "metadata": {
    "execution": {
     "iopub.execute_input": "2024-05-29T17:15:19.896495Z",
     "iopub.status.busy": "2024-05-29T17:15:19.895934Z",
     "iopub.status.idle": "2024-05-29T17:15:22.348376Z",
     "shell.execute_reply": "2024-05-29T17:15:22.347589Z"
    },
    "papermill": {
     "duration": 2.464228,
     "end_time": "2024-05-29T17:15:22.350781",
     "exception": false,
     "start_time": "2024-05-29T17:15:19.886553",
     "status": "completed"
    },
    "tags": []
   },
   "outputs": [
    {
     "name": "stdout",
     "output_type": "stream",
     "text": [
      "Submission file saved to 'submission.csv'.\n"
     ]
    }
   ],
   "source": [
    "# Prepare submission file\n",
    "submission = pd.DataFrame({\n",
    "    'id': test_data['id'],\n",
    "    'FloodProbability': y_test_pred_mlp\n",
    "})\n",
    "submission.to_csv('submission.csv', index=False)\n",
    "\n",
    "print(\"Submission file saved to 'submission.csv'.\")"
   ]
  },
  {
   "cell_type": "code",
   "execution_count": null,
   "id": "7117fa86",
   "metadata": {
    "papermill": {
     "duration": 0.003635,
     "end_time": "2024-05-29T17:15:22.358400",
     "exception": false,
     "start_time": "2024-05-29T17:15:22.354765",
     "status": "completed"
    },
    "tags": []
   },
   "outputs": [],
   "source": []
  }
 ],
 "metadata": {
  "kaggle": {
   "accelerator": "none",
   "dataSources": [
    {
     "databundleVersionId": 8121328,
     "sourceId": 73278,
     "sourceType": "competition"
    }
   ],
   "dockerImageVersionId": 30698,
   "isGpuEnabled": false,
   "isInternetEnabled": true,
   "language": "python",
   "sourceType": "notebook"
  },
  "kernelspec": {
   "display_name": "Python 3",
   "language": "python",
   "name": "python3"
  },
  "language_info": {
   "codemirror_mode": {
    "name": "ipython",
    "version": 3
   },
   "file_extension": ".py",
   "mimetype": "text/x-python",
   "name": "python",
   "nbconvert_exporter": "python",
   "pygments_lexer": "ipython3",
   "version": "3.10.13"
  },
  "papermill": {
   "default_parameters": {},
   "duration": 271.304289,
   "end_time": "2024-05-29T17:15:22.883056",
   "environment_variables": {},
   "exception": null,
   "input_path": "__notebook__.ipynb",
   "output_path": "__notebook__.ipynb",
   "parameters": {},
   "start_time": "2024-05-29T17:10:51.578767",
   "version": "2.5.0"
  }
 },
 "nbformat": 4,
 "nbformat_minor": 5
}
