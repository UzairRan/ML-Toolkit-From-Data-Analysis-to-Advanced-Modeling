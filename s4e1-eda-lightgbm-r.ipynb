{
 "cells": [
  {
   "cell_type": "code",
   "execution_count": 1,
   "id": "30996b48",
   "metadata": {
    "_execution_state": "idle",
    "_uuid": "051d70d956493feee0c6d64651c6a088724dca2a",
    "execution": {
     "iopub.execute_input": "2024-01-27T20:00:54.619251Z",
     "iopub.status.busy": "2024-01-27T20:00:54.616926Z",
     "iopub.status.idle": "2024-01-27T20:00:55.804008Z",
     "shell.execute_reply": "2024-01-27T20:00:55.802467Z"
    },
    "papermill": {
     "duration": 1.198155,
     "end_time": "2024-01-27T20:00:55.806442",
     "exception": false,
     "start_time": "2024-01-27T20:00:54.608287",
     "status": "completed"
    },
    "tags": []
   },
   "outputs": [
    {
     "name": "stderr",
     "output_type": "stream",
     "text": [
      "── \u001b[1mAttaching core tidyverse packages\u001b[22m ──────────────────────── tidyverse 2.0.0 ──\n",
      "\u001b[32m✔\u001b[39m \u001b[34mdplyr    \u001b[39m 1.1.4     \u001b[32m✔\u001b[39m \u001b[34mreadr    \u001b[39m 2.1.4\n",
      "\u001b[32m✔\u001b[39m \u001b[34mforcats  \u001b[39m 1.0.0     \u001b[32m✔\u001b[39m \u001b[34mstringr  \u001b[39m 1.5.1\n",
      "\u001b[32m✔\u001b[39m \u001b[34mggplot2  \u001b[39m 3.4.4     \u001b[32m✔\u001b[39m \u001b[34mtibble   \u001b[39m 3.2.1\n",
      "\u001b[32m✔\u001b[39m \u001b[34mlubridate\u001b[39m 1.9.3     \u001b[32m✔\u001b[39m \u001b[34mtidyr    \u001b[39m 1.3.0\n",
      "\u001b[32m✔\u001b[39m \u001b[34mpurrr    \u001b[39m 1.0.2     \n",
      "── \u001b[1mConflicts\u001b[22m ────────────────────────────────────────── tidyverse_conflicts() ──\n",
      "\u001b[31m✖\u001b[39m \u001b[34mdplyr\u001b[39m::\u001b[32mfilter()\u001b[39m masks \u001b[34mstats\u001b[39m::filter()\n",
      "\u001b[31m✖\u001b[39m \u001b[34mdplyr\u001b[39m::\u001b[32mlag()\u001b[39m    masks \u001b[34mstats\u001b[39m::lag()\n",
      "\u001b[36mℹ\u001b[39m Use the conflicted package (\u001b[3m\u001b[34m<http://conflicted.r-lib.org/>\u001b[39m\u001b[23m) to force all conflicts to become errors\n"
     ]
    },
    {
     "data": {
      "text/html": [
       "'playground-series-s4e1'"
      ],
      "text/latex": [
       "'playground-series-s4e1'"
      ],
      "text/markdown": [
       "'playground-series-s4e1'"
      ],
      "text/plain": [
       "[1] \"playground-series-s4e1\""
      ]
     },
     "metadata": {},
     "output_type": "display_data"
    }
   ],
   "source": [
    "# This R environment comes with many helpful analytics packages installed\n",
    "# It is defined by the kaggle/rstats Docker image: https://github.com/kaggle/docker-rstats\n",
    "# For example, here's a helpful package to load\n",
    "\n",
    "library(tidyverse) # metapackage of all tidyverse packages\n",
    "\n",
    "# Input data files are available in the read-only \"../input/\" directory\n",
    "# For example, running this (by clicking run or pressing Shift+Enter) will list all files under the input directory\n",
    "\n",
    "list.files(path = \"../input\")\n",
    "\n",
    "# You can write up to 20GB to the current directory (/kaggle/working/) that gets preserved as output when you create a version using \"Save & Run All\" \n",
    "# You can also write temporary files to /kaggle/temp/, but they won't be saved outside of the current session"
   ]
  },
  {
   "cell_type": "markdown",
   "id": "4da6042c",
   "metadata": {
    "papermill": {
     "duration": 0.005598,
     "end_time": "2024-01-27T20:00:55.818229",
     "exception": false,
     "start_time": "2024-01-27T20:00:55.812631",
     "status": "completed"
    },
    "tags": []
   },
   "source": [
    "# 1 Exploratory data analysis"
   ]
  },
  {
   "cell_type": "markdown",
   "id": "4ef5990f",
   "metadata": {
    "papermill": {
     "duration": 0.005569,
     "end_time": "2024-01-27T20:00:55.829467",
     "exception": false,
     "start_time": "2024-01-27T20:00:55.823898",
     "status": "completed"
    },
    "tags": []
   },
   "source": [
    "**1.1 Load libraries**"
   ]
  },
  {
   "cell_type": "code",
   "execution_count": 2,
   "id": "8676be5a",
   "metadata": {
    "execution": {
     "iopub.execute_input": "2024-01-27T20:00:55.866740Z",
     "iopub.status.busy": "2024-01-27T20:00:55.842592Z",
     "iopub.status.idle": "2024-01-27T20:00:56.133233Z",
     "shell.execute_reply": "2024-01-27T20:00:56.131717Z"
    },
    "papermill": {
     "duration": 0.300246,
     "end_time": "2024-01-27T20:00:56.135253",
     "exception": false,
     "start_time": "2024-01-27T20:00:55.835007",
     "status": "completed"
    },
    "tags": []
   },
   "outputs": [
    {
     "name": "stderr",
     "output_type": "stream",
     "text": [
      "\n",
      "Attaching package: ‘gridExtra’\n",
      "\n",
      "\n",
      "The following object is masked from ‘package:dplyr’:\n",
      "\n",
      "    combine\n",
      "\n",
      "\n",
      "\n",
      "Attaching package: ‘data.table’\n",
      "\n",
      "\n",
      "The following objects are masked from ‘package:lubridate’:\n",
      "\n",
      "    hour, isoweek, mday, minute, month, quarter, second, wday, week,\n",
      "    yday, year\n",
      "\n",
      "\n",
      "The following objects are masked from ‘package:dplyr’:\n",
      "\n",
      "    between, first, last\n",
      "\n",
      "\n",
      "The following object is masked from ‘package:purrr’:\n",
      "\n",
      "    transpose\n",
      "\n",
      "\n",
      "Loading required package: R6\n",
      "\n",
      "\n",
      "Attaching package: ‘lightgbm’\n",
      "\n",
      "\n",
      "The following object is masked from ‘package:dplyr’:\n",
      "\n",
      "    slice\n",
      "\n",
      "\n"
     ]
    }
   ],
   "source": [
    "\n",
    "library(ggplot2)\n",
    "library(dplyr)\n",
    "library(gridExtra)\n",
    "library(patchwork)\n",
    "library(data.table)\n",
    "library(lightgbm)"
   ]
  },
  {
   "cell_type": "markdown",
   "id": "7c43fefd",
   "metadata": {
    "papermill": {
     "duration": 0.005969,
     "end_time": "2024-01-27T20:00:56.147561",
     "exception": false,
     "start_time": "2024-01-27T20:00:56.141592",
     "status": "completed"
    },
    "tags": []
   },
   "source": [
    "**1.2 Read the train and test data**"
   ]
  },
  {
   "cell_type": "code",
   "execution_count": 3,
   "id": "fae0eaaf",
   "metadata": {
    "execution": {
     "iopub.execute_input": "2024-01-27T20:00:56.163826Z",
     "iopub.status.busy": "2024-01-27T20:00:56.162029Z",
     "iopub.status.idle": "2024-01-27T20:00:56.966162Z",
     "shell.execute_reply": "2024-01-27T20:00:56.964439Z"
    },
    "papermill": {
     "duration": 0.814643,
     "end_time": "2024-01-27T20:00:56.968224",
     "exception": false,
     "start_time": "2024-01-27T20:00:56.153581",
     "status": "completed"
    },
    "tags": []
   },
   "outputs": [],
   "source": [
    "\n",
    "set.seed(42)\n",
    "\n",
    "train_data <- fread(\"/kaggle/input/playground-series-s4e1/train.csv\")\n",
    "test_data <- fread(\"/kaggle/input/playground-series-s4e1/test.csv\")"
   ]
  },
  {
   "cell_type": "markdown",
   "id": "0127be84",
   "metadata": {
    "papermill": {
     "duration": 0.005858,
     "end_time": "2024-01-27T20:00:56.980435",
     "exception": false,
     "start_time": "2024-01-27T20:00:56.974577",
     "status": "completed"
    },
    "tags": []
   },
   "source": [
    "**1.3 Display basic information about the dataset**"
   ]
  },
  {
   "cell_type": "code",
   "execution_count": 4,
   "id": "81050bb2",
   "metadata": {
    "execution": {
     "iopub.execute_input": "2024-01-27T20:00:56.995937Z",
     "iopub.status.busy": "2024-01-27T20:00:56.994540Z",
     "iopub.status.idle": "2024-01-27T20:00:57.037453Z",
     "shell.execute_reply": "2024-01-27T20:00:57.035899Z"
    },
    "papermill": {
     "duration": 0.054505,
     "end_time": "2024-01-27T20:00:57.040897",
     "exception": false,
     "start_time": "2024-01-27T20:00:56.986392",
     "status": "completed"
    },
    "tags": []
   },
   "outputs": [
    {
     "data": {
      "text/html": [
       "<table class=\"dataframe\">\n",
       "<caption>A data.table: 6 × 14</caption>\n",
       "<thead>\n",
       "\t<tr><th scope=col>id</th><th scope=col>CustomerId</th><th scope=col>Surname</th><th scope=col>CreditScore</th><th scope=col>Geography</th><th scope=col>Gender</th><th scope=col>Age</th><th scope=col>Tenure</th><th scope=col>Balance</th><th scope=col>NumOfProducts</th><th scope=col>HasCrCard</th><th scope=col>IsActiveMember</th><th scope=col>EstimatedSalary</th><th scope=col>Exited</th></tr>\n",
       "\t<tr><th scope=col>&lt;int&gt;</th><th scope=col>&lt;int&gt;</th><th scope=col>&lt;chr&gt;</th><th scope=col>&lt;int&gt;</th><th scope=col>&lt;chr&gt;</th><th scope=col>&lt;chr&gt;</th><th scope=col>&lt;dbl&gt;</th><th scope=col>&lt;int&gt;</th><th scope=col>&lt;dbl&gt;</th><th scope=col>&lt;int&gt;</th><th scope=col>&lt;dbl&gt;</th><th scope=col>&lt;dbl&gt;</th><th scope=col>&lt;dbl&gt;</th><th scope=col>&lt;int&gt;</th></tr>\n",
       "</thead>\n",
       "<tbody>\n",
       "\t<tr><td>0</td><td>15674932</td><td>Okwudilichukwu</td><td>668</td><td>France </td><td>Male</td><td>33</td><td> 3</td><td>     0.0</td><td>2</td><td>1</td><td>0</td><td>181449.97</td><td>0</td></tr>\n",
       "\t<tr><td>1</td><td>15749177</td><td>Okwudiliolisa </td><td>627</td><td>France </td><td>Male</td><td>33</td><td> 1</td><td>     0.0</td><td>2</td><td>1</td><td>1</td><td> 49503.50</td><td>0</td></tr>\n",
       "\t<tr><td>2</td><td>15694510</td><td>Hsueh         </td><td>678</td><td>France </td><td>Male</td><td>40</td><td>10</td><td>     0.0</td><td>2</td><td>1</td><td>0</td><td>184866.69</td><td>0</td></tr>\n",
       "\t<tr><td>3</td><td>15741417</td><td>Kao           </td><td>581</td><td>France </td><td>Male</td><td>34</td><td> 2</td><td>148882.5</td><td>1</td><td>1</td><td>1</td><td> 84560.88</td><td>0</td></tr>\n",
       "\t<tr><td>4</td><td>15766172</td><td>Chiemenam     </td><td>716</td><td>Spain  </td><td>Male</td><td>33</td><td> 5</td><td>     0.0</td><td>2</td><td>1</td><td>1</td><td> 15068.83</td><td>0</td></tr>\n",
       "\t<tr><td>5</td><td>15771669</td><td>Genovese      </td><td>588</td><td>Germany</td><td>Male</td><td>36</td><td> 4</td><td>131778.6</td><td>1</td><td>1</td><td>0</td><td>136024.31</td><td>1</td></tr>\n",
       "</tbody>\n",
       "</table>\n"
      ],
      "text/latex": [
       "A data.table: 6 × 14\n",
       "\\begin{tabular}{llllllllllllll}\n",
       " id & CustomerId & Surname & CreditScore & Geography & Gender & Age & Tenure & Balance & NumOfProducts & HasCrCard & IsActiveMember & EstimatedSalary & Exited\\\\\n",
       " <int> & <int> & <chr> & <int> & <chr> & <chr> & <dbl> & <int> & <dbl> & <int> & <dbl> & <dbl> & <dbl> & <int>\\\\\n",
       "\\hline\n",
       "\t 0 & 15674932 & Okwudilichukwu & 668 & France  & Male & 33 &  3 &      0.0 & 2 & 1 & 0 & 181449.97 & 0\\\\\n",
       "\t 1 & 15749177 & Okwudiliolisa  & 627 & France  & Male & 33 &  1 &      0.0 & 2 & 1 & 1 &  49503.50 & 0\\\\\n",
       "\t 2 & 15694510 & Hsueh          & 678 & France  & Male & 40 & 10 &      0.0 & 2 & 1 & 0 & 184866.69 & 0\\\\\n",
       "\t 3 & 15741417 & Kao            & 581 & France  & Male & 34 &  2 & 148882.5 & 1 & 1 & 1 &  84560.88 & 0\\\\\n",
       "\t 4 & 15766172 & Chiemenam      & 716 & Spain   & Male & 33 &  5 &      0.0 & 2 & 1 & 1 &  15068.83 & 0\\\\\n",
       "\t 5 & 15771669 & Genovese       & 588 & Germany & Male & 36 &  4 & 131778.6 & 1 & 1 & 0 & 136024.31 & 1\\\\\n",
       "\\end{tabular}\n"
      ],
      "text/markdown": [
       "\n",
       "A data.table: 6 × 14\n",
       "\n",
       "| id &lt;int&gt; | CustomerId &lt;int&gt; | Surname &lt;chr&gt; | CreditScore &lt;int&gt; | Geography &lt;chr&gt; | Gender &lt;chr&gt; | Age &lt;dbl&gt; | Tenure &lt;int&gt; | Balance &lt;dbl&gt; | NumOfProducts &lt;int&gt; | HasCrCard &lt;dbl&gt; | IsActiveMember &lt;dbl&gt; | EstimatedSalary &lt;dbl&gt; | Exited &lt;int&gt; |\n",
       "|---|---|---|---|---|---|---|---|---|---|---|---|---|---|\n",
       "| 0 | 15674932 | Okwudilichukwu | 668 | France  | Male | 33 |  3 |      0.0 | 2 | 1 | 0 | 181449.97 | 0 |\n",
       "| 1 | 15749177 | Okwudiliolisa  | 627 | France  | Male | 33 |  1 |      0.0 | 2 | 1 | 1 |  49503.50 | 0 |\n",
       "| 2 | 15694510 | Hsueh          | 678 | France  | Male | 40 | 10 |      0.0 | 2 | 1 | 0 | 184866.69 | 0 |\n",
       "| 3 | 15741417 | Kao            | 581 | France  | Male | 34 |  2 | 148882.5 | 1 | 1 | 1 |  84560.88 | 0 |\n",
       "| 4 | 15766172 | Chiemenam      | 716 | Spain   | Male | 33 |  5 |      0.0 | 2 | 1 | 1 |  15068.83 | 0 |\n",
       "| 5 | 15771669 | Genovese       | 588 | Germany | Male | 36 |  4 | 131778.6 | 1 | 1 | 0 | 136024.31 | 1 |\n",
       "\n"
      ],
      "text/plain": [
       "  id CustomerId Surname        CreditScore Geography Gender Age Tenure Balance \n",
       "1 0  15674932   Okwudilichukwu 668         France    Male   33   3          0.0\n",
       "2 1  15749177   Okwudiliolisa  627         France    Male   33   1          0.0\n",
       "3 2  15694510   Hsueh          678         France    Male   40  10          0.0\n",
       "4 3  15741417   Kao            581         France    Male   34   2     148882.5\n",
       "5 4  15766172   Chiemenam      716         Spain     Male   33   5          0.0\n",
       "6 5  15771669   Genovese       588         Germany   Male   36   4     131778.6\n",
       "  NumOfProducts HasCrCard IsActiveMember EstimatedSalary Exited\n",
       "1 2             1         0              181449.97       0     \n",
       "2 2             1         1               49503.50       0     \n",
       "3 2             1         0              184866.69       0     \n",
       "4 1             1         1               84560.88       0     \n",
       "5 2             1         1               15068.83       0     \n",
       "6 1             1         0              136024.31       1     "
      ]
     },
     "metadata": {},
     "output_type": "display_data"
    }
   ],
   "source": [
    "head(train_data)\n"
   ]
  },
  {
   "cell_type": "markdown",
   "id": "419c3d34",
   "metadata": {
    "papermill": {
     "duration": 0.006652,
     "end_time": "2024-01-27T20:00:57.054165",
     "exception": false,
     "start_time": "2024-01-27T20:00:57.047513",
     "status": "completed"
    },
    "tags": []
   },
   "source": [
    "**1.5 Check for missing values**"
   ]
  },
  {
   "cell_type": "code",
   "execution_count": 5,
   "id": "198a135c",
   "metadata": {
    "execution": {
     "iopub.execute_input": "2024-01-27T20:00:57.069586Z",
     "iopub.status.busy": "2024-01-27T20:00:57.068312Z",
     "iopub.status.idle": "2024-01-27T20:00:57.124350Z",
     "shell.execute_reply": "2024-01-27T20:00:57.123015Z"
    },
    "papermill": {
     "duration": 0.066432,
     "end_time": "2024-01-27T20:00:57.126713",
     "exception": false,
     "start_time": "2024-01-27T20:00:57.060281",
     "status": "completed"
    },
    "tags": []
   },
   "outputs": [
    {
     "name": "stdout",
     "output_type": "stream",
     "text": [
      "             id      CustomerId         Surname     CreditScore       Geography \n",
      "              0               0               0               0               0 \n",
      "         Gender             Age          Tenure         Balance   NumOfProducts \n",
      "              0               0               0               0               0 \n",
      "      HasCrCard  IsActiveMember EstimatedSalary          Exited \n",
      "              0               0               0               0 \n"
     ]
    }
   ],
   "source": [
    "print(colSums(is.na(train_data)))\n"
   ]
  },
  {
   "cell_type": "code",
   "execution_count": 6,
   "id": "c04b5198",
   "metadata": {
    "execution": {
     "iopub.execute_input": "2024-01-27T20:00:57.143740Z",
     "iopub.status.busy": "2024-01-27T20:00:57.142349Z",
     "iopub.status.idle": "2024-01-27T20:00:57.373800Z",
     "shell.execute_reply": "2024-01-27T20:00:57.372201Z"
    },
    "papermill": {
     "duration": 0.242076,
     "end_time": "2024-01-27T20:00:57.375826",
     "exception": false,
     "start_time": "2024-01-27T20:00:57.133750",
     "status": "completed"
    },
    "tags": []
   },
   "outputs": [
    {
     "name": "stdout",
     "output_type": "stream",
     "text": [
      "             id      CustomerId         Surname     CreditScore       Geography \n",
      "              0               0               0               0               0 \n",
      "         Gender             Age          Tenure         Balance   NumOfProducts \n",
      "              0               0               0               0               0 \n",
      "      HasCrCard  IsActiveMember EstimatedSalary \n",
      "              0               0               0 \n"
     ]
    }
   ],
   "source": [
    "print(colSums(is.na(test_data)))"
   ]
  },
  {
   "cell_type": "markdown",
   "id": "1f9b9cba",
   "metadata": {
    "papermill": {
     "duration": 0.006598,
     "end_time": "2024-01-27T20:00:57.389574",
     "exception": false,
     "start_time": "2024-01-27T20:00:57.382976",
     "status": "completed"
    },
    "tags": []
   },
   "source": [
    "# Data Viz"
   ]
  },
  {
   "cell_type": "markdown",
   "id": "057b2e80",
   "metadata": {
    "papermill": {
     "duration": 0.006553,
     "end_time": "2024-01-27T20:00:57.403215",
     "exception": false,
     "start_time": "2024-01-27T20:00:57.396662",
     "status": "completed"
    },
    "tags": []
   },
   "source": [
    "**2.1 Plot distribution of 'Exited' variable with labels***"
   ]
  },
  {
   "cell_type": "code",
   "execution_count": 7,
   "id": "1770a35f",
   "metadata": {
    "execution": {
     "iopub.execute_input": "2024-01-27T20:00:57.419965Z",
     "iopub.status.busy": "2024-01-27T20:00:57.418442Z",
     "iopub.status.idle": "2024-01-27T20:00:58.169767Z",
     "shell.execute_reply": "2024-01-27T20:00:58.166682Z"
    },
    "papermill": {
     "duration": 0.762518,
     "end_time": "2024-01-27T20:00:58.172169",
     "exception": false,
     "start_time": "2024-01-27T20:00:57.409651",
     "status": "completed"
    },
    "tags": []
   },
   "outputs": [
    {
     "data": {
      "image/png": "[encoded data removed]"
     },
     "metadata": {
      "image/png": {
       "height": 420,
       "width": 420
      }
     },
     "output_type": "display_data"
    }
   ],
   "source": [
    "ggplot(train_data, aes(x = Exited, fill = factor(Exited))) +\n",
    "        geom_bar() +\n",
    "        ggtitle('Distribution of Customer Churn') +\n",
    "        xlab('Churn Status (0: Not Churned, 1: Churned)') +\n",
    "        ylab('Count') +\n",
    "        scale_fill_manual(values = c('0' = 'blue', '1' = 'orange'))\n"
   ]
  },
  {
   "cell_type": "markdown",
   "id": "fd0eb84f",
   "metadata": {
    "papermill": {
     "duration": 0.007519,
     "end_time": "2024-01-27T20:00:58.188130",
     "exception": false,
     "start_time": "2024-01-27T20:00:58.180611",
     "status": "completed"
    },
    "tags": []
   },
   "source": [
    "**2.2 Plot count distribution for categorical variables**"
   ]
  },
  {
   "cell_type": "code",
   "execution_count": 8,
   "id": "73a41092",
   "metadata": {
    "execution": {
     "iopub.execute_input": "2024-01-27T20:00:58.205587Z",
     "iopub.status.busy": "2024-01-27T20:00:58.204168Z",
     "iopub.status.idle": "2024-01-27T20:01:00.124174Z",
     "shell.execute_reply": "2024-01-27T20:01:00.122160Z"
    },
    "papermill": {
     "duration": 1.931814,
     "end_time": "2024-01-27T20:01:00.126872",
     "exception": false,
     "start_time": "2024-01-27T20:00:58.195058",
     "status": "completed"
    },
    "tags": []
   },
   "outputs": [
    {
     "data": {
      "image/png": "[encoded data removed]"
     },
     "metadata": {
      "image/png": {
       "height": 420,
       "width": 420
      }
     },
     "output_type": "display_data"
    }
   ],
   "source": [
    " \n",
    "plt1 <- ggplot(train_data, aes(x = Geography, fill = Geography)) +\n",
    "        geom_bar() +\n",
    "        ggtitle('Distribution by Geography') +\n",
    "        xlab('Geography') +\n",
    "        ylab('Count') +\n",
    "        geom_text(stat = 'count', aes(label = after_stat(count + 100)), vjust = -0.5) +\n",
    "        theme(axis.text.x = element_text(angle = 45, hjust = 1))\n",
    "\n",
    "plt2 <- ggplot(train_data, aes(x = Gender, fill = Gender)) +\n",
    "        geom_bar() +\n",
    "        ggtitle('Distribution by Gender') +\n",
    "        xlab('Gender') +\n",
    "        ylab('Count') +\n",
    "        geom_text(stat = 'count', aes(label = after_stat(count + 100)), vjust = -0.5) +\n",
    "        theme(axis.text.x = element_text(angle = 45, hjust = 1))\n",
    "\n",
    "gridExtra::grid.arrange(plt1, plt2, ncol = 2)"
   ]
  },
  {
   "cell_type": "markdown",
   "id": "84b55f2a",
   "metadata": {
    "papermill": {
     "duration": 0.007331,
     "end_time": "2024-01-27T20:01:00.141935",
     "exception": false,
     "start_time": "2024-01-27T20:01:00.134604",
     "status": "completed"
    },
    "tags": []
   },
   "source": [
    "**2.3 counts and proportions for Geography and Gender**"
   ]
  },
  {
   "cell_type": "code",
   "execution_count": 9,
   "id": "63b0d4a1",
   "metadata": {
    "execution": {
     "iopub.execute_input": "2024-01-27T20:01:00.159548Z",
     "iopub.status.busy": "2024-01-27T20:01:00.158344Z",
     "iopub.status.idle": "2024-01-27T20:01:00.765305Z",
     "shell.execute_reply": "2024-01-27T20:01:00.763790Z"
    },
    "papermill": {
     "duration": 0.618168,
     "end_time": "2024-01-27T20:01:00.767384",
     "exception": false,
     "start_time": "2024-01-27T20:01:00.149216",
     "status": "completed"
    },
    "tags": []
   },
   "outputs": [
    {
     "data": {
      "image/png": "[encoded data removed]"
     },
     "metadata": {
      "image/png": {
       "height": 420,
       "width": 420
      }
     },
     "output_type": "display_data"
    }
   ],
   "source": [
    "geo_counts <- train_data %>% \n",
    "        group_by(Geography) %>% \n",
    "        summarise(count = n()) %>% \n",
    "        mutate(prop = count / sum(count) * 100)\n",
    "\n",
    "plt3 <- ggplot(geo_counts, aes(x = \"\", y = prop, fill = Geography)) +\n",
    "        geom_bar(width = 1, stat = \"identity\") +\n",
    "        coord_polar(theta = 'y') +\n",
    "        ggtitle('Geography Distribution') +\n",
    "        theme_void() +\n",
    "        geom_text(aes(label = sprintf(\"%1.1f%%\", prop)),\n",
    "                  position = position_stack(vjust = 0.5))\n",
    "\n",
    "gender_counts <- train_data %>% \n",
    "        group_by(Gender) %>% \n",
    "        summarise(count = n()) %>% \n",
    "        mutate(prop = count / sum(count) * 100)\n",
    "\n",
    "plt4 <- ggplot(gender_counts, aes(x = \"\", y = prop, fill = Gender)) +\n",
    "        geom_bar(width = 1, stat = \"identity\") +\n",
    "        coord_polar(theta = 'y') +\n",
    "        ggtitle('Gender Distribution') +\n",
    "        theme_void() +\n",
    "        geom_text(aes(label = sprintf(\"%1.1f%%\", prop)),\n",
    "                  position = position_stack(vjust = 0.5))\n",
    "\n",
    "gridExtra::grid.arrange(plt3, plt4, ncol = 2)\n"
   ]
  },
  {
   "cell_type": "markdown",
   "id": "3c3c105d",
   "metadata": {
    "papermill": {
     "duration": 0.007803,
     "end_time": "2024-01-27T20:01:00.783542",
     "exception": false,
     "start_time": "2024-01-27T20:01:00.775739",
     "status": "completed"
    },
    "tags": []
   },
   "source": [
    "# 3 Feature Engineering"
   ]
  },
  {
   "cell_type": "markdown",
   "id": "07cbead8",
   "metadata": {
    "papermill": {
     "duration": 0.007774,
     "end_time": "2024-01-27T20:01:00.799079",
     "exception": false,
     "start_time": "2024-01-27T20:01:00.791305",
     "status": "completed"
    },
    "tags": []
   },
   "source": [
    "**3.1 Sample feature engineering for age groups**"
   ]
  },
  {
   "cell_type": "code",
   "execution_count": 10,
   "id": "0d98bb22",
   "metadata": {
    "execution": {
     "iopub.execute_input": "2024-01-27T20:01:00.818922Z",
     "iopub.status.busy": "2024-01-27T20:01:00.817241Z",
     "iopub.status.idle": "2024-01-27T20:01:00.853569Z",
     "shell.execute_reply": "2024-01-27T20:01:00.851826Z"
    },
    "papermill": {
     "duration": 0.048455,
     "end_time": "2024-01-27T20:01:00.855476",
     "exception": false,
     "start_time": "2024-01-27T20:01:00.807021",
     "status": "completed"
    },
    "tags": []
   },
   "outputs": [],
   "source": [
    "\n",
    "train_data$Age_Group <- cut(train_data$Age, breaks = c(18, 25, 35, 50, 70, 100), labels = c(\"18-25\", \"26-35\", \"36-50\", \"51-70\", \"71+\"))\n",
    "test_data$Age_Group <- cut(test_data$Age, breaks = c(18, 25, 35, 50, 70, 100), labels = c(\"18-25\", \"26-35\", \"36-50\", \"51-70\", \"71+\"))"
   ]
  },
  {
   "cell_type": "markdown",
   "id": "0ac77347",
   "metadata": {
    "papermill": {
     "duration": 0.007926,
     "end_time": "2024-01-27T20:01:00.871484",
     "exception": false,
     "start_time": "2024-01-27T20:01:00.863558",
     "status": "completed"
    },
    "tags": []
   },
   "source": [
    "**3.2 Encoding categorical variables**"
   ]
  },
  {
   "cell_type": "code",
   "execution_count": 11,
   "id": "a8797821",
   "metadata": {
    "execution": {
     "iopub.execute_input": "2024-01-27T20:01:00.890787Z",
     "iopub.status.busy": "2024-01-27T20:01:00.889286Z",
     "iopub.status.idle": "2024-01-27T20:01:01.182155Z",
     "shell.execute_reply": "2024-01-27T20:01:01.180525Z"
    },
    "papermill": {
     "duration": 0.305451,
     "end_time": "2024-01-27T20:01:01.184727",
     "exception": false,
     "start_time": "2024-01-27T20:01:00.879276",
     "status": "completed"
    },
    "tags": []
   },
   "outputs": [],
   "source": [
    "train_data[, Geography := as.factor(Geography)]\n",
    "train_data[, Gender := as.factor(Gender)]\n",
    "train_data[, Age_Group := as.factor(Age_Group)]\n",
    "\n",
    "test_data[, Geography := as.factor(Geography)]\n",
    "test_data[, Gender := as.factor(Gender)]\n",
    "test_data[, Age_Group := as.factor(Age_Group)]"
   ]
  },
  {
   "cell_type": "markdown",
   "id": "33de7c5b",
   "metadata": {
    "papermill": {
     "duration": 0.00818,
     "end_time": "2024-01-27T20:01:01.201515",
     "exception": false,
     "start_time": "2024-01-27T20:01:01.193335",
     "status": "completed"
    },
    "tags": []
   },
   "source": [
    "# 4 Model Training"
   ]
  },
  {
   "cell_type": "markdown",
   "id": "fad3e385",
   "metadata": {
    "papermill": {
     "duration": 0.008412,
     "end_time": "2024-01-27T20:01:01.218197",
     "exception": false,
     "start_time": "2024-01-27T20:01:01.209785",
     "status": "completed"
    },
    "tags": []
   },
   "source": [
    "**4.1 Prepare data for LightGBM**"
   ]
  },
  {
   "cell_type": "code",
   "execution_count": 12,
   "id": "7e2a51e1",
   "metadata": {
    "execution": {
     "iopub.execute_input": "2024-01-27T20:01:01.238640Z",
     "iopub.status.busy": "2024-01-27T20:01:01.237266Z",
     "iopub.status.idle": "2024-01-27T20:01:02.203849Z",
     "shell.execute_reply": "2024-01-27T20:01:02.201933Z"
    },
    "papermill": {
     "duration": 0.979639,
     "end_time": "2024-01-27T20:01:02.206323",
     "exception": false,
     "start_time": "2024-01-27T20:01:01.226684",
     "status": "completed"
    },
    "tags": []
   },
   "outputs": [
    {
     "name": "stderr",
     "output_type": "stream",
     "text": [
      "Warning message in storage.mode(data) <- \"double\":\n",
      "“NAs introduced by coercion”\n"
     ]
    }
   ],
   "source": [
    "train_data_lgb <- lgb.Dataset(data = as.matrix(train_data[, -c(\"id\", \"CustomerId\", \"Surname\", \"Exited\")]), \n",
    "                               label = as.numeric(train_data$Exited) - 1,\n",
    "                               categorical_feature = c(\"Geography\", \"Gender\", \"Age_Group\"))"
   ]
  },
  {
   "cell_type": "markdown",
   "id": "b834a54b",
   "metadata": {
    "papermill": {
     "duration": 0.008,
     "end_time": "2024-01-27T20:01:02.222925",
     "exception": false,
     "start_time": "2024-01-27T20:01:02.214925",
     "status": "completed"
    },
    "tags": []
   },
   "source": [
    "**4.2 Set LightGBM parameters**"
   ]
  },
  {
   "cell_type": "code",
   "execution_count": 13,
   "id": "01472c21",
   "metadata": {
    "execution": {
     "iopub.execute_input": "2024-01-27T20:01:02.242688Z",
     "iopub.status.busy": "2024-01-27T20:01:02.241179Z",
     "iopub.status.idle": "2024-01-27T20:01:02.276441Z",
     "shell.execute_reply": "2024-01-27T20:01:02.274626Z"
    },
    "papermill": {
     "duration": 0.047656,
     "end_time": "2024-01-27T20:01:02.278436",
     "exception": false,
     "start_time": "2024-01-27T20:01:02.230780",
     "status": "completed"
    },
    "tags": []
   },
   "outputs": [],
   "source": [
    "lgb_params <- list(objective = \"binary\",\n",
    "                   metric = \"auc\",\n",
    "                   boosting_type = \"gbdt\",\n",
    "                   num_leaves = 31,\n",
    "                   learning_rate = 0.05,\n",
    "                   feature_fraction = 0.9,\n",
    "                   bagging_fraction = 0.8,\n",
    "                   bagging_freq = 5,\n",
    "                   verbose = -1)"
   ]
  },
  {
   "cell_type": "markdown",
   "id": "f35e7c57",
   "metadata": {
    "papermill": {
     "duration": 0.007888,
     "end_time": "2024-01-27T20:01:02.294625",
     "exception": false,
     "start_time": "2024-01-27T20:01:02.286737",
     "status": "completed"
    },
    "tags": []
   },
   "source": [
    "**4.3 train Lightgbm**"
   ]
  },
  {
   "cell_type": "code",
   "execution_count": 14,
   "id": "c6c0174d",
   "metadata": {
    "execution": {
     "iopub.execute_input": "2024-01-27T20:01:02.315840Z",
     "iopub.status.busy": "2024-01-27T20:01:02.314250Z",
     "iopub.status.idle": "2024-01-27T20:01:02.907287Z",
     "shell.execute_reply": "2024-01-27T20:01:02.904830Z"
    },
    "papermill": {
     "duration": 0.606835,
     "end_time": "2024-01-27T20:01:02.909317",
     "exception": false,
     "start_time": "2024-01-27T20:01:02.302482",
     "status": "completed"
    },
    "tags": []
   },
   "outputs": [
    {
     "name": "stdout",
     "output_type": "stream",
     "text": [
      "[1]:\tval's auc:1 \n",
      "[2]:\tval's auc:1 \n",
      "[3]:\tval's auc:1 \n",
      "[4]:\tval's auc:1 \n",
      "[5]:\tval's auc:1 \n",
      "[6]:\tval's auc:1 \n",
      "[7]:\tval's auc:1 \n",
      "[8]:\tval's auc:1 \n",
      "[9]:\tval's auc:1 \n",
      "[10]:\tval's auc:1 \n",
      "[11]:\tval's auc:1 \n",
      "[12]:\tval's auc:1 \n",
      "[13]:\tval's auc:1 \n",
      "[14]:\tval's auc:1 \n",
      "[15]:\tval's auc:1 \n",
      "[16]:\tval's auc:1 \n",
      "[17]:\tval's auc:1 \n",
      "[18]:\tval's auc:1 \n",
      "[19]:\tval's auc:1 \n",
      "[20]:\tval's auc:1 \n",
      "[21]:\tval's auc:1 \n",
      "[22]:\tval's auc:1 \n",
      "[23]:\tval's auc:1 \n",
      "[24]:\tval's auc:1 \n",
      "[25]:\tval's auc:1 \n",
      "[26]:\tval's auc:1 \n",
      "[27]:\tval's auc:1 \n",
      "[28]:\tval's auc:1 \n",
      "[29]:\tval's auc:1 \n",
      "[30]:\tval's auc:1 \n",
      "[31]:\tval's auc:1 \n",
      "[32]:\tval's auc:1 \n",
      "[33]:\tval's auc:1 \n",
      "[34]:\tval's auc:1 \n",
      "[35]:\tval's auc:1 \n",
      "[36]:\tval's auc:1 \n",
      "[37]:\tval's auc:1 \n",
      "[38]:\tval's auc:1 \n",
      "[39]:\tval's auc:1 \n",
      "[40]:\tval's auc:1 \n",
      "[41]:\tval's auc:1 \n",
      "[42]:\tval's auc:1 \n",
      "[43]:\tval's auc:1 \n",
      "[44]:\tval's auc:1 \n",
      "[45]:\tval's auc:1 \n",
      "[46]:\tval's auc:1 \n",
      "[47]:\tval's auc:1 \n",
      "[48]:\tval's auc:1 \n",
      "[49]:\tval's auc:1 \n",
      "[50]:\tval's auc:1 \n",
      "[51]:\tval's auc:1 \n",
      "[52]:\tval's auc:1 \n",
      "[53]:\tval's auc:1 \n",
      "[54]:\tval's auc:1 \n",
      "[55]:\tval's auc:1 \n",
      "[56]:\tval's auc:1 \n",
      "[57]:\tval's auc:1 \n",
      "[58]:\tval's auc:1 \n",
      "[59]:\tval's auc:1 \n",
      "[60]:\tval's auc:1 \n",
      "[61]:\tval's auc:1 \n",
      "[62]:\tval's auc:1 \n",
      "[63]:\tval's auc:1 \n",
      "[64]:\tval's auc:1 \n",
      "[65]:\tval's auc:1 \n",
      "[66]:\tval's auc:1 \n",
      "[67]:\tval's auc:1 \n",
      "[68]:\tval's auc:1 \n",
      "[69]:\tval's auc:1 \n",
      "[70]:\tval's auc:1 \n",
      "[71]:\tval's auc:1 \n",
      "[72]:\tval's auc:1 \n",
      "[73]:\tval's auc:1 \n",
      "[74]:\tval's auc:1 \n",
      "[75]:\tval's auc:1 \n",
      "[76]:\tval's auc:1 \n",
      "[77]:\tval's auc:1 \n",
      "[78]:\tval's auc:1 \n",
      "[79]:\tval's auc:1 \n",
      "[80]:\tval's auc:1 \n",
      "[81]:\tval's auc:1 \n",
      "[82]:\tval's auc:1 \n",
      "[83]:\tval's auc:1 \n",
      "[84]:\tval's auc:1 \n",
      "[85]:\tval's auc:1 \n",
      "[86]:\tval's auc:1 \n",
      "[87]:\tval's auc:1 \n",
      "[88]:\tval's auc:1 \n",
      "[89]:\tval's auc:1 \n",
      "[90]:\tval's auc:1 \n",
      "[91]:\tval's auc:1 \n",
      "[92]:\tval's auc:1 \n",
      "[93]:\tval's auc:1 \n",
      "[94]:\tval's auc:1 \n",
      "[95]:\tval's auc:1 \n",
      "[96]:\tval's auc:1 \n",
      "[97]:\tval's auc:1 \n",
      "[98]:\tval's auc:1 \n",
      "[99]:\tval's auc:1 \n",
      "[100]:\tval's auc:1 \n",
      "[101]:\tval's auc:1 \n"
     ]
    }
   ],
   "source": [
    "lgb_model <- lgb.train(params = lgb_params, data = train_data_lgb, nrounds = 1000, early_stopping_rounds = 100, valids = list(val = train_data_lgb))"
   ]
  },
  {
   "cell_type": "markdown",
   "id": "b74e3be0",
   "metadata": {
    "papermill": {
     "duration": 0.008131,
     "end_time": "2024-01-27T20:01:02.926312",
     "exception": false,
     "start_time": "2024-01-27T20:01:02.918181",
     "status": "completed"
    },
    "tags": []
   },
   "source": [
    "**4.4 predictions on the test data**"
   ]
  },
  {
   "cell_type": "code",
   "execution_count": 15,
   "id": "6111910f",
   "metadata": {
    "execution": {
     "iopub.execute_input": "2024-01-27T20:01:02.945888Z",
     "iopub.status.busy": "2024-01-27T20:01:02.944545Z",
     "iopub.status.idle": "2024-01-27T20:01:03.435655Z",
     "shell.execute_reply": "2024-01-27T20:01:03.433597Z"
    },
    "papermill": {
     "duration": 0.503481,
     "end_time": "2024-01-27T20:01:03.437980",
     "exception": false,
     "start_time": "2024-01-27T20:01:02.934499",
     "status": "completed"
    },
    "tags": []
   },
   "outputs": [],
   "source": [
    "test_predictions <- predict(lgb_model, as.matrix(test_data[, -c(\"id\", \"CustomerId\", \"Surname\")]))"
   ]
  },
  {
   "cell_type": "markdown",
   "id": "175e0e8f",
   "metadata": {
    "papermill": {
     "duration": 0.008172,
     "end_time": "2024-01-27T20:01:03.454621",
     "exception": false,
     "start_time": "2024-01-27T20:01:03.446449",
     "status": "completed"
    },
    "tags": []
   },
   "source": [
    "# Create submission file"
   ]
  },
  {
   "cell_type": "code",
   "execution_count": 16,
   "id": "eccde626",
   "metadata": {
    "execution": {
     "iopub.execute_input": "2024-01-27T20:01:03.476472Z",
     "iopub.status.busy": "2024-01-27T20:01:03.473897Z",
     "iopub.status.idle": "2024-01-27T20:01:03.510076Z",
     "shell.execute_reply": "2024-01-27T20:01:03.507752Z"
    },
    "papermill": {
     "duration": 0.051257,
     "end_time": "2024-01-27T20:01:03.513888",
     "exception": false,
     "start_time": "2024-01-27T20:01:03.462631",
     "status": "completed"
    },
    "tags": []
   },
   "outputs": [],
   "source": [
    "\n",
    "submission <- data.table(id = test_data$id, Exited = test_predictions)\n",
    "fwrite(submission, \"submission.csv\", quote = FALSE)\n"
   ]
  },
  {
   "cell_type": "code",
   "execution_count": null,
   "id": "fbff3357",
   "metadata": {
    "papermill": {
     "duration": 0.008767,
     "end_time": "2024-01-27T20:01:03.532188",
     "exception": false,
     "start_time": "2024-01-27T20:01:03.523421",
     "status": "completed"
    },
    "tags": []
   },
   "outputs": [],
   "source": []
  }
 ],
 "metadata": {
  "kaggle": {
   "accelerator": "none",
   "dataSources": [
    {
     "databundleVersionId": 7405009,
     "sourceId": 65711,
     "sourceType": "competition"
    }
   ],
   "dockerImageVersionId": 30618,
   "isGpuEnabled": false,
   "isInternetEnabled": true,
   "language": "r",
   "sourceType": "notebook"
  },
  "kernelspec": {
   "display_name": "R",
   "language": "R",
   "name": "ir"
  },
  "language_info": {
   "codemirror_mode": "r",
   "file_extension": ".r",
   "mimetype": "text/x-r-source",
   "name": "R",
   "pygments_lexer": "r",
   "version": "4.0.5"
  },
  "papermill": {
   "default_parameters": {},
   "duration": 12.071003,
   "end_time": "2024-01-27T20:01:03.662866",
   "environment_variables": {},
   "exception": null,
   "input_path": "__notebook__.ipynb",
   "output_path": "__notebook__.ipynb",
   "parameters": {},
   "start_time": "2024-01-27T20:00:51.591863",
   "version": "2.5.0"
  }
 },
 "nbformat": 4,
 "nbformat_minor": 5
}
