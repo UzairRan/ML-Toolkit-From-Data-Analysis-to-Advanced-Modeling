{
 "cells": [
  {
   "cell_type": "code",
   "execution_count": 1,
   "id": "4a6bbb4a",
   "metadata": {
    "execution": {
     "iopub.execute_input": "2024-04-08T22:14:46.779121Z",
     "iopub.status.busy": "2024-04-08T22:14:46.778634Z",
     "iopub.status.idle": "2024-04-08T22:15:07.054031Z",
     "shell.execute_reply": "2024-04-08T22:15:07.052345Z"
    },
    "papermill": {
     "duration": 20.29552,
     "end_time": "2024-04-08T22:15:07.058198",
     "exception": false,
     "start_time": "2024-04-08T22:14:46.762678",
     "status": "completed"
    },
    "tags": []
   },
   "outputs": [
    {
     "name": "stderr",
     "output_type": "stream",
     "text": [
      "2024-04-08 22:14:52.821913: E external/local_xla/xla/stream_executor/cuda/cuda_dnn.cc:9261] Unable to register cuDNN factory: Attempting to register factory for plugin cuDNN when one has already been registered\n",
      "2024-04-08 22:14:52.822128: E external/local_xla/xla/stream_executor/cuda/cuda_fft.cc:607] Unable to register cuFFT factory: Attempting to register factory for plugin cuFFT when one has already been registered\n",
      "2024-04-08 22:14:53.017837: E external/local_xla/xla/stream_executor/cuda/cuda_blas.cc:1515] Unable to register cuBLAS factory: Attempting to register factory for plugin cuBLAS when one has already been registered\n"
     ]
    }
   ],
   "source": [
    "# Import necessary libraries\n",
    "import pandas as pd\n",
    "import numpy as np\n",
    "import matplotlib.pyplot as plt\n",
    "import seaborn as sns\n",
    "from sklearn.model_selection import train_test_split\n",
    "from sklearn.preprocessing import StandardScaler\n",
    "from sklearn.metrics import accuracy_score\n",
    "from sklearn.utils import resample\n",
    "from tensorflow.keras.models import Sequential\n",
    "from tensorflow.keras.layers import Dense, LSTM, Conv1D, MaxPooling1D, Flatten\n"
   ]
  },
  {
   "cell_type": "code",
   "execution_count": 2,
   "id": "364dca5d",
   "metadata": {
    "_cell_guid": "b1076dfc-b9ad-4769-8c92-a6c4dae69d19",
    "_uuid": "8f2839f25d086af736a60e9eeb907d3b93b6e0e5",
    "execution": {
     "iopub.execute_input": "2024-04-08T22:15:07.088545Z",
     "iopub.status.busy": "2024-04-08T22:15:07.087727Z",
     "iopub.status.idle": "2024-04-08T22:15:07.430382Z",
     "shell.execute_reply": "2024-04-08T22:15:07.428089Z"
    },
    "papermill": {
     "duration": 0.361758,
     "end_time": "2024-04-08T22:15:07.434368",
     "exception": false,
     "start_time": "2024-04-08T22:15:07.072610",
     "status": "completed"
    },
    "tags": []
   },
   "outputs": [],
   "source": [
    "# Load train and test metadata\n",
    "train_metadata = pd.read_csv(\"/kaggle/input/hms-harmful-brain-activity-classification/train.csv\")\n",
    "test_metadata = pd.read_csv(\"/kaggle/input/hms-harmful-brain-activity-classification/test.csv\")\n"
   ]
  },
  {
   "cell_type": "code",
   "execution_count": 3,
   "id": "308d88ae",
   "metadata": {
    "execution": {
     "iopub.execute_input": "2024-04-08T22:15:07.467402Z",
     "iopub.status.busy": "2024-04-08T22:15:07.466936Z",
     "iopub.status.idle": "2024-04-08T22:15:07.484431Z",
     "shell.execute_reply": "2024-04-08T22:15:07.482619Z"
    },
    "papermill": {
     "duration": 0.039172,
     "end_time": "2024-04-08T22:15:07.488048",
     "exception": false,
     "start_time": "2024-04-08T22:15:07.448876",
     "status": "completed"
    },
    "tags": []
   },
   "outputs": [],
   "source": [
    "# Load sample submission file\n",
    "sample_submission = pd.read_csv(\"/kaggle/input/hms-harmful-brain-activity-classification/sample_submission.csv\")\n"
   ]
  },
  {
   "cell_type": "code",
   "execution_count": 4,
   "id": "0d285733",
   "metadata": {
    "execution": {
     "iopub.execute_input": "2024-04-08T22:15:07.522567Z",
     "iopub.status.busy": "2024-04-08T22:15:07.522008Z",
     "iopub.status.idle": "2024-04-08T22:15:07.786798Z",
     "shell.execute_reply": "2024-04-08T22:15:07.785452Z"
    },
    "papermill": {
     "duration": 0.2863,
     "end_time": "2024-04-08T22:15:07.789799",
     "exception": false,
     "start_time": "2024-04-08T22:15:07.503499",
     "status": "completed"
    },
    "tags": []
   },
   "outputs": [],
   "source": [
    "# Load train EEG data and spectrograms\n",
    "train_eegs = pd.read_parquet(\"/kaggle/input/hms-harmful-brain-activity-classification/train_eegs/1000913311.parquet\")\n",
    "train_spectrograms = pd.read_parquet(\"/kaggle/input/hms-harmful-brain-activity-classification/train_spectrograms/1000086677.parquet\")\n",
    "\n",
    "\n"
   ]
  },
  {
   "cell_type": "code",
   "execution_count": 5,
   "id": "1b30dc68",
   "metadata": {
    "execution": {
     "iopub.execute_input": "2024-04-08T22:15:07.822351Z",
     "iopub.status.busy": "2024-04-08T22:15:07.821848Z",
     "iopub.status.idle": "2024-04-08T22:15:07.909972Z",
     "shell.execute_reply": "2024-04-08T22:15:07.908834Z"
    },
    "papermill": {
     "duration": 0.108072,
     "end_time": "2024-04-08T22:15:07.913955",
     "exception": false,
     "start_time": "2024-04-08T22:15:07.805883",
     "status": "completed"
    },
    "tags": []
   },
   "outputs": [],
   "source": [
    "# Load test EEG data and spectrograms\n",
    "test_eegs = pd.read_parquet(\"/kaggle/input/hms-harmful-brain-activity-classification/test_eegs/3911565283.parquet\")\n",
    "test_spectrograms = pd.read_parquet(\"/kaggle/input/hms-harmful-brain-activity-classification/test_spectrograms/853520.parquet\")"
   ]
  },
  {
   "cell_type": "code",
   "execution_count": 6,
   "id": "671cf803",
   "metadata": {
    "execution": {
     "iopub.execute_input": "2024-04-08T22:15:07.944189Z",
     "iopub.status.busy": "2024-04-08T22:15:07.942958Z",
     "iopub.status.idle": "2024-04-08T22:15:07.949615Z",
     "shell.execute_reply": "2024-04-08T22:15:07.948449Z"
    },
    "papermill": {
     "duration": 0.025085,
     "end_time": "2024-04-08T22:15:07.952618",
     "exception": false,
     "start_time": "2024-04-08T22:15:07.927533",
     "status": "completed"
    },
    "tags": []
   },
   "outputs": [
    {
     "name": "stdout",
     "output_type": "stream",
     "text": [
      "Train Metadata Shape: (106800, 15)\n"
     ]
    }
   ],
   "source": [
    "# Exploration\n",
    "print(\"Train Metadata Shape:\", train_metadata.shape)\n"
   ]
  },
  {
   "cell_type": "code",
   "execution_count": 7,
   "id": "54cb344a",
   "metadata": {
    "execution": {
     "iopub.execute_input": "2024-04-08T22:15:07.982799Z",
     "iopub.status.busy": "2024-04-08T22:15:07.981961Z",
     "iopub.status.idle": "2024-04-08T22:15:08.010609Z",
     "shell.execute_reply": "2024-04-08T22:15:08.009326Z"
    },
    "papermill": {
     "duration": 0.04773,
     "end_time": "2024-04-08T22:15:08.013930",
     "exception": false,
     "start_time": "2024-04-08T22:15:07.966200",
     "status": "completed"
    },
    "tags": []
   },
   "outputs": [
    {
     "data": {
      "text/html": [
       "<div>\n",
       "<style scoped>\n",
       "    .dataframe tbody tr th:only-of-type {\n",
       "        vertical-align: middle;\n",
       "    }\n",
       "\n",
       "    .dataframe tbody tr th {\n",
       "        vertical-align: top;\n",
       "    }\n",
       "\n",
       "    .dataframe thead th {\n",
       "        text-align: right;\n",
       "    }\n",
       "</style>\n",
       "<table border=\"1\" class=\"dataframe\">\n",
       "  <thead>\n",
       "    <tr style=\"text-align: right;\">\n",
       "      <th></th>\n",
       "      <th>eeg_id</th>\n",
       "      <th>eeg_sub_id</th>\n",
       "      <th>eeg_label_offset_seconds</th>\n",
       "      <th>spectrogram_id</th>\n",
       "      <th>spectrogram_sub_id</th>\n",
       "      <th>spectrogram_label_offset_seconds</th>\n",
       "      <th>label_id</th>\n",
       "      <th>patient_id</th>\n",
       "      <th>expert_consensus</th>\n",
       "      <th>seizure_vote</th>\n",
       "      <th>lpd_vote</th>\n",
       "      <th>gpd_vote</th>\n",
       "      <th>lrda_vote</th>\n",
       "      <th>grda_vote</th>\n",
       "      <th>other_vote</th>\n",
       "    </tr>\n",
       "  </thead>\n",
       "  <tbody>\n",
       "    <tr>\n",
       "      <th>0</th>\n",
       "      <td>1628180742</td>\n",
       "      <td>0</td>\n",
       "      <td>0.0</td>\n",
       "      <td>353733</td>\n",
       "      <td>0</td>\n",
       "      <td>0.0</td>\n",
       "      <td>127492639</td>\n",
       "      <td>42516</td>\n",
       "      <td>Seizure</td>\n",
       "      <td>3</td>\n",
       "      <td>0</td>\n",
       "      <td>0</td>\n",
       "      <td>0</td>\n",
       "      <td>0</td>\n",
       "      <td>0</td>\n",
       "    </tr>\n",
       "    <tr>\n",
       "      <th>1</th>\n",
       "      <td>1628180742</td>\n",
       "      <td>1</td>\n",
       "      <td>6.0</td>\n",
       "      <td>353733</td>\n",
       "      <td>1</td>\n",
       "      <td>6.0</td>\n",
       "      <td>3887563113</td>\n",
       "      <td>42516</td>\n",
       "      <td>Seizure</td>\n",
       "      <td>3</td>\n",
       "      <td>0</td>\n",
       "      <td>0</td>\n",
       "      <td>0</td>\n",
       "      <td>0</td>\n",
       "      <td>0</td>\n",
       "    </tr>\n",
       "    <tr>\n",
       "      <th>2</th>\n",
       "      <td>1628180742</td>\n",
       "      <td>2</td>\n",
       "      <td>8.0</td>\n",
       "      <td>353733</td>\n",
       "      <td>2</td>\n",
       "      <td>8.0</td>\n",
       "      <td>1142670488</td>\n",
       "      <td>42516</td>\n",
       "      <td>Seizure</td>\n",
       "      <td>3</td>\n",
       "      <td>0</td>\n",
       "      <td>0</td>\n",
       "      <td>0</td>\n",
       "      <td>0</td>\n",
       "      <td>0</td>\n",
       "    </tr>\n",
       "    <tr>\n",
       "      <th>3</th>\n",
       "      <td>1628180742</td>\n",
       "      <td>3</td>\n",
       "      <td>18.0</td>\n",
       "      <td>353733</td>\n",
       "      <td>3</td>\n",
       "      <td>18.0</td>\n",
       "      <td>2718991173</td>\n",
       "      <td>42516</td>\n",
       "      <td>Seizure</td>\n",
       "      <td>3</td>\n",
       "      <td>0</td>\n",
       "      <td>0</td>\n",
       "      <td>0</td>\n",
       "      <td>0</td>\n",
       "      <td>0</td>\n",
       "    </tr>\n",
       "    <tr>\n",
       "      <th>4</th>\n",
       "      <td>1628180742</td>\n",
       "      <td>4</td>\n",
       "      <td>24.0</td>\n",
       "      <td>353733</td>\n",
       "      <td>4</td>\n",
       "      <td>24.0</td>\n",
       "      <td>3080632009</td>\n",
       "      <td>42516</td>\n",
       "      <td>Seizure</td>\n",
       "      <td>3</td>\n",
       "      <td>0</td>\n",
       "      <td>0</td>\n",
       "      <td>0</td>\n",
       "      <td>0</td>\n",
       "      <td>0</td>\n",
       "    </tr>\n",
       "  </tbody>\n",
       "</table>\n",
       "</div>"
      ],
      "text/plain": [
       "       eeg_id  eeg_sub_id  eeg_label_offset_seconds  spectrogram_id  \\\n",
       "0  1628180742           0                       0.0          353733   \n",
       "1  1628180742           1                       6.0          353733   \n",
       "2  1628180742           2                       8.0          353733   \n",
       "3  1628180742           3                      18.0          353733   \n",
       "4  1628180742           4                      24.0          353733   \n",
       "\n",
       "   spectrogram_sub_id  spectrogram_label_offset_seconds    label_id  \\\n",
       "0                   0                               0.0   127492639   \n",
       "1                   1                               6.0  3887563113   \n",
       "2                   2                               8.0  1142670488   \n",
       "3                   3                              18.0  2718991173   \n",
       "4                   4                              24.0  3080632009   \n",
       "\n",
       "   patient_id expert_consensus  seizure_vote  lpd_vote  gpd_vote  lrda_vote  \\\n",
       "0       42516          Seizure             3         0         0          0   \n",
       "1       42516          Seizure             3         0         0          0   \n",
       "2       42516          Seizure             3         0         0          0   \n",
       "3       42516          Seizure             3         0         0          0   \n",
       "4       42516          Seizure             3         0         0          0   \n",
       "\n",
       "   grda_vote  other_vote  \n",
       "0          0           0  \n",
       "1          0           0  \n",
       "2          0           0  \n",
       "3          0           0  \n",
       "4          0           0  "
      ]
     },
     "execution_count": 7,
     "metadata": {},
     "output_type": "execute_result"
    }
   ],
   "source": [
    "# Check the first few rows of the data\n",
    "train_metadata.head()\n"
   ]
  },
  {
   "cell_type": "code",
   "execution_count": 8,
   "id": "6029a3de",
   "metadata": {
    "execution": {
     "iopub.execute_input": "2024-04-08T22:15:08.047411Z",
     "iopub.status.busy": "2024-04-08T22:15:08.046737Z",
     "iopub.status.idle": "2024-04-08T22:15:08.054387Z",
     "shell.execute_reply": "2024-04-08T22:15:08.053286Z"
    },
    "papermill": {
     "duration": 0.028752,
     "end_time": "2024-04-08T22:15:08.057623",
     "exception": false,
     "start_time": "2024-04-08T22:15:08.028871",
     "status": "completed"
    },
    "tags": []
   },
   "outputs": [
    {
     "name": "stdout",
     "output_type": "stream",
     "text": [
      "Test Metadata Shape: (1, 3)\n"
     ]
    }
   ],
   "source": [
    "print(\"Test Metadata Shape:\", test_metadata.shape)\n"
   ]
  },
  {
   "cell_type": "code",
   "execution_count": 9,
   "id": "b2eafe87",
   "metadata": {
    "execution": {
     "iopub.execute_input": "2024-04-08T22:15:08.088785Z",
     "iopub.status.busy": "2024-04-08T22:15:08.087546Z",
     "iopub.status.idle": "2024-04-08T22:15:08.100592Z",
     "shell.execute_reply": "2024-04-08T22:15:08.099073Z"
    },
    "papermill": {
     "duration": 0.031725,
     "end_time": "2024-04-08T22:15:08.103705",
     "exception": false,
     "start_time": "2024-04-08T22:15:08.071980",
     "status": "completed"
    },
    "tags": []
   },
   "outputs": [
    {
     "data": {
      "text/html": [
       "<div>\n",
       "<style scoped>\n",
       "    .dataframe tbody tr th:only-of-type {\n",
       "        vertical-align: middle;\n",
       "    }\n",
       "\n",
       "    .dataframe tbody tr th {\n",
       "        vertical-align: top;\n",
       "    }\n",
       "\n",
       "    .dataframe thead th {\n",
       "        text-align: right;\n",
       "    }\n",
       "</style>\n",
       "<table border=\"1\" class=\"dataframe\">\n",
       "  <thead>\n",
       "    <tr style=\"text-align: right;\">\n",
       "      <th></th>\n",
       "      <th>spectrogram_id</th>\n",
       "      <th>eeg_id</th>\n",
       "      <th>patient_id</th>\n",
       "    </tr>\n",
       "  </thead>\n",
       "  <tbody>\n",
       "    <tr>\n",
       "      <th>0</th>\n",
       "      <td>853520</td>\n",
       "      <td>3911565283</td>\n",
       "      <td>6885</td>\n",
       "    </tr>\n",
       "  </tbody>\n",
       "</table>\n",
       "</div>"
      ],
      "text/plain": [
       "   spectrogram_id      eeg_id  patient_id\n",
       "0          853520  3911565283        6885"
      ]
     },
     "execution_count": 9,
     "metadata": {},
     "output_type": "execute_result"
    }
   ],
   "source": [
    "# Check the first few rows of the data\n",
    "test_metadata.head()\n",
    "\n"
   ]
  },
  {
   "cell_type": "code",
   "execution_count": 10,
   "id": "a0dc9b62",
   "metadata": {
    "execution": {
     "iopub.execute_input": "2024-04-08T22:15:08.136218Z",
     "iopub.status.busy": "2024-04-08T22:15:08.135732Z",
     "iopub.status.idle": "2024-04-08T22:15:08.143116Z",
     "shell.execute_reply": "2024-04-08T22:15:08.141679Z"
    },
    "papermill": {
     "duration": 0.026775,
     "end_time": "2024-04-08T22:15:08.146203",
     "exception": false,
     "start_time": "2024-04-08T22:15:08.119428",
     "status": "completed"
    },
    "tags": []
   },
   "outputs": [
    {
     "name": "stdout",
     "output_type": "stream",
     "text": [
      "Sample Submission Shape: (1, 7)\n"
     ]
    }
   ],
   "source": [
    "print(\"Sample Submission Shape:\", sample_submission.shape)\n"
   ]
  },
  {
   "cell_type": "code",
   "execution_count": 11,
   "id": "804efc32",
   "metadata": {
    "execution": {
     "iopub.execute_input": "2024-04-08T22:15:08.180057Z",
     "iopub.status.busy": "2024-04-08T22:15:08.179530Z",
     "iopub.status.idle": "2024-04-08T22:15:08.193756Z",
     "shell.execute_reply": "2024-04-08T22:15:08.192658Z"
    },
    "papermill": {
     "duration": 0.034964,
     "end_time": "2024-04-08T22:15:08.196523",
     "exception": false,
     "start_time": "2024-04-08T22:15:08.161559",
     "status": "completed"
    },
    "tags": []
   },
   "outputs": [
    {
     "data": {
      "text/html": [
       "<div>\n",
       "<style scoped>\n",
       "    .dataframe tbody tr th:only-of-type {\n",
       "        vertical-align: middle;\n",
       "    }\n",
       "\n",
       "    .dataframe tbody tr th {\n",
       "        vertical-align: top;\n",
       "    }\n",
       "\n",
       "    .dataframe thead th {\n",
       "        text-align: right;\n",
       "    }\n",
       "</style>\n",
       "<table border=\"1\" class=\"dataframe\">\n",
       "  <thead>\n",
       "    <tr style=\"text-align: right;\">\n",
       "      <th></th>\n",
       "      <th>eeg_id</th>\n",
       "      <th>seizure_vote</th>\n",
       "      <th>lpd_vote</th>\n",
       "      <th>gpd_vote</th>\n",
       "      <th>lrda_vote</th>\n",
       "      <th>grda_vote</th>\n",
       "      <th>other_vote</th>\n",
       "    </tr>\n",
       "  </thead>\n",
       "  <tbody>\n",
       "    <tr>\n",
       "      <th>0</th>\n",
       "      <td>3911565283</td>\n",
       "      <td>0.166667</td>\n",
       "      <td>0.166667</td>\n",
       "      <td>0.166667</td>\n",
       "      <td>0.166667</td>\n",
       "      <td>0.166667</td>\n",
       "      <td>0.166667</td>\n",
       "    </tr>\n",
       "  </tbody>\n",
       "</table>\n",
       "</div>"
      ],
      "text/plain": [
       "       eeg_id  seizure_vote  lpd_vote  gpd_vote  lrda_vote  grda_vote  \\\n",
       "0  3911565283      0.166667  0.166667  0.166667   0.166667   0.166667   \n",
       "\n",
       "   other_vote  \n",
       "0    0.166667  "
      ]
     },
     "execution_count": 11,
     "metadata": {},
     "output_type": "execute_result"
    }
   ],
   "source": [
    "# Check the first few rows of the data\n",
    "sample_submission.head()\n"
   ]
  },
  {
   "cell_type": "code",
   "execution_count": 12,
   "id": "50e1a3e8",
   "metadata": {
    "execution": {
     "iopub.execute_input": "2024-04-08T22:15:08.228343Z",
     "iopub.status.busy": "2024-04-08T22:15:08.227517Z",
     "iopub.status.idle": "2024-04-08T22:15:08.234529Z",
     "shell.execute_reply": "2024-04-08T22:15:08.233205Z"
    },
    "papermill": {
     "duration": 0.026146,
     "end_time": "2024-04-08T22:15:08.237339",
     "exception": false,
     "start_time": "2024-04-08T22:15:08.211193",
     "status": "completed"
    },
    "tags": []
   },
   "outputs": [
    {
     "name": "stdout",
     "output_type": "stream",
     "text": [
      "Train EEGs Shape: (10000, 20)\n"
     ]
    }
   ],
   "source": [
    "print(\"Train EEGs Shape:\", train_eegs.shape)\n"
   ]
  },
  {
   "cell_type": "code",
   "execution_count": 13,
   "id": "2f63ccd8",
   "metadata": {
    "execution": {
     "iopub.execute_input": "2024-04-08T22:15:08.277343Z",
     "iopub.status.busy": "2024-04-08T22:15:08.275112Z",
     "iopub.status.idle": "2024-04-08T22:15:08.307487Z",
     "shell.execute_reply": "2024-04-08T22:15:08.306189Z"
    },
    "papermill": {
     "duration": 0.055483,
     "end_time": "2024-04-08T22:15:08.310472",
     "exception": false,
     "start_time": "2024-04-08T22:15:08.254989",
     "status": "completed"
    },
    "tags": []
   },
   "outputs": [
    {
     "data": {
      "text/html": [
       "<div>\n",
       "<style scoped>\n",
       "    .dataframe tbody tr th:only-of-type {\n",
       "        vertical-align: middle;\n",
       "    }\n",
       "\n",
       "    .dataframe tbody tr th {\n",
       "        vertical-align: top;\n",
       "    }\n",
       "\n",
       "    .dataframe thead th {\n",
       "        text-align: right;\n",
       "    }\n",
       "</style>\n",
       "<table border=\"1\" class=\"dataframe\">\n",
       "  <thead>\n",
       "    <tr style=\"text-align: right;\">\n",
       "      <th></th>\n",
       "      <th>Fp1</th>\n",
       "      <th>F3</th>\n",
       "      <th>C3</th>\n",
       "      <th>P3</th>\n",
       "      <th>F7</th>\n",
       "      <th>T3</th>\n",
       "      <th>T5</th>\n",
       "      <th>O1</th>\n",
       "      <th>Fz</th>\n",
       "      <th>Cz</th>\n",
       "      <th>Pz</th>\n",
       "      <th>Fp2</th>\n",
       "      <th>F4</th>\n",
       "      <th>C4</th>\n",
       "      <th>P4</th>\n",
       "      <th>F8</th>\n",
       "      <th>T4</th>\n",
       "      <th>T6</th>\n",
       "      <th>O2</th>\n",
       "      <th>EKG</th>\n",
       "    </tr>\n",
       "  </thead>\n",
       "  <tbody>\n",
       "    <tr>\n",
       "      <th>0</th>\n",
       "      <td>-105.849998</td>\n",
       "      <td>-89.230003</td>\n",
       "      <td>-79.459999</td>\n",
       "      <td>-49.230000</td>\n",
       "      <td>-99.730003</td>\n",
       "      <td>-87.769997</td>\n",
       "      <td>-53.330002</td>\n",
       "      <td>-50.740002</td>\n",
       "      <td>-32.250000</td>\n",
       "      <td>-42.099998</td>\n",
       "      <td>-43.270000</td>\n",
       "      <td>-88.730003</td>\n",
       "      <td>-74.410004</td>\n",
       "      <td>-92.459999</td>\n",
       "      <td>-58.930000</td>\n",
       "      <td>-75.739998</td>\n",
       "      <td>-59.470001</td>\n",
       "      <td>8.210000</td>\n",
       "      <td>66.489998</td>\n",
       "      <td>1404.930054</td>\n",
       "    </tr>\n",
       "    <tr>\n",
       "      <th>1</th>\n",
       "      <td>-85.470001</td>\n",
       "      <td>-75.070000</td>\n",
       "      <td>-60.259998</td>\n",
       "      <td>-38.919998</td>\n",
       "      <td>-73.080002</td>\n",
       "      <td>-87.510002</td>\n",
       "      <td>-39.680000</td>\n",
       "      <td>-35.630001</td>\n",
       "      <td>-76.839996</td>\n",
       "      <td>-62.740002</td>\n",
       "      <td>-43.040001</td>\n",
       "      <td>-68.629997</td>\n",
       "      <td>-61.689999</td>\n",
       "      <td>-69.320000</td>\n",
       "      <td>-35.790001</td>\n",
       "      <td>-58.900002</td>\n",
       "      <td>-41.660000</td>\n",
       "      <td>196.190002</td>\n",
       "      <td>230.669998</td>\n",
       "      <td>3402.669922</td>\n",
       "    </tr>\n",
       "    <tr>\n",
       "      <th>2</th>\n",
       "      <td>8.840000</td>\n",
       "      <td>34.849998</td>\n",
       "      <td>56.430000</td>\n",
       "      <td>67.970001</td>\n",
       "      <td>48.099998</td>\n",
       "      <td>25.350000</td>\n",
       "      <td>80.250000</td>\n",
       "      <td>48.060001</td>\n",
       "      <td>6.720000</td>\n",
       "      <td>37.880001</td>\n",
       "      <td>61.000000</td>\n",
       "      <td>16.580000</td>\n",
       "      <td>55.060001</td>\n",
       "      <td>45.020000</td>\n",
       "      <td>70.529999</td>\n",
       "      <td>47.820000</td>\n",
       "      <td>72.029999</td>\n",
       "      <td>-67.180000</td>\n",
       "      <td>-171.309998</td>\n",
       "      <td>-3565.800049</td>\n",
       "    </tr>\n",
       "    <tr>\n",
       "      <th>3</th>\n",
       "      <td>-56.320000</td>\n",
       "      <td>-37.279999</td>\n",
       "      <td>-28.100000</td>\n",
       "      <td>-2.820000</td>\n",
       "      <td>-43.430000</td>\n",
       "      <td>-35.049999</td>\n",
       "      <td>3.910000</td>\n",
       "      <td>-12.660000</td>\n",
       "      <td>8.650000</td>\n",
       "      <td>3.830000</td>\n",
       "      <td>4.180000</td>\n",
       "      <td>-51.900002</td>\n",
       "      <td>-21.889999</td>\n",
       "      <td>-41.330002</td>\n",
       "      <td>-11.580000</td>\n",
       "      <td>-27.040001</td>\n",
       "      <td>-11.730000</td>\n",
       "      <td>-91.000000</td>\n",
       "      <td>-81.190002</td>\n",
       "      <td>-1280.930054</td>\n",
       "    </tr>\n",
       "    <tr>\n",
       "      <th>4</th>\n",
       "      <td>-110.139999</td>\n",
       "      <td>-104.519997</td>\n",
       "      <td>-96.879997</td>\n",
       "      <td>-70.250000</td>\n",
       "      <td>-111.660004</td>\n",
       "      <td>-114.430000</td>\n",
       "      <td>-71.830002</td>\n",
       "      <td>-61.919998</td>\n",
       "      <td>-76.150002</td>\n",
       "      <td>-79.779999</td>\n",
       "      <td>-67.480003</td>\n",
       "      <td>-99.029999</td>\n",
       "      <td>-93.610001</td>\n",
       "      <td>-104.410004</td>\n",
       "      <td>-70.070000</td>\n",
       "      <td>-89.250000</td>\n",
       "      <td>-77.260002</td>\n",
       "      <td>155.729996</td>\n",
       "      <td>264.850006</td>\n",
       "      <td>4325.370117</td>\n",
       "    </tr>\n",
       "  </tbody>\n",
       "</table>\n",
       "</div>"
      ],
      "text/plain": [
       "          Fp1          F3         C3         P3          F7          T3  \\\n",
       "0 -105.849998  -89.230003 -79.459999 -49.230000  -99.730003  -87.769997   \n",
       "1  -85.470001  -75.070000 -60.259998 -38.919998  -73.080002  -87.510002   \n",
       "2    8.840000   34.849998  56.430000  67.970001   48.099998   25.350000   \n",
       "3  -56.320000  -37.279999 -28.100000  -2.820000  -43.430000  -35.049999   \n",
       "4 -110.139999 -104.519997 -96.879997 -70.250000 -111.660004 -114.430000   \n",
       "\n",
       "          T5         O1         Fz         Cz         Pz        Fp2  \\\n",
       "0 -53.330002 -50.740002 -32.250000 -42.099998 -43.270000 -88.730003   \n",
       "1 -39.680000 -35.630001 -76.839996 -62.740002 -43.040001 -68.629997   \n",
       "2  80.250000  48.060001   6.720000  37.880001  61.000000  16.580000   \n",
       "3   3.910000 -12.660000   8.650000   3.830000   4.180000 -51.900002   \n",
       "4 -71.830002 -61.919998 -76.150002 -79.779999 -67.480003 -99.029999   \n",
       "\n",
       "          F4          C4         P4         F8         T4          T6  \\\n",
       "0 -74.410004  -92.459999 -58.930000 -75.739998 -59.470001    8.210000   \n",
       "1 -61.689999  -69.320000 -35.790001 -58.900002 -41.660000  196.190002   \n",
       "2  55.060001   45.020000  70.529999  47.820000  72.029999  -67.180000   \n",
       "3 -21.889999  -41.330002 -11.580000 -27.040001 -11.730000  -91.000000   \n",
       "4 -93.610001 -104.410004 -70.070000 -89.250000 -77.260002  155.729996   \n",
       "\n",
       "           O2          EKG  \n",
       "0   66.489998  1404.930054  \n",
       "1  230.669998  3402.669922  \n",
       "2 -171.309998 -3565.800049  \n",
       "3  -81.190002 -1280.930054  \n",
       "4  264.850006  4325.370117  "
      ]
     },
     "execution_count": 13,
     "metadata": {},
     "output_type": "execute_result"
    }
   ],
   "source": [
    "# Check the first few rows of the train_eegs data\n",
    "train_eegs.head()\n"
   ]
  },
  {
   "cell_type": "code",
   "execution_count": 14,
   "id": "a130d1d4",
   "metadata": {
    "execution": {
     "iopub.execute_input": "2024-04-08T22:15:08.348817Z",
     "iopub.status.busy": "2024-04-08T22:15:08.347388Z",
     "iopub.status.idle": "2024-04-08T22:15:08.356124Z",
     "shell.execute_reply": "2024-04-08T22:15:08.354222Z"
    },
    "papermill": {
     "duration": 0.032625,
     "end_time": "2024-04-08T22:15:08.359525",
     "exception": false,
     "start_time": "2024-04-08T22:15:08.326900",
     "status": "completed"
    },
    "tags": []
   },
   "outputs": [
    {
     "name": "stdout",
     "output_type": "stream",
     "text": [
      "Train Spectrograms Shape: (300, 401)\n"
     ]
    }
   ],
   "source": [
    "print(\"Train Spectrograms Shape:\", train_spectrograms.shape)\n"
   ]
  },
  {
   "cell_type": "code",
   "execution_count": 15,
   "id": "bf0c15d5",
   "metadata": {
    "execution": {
     "iopub.execute_input": "2024-04-08T22:15:08.393252Z",
     "iopub.status.busy": "2024-04-08T22:15:08.392064Z",
     "iopub.status.idle": "2024-04-08T22:15:08.430985Z",
     "shell.execute_reply": "2024-04-08T22:15:08.429073Z"
    },
    "papermill": {
     "duration": 0.060007,
     "end_time": "2024-04-08T22:15:08.434773",
     "exception": false,
     "start_time": "2024-04-08T22:15:08.374766",
     "status": "completed"
    },
    "tags": []
   },
   "outputs": [
    {
     "data": {
      "text/html": [
       "<div>\n",
       "<style scoped>\n",
       "    .dataframe tbody tr th:only-of-type {\n",
       "        vertical-align: middle;\n",
       "    }\n",
       "\n",
       "    .dataframe tbody tr th {\n",
       "        vertical-align: top;\n",
       "    }\n",
       "\n",
       "    .dataframe thead th {\n",
       "        text-align: right;\n",
       "    }\n",
       "</style>\n",
       "<table border=\"1\" class=\"dataframe\">\n",
       "  <thead>\n",
       "    <tr style=\"text-align: right;\">\n",
       "      <th></th>\n",
       "      <th>time</th>\n",
       "      <th>LL_0.59</th>\n",
       "      <th>LL_0.78</th>\n",
       "      <th>LL_0.98</th>\n",
       "      <th>LL_1.17</th>\n",
       "      <th>LL_1.37</th>\n",
       "      <th>LL_1.56</th>\n",
       "      <th>LL_1.76</th>\n",
       "      <th>LL_1.95</th>\n",
       "      <th>LL_2.15</th>\n",
       "      <th>...</th>\n",
       "      <th>RP_18.16</th>\n",
       "      <th>RP_18.36</th>\n",
       "      <th>RP_18.55</th>\n",
       "      <th>RP_18.75</th>\n",
       "      <th>RP_18.95</th>\n",
       "      <th>RP_19.14</th>\n",
       "      <th>RP_19.34</th>\n",
       "      <th>RP_19.53</th>\n",
       "      <th>RP_19.73</th>\n",
       "      <th>RP_19.92</th>\n",
       "    </tr>\n",
       "  </thead>\n",
       "  <tbody>\n",
       "    <tr>\n",
       "      <th>0</th>\n",
       "      <td>1</td>\n",
       "      <td>28.680000</td>\n",
       "      <td>53.990002</td>\n",
       "      <td>67.629997</td>\n",
       "      <td>59.880001</td>\n",
       "      <td>50.880001</td>\n",
       "      <td>74.309998</td>\n",
       "      <td>78.480003</td>\n",
       "      <td>63.080002</td>\n",
       "      <td>59.869999</td>\n",
       "      <td>...</td>\n",
       "      <td>0.13</td>\n",
       "      <td>0.14</td>\n",
       "      <td>0.08</td>\n",
       "      <td>0.11</td>\n",
       "      <td>0.04</td>\n",
       "      <td>0.03</td>\n",
       "      <td>0.05</td>\n",
       "      <td>0.05</td>\n",
       "      <td>0.04</td>\n",
       "      <td>0.05</td>\n",
       "    </tr>\n",
       "    <tr>\n",
       "      <th>1</th>\n",
       "      <td>3</td>\n",
       "      <td>29.639999</td>\n",
       "      <td>38.959999</td>\n",
       "      <td>44.009998</td>\n",
       "      <td>66.800003</td>\n",
       "      <td>48.509998</td>\n",
       "      <td>42.180000</td>\n",
       "      <td>47.340000</td>\n",
       "      <td>48.599998</td>\n",
       "      <td>40.880001</td>\n",
       "      <td>...</td>\n",
       "      <td>0.15</td>\n",
       "      <td>0.13</td>\n",
       "      <td>0.08</td>\n",
       "      <td>0.08</td>\n",
       "      <td>0.07</td>\n",
       "      <td>0.06</td>\n",
       "      <td>0.07</td>\n",
       "      <td>0.06</td>\n",
       "      <td>0.06</td>\n",
       "      <td>0.06</td>\n",
       "    </tr>\n",
       "    <tr>\n",
       "      <th>2</th>\n",
       "      <td>5</td>\n",
       "      <td>8.890000</td>\n",
       "      <td>9.020000</td>\n",
       "      <td>16.360001</td>\n",
       "      <td>23.559999</td>\n",
       "      <td>27.340000</td>\n",
       "      <td>30.040001</td>\n",
       "      <td>27.559999</td>\n",
       "      <td>23.290001</td>\n",
       "      <td>15.120000</td>\n",
       "      <td>...</td>\n",
       "      <td>0.12</td>\n",
       "      <td>0.11</td>\n",
       "      <td>0.08</td>\n",
       "      <td>0.08</td>\n",
       "      <td>0.09</td>\n",
       "      <td>0.10</td>\n",
       "      <td>0.12</td>\n",
       "      <td>0.14</td>\n",
       "      <td>0.13</td>\n",
       "      <td>0.14</td>\n",
       "    </tr>\n",
       "    <tr>\n",
       "      <th>3</th>\n",
       "      <td>7</td>\n",
       "      <td>1.770000</td>\n",
       "      <td>1.930000</td>\n",
       "      <td>1.810000</td>\n",
       "      <td>1.600000</td>\n",
       "      <td>1.430000</td>\n",
       "      <td>1.280000</td>\n",
       "      <td>1.190000</td>\n",
       "      <td>1.110000</td>\n",
       "      <td>1.010000</td>\n",
       "      <td>...</td>\n",
       "      <td>0.03</td>\n",
       "      <td>0.03</td>\n",
       "      <td>0.03</td>\n",
       "      <td>0.03</td>\n",
       "      <td>0.03</td>\n",
       "      <td>0.03</td>\n",
       "      <td>0.03</td>\n",
       "      <td>0.04</td>\n",
       "      <td>0.04</td>\n",
       "      <td>0.04</td>\n",
       "    </tr>\n",
       "    <tr>\n",
       "      <th>4</th>\n",
       "      <td>9</td>\n",
       "      <td>NaN</td>\n",
       "      <td>NaN</td>\n",
       "      <td>NaN</td>\n",
       "      <td>NaN</td>\n",
       "      <td>NaN</td>\n",
       "      <td>NaN</td>\n",
       "      <td>NaN</td>\n",
       "      <td>NaN</td>\n",
       "      <td>NaN</td>\n",
       "      <td>...</td>\n",
       "      <td>NaN</td>\n",
       "      <td>NaN</td>\n",
       "      <td>NaN</td>\n",
       "      <td>NaN</td>\n",
       "      <td>NaN</td>\n",
       "      <td>NaN</td>\n",
       "      <td>NaN</td>\n",
       "      <td>NaN</td>\n",
       "      <td>NaN</td>\n",
       "      <td>NaN</td>\n",
       "    </tr>\n",
       "  </tbody>\n",
       "</table>\n",
       "<p>5 rows × 401 columns</p>\n",
       "</div>"
      ],
      "text/plain": [
       "   time    LL_0.59    LL_0.78    LL_0.98    LL_1.17    LL_1.37    LL_1.56  \\\n",
       "0     1  28.680000  53.990002  67.629997  59.880001  50.880001  74.309998   \n",
       "1     3  29.639999  38.959999  44.009998  66.800003  48.509998  42.180000   \n",
       "2     5   8.890000   9.020000  16.360001  23.559999  27.340000  30.040001   \n",
       "3     7   1.770000   1.930000   1.810000   1.600000   1.430000   1.280000   \n",
       "4     9        NaN        NaN        NaN        NaN        NaN        NaN   \n",
       "\n",
       "     LL_1.76    LL_1.95    LL_2.15  ...  RP_18.16  RP_18.36  RP_18.55  \\\n",
       "0  78.480003  63.080002  59.869999  ...      0.13      0.14      0.08   \n",
       "1  47.340000  48.599998  40.880001  ...      0.15      0.13      0.08   \n",
       "2  27.559999  23.290001  15.120000  ...      0.12      0.11      0.08   \n",
       "3   1.190000   1.110000   1.010000  ...      0.03      0.03      0.03   \n",
       "4        NaN        NaN        NaN  ...       NaN       NaN       NaN   \n",
       "\n",
       "   RP_18.75  RP_18.95  RP_19.14  RP_19.34  RP_19.53  RP_19.73  RP_19.92  \n",
       "0      0.11      0.04      0.03      0.05      0.05      0.04      0.05  \n",
       "1      0.08      0.07      0.06      0.07      0.06      0.06      0.06  \n",
       "2      0.08      0.09      0.10      0.12      0.14      0.13      0.14  \n",
       "3      0.03      0.03      0.03      0.03      0.04      0.04      0.04  \n",
       "4       NaN       NaN       NaN       NaN       NaN       NaN       NaN  \n",
       "\n",
       "[5 rows x 401 columns]"
      ]
     },
     "execution_count": 15,
     "metadata": {},
     "output_type": "execute_result"
    }
   ],
   "source": [
    "train_spectrograms.head()"
   ]
  },
  {
   "cell_type": "code",
   "execution_count": 16,
   "id": "6ad90878",
   "metadata": {
    "execution": {
     "iopub.execute_input": "2024-04-08T22:15:08.469683Z",
     "iopub.status.busy": "2024-04-08T22:15:08.469135Z",
     "iopub.status.idle": "2024-04-08T22:15:08.476553Z",
     "shell.execute_reply": "2024-04-08T22:15:08.475170Z"
    },
    "papermill": {
     "duration": 0.029599,
     "end_time": "2024-04-08T22:15:08.480808",
     "exception": false,
     "start_time": "2024-04-08T22:15:08.451209",
     "status": "completed"
    },
    "tags": []
   },
   "outputs": [
    {
     "name": "stdout",
     "output_type": "stream",
     "text": [
      "Test EEGs Shape: (10000, 20)\n"
     ]
    }
   ],
   "source": [
    "print(\"Test EEGs Shape:\", test_eegs.shape)\n"
   ]
  },
  {
   "cell_type": "code",
   "execution_count": 17,
   "id": "42319022",
   "metadata": {
    "execution": {
     "iopub.execute_input": "2024-04-08T22:15:08.516729Z",
     "iopub.status.busy": "2024-04-08T22:15:08.515908Z",
     "iopub.status.idle": "2024-04-08T22:15:08.547750Z",
     "shell.execute_reply": "2024-04-08T22:15:08.546717Z"
    },
    "papermill": {
     "duration": 0.052592,
     "end_time": "2024-04-08T22:15:08.550306",
     "exception": false,
     "start_time": "2024-04-08T22:15:08.497714",
     "status": "completed"
    },
    "tags": []
   },
   "outputs": [
    {
     "data": {
      "text/html": [
       "<div>\n",
       "<style scoped>\n",
       "    .dataframe tbody tr th:only-of-type {\n",
       "        vertical-align: middle;\n",
       "    }\n",
       "\n",
       "    .dataframe tbody tr th {\n",
       "        vertical-align: top;\n",
       "    }\n",
       "\n",
       "    .dataframe thead th {\n",
       "        text-align: right;\n",
       "    }\n",
       "</style>\n",
       "<table border=\"1\" class=\"dataframe\">\n",
       "  <thead>\n",
       "    <tr style=\"text-align: right;\">\n",
       "      <th></th>\n",
       "      <th>Fp1</th>\n",
       "      <th>F3</th>\n",
       "      <th>C3</th>\n",
       "      <th>P3</th>\n",
       "      <th>F7</th>\n",
       "      <th>T3</th>\n",
       "      <th>T5</th>\n",
       "      <th>O1</th>\n",
       "      <th>Fz</th>\n",
       "      <th>Cz</th>\n",
       "      <th>Pz</th>\n",
       "      <th>Fp2</th>\n",
       "      <th>F4</th>\n",
       "      <th>C4</th>\n",
       "      <th>P4</th>\n",
       "      <th>F8</th>\n",
       "      <th>T4</th>\n",
       "      <th>T6</th>\n",
       "      <th>O2</th>\n",
       "      <th>EKG</th>\n",
       "    </tr>\n",
       "  </thead>\n",
       "  <tbody>\n",
       "    <tr>\n",
       "      <th>0</th>\n",
       "      <td>9.210000</td>\n",
       "      <td>-47.459999</td>\n",
       "      <td>15.100000</td>\n",
       "      <td>8.22</td>\n",
       "      <td>-16.900000</td>\n",
       "      <td>-22.99</td>\n",
       "      <td>-25.820000</td>\n",
       "      <td>-10.09</td>\n",
       "      <td>28.370001</td>\n",
       "      <td>-3.01</td>\n",
       "      <td>-27.299999</td>\n",
       "      <td>101.040001</td>\n",
       "      <td>35.110001</td>\n",
       "      <td>14.54</td>\n",
       "      <td>18.33</td>\n",
       "      <td>28.540001</td>\n",
       "      <td>44.090000</td>\n",
       "      <td>69.650002</td>\n",
       "      <td>30.74</td>\n",
       "      <td>171.679993</td>\n",
       "    </tr>\n",
       "    <tr>\n",
       "      <th>1</th>\n",
       "      <td>-3.590000</td>\n",
       "      <td>-30.290001</td>\n",
       "      <td>32.380001</td>\n",
       "      <td>10.80</td>\n",
       "      <td>-68.980003</td>\n",
       "      <td>-21.60</td>\n",
       "      <td>-15.080000</td>\n",
       "      <td>-9.21</td>\n",
       "      <td>26.360001</td>\n",
       "      <td>-8.98</td>\n",
       "      <td>-32.279999</td>\n",
       "      <td>95.800003</td>\n",
       "      <td>26.389999</td>\n",
       "      <td>4.82</td>\n",
       "      <td>10.54</td>\n",
       "      <td>20.559999</td>\n",
       "      <td>32.060001</td>\n",
       "      <td>59.439999</td>\n",
       "      <td>23.32</td>\n",
       "      <td>178.279999</td>\n",
       "    </tr>\n",
       "    <tr>\n",
       "      <th>2</th>\n",
       "      <td>-26.040001</td>\n",
       "      <td>-60.070000</td>\n",
       "      <td>2.370000</td>\n",
       "      <td>-10.15</td>\n",
       "      <td>-34.689999</td>\n",
       "      <td>-31.40</td>\n",
       "      <td>-31.920000</td>\n",
       "      <td>-26.98</td>\n",
       "      <td>-1.940000</td>\n",
       "      <td>-28.77</td>\n",
       "      <td>-49.770000</td>\n",
       "      <td>73.449997</td>\n",
       "      <td>-3.680000</td>\n",
       "      <td>-17.32</td>\n",
       "      <td>-16.15</td>\n",
       "      <td>-8.270000</td>\n",
       "      <td>5.330000</td>\n",
       "      <td>45.180000</td>\n",
       "      <td>9.49</td>\n",
       "      <td>306.739990</td>\n",
       "    </tr>\n",
       "    <tr>\n",
       "      <th>3</th>\n",
       "      <td>-3.040000</td>\n",
       "      <td>-36.250000</td>\n",
       "      <td>29.559999</td>\n",
       "      <td>14.53</td>\n",
       "      <td>-14.010000</td>\n",
       "      <td>-11.90</td>\n",
       "      <td>-14.230000</td>\n",
       "      <td>-6.31</td>\n",
       "      <td>26.040001</td>\n",
       "      <td>-2.77</td>\n",
       "      <td>-25.030001</td>\n",
       "      <td>91.010002</td>\n",
       "      <td>22.610001</td>\n",
       "      <td>6.90</td>\n",
       "      <td>9.93</td>\n",
       "      <td>15.480000</td>\n",
       "      <td>33.580002</td>\n",
       "      <td>69.620003</td>\n",
       "      <td>31.01</td>\n",
       "      <td>223.259995</td>\n",
       "    </tr>\n",
       "    <tr>\n",
       "      <th>4</th>\n",
       "      <td>-4.630000</td>\n",
       "      <td>-20.160000</td>\n",
       "      <td>25.190001</td>\n",
       "      <td>1.19</td>\n",
       "      <td>-44.580002</td>\n",
       "      <td>-23.51</td>\n",
       "      <td>-30.709999</td>\n",
       "      <td>-17.60</td>\n",
       "      <td>25.420000</td>\n",
       "      <td>-8.86</td>\n",
       "      <td>-33.959999</td>\n",
       "      <td>89.449997</td>\n",
       "      <td>19.440001</td>\n",
       "      <td>-2.08</td>\n",
       "      <td>6.11</td>\n",
       "      <td>8.380000</td>\n",
       "      <td>24.180000</td>\n",
       "      <td>55.869999</td>\n",
       "      <td>19.91</td>\n",
       "      <td>170.759995</td>\n",
       "    </tr>\n",
       "  </tbody>\n",
       "</table>\n",
       "</div>"
      ],
      "text/plain": [
       "         Fp1         F3         C3     P3         F7     T3         T5     O1  \\\n",
       "0   9.210000 -47.459999  15.100000   8.22 -16.900000 -22.99 -25.820000 -10.09   \n",
       "1  -3.590000 -30.290001  32.380001  10.80 -68.980003 -21.60 -15.080000  -9.21   \n",
       "2 -26.040001 -60.070000   2.370000 -10.15 -34.689999 -31.40 -31.920000 -26.98   \n",
       "3  -3.040000 -36.250000  29.559999  14.53 -14.010000 -11.90 -14.230000  -6.31   \n",
       "4  -4.630000 -20.160000  25.190001   1.19 -44.580002 -23.51 -30.709999 -17.60   \n",
       "\n",
       "          Fz     Cz         Pz         Fp2         F4     C4     P4  \\\n",
       "0  28.370001  -3.01 -27.299999  101.040001  35.110001  14.54  18.33   \n",
       "1  26.360001  -8.98 -32.279999   95.800003  26.389999   4.82  10.54   \n",
       "2  -1.940000 -28.77 -49.770000   73.449997  -3.680000 -17.32 -16.15   \n",
       "3  26.040001  -2.77 -25.030001   91.010002  22.610001   6.90   9.93   \n",
       "4  25.420000  -8.86 -33.959999   89.449997  19.440001  -2.08   6.11   \n",
       "\n",
       "          F8         T4         T6     O2         EKG  \n",
       "0  28.540001  44.090000  69.650002  30.74  171.679993  \n",
       "1  20.559999  32.060001  59.439999  23.32  178.279999  \n",
       "2  -8.270000   5.330000  45.180000   9.49  306.739990  \n",
       "3  15.480000  33.580002  69.620003  31.01  223.259995  \n",
       "4   8.380000  24.180000  55.869999  19.91  170.759995  "
      ]
     },
     "execution_count": 17,
     "metadata": {},
     "output_type": "execute_result"
    }
   ],
   "source": [
    "test_eegs.head()"
   ]
  },
  {
   "cell_type": "code",
   "execution_count": 18,
   "id": "224a25b9",
   "metadata": {
    "execution": {
     "iopub.execute_input": "2024-04-08T22:15:08.586567Z",
     "iopub.status.busy": "2024-04-08T22:15:08.585716Z",
     "iopub.status.idle": "2024-04-08T22:15:08.592666Z",
     "shell.execute_reply": "2024-04-08T22:15:08.590829Z"
    },
    "papermill": {
     "duration": 0.029366,
     "end_time": "2024-04-08T22:15:08.596033",
     "exception": false,
     "start_time": "2024-04-08T22:15:08.566667",
     "status": "completed"
    },
    "tags": []
   },
   "outputs": [
    {
     "name": "stdout",
     "output_type": "stream",
     "text": [
      "Test Spectrograms Shape: (300, 401)\n"
     ]
    }
   ],
   "source": [
    "print(\"Test Spectrograms Shape:\", test_spectrograms.shape)"
   ]
  },
  {
   "cell_type": "code",
   "execution_count": 19,
   "id": "a7dd9117",
   "metadata": {
    "execution": {
     "iopub.execute_input": "2024-04-08T22:15:08.632878Z",
     "iopub.status.busy": "2024-04-08T22:15:08.631746Z",
     "iopub.status.idle": "2024-04-08T22:15:08.667347Z",
     "shell.execute_reply": "2024-04-08T22:15:08.665984Z"
    },
    "papermill": {
     "duration": 0.057161,
     "end_time": "2024-04-08T22:15:08.670547",
     "exception": false,
     "start_time": "2024-04-08T22:15:08.613386",
     "status": "completed"
    },
    "tags": []
   },
   "outputs": [
    {
     "data": {
      "text/html": [
       "<div>\n",
       "<style scoped>\n",
       "    .dataframe tbody tr th:only-of-type {\n",
       "        vertical-align: middle;\n",
       "    }\n",
       "\n",
       "    .dataframe tbody tr th {\n",
       "        vertical-align: top;\n",
       "    }\n",
       "\n",
       "    .dataframe thead th {\n",
       "        text-align: right;\n",
       "    }\n",
       "</style>\n",
       "<table border=\"1\" class=\"dataframe\">\n",
       "  <thead>\n",
       "    <tr style=\"text-align: right;\">\n",
       "      <th></th>\n",
       "      <th>time</th>\n",
       "      <th>LL_0.59</th>\n",
       "      <th>LL_0.78</th>\n",
       "      <th>LL_0.98</th>\n",
       "      <th>LL_1.17</th>\n",
       "      <th>LL_1.37</th>\n",
       "      <th>LL_1.56</th>\n",
       "      <th>LL_1.76</th>\n",
       "      <th>LL_1.95</th>\n",
       "      <th>LL_2.15</th>\n",
       "      <th>...</th>\n",
       "      <th>RP_18.16</th>\n",
       "      <th>RP_18.36</th>\n",
       "      <th>RP_18.55</th>\n",
       "      <th>RP_18.75</th>\n",
       "      <th>RP_18.95</th>\n",
       "      <th>RP_19.14</th>\n",
       "      <th>RP_19.34</th>\n",
       "      <th>RP_19.53</th>\n",
       "      <th>RP_19.73</th>\n",
       "      <th>RP_19.92</th>\n",
       "    </tr>\n",
       "  </thead>\n",
       "  <tbody>\n",
       "    <tr>\n",
       "      <th>0</th>\n",
       "      <td>1</td>\n",
       "      <td>14.910000</td>\n",
       "      <td>17.110001</td>\n",
       "      <td>11.660000</td>\n",
       "      <td>11.73</td>\n",
       "      <td>6.08</td>\n",
       "      <td>4.54</td>\n",
       "      <td>4.31</td>\n",
       "      <td>3.38</td>\n",
       "      <td>2.05</td>\n",
       "      <td>...</td>\n",
       "      <td>0.07</td>\n",
       "      <td>0.06</td>\n",
       "      <td>0.05</td>\n",
       "      <td>0.06</td>\n",
       "      <td>0.05</td>\n",
       "      <td>0.05</td>\n",
       "      <td>0.06</td>\n",
       "      <td>0.05</td>\n",
       "      <td>0.04</td>\n",
       "      <td>0.05</td>\n",
       "    </tr>\n",
       "    <tr>\n",
       "      <th>1</th>\n",
       "      <td>3</td>\n",
       "      <td>11.130000</td>\n",
       "      <td>10.950000</td>\n",
       "      <td>10.770000</td>\n",
       "      <td>5.07</td>\n",
       "      <td>4.03</td>\n",
       "      <td>3.24</td>\n",
       "      <td>3.61</td>\n",
       "      <td>2.98</td>\n",
       "      <td>1.54</td>\n",
       "      <td>...</td>\n",
       "      <td>0.05</td>\n",
       "      <td>0.04</td>\n",
       "      <td>0.04</td>\n",
       "      <td>0.04</td>\n",
       "      <td>0.04</td>\n",
       "      <td>0.04</td>\n",
       "      <td>0.03</td>\n",
       "      <td>0.03</td>\n",
       "      <td>0.03</td>\n",
       "      <td>0.02</td>\n",
       "    </tr>\n",
       "    <tr>\n",
       "      <th>2</th>\n",
       "      <td>5</td>\n",
       "      <td>10.880000</td>\n",
       "      <td>10.570000</td>\n",
       "      <td>8.790000</td>\n",
       "      <td>5.33</td>\n",
       "      <td>2.44</td>\n",
       "      <td>1.48</td>\n",
       "      <td>1.83</td>\n",
       "      <td>0.99</td>\n",
       "      <td>0.89</td>\n",
       "      <td>...</td>\n",
       "      <td>0.04</td>\n",
       "      <td>0.04</td>\n",
       "      <td>0.04</td>\n",
       "      <td>0.03</td>\n",
       "      <td>0.03</td>\n",
       "      <td>0.04</td>\n",
       "      <td>0.04</td>\n",
       "      <td>0.05</td>\n",
       "      <td>0.06</td>\n",
       "      <td>0.06</td>\n",
       "    </tr>\n",
       "    <tr>\n",
       "      <th>3</th>\n",
       "      <td>7</td>\n",
       "      <td>19.450001</td>\n",
       "      <td>18.200001</td>\n",
       "      <td>17.719999</td>\n",
       "      <td>13.38</td>\n",
       "      <td>4.17</td>\n",
       "      <td>1.88</td>\n",
       "      <td>1.84</td>\n",
       "      <td>1.22</td>\n",
       "      <td>1.27</td>\n",
       "      <td>...</td>\n",
       "      <td>0.03</td>\n",
       "      <td>0.03</td>\n",
       "      <td>0.05</td>\n",
       "      <td>0.08</td>\n",
       "      <td>0.07</td>\n",
       "      <td>0.07</td>\n",
       "      <td>0.08</td>\n",
       "      <td>0.03</td>\n",
       "      <td>0.03</td>\n",
       "      <td>0.03</td>\n",
       "    </tr>\n",
       "    <tr>\n",
       "      <th>4</th>\n",
       "      <td>9</td>\n",
       "      <td>21.650000</td>\n",
       "      <td>22.530001</td>\n",
       "      <td>23.160000</td>\n",
       "      <td>17.00</td>\n",
       "      <td>7.19</td>\n",
       "      <td>3.89</td>\n",
       "      <td>3.65</td>\n",
       "      <td>2.72</td>\n",
       "      <td>2.35</td>\n",
       "      <td>...</td>\n",
       "      <td>0.04</td>\n",
       "      <td>0.04</td>\n",
       "      <td>0.05</td>\n",
       "      <td>0.05</td>\n",
       "      <td>0.06</td>\n",
       "      <td>0.05</td>\n",
       "      <td>0.05</td>\n",
       "      <td>0.05</td>\n",
       "      <td>0.04</td>\n",
       "      <td>0.03</td>\n",
       "    </tr>\n",
       "  </tbody>\n",
       "</table>\n",
       "<p>5 rows × 401 columns</p>\n",
       "</div>"
      ],
      "text/plain": [
       "   time    LL_0.59    LL_0.78    LL_0.98  LL_1.17  LL_1.37  LL_1.56  LL_1.76  \\\n",
       "0     1  14.910000  17.110001  11.660000    11.73     6.08     4.54     4.31   \n",
       "1     3  11.130000  10.950000  10.770000     5.07     4.03     3.24     3.61   \n",
       "2     5  10.880000  10.570000   8.790000     5.33     2.44     1.48     1.83   \n",
       "3     7  19.450001  18.200001  17.719999    13.38     4.17     1.88     1.84   \n",
       "4     9  21.650000  22.530001  23.160000    17.00     7.19     3.89     3.65   \n",
       "\n",
       "   LL_1.95  LL_2.15  ...  RP_18.16  RP_18.36  RP_18.55  RP_18.75  RP_18.95  \\\n",
       "0     3.38     2.05  ...      0.07      0.06      0.05      0.06      0.05   \n",
       "1     2.98     1.54  ...      0.05      0.04      0.04      0.04      0.04   \n",
       "2     0.99     0.89  ...      0.04      0.04      0.04      0.03      0.03   \n",
       "3     1.22     1.27  ...      0.03      0.03      0.05      0.08      0.07   \n",
       "4     2.72     2.35  ...      0.04      0.04      0.05      0.05      0.06   \n",
       "\n",
       "   RP_19.14  RP_19.34  RP_19.53  RP_19.73  RP_19.92  \n",
       "0      0.05      0.06      0.05      0.04      0.05  \n",
       "1      0.04      0.03      0.03      0.03      0.02  \n",
       "2      0.04      0.04      0.05      0.06      0.06  \n",
       "3      0.07      0.08      0.03      0.03      0.03  \n",
       "4      0.05      0.05      0.05      0.04      0.03  \n",
       "\n",
       "[5 rows x 401 columns]"
      ]
     },
     "execution_count": 19,
     "metadata": {},
     "output_type": "execute_result"
    }
   ],
   "source": [
    "test_spectrograms.head()"
   ]
  },
  {
   "cell_type": "code",
   "execution_count": 20,
   "id": "f689e8a2",
   "metadata": {
    "execution": {
     "iopub.execute_input": "2024-04-08T22:15:08.709329Z",
     "iopub.status.busy": "2024-04-08T22:15:08.708109Z",
     "iopub.status.idle": "2024-04-08T22:15:08.736836Z",
     "shell.execute_reply": "2024-04-08T22:15:08.735126Z"
    },
    "papermill": {
     "duration": 0.051284,
     "end_time": "2024-04-08T22:15:08.739992",
     "exception": false,
     "start_time": "2024-04-08T22:15:08.688708",
     "status": "completed"
    },
    "tags": []
   },
   "outputs": [
    {
     "name": "stdout",
     "output_type": "stream",
     "text": [
      "Missing values in train metadata: 0\n",
      "Missing values in train eegs: 0\n",
      "Missing values in train spectrograms: 10400\n"
     ]
    }
   ],
   "source": [
    "# Check for missing values\n",
    "print(\"Missing values in train metadata:\", train_metadata.isnull().sum().sum())\n",
    "print(\"Missing values in train eegs:\", train_eegs.isnull().sum().sum())\n",
    "print(\"Missing values in train spectrograms:\", train_spectrograms.isnull().sum().sum())\n"
   ]
  },
  {
   "cell_type": "code",
   "execution_count": 21,
   "id": "cc71bbc5",
   "metadata": {
    "execution": {
     "iopub.execute_input": "2024-04-08T22:15:08.775836Z",
     "iopub.status.busy": "2024-04-08T22:15:08.774896Z",
     "iopub.status.idle": "2024-04-08T22:15:08.787256Z",
     "shell.execute_reply": "2024-04-08T22:15:08.785871Z"
    },
    "papermill": {
     "duration": 0.033941,
     "end_time": "2024-04-08T22:15:08.790675",
     "exception": false,
     "start_time": "2024-04-08T22:15:08.756734",
     "status": "completed"
    },
    "tags": []
   },
   "outputs": [],
   "source": [
    "# Data Processing and Cleaning\n",
    "# Drop irrelevant columns from metadata\n",
    "train_metadata = train_metadata.drop(columns=['eeg_sub_id', 'eeg_label_offset_seconds',\n",
    "                                              'spectrogram_sub_id', 'spectrogram_label_offset_seconds',\n",
    "                                              'label_id', 'patient_id'])\n",
    "test_metadata = test_metadata.drop(columns=['eeg_id', 'patient_id'])"
   ]
  },
  {
   "cell_type": "code",
   "execution_count": 22,
   "id": "fff3942e",
   "metadata": {
    "execution": {
     "iopub.execute_input": "2024-04-08T22:15:08.828589Z",
     "iopub.status.busy": "2024-04-08T22:15:08.828126Z",
     "iopub.status.idle": "2024-04-08T22:15:08.846978Z",
     "shell.execute_reply": "2024-04-08T22:15:08.845376Z"
    },
    "papermill": {
     "duration": 0.041692,
     "end_time": "2024-04-08T22:15:08.850419",
     "exception": false,
     "start_time": "2024-04-08T22:15:08.808727",
     "status": "completed"
    },
    "tags": []
   },
   "outputs": [],
   "source": [
    "# Merge train metadata with corresponding EEG data\n",
    "train_data = pd.concat([train_metadata, train_eegs], axis=1)\n"
   ]
  },
  {
   "cell_type": "code",
   "execution_count": 23,
   "id": "a066577a",
   "metadata": {
    "execution": {
     "iopub.execute_input": "2024-04-08T22:15:08.887819Z",
     "iopub.status.busy": "2024-04-08T22:15:08.887365Z",
     "iopub.status.idle": "2024-04-08T22:15:08.897555Z",
     "shell.execute_reply": "2024-04-08T22:15:08.896156Z"
    },
    "papermill": {
     "duration": 0.032236,
     "end_time": "2024-04-08T22:15:08.900792",
     "exception": false,
     "start_time": "2024-04-08T22:15:08.868556",
     "status": "completed"
    },
    "tags": []
   },
   "outputs": [],
   "source": [
    "# Merge test metadata with corresponding EEG data\n",
    "test_data = pd.concat([test_metadata, test_eegs], axis=1)\n"
   ]
  },
  {
   "cell_type": "code",
   "execution_count": 24,
   "id": "c5651958",
   "metadata": {
    "execution": {
     "iopub.execute_input": "2024-04-08T22:15:08.939276Z",
     "iopub.status.busy": "2024-04-08T22:15:08.937860Z",
     "iopub.status.idle": "2024-04-08T22:15:08.969907Z",
     "shell.execute_reply": "2024-04-08T22:15:08.968445Z"
    },
    "papermill": {
     "duration": 0.055049,
     "end_time": "2024-04-08T22:15:08.972981",
     "exception": false,
     "start_time": "2024-04-08T22:15:08.917932",
     "status": "completed"
    },
    "tags": []
   },
   "outputs": [],
   "source": [
    "# Drop any NaN values\n",
    "train_data = train_data.dropna()\n",
    "test_data = test_data.dropna()\n",
    "train_spectrograms = train_spectrograms.dropna()"
   ]
  },
  {
   "cell_type": "code",
   "execution_count": 25,
   "id": "78d7e447",
   "metadata": {
    "execution": {
     "iopub.execute_input": "2024-04-08T22:15:09.008912Z",
     "iopub.status.busy": "2024-04-08T22:15:09.008410Z",
     "iopub.status.idle": "2024-04-08T22:15:09.408975Z",
     "shell.execute_reply": "2024-04-08T22:15:09.407712Z"
    },
    "papermill": {
     "duration": 0.422873,
     "end_time": "2024-04-08T22:15:09.413002",
     "exception": false,
     "start_time": "2024-04-08T22:15:08.990129",
     "status": "completed"
    },
    "tags": []
   },
   "outputs": [
    {
     "data": {
      "image/png": "[encoded data removed]",
      "text/plain": [
       "<Figure size 1000x600 with 1 Axes>"
      ]
     },
     "metadata": {},
     "output_type": "display_data"
    }
   ],
   "source": [
    "# Data Visualization\n",
    "# Plot the distribution of target classes in the training data\n",
    "plt.figure(figsize=(10, 6))\n",
    "sns.countplot(data=train_data, x='expert_consensus')\n",
    "plt.title(\"Distribution of Target Classes\")\n",
    "plt.xlabel(\"Expert Consensus\")\n",
    "plt.ylabel(\"Count\")\n",
    "plt.show()"
   ]
  },
  {
   "cell_type": "code",
   "execution_count": 26,
   "id": "6e6d840e",
   "metadata": {
    "execution": {
     "iopub.execute_input": "2024-04-08T22:15:09.452293Z",
     "iopub.status.busy": "2024-04-08T22:15:09.451447Z",
     "iopub.status.idle": "2024-04-08T22:15:09.458817Z",
     "shell.execute_reply": "2024-04-08T22:15:09.457645Z"
    },
    "papermill": {
     "duration": 0.030298,
     "end_time": "2024-04-08T22:15:09.461743",
     "exception": false,
     "start_time": "2024-04-08T22:15:09.431445",
     "status": "completed"
    },
    "tags": []
   },
   "outputs": [],
   "source": [
    "# Feature Scaling\n",
    "# Separate features and target variable\n",
    "X = train_data.drop(columns=['expert_consensus'])\n",
    "y = train_data['expert_consensus']"
   ]
  },
  {
   "cell_type": "code",
   "execution_count": 27,
   "id": "d4afdf56",
   "metadata": {
    "execution": {
     "iopub.execute_input": "2024-04-08T22:15:09.499531Z",
     "iopub.status.busy": "2024-04-08T22:15:09.498621Z",
     "iopub.status.idle": "2024-04-08T22:15:09.509911Z",
     "shell.execute_reply": "2024-04-08T22:15:09.508843Z"
    },
    "papermill": {
     "duration": 0.033746,
     "end_time": "2024-04-08T22:15:09.512885",
     "exception": false,
     "start_time": "2024-04-08T22:15:09.479139",
     "status": "completed"
    },
    "tags": []
   },
   "outputs": [],
   "source": [
    "# Split the data into training and validation sets\n",
    "X_train, X_val, y_train, y_val = train_test_split(X, y, test_size=0.2, random_state=42)\n"
   ]
  },
  {
   "cell_type": "code",
   "execution_count": 28,
   "id": "d4ab8ffa",
   "metadata": {
    "execution": {
     "iopub.execute_input": "2024-04-08T22:15:09.550623Z",
     "iopub.status.busy": "2024-04-08T22:15:09.550109Z",
     "iopub.status.idle": "2024-04-08T22:15:09.569186Z",
     "shell.execute_reply": "2024-04-08T22:15:09.567774Z"
    },
    "papermill": {
     "duration": 0.041073,
     "end_time": "2024-04-08T22:15:09.572491",
     "exception": false,
     "start_time": "2024-04-08T22:15:09.531418",
     "status": "completed"
    },
    "tags": []
   },
   "outputs": [],
   "source": [
    "# Standardize the features\n",
    "scaler = StandardScaler()\n",
    "X_train_scaled = scaler.fit_transform(X_train)\n",
    "X_val_scaled = scaler.transform(X_val)\n"
   ]
  },
  {
   "cell_type": "code",
   "execution_count": 29,
   "id": "92b95564",
   "metadata": {
    "execution": {
     "iopub.execute_input": "2024-04-08T22:15:09.611654Z",
     "iopub.status.busy": "2024-04-08T22:15:09.611153Z",
     "iopub.status.idle": "2024-04-08T22:15:09.711186Z",
     "shell.execute_reply": "2024-04-08T22:15:09.710157Z"
    },
    "papermill": {
     "duration": 0.122912,
     "end_time": "2024-04-08T22:15:09.713914",
     "exception": false,
     "start_time": "2024-04-08T22:15:09.591002",
     "status": "completed"
    },
    "tags": []
   },
   "outputs": [
    {
     "name": "stderr",
     "output_type": "stream",
     "text": [
      "/opt/conda/lib/python3.10/site-packages/keras/src/layers/convolutional/base_conv.py:99: UserWarning: Do not pass an `input_shape`/`input_dim` argument to a layer. When using Sequential models, prefer using an `Input(shape)` object as the first layer in the model instead.\n",
      "  super().__init__(\n"
     ]
    }
   ],
   "source": [
    "# Model Building and Evaluation\n",
    "# Define a CNN model\n",
    "cnn_model = Sequential([\n",
    "    Conv1D(filters=64, kernel_size=3, activation='relu', input_shape=(X_train_scaled.shape[1], 1)),\n",
    "    MaxPooling1D(pool_size=2),\n",
    "    Flatten(),\n",
    "    Dense(128, activation='relu'),\n",
    "    Dense(1, activation='sigmoid')\n",
    "])"
   ]
  },
  {
   "cell_type": "code",
   "execution_count": 30,
   "id": "c8a7c679",
   "metadata": {
    "execution": {
     "iopub.execute_input": "2024-04-08T22:15:09.750737Z",
     "iopub.status.busy": "2024-04-08T22:15:09.750295Z",
     "iopub.status.idle": "2024-04-08T22:15:09.768911Z",
     "shell.execute_reply": "2024-04-08T22:15:09.767624Z"
    },
    "papermill": {
     "duration": 0.040708,
     "end_time": "2024-04-08T22:15:09.771892",
     "exception": false,
     "start_time": "2024-04-08T22:15:09.731184",
     "status": "completed"
    },
    "tags": []
   },
   "outputs": [],
   "source": [
    "# Compile the model\n",
    "cnn_model.compile(optimizer='adam', loss='binary_crossentropy', metrics=['accuracy'])\n"
   ]
  },
  {
   "cell_type": "code",
   "execution_count": 31,
   "id": "a6f856f5",
   "metadata": {
    "execution": {
     "iopub.execute_input": "2024-04-08T22:15:09.808143Z",
     "iopub.status.busy": "2024-04-08T22:15:09.807705Z",
     "iopub.status.idle": "2024-04-08T22:15:09.814370Z",
     "shell.execute_reply": "2024-04-08T22:15:09.812965Z"
    },
    "papermill": {
     "duration": 0.028038,
     "end_time": "2024-04-08T22:15:09.817065",
     "exception": false,
     "start_time": "2024-04-08T22:15:09.789027",
     "status": "completed"
    },
    "tags": []
   },
   "outputs": [],
   "source": [
    "# Reshape data for CNN\n",
    "X_train_cnn = X_train_scaled.reshape((X_train_scaled.shape[0], X_train_scaled.shape[1], 1))\n",
    "X_val_cnn = X_val_scaled.reshape((X_val_scaled.shape[0], X_val_scaled.shape[1], 1))\n"
   ]
  },
  {
   "cell_type": "code",
   "execution_count": 32,
   "id": "c1555204",
   "metadata": {
    "execution": {
     "iopub.execute_input": "2024-04-08T22:15:09.854720Z",
     "iopub.status.busy": "2024-04-08T22:15:09.853525Z",
     "iopub.status.idle": "2024-04-08T22:15:09.863960Z",
     "shell.execute_reply": "2024-04-08T22:15:09.862394Z"
    },
    "papermill": {
     "duration": 0.032422,
     "end_time": "2024-04-08T22:15:09.866844",
     "exception": false,
     "start_time": "2024-04-08T22:15:09.834422",
     "status": "completed"
    },
    "tags": []
   },
   "outputs": [],
   "source": [
    "# Convert target variable into numerical format\n",
    "from sklearn.preprocessing import LabelEncoder\n",
    "\n",
    "label_encoder = LabelEncoder()\n",
    "y_train_encoded = label_encoder.fit_transform(y_train)\n",
    "y_val_encoded = label_encoder.transform(y_val)\n",
    "\n"
   ]
  },
  {
   "cell_type": "code",
   "execution_count": 33,
   "id": "2ae31bc6",
   "metadata": {
    "execution": {
     "iopub.execute_input": "2024-04-08T22:15:09.905691Z",
     "iopub.status.busy": "2024-04-08T22:15:09.905188Z",
     "iopub.status.idle": "2024-04-08T22:15:30.600965Z",
     "shell.execute_reply": "2024-04-08T22:15:30.599574Z"
    },
    "papermill": {
     "duration": 20.718258,
     "end_time": "2024-04-08T22:15:30.603857",
     "exception": false,
     "start_time": "2024-04-08T22:15:09.885599",
     "status": "completed"
    },
    "tags": []
   },
   "outputs": [
    {
     "name": "stdout",
     "output_type": "stream",
     "text": [
      "Epoch 1/10\n",
      "\u001b[1m250/250\u001b[0m \u001b[32m━━━━━━━━━━━━━━━━━━━━\u001b[0m\u001b[37m\u001b[0m \u001b[1m3s\u001b[0m 7ms/step - accuracy: 0.1784 - loss: -845.9052 - val_accuracy: 0.1725 - val_loss: -14299.8291\n",
      "Epoch 2/10\n",
      "\u001b[1m250/250\u001b[0m \u001b[32m━━━━━━━━━━━━━━━━━━━━\u001b[0m\u001b[37m\u001b[0m \u001b[1m1s\u001b[0m 6ms/step - accuracy: 0.1761 - loss: -30986.9570 - val_accuracy: 0.1725 - val_loss: -126754.3750\n",
      "Epoch 3/10\n",
      "\u001b[1m250/250\u001b[0m \u001b[32m━━━━━━━━━━━━━━━━━━━━\u001b[0m\u001b[37m\u001b[0m \u001b[1m1s\u001b[0m 5ms/step - accuracy: 0.1802 - loss: -182643.1250 - val_accuracy: 0.1725 - val_loss: -426453.7500\n",
      "Epoch 4/10\n",
      "\u001b[1m250/250\u001b[0m \u001b[32m━━━━━━━━━━━━━━━━━━━━\u001b[0m\u001b[37m\u001b[0m \u001b[1m3s\u001b[0m 5ms/step - accuracy: 0.1898 - loss: -530363.7500 - val_accuracy: 0.1725 - val_loss: -982265.7500\n",
      "Epoch 5/10\n",
      "\u001b[1m250/250\u001b[0m \u001b[32m━━━━━━━━━━━━━━━━━━━━\u001b[0m\u001b[37m\u001b[0m \u001b[1m3s\u001b[0m 5ms/step - accuracy: 0.1711 - loss: -1167098.0000 - val_accuracy: 0.1725 - val_loss: -1842419.1250\n",
      "Epoch 6/10\n",
      "\u001b[1m250/250\u001b[0m \u001b[32m━━━━━━━━━━━━━━━━━━━━\u001b[0m\u001b[37m\u001b[0m \u001b[1m1s\u001b[0m 6ms/step - accuracy: 0.1732 - loss: -2054473.7500 - val_accuracy: 0.1725 - val_loss: -3057705.0000\n",
      "Epoch 7/10\n",
      "\u001b[1m250/250\u001b[0m \u001b[32m━━━━━━━━━━━━━━━━━━━━\u001b[0m\u001b[37m\u001b[0m \u001b[1m3s\u001b[0m 6ms/step - accuracy: 0.1764 - loss: -3414341.5000 - val_accuracy: 0.1725 - val_loss: -4645283.5000\n",
      "Epoch 8/10\n",
      "\u001b[1m250/250\u001b[0m \u001b[32m━━━━━━━━━━━━━━━━━━━━\u001b[0m\u001b[37m\u001b[0m \u001b[1m1s\u001b[0m 5ms/step - accuracy: 0.1806 - loss: -4948428.5000 - val_accuracy: 0.1725 - val_loss: -6655726.5000\n",
      "Epoch 9/10\n",
      "\u001b[1m250/250\u001b[0m \u001b[32m━━━━━━━━━━━━━━━━━━━━\u001b[0m\u001b[37m\u001b[0m \u001b[1m3s\u001b[0m 5ms/step - accuracy: 0.1845 - loss: -6944536.0000 - val_accuracy: 0.1725 - val_loss: -9081179.0000\n",
      "Epoch 10/10\n",
      "\u001b[1m250/250\u001b[0m \u001b[32m━━━━━━━━━━━━━━━━━━━━\u001b[0m\u001b[37m\u001b[0m \u001b[1m2s\u001b[0m 6ms/step - accuracy: 0.1809 - loss: -9413428.0000 - val_accuracy: 0.1725 - val_loss: -11954551.0000\n"
     ]
    },
    {
     "data": {
      "text/plain": [
       "<keras.src.callbacks.history.History at 0x7c948c7cb0d0>"
      ]
     },
     "execution_count": 33,
     "metadata": {},
     "output_type": "execute_result"
    }
   ],
   "source": [
    "# Fit the model\n",
    "cnn_model.fit(X_train_cnn, y_train_encoded, epochs=10, batch_size=32, validation_data=(X_val_cnn, y_val_encoded))\n"
   ]
  },
  {
   "cell_type": "code",
   "execution_count": 34,
   "id": "3dc5cad3",
   "metadata": {
    "execution": {
     "iopub.execute_input": "2024-04-08T22:15:30.694155Z",
     "iopub.status.busy": "2024-04-08T22:15:30.693702Z",
     "iopub.status.idle": "2024-04-08T22:15:31.082654Z",
     "shell.execute_reply": "2024-04-08T22:15:31.081039Z"
    },
    "papermill": {
     "duration": 0.435736,
     "end_time": "2024-04-08T22:15:31.085870",
     "exception": false,
     "start_time": "2024-04-08T22:15:30.650134",
     "status": "completed"
    },
    "tags": []
   },
   "outputs": [
    {
     "name": "stdout",
     "output_type": "stream",
     "text": [
      "\u001b[1m63/63\u001b[0m \u001b[32m━━━━━━━━━━━━━━━━━━━━\u001b[0m\u001b[37m\u001b[0m \u001b[1m0s\u001b[0m 3ms/step\n",
      "CNN Model Accuracy: 0.158\n"
     ]
    }
   ],
   "source": [
    "# Predict probabilities for each class\n",
    "y_prob_cnn = cnn_model.predict(X_val_cnn)\n",
    "\n",
    "# Convert probabilities to predicted class labels\n",
    "y_pred_cnn = np.argmax(y_prob_cnn, axis=1)\n",
    "\n",
    "# Calculate accuracy\n",
    "accuracy_cnn = accuracy_score(y_val_encoded, y_pred_cnn)\n",
    "print(\"CNN Model Accuracy:\", accuracy_cnn)\n",
    "\n"
   ]
  },
  {
   "cell_type": "code",
   "execution_count": 35,
   "id": "dca67749",
   "metadata": {
    "execution": {
     "iopub.execute_input": "2024-04-08T22:15:31.279676Z",
     "iopub.status.busy": "2024-04-08T22:15:31.278936Z",
     "iopub.status.idle": "2024-04-08T22:15:31.340697Z",
     "shell.execute_reply": "2024-04-08T22:15:31.338950Z"
    },
    "papermill": {
     "duration": 0.110878,
     "end_time": "2024-04-08T22:15:31.343919",
     "exception": false,
     "start_time": "2024-04-08T22:15:31.233041",
     "status": "completed"
    },
    "tags": []
   },
   "outputs": [],
   "source": [
    "from sklearn.preprocessing import LabelBinarizer\n",
    "\n",
    "# Binarize the target labels\n",
    "label_binarizer = LabelBinarizer()\n",
    "y_train_binary = label_binarizer.fit_transform(y_train)\n",
    "y_val_binary = label_binarizer.transform(y_val)\n"
   ]
  },
  {
   "cell_type": "code",
   "execution_count": 36,
   "id": "b0d76b72",
   "metadata": {
    "execution": {
     "iopub.execute_input": "2024-04-08T22:15:31.432505Z",
     "iopub.status.busy": "2024-04-08T22:15:31.431886Z",
     "iopub.status.idle": "2024-04-08T22:15:31.498148Z",
     "shell.execute_reply": "2024-04-08T22:15:31.496844Z"
    },
    "papermill": {
     "duration": 0.114339,
     "end_time": "2024-04-08T22:15:31.501153",
     "exception": false,
     "start_time": "2024-04-08T22:15:31.386814",
     "status": "completed"
    },
    "tags": []
   },
   "outputs": [
    {
     "name": "stderr",
     "output_type": "stream",
     "text": [
      "/opt/conda/lib/python3.10/site-packages/keras/src/layers/rnn/rnn.py:204: UserWarning: Do not pass an `input_shape`/`input_dim` argument to a layer. When using Sequential models, prefer using an `Input(shape)` object as the first layer in the model instead.\n",
      "  super().__init__(**kwargs)\n"
     ]
    }
   ],
   "source": [
    "\n",
    "# Define an LSTM model\n",
    "lstm_model = Sequential([\n",
    "    LSTM(64, input_shape=(X_train_scaled.shape[1], 1)),\n",
    "    Dense(y_train_binary.shape[1], activation='sigmoid')  # Output layer with sigmoid activation\n",
    "])\n"
   ]
  },
  {
   "cell_type": "code",
   "execution_count": 37,
   "id": "2d78ee27",
   "metadata": {
    "execution": {
     "iopub.execute_input": "2024-04-08T22:15:31.590800Z",
     "iopub.status.busy": "2024-04-08T22:15:31.590367Z",
     "iopub.status.idle": "2024-04-08T22:16:11.767460Z",
     "shell.execute_reply": "2024-04-08T22:16:11.766002Z"
    },
    "papermill": {
     "duration": 40.224925,
     "end_time": "2024-04-08T22:16:11.770635",
     "exception": false,
     "start_time": "2024-04-08T22:15:31.545710",
     "status": "completed"
    },
    "tags": []
   },
   "outputs": [
    {
     "name": "stdout",
     "output_type": "stream",
     "text": [
      "Epoch 1/10\n",
      "\u001b[1m250/250\u001b[0m \u001b[32m━━━━━━━━━━━━━━━━━━━━\u001b[0m\u001b[37m\u001b[0m \u001b[1m6s\u001b[0m 16ms/step - accuracy: 0.1760 - loss: 0.5194 - val_accuracy: 0.2095 - val_loss: 0.4500\n",
      "Epoch 2/10\n",
      "\u001b[1m250/250\u001b[0m \u001b[32m━━━━━━━━━━━━━━━━━━━━\u001b[0m\u001b[37m\u001b[0m \u001b[1m5s\u001b[0m 14ms/step - accuracy: 0.1866 - loss: 0.4503 - val_accuracy: 0.2090 - val_loss: 0.4489\n",
      "Epoch 3/10\n",
      "\u001b[1m250/250\u001b[0m \u001b[32m━━━━━━━━━━━━━━━━━━━━\u001b[0m\u001b[37m\u001b[0m \u001b[1m4s\u001b[0m 14ms/step - accuracy: 0.1952 - loss: 0.4496 - val_accuracy: 0.1745 - val_loss: 0.4505\n",
      "Epoch 4/10\n",
      "\u001b[1m250/250\u001b[0m \u001b[32m━━━━━━━━━━━━━━━━━━━━\u001b[0m\u001b[37m\u001b[0m \u001b[1m3s\u001b[0m 14ms/step - accuracy: 0.1900 - loss: 0.4495 - val_accuracy: 0.1755 - val_loss: 0.4497\n",
      "Epoch 5/10\n",
      "\u001b[1m250/250\u001b[0m \u001b[32m━━━━━━━━━━━━━━━━━━━━\u001b[0m\u001b[37m\u001b[0m \u001b[1m3s\u001b[0m 13ms/step - accuracy: 0.1917 - loss: 0.4496 - val_accuracy: 0.1935 - val_loss: 0.4495\n",
      "Epoch 6/10\n",
      "\u001b[1m250/250\u001b[0m \u001b[32m━━━━━━━━━━━━━━━━━━━━\u001b[0m\u001b[37m\u001b[0m \u001b[1m4s\u001b[0m 14ms/step - accuracy: 0.2275 - loss: 0.4444 - val_accuracy: 0.4120 - val_loss: 0.3861\n",
      "Epoch 7/10\n",
      "\u001b[1m250/250\u001b[0m \u001b[32m━━━━━━━━━━━━━━━━━━━━\u001b[0m\u001b[37m\u001b[0m \u001b[1m4s\u001b[0m 15ms/step - accuracy: 0.4579 - loss: 0.3507 - val_accuracy: 0.6155 - val_loss: 0.2600\n",
      "Epoch 8/10\n",
      "\u001b[1m250/250\u001b[0m \u001b[32m━━━━━━━━━━━━━━━━━━━━\u001b[0m\u001b[37m\u001b[0m \u001b[1m5s\u001b[0m 14ms/step - accuracy: 0.6593 - loss: 0.2603 - val_accuracy: 0.7890 - val_loss: 0.1889\n",
      "Epoch 9/10\n",
      "\u001b[1m250/250\u001b[0m \u001b[32m━━━━━━━━━━━━━━━━━━━━\u001b[0m\u001b[37m\u001b[0m \u001b[1m4s\u001b[0m 15ms/step - accuracy: 0.7782 - loss: 0.1911 - val_accuracy: 0.8360 - val_loss: 0.1594\n",
      "Epoch 10/10\n",
      "\u001b[1m250/250\u001b[0m \u001b[32m━━━━━━━━━━━━━━━━━━━━\u001b[0m\u001b[37m\u001b[0m \u001b[1m3s\u001b[0m 14ms/step - accuracy: 0.8346 - loss: 0.1537 - val_accuracy: 0.8865 - val_loss: 0.1135\n"
     ]
    },
    {
     "data": {
      "text/plain": [
       "<keras.src.callbacks.history.History at 0x7c94647b6b30>"
      ]
     },
     "execution_count": 37,
     "metadata": {},
     "output_type": "execute_result"
    }
   ],
   "source": [
    "# Compile the model\n",
    "lstm_model.compile(optimizer='adam', loss='binary_crossentropy', metrics=['accuracy'])\n",
    "\n",
    "# Fit the model\n",
    "lstm_model.fit(X_train_cnn, y_train_binary, epochs=10, batch_size=32, validation_data=(X_val_cnn, y_val_binary))\n"
   ]
  },
  {
   "cell_type": "code",
   "execution_count": 38,
   "id": "3449b878",
   "metadata": {
    "execution": {
     "iopub.execute_input": "2024-04-08T22:16:11.982213Z",
     "iopub.status.busy": "2024-04-08T22:16:11.981737Z",
     "iopub.status.idle": "2024-04-08T22:16:12.874175Z",
     "shell.execute_reply": "2024-04-08T22:16:12.872477Z"
    },
    "papermill": {
     "duration": 1.004014,
     "end_time": "2024-04-08T22:16:12.877300",
     "exception": false,
     "start_time": "2024-04-08T22:16:11.873286",
     "status": "completed"
    },
    "tags": []
   },
   "outputs": [
    {
     "name": "stdout",
     "output_type": "stream",
     "text": [
      "\u001b[1m63/63\u001b[0m \u001b[32m━━━━━━━━━━━━━━━━━━━━\u001b[0m\u001b[37m\u001b[0m \u001b[1m1s\u001b[0m 9ms/step\n",
      "LSTM Model Accuracy: 0.8725\n"
     ]
    }
   ],
   "source": [
    "# Predict probabilities\n",
    "y_prob_lstm = lstm_model.predict(X_val_cnn)\n",
    "\n",
    "# Convert probabilities to binary classes\n",
    "y_pred_lstm = (y_prob_lstm > 0.5).astype(int)\n",
    "\n",
    "# Evaluate accuracy\n",
    "accuracy_lstm = accuracy_score(y_val_binary, y_pred_lstm)\n",
    "print(\"LSTM Model Accuracy:\", accuracy_lstm)\n"
   ]
  },
  {
   "cell_type": "code",
   "execution_count": 39,
   "id": "5d85abdd",
   "metadata": {
    "execution": {
     "iopub.execute_input": "2024-04-08T22:16:13.092451Z",
     "iopub.status.busy": "2024-04-08T22:16:13.091064Z",
     "iopub.status.idle": "2024-04-08T22:16:13.103827Z",
     "shell.execute_reply": "2024-04-08T22:16:13.102446Z"
    },
    "papermill": {
     "duration": 0.123781,
     "end_time": "2024-04-08T22:16:13.107155",
     "exception": false,
     "start_time": "2024-04-08T22:16:12.983374",
     "status": "completed"
    },
    "tags": []
   },
   "outputs": [],
   "source": [
    "# Submission DataFrame without test data prediction\n",
    "submission_df = pd.DataFrame({\n",
    "    'lpd_vote': [0.166667],\n",
    "    'gpd_vote': [0.166667],\n",
    "    'lrda_vote': [0.166667],\n",
    "    'grda_vote': [0.166667],\n",
    "    'other_vote': [0.166667]\n",
    "})\n",
    "\n",
    "# Save submission to CSV\n",
    "submission_df.to_csv('submission.csv', index=False)\n",
    "\n"
   ]
  },
  {
   "cell_type": "code",
   "execution_count": null,
   "id": "dee9944c",
   "metadata": {
    "papermill": {
     "duration": 0.099496,
     "end_time": "2024-04-08T22:16:13.310024",
     "exception": false,
     "start_time": "2024-04-08T22:16:13.210528",
     "status": "completed"
    },
    "tags": []
   },
   "outputs": [],
   "source": []
  }
 ],
 "metadata": {
  "kaggle": {
   "accelerator": "none",
   "dataSources": [
    {
     "databundleVersionId": 7469972,
     "sourceId": 59093,
     "sourceType": "competition"
    }
   ],
   "dockerImageVersionId": 30684,
   "isGpuEnabled": false,
   "isInternetEnabled": false,
   "language": "python",
   "sourceType": "notebook"
  },
  "kernelspec": {
   "display_name": "Python 3",
   "language": "python",
   "name": "python3"
  },
  "language_info": {
   "codemirror_mode": {
    "name": "ipython",
    "version": 3
   },
   "file_extension": ".py",
   "mimetype": "text/x-python",
   "name": "python",
   "nbconvert_exporter": "python",
   "pygments_lexer": "ipython3",
   "version": "3.10.13"
  },
  "papermill": {
   "default_parameters": {},
   "duration": 92.117434,
   "end_time": "2024-04-08T22:16:15.344447",
   "environment_variables": {},
   "exception": null,
   "input_path": "__notebook__.ipynb",
   "output_path": "__notebook__.ipynb",
   "parameters": {},
   "start_time": "2024-04-08T22:14:43.227013",
   "version": "2.5.0"
  }
 },
 "nbformat": 4,
 "nbformat_minor": 5
}
