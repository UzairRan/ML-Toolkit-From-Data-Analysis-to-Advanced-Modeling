{
 "cells": [
  {
   "cell_type": "code",
   "execution_count": 1,
   "id": "6be54352",
   "metadata": {
    "_cell_guid": "b1076dfc-b9ad-4769-8c92-a6c4dae69d19",
    "_uuid": "8f2839f25d086af736a60e9eeb907d3b93b6e0e5",
    "execution": {
     "iopub.execute_input": "2024-05-30T15:10:20.822835Z",
     "iopub.status.busy": "2024-05-30T15:10:20.822423Z",
     "iopub.status.idle": "2024-05-30T15:10:23.344163Z",
     "shell.execute_reply": "2024-05-30T15:10:23.342709Z"
    },
    "papermill": {
     "duration": 2.530427,
     "end_time": "2024-05-30T15:10:23.347283",
     "exception": false,
     "start_time": "2024-05-30T15:10:20.816856",
     "status": "completed"
    },
    "tags": []
   },
   "outputs": [],
   "source": [
    "import pandas as pd\n",
    "import numpy as np\n",
    "from sklearn.model_selection import train_test_split\n",
    "from sklearn.preprocessing import StandardScaler\n",
    "from sklearn.linear_model import BayesianRidge\n",
    "from sklearn.metrics import mean_squared_error"
   ]
  },
  {
   "cell_type": "code",
   "execution_count": 2,
   "id": "f5c6e7f6",
   "metadata": {
    "execution": {
     "iopub.execute_input": "2024-05-30T15:10:23.356376Z",
     "iopub.status.busy": "2024-05-30T15:10:23.355851Z",
     "iopub.status.idle": "2024-05-30T15:10:26.861241Z",
     "shell.execute_reply": "2024-05-30T15:10:26.859826Z"
    },
    "papermill": {
     "duration": 3.513413,
     "end_time": "2024-05-30T15:10:26.864557",
     "exception": false,
     "start_time": "2024-05-30T15:10:23.351144",
     "status": "completed"
    },
    "tags": []
   },
   "outputs": [],
   "source": [
    "# Load the datasets\n",
    "train_data = pd.read_csv(\"/kaggle/input/playground-series-s4e5/train.csv\")\n",
    "test_data = pd.read_csv(\"/kaggle/input/playground-series-s4e5/test.csv\")\n"
   ]
  },
  {
   "cell_type": "code",
   "execution_count": 3,
   "id": "ab7f32ea",
   "metadata": {
    "execution": {
     "iopub.execute_input": "2024-05-30T15:10:26.872961Z",
     "iopub.status.busy": "2024-05-30T15:10:26.872588Z",
     "iopub.status.idle": "2024-05-30T15:10:27.006644Z",
     "shell.execute_reply": "2024-05-30T15:10:27.005419Z"
    },
    "papermill": {
     "duration": 0.141162,
     "end_time": "2024-05-30T15:10:27.009231",
     "exception": false,
     "start_time": "2024-05-30T15:10:26.868069",
     "status": "completed"
    },
    "tags": []
   },
   "outputs": [],
   "source": [
    "# Extract features and target variable from training data\n",
    "X_train = train_data.drop(columns=['id', 'FloodProbability'])\n",
    "y_train = train_data['FloodProbability']\n",
    "\n",
    "# Extract features from test data\n",
    "X_test = test_data.drop(columns=['id'])\n"
   ]
  },
  {
   "cell_type": "code",
   "execution_count": 4,
   "id": "36c76322",
   "metadata": {
    "execution": {
     "iopub.execute_input": "2024-05-30T15:10:27.017555Z",
     "iopub.status.busy": "2024-05-30T15:10:27.017147Z",
     "iopub.status.idle": "2024-05-30T15:10:27.485882Z",
     "shell.execute_reply": "2024-05-30T15:10:27.484634Z"
    },
    "papermill": {
     "duration": 0.476045,
     "end_time": "2024-05-30T15:10:27.488483",
     "exception": false,
     "start_time": "2024-05-30T15:10:27.012438",
     "status": "completed"
    },
    "tags": []
   },
   "outputs": [],
   "source": [
    "# Feature Scaling\n",
    "scaler = StandardScaler()\n",
    "X_train_scaled = scaler.fit_transform(X_train)\n",
    "X_test_scaled = scaler.transform(X_test)\n"
   ]
  },
  {
   "cell_type": "code",
   "execution_count": 5,
   "id": "c916c64d",
   "metadata": {
    "execution": {
     "iopub.execute_input": "2024-05-30T15:10:27.496159Z",
     "iopub.status.busy": "2024-05-30T15:10:27.495802Z",
     "iopub.status.idle": "2024-05-30T15:10:28.652800Z",
     "shell.execute_reply": "2024-05-30T15:10:28.651451Z"
    },
    "papermill": {
     "duration": 1.164358,
     "end_time": "2024-05-30T15:10:28.655873",
     "exception": false,
     "start_time": "2024-05-30T15:10:27.491515",
     "status": "completed"
    },
    "tags": []
   },
   "outputs": [
    {
     "data": {
      "text/html": [
       "<style>#sk-container-id-1 {color: black;background-color: white;}#sk-container-id-1 pre{padding: 0;}#sk-container-id-1 div.sk-toggleable {background-color: white;}#sk-container-id-1 label.sk-toggleable__label {cursor: pointer;display: block;width: 100%;margin-bottom: 0;padding: 0.3em;box-sizing: border-box;text-align: center;}#sk-container-id-1 label.sk-toggleable__label-arrow:before {content: \"▸\";float: left;margin-right: 0.25em;color: #696969;}#sk-container-id-1 label.sk-toggleable__label-arrow:hover:before {color: black;}#sk-container-id-1 div.sk-estimator:hover label.sk-toggleable__label-arrow:before {color: black;}#sk-container-id-1 div.sk-toggleable__content {max-height: 0;max-width: 0;overflow: hidden;text-align: left;background-color: #f0f8ff;}#sk-container-id-1 div.sk-toggleable__content pre {margin: 0.2em;color: black;border-radius: 0.25em;background-color: #f0f8ff;}#sk-container-id-1 input.sk-toggleable__control:checked~div.sk-toggleable__content {max-height: 200px;max-width: 100%;overflow: auto;}#sk-container-id-1 input.sk-toggleable__control:checked~label.sk-toggleable__label-arrow:before {content: \"▾\";}#sk-container-id-1 div.sk-estimator input.sk-toggleable__control:checked~label.sk-toggleable__label {background-color: #d4ebff;}#sk-container-id-1 div.sk-label input.sk-toggleable__control:checked~label.sk-toggleable__label {background-color: #d4ebff;}#sk-container-id-1 input.sk-hidden--visually {border: 0;clip: rect(1px 1px 1px 1px);clip: rect(1px, 1px, 1px, 1px);height: 1px;margin: -1px;overflow: hidden;padding: 0;position: absolute;width: 1px;}#sk-container-id-1 div.sk-estimator {font-family: monospace;background-color: #f0f8ff;border: 1px dotted black;border-radius: 0.25em;box-sizing: border-box;margin-bottom: 0.5em;}#sk-container-id-1 div.sk-estimator:hover {background-color: #d4ebff;}#sk-container-id-1 div.sk-parallel-item::after {content: \"\";width: 100%;border-bottom: 1px solid gray;flex-grow: 1;}#sk-container-id-1 div.sk-label:hover label.sk-toggleable__label {background-color: #d4ebff;}#sk-container-id-1 div.sk-serial::before {content: \"\";position: absolute;border-left: 1px solid gray;box-sizing: border-box;top: 0;bottom: 0;left: 50%;z-index: 0;}#sk-container-id-1 div.sk-serial {display: flex;flex-direction: column;align-items: center;background-color: white;padding-right: 0.2em;padding-left: 0.2em;position: relative;}#sk-container-id-1 div.sk-item {position: relative;z-index: 1;}#sk-container-id-1 div.sk-parallel {display: flex;align-items: stretch;justify-content: center;background-color: white;position: relative;}#sk-container-id-1 div.sk-item::before, #sk-container-id-1 div.sk-parallel-item::before {content: \"\";position: absolute;border-left: 1px solid gray;box-sizing: border-box;top: 0;bottom: 0;left: 50%;z-index: -1;}#sk-container-id-1 div.sk-parallel-item {display: flex;flex-direction: column;z-index: 1;position: relative;background-color: white;}#sk-container-id-1 div.sk-parallel-item:first-child::after {align-self: flex-end;width: 50%;}#sk-container-id-1 div.sk-parallel-item:last-child::after {align-self: flex-start;width: 50%;}#sk-container-id-1 div.sk-parallel-item:only-child::after {width: 0;}#sk-container-id-1 div.sk-dashed-wrapped {border: 1px dashed gray;margin: 0 0.4em 0.5em 0.4em;box-sizing: border-box;padding-bottom: 0.4em;background-color: white;}#sk-container-id-1 div.sk-label label {font-family: monospace;font-weight: bold;display: inline-block;line-height: 1.2em;}#sk-container-id-1 div.sk-label-container {text-align: center;}#sk-container-id-1 div.sk-container {/* jupyter's `normalize.less` sets `[hidden] { display: none; }` but bootstrap.min.css set `[hidden] { display: none !important; }` so we also need the `!important` here to be able to override the default hidden behavior on the sphinx rendered scikit-learn.org. See: https://github.com/scikit-learn/scikit-learn/issues/21755 */display: inline-block !important;position: relative;}#sk-container-id-1 div.sk-text-repr-fallback {display: none;}</style><div id=\"sk-container-id-1\" class=\"sk-top-container\"><div class=\"sk-text-repr-fallback\"><pre>BayesianRidge()</pre><b>In a Jupyter environment, please rerun this cell to show the HTML representation or trust the notebook. <br />On GitHub, the HTML representation is unable to render, please try loading this page with nbviewer.org.</b></div><div class=\"sk-container\" hidden><div class=\"sk-item\"><div class=\"sk-estimator sk-toggleable\"><input class=\"sk-toggleable__control sk-hidden--visually\" id=\"sk-estimator-id-1\" type=\"checkbox\" checked><label for=\"sk-estimator-id-1\" class=\"sk-toggleable__label sk-toggleable__label-arrow\">BayesianRidge</label><div class=\"sk-toggleable__content\"><pre>BayesianRidge()</pre></div></div></div></div></div>"
      ],
      "text/plain": [
       "BayesianRidge()"
      ]
     },
     "execution_count": 5,
     "metadata": {},
     "output_type": "execute_result"
    }
   ],
   "source": [
    "# Initialize and train Bayesian Ridge Regression model\n",
    "bayesian_ridge_model = BayesianRidge()\n",
    "bayesian_ridge_model.fit(X_train_scaled, y_train)\n"
   ]
  },
  {
   "cell_type": "code",
   "execution_count": 6,
   "id": "70559a18",
   "metadata": {
    "execution": {
     "iopub.execute_input": "2024-05-30T15:10:28.668264Z",
     "iopub.status.busy": "2024-05-30T15:10:28.667533Z",
     "iopub.status.idle": "2024-05-30T15:10:28.722237Z",
     "shell.execute_reply": "2024-05-30T15:10:28.720462Z"
    },
    "papermill": {
     "duration": 0.064796,
     "end_time": "2024-05-30T15:10:28.725733",
     "exception": false,
     "start_time": "2024-05-30T15:10:28.660937",
     "status": "completed"
    },
    "tags": []
   },
   "outputs": [
    {
     "name": "stdout",
     "output_type": "stream",
     "text": [
      "Bayesian Ridge Regression Train MSE: 0.0004036972210602188\n"
     ]
    }
   ],
   "source": [
    "# Predict on training data to evaluate performance\n",
    "y_train_pred_brr = bayesian_ridge_model.predict(X_train_scaled)\n",
    "brr_train_mse = mean_squared_error(y_train, y_train_pred_brr)\n",
    "print(f'Bayesian Ridge Regression Train MSE: {brr_train_mse}')\n"
   ]
  },
  {
   "cell_type": "code",
   "execution_count": 7,
   "id": "61e9565b",
   "metadata": {
    "execution": {
     "iopub.execute_input": "2024-05-30T15:10:28.739928Z",
     "iopub.status.busy": "2024-05-30T15:10:28.738867Z",
     "iopub.status.idle": "2024-05-30T15:10:28.767743Z",
     "shell.execute_reply": "2024-05-30T15:10:28.766493Z"
    },
    "papermill": {
     "duration": 0.03947,
     "end_time": "2024-05-30T15:10:28.771123",
     "exception": false,
     "start_time": "2024-05-30T15:10:28.731653",
     "status": "completed"
    },
    "tags": []
   },
   "outputs": [],
   "source": [
    "\n",
    "# Predict on test data using Bayesian Ridge Regression model\n",
    "y_test_pred_brr = bayesian_ridge_model.predict(X_test_scaled)\n"
   ]
  },
  {
   "cell_type": "code",
   "execution_count": 8,
   "id": "3d13db66",
   "metadata": {
    "execution": {
     "iopub.execute_input": "2024-05-30T15:10:28.784972Z",
     "iopub.status.busy": "2024-05-30T15:10:28.783546Z",
     "iopub.status.idle": "2024-05-30T15:10:30.464899Z",
     "shell.execute_reply": "2024-05-30T15:10:30.463584Z"
    },
    "papermill": {
     "duration": 1.69111,
     "end_time": "2024-05-30T15:10:30.467761",
     "exception": false,
     "start_time": "2024-05-30T15:10:28.776651",
     "status": "completed"
    },
    "tags": []
   },
   "outputs": [
    {
     "name": "stdout",
     "output_type": "stream",
     "text": [
      "Submission file saved to 'submission.csv'.\n"
     ]
    }
   ],
   "source": [
    "# Prepare submission file\n",
    "submission = pd.DataFrame({\n",
    "    'id': test_data['id'],\n",
    "    'FloodProbability': y_test_pred_brr\n",
    "})\n",
    "submission.to_csv('submission.csv', index=False)\n",
    "\n",
    "print(\"Submission file saved to 'submission.csv'.\")"
   ]
  },
  {
   "cell_type": "code",
   "execution_count": null,
   "id": "e2c58f61",
   "metadata": {
    "papermill": {
     "duration": 0.003679,
     "end_time": "2024-05-30T15:10:30.476671",
     "exception": false,
     "start_time": "2024-05-30T15:10:30.472992",
     "status": "completed"
    },
    "tags": []
   },
   "outputs": [],
   "source": []
  }
 ],
 "metadata": {
  "kaggle": {
   "accelerator": "none",
   "dataSources": [
    {
     "databundleVersionId": 8121328,
     "sourceId": 73278,
     "sourceType": "competition"
    }
   ],
   "dockerImageVersionId": 30698,
   "isGpuEnabled": false,
   "isInternetEnabled": true,
   "language": "python",
   "sourceType": "notebook"
  },
  "kernelspec": {
   "display_name": "Python 3",
   "language": "python",
   "name": "python3"
  },
  "language_info": {
   "codemirror_mode": {
    "name": "ipython",
    "version": 3
   },
   "file_extension": ".py",
   "mimetype": "text/x-python",
   "name": "python",
   "nbconvert_exporter": "python",
   "pygments_lexer": "ipython3",
   "version": "3.10.13"
  },
  "papermill": {
   "default_parameters": {},
   "duration": 13.645108,
   "end_time": "2024-05-30T15:10:31.101345",
   "environment_variables": {},
   "exception": null,
   "input_path": "__notebook__.ipynb",
   "output_path": "__notebook__.ipynb",
   "parameters": {},
   "start_time": "2024-05-30T15:10:17.456237",
   "version": "2.5.0"
  }
 },
 "nbformat": 4,
 "nbformat_minor": 5
}
