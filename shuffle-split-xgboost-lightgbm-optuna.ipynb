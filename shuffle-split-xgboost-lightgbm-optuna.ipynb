{
 "cells": [
  {
   "cell_type": "code",
   "execution_count": 1,
   "id": "23920264",
   "metadata": {
    "_cell_guid": "b1076dfc-b9ad-4769-8c92-a6c4dae69d19",
    "_uuid": "8f2839f25d086af736a60e9eeb907d3b93b6e0e5",
    "execution": {
     "iopub.execute_input": "2024-02-25T13:16:07.834837Z",
     "iopub.status.busy": "2024-02-25T13:16:07.834374Z",
     "iopub.status.idle": "2024-02-25T13:16:12.470620Z",
     "shell.execute_reply": "2024-02-25T13:16:12.469351Z"
    },
    "papermill": {
     "duration": 4.647211,
     "end_time": "2024-02-25T13:16:12.473434",
     "exception": false,
     "start_time": "2024-02-25T13:16:07.826223",
     "status": "completed"
    },
    "tags": []
   },
   "outputs": [],
   "source": [
    "import pandas as pd\n",
    "import numpy as np\n",
    "from sklearn.preprocessing import LabelEncoder, StandardScaler\n",
    "from sklearn.model_selection import ShuffleSplit\n",
    "from sklearn.metrics import accuracy_score\n",
    "import lightgbm as lgb\n",
    "import xgboost as xgb\n",
    "from catboost import CatBoostClassifier\n"
   ]
  },
  {
   "cell_type": "code",
   "execution_count": 2,
   "id": "6d19c3f5",
   "metadata": {
    "execution": {
     "iopub.execute_input": "2024-02-25T13:16:12.487770Z",
     "iopub.status.busy": "2024-02-25T13:16:12.487329Z",
     "iopub.status.idle": "2024-02-25T13:16:12.729586Z",
     "shell.execute_reply": "2024-02-25T13:16:12.728232Z"
    },
    "papermill": {
     "duration": 0.252782,
     "end_time": "2024-02-25T13:16:12.732467",
     "exception": false,
     "start_time": "2024-02-25T13:16:12.479685",
     "status": "completed"
    },
    "tags": []
   },
   "outputs": [],
   "source": [
    "# Load Data\n",
    "train_data = pd.read_csv(\"/kaggle/input/playground-series-s4e2/train.csv\")\n",
    "test_data = pd.read_csv(\"/kaggle/input/playground-series-s4e2/test.csv\")\n",
    "original_data = pd.read_csv(\"/kaggle/input/obesity-or-cvd-risk-classifyregressorcluster/ObesityDataSet.csv\")\n",
    "sample_submission_data = pd.read_csv(\"/kaggle/input/playground-series-s4e2/sample_submission.csv\")\n"
   ]
  },
  {
   "cell_type": "code",
   "execution_count": 3,
   "id": "be3b0230",
   "metadata": {
    "execution": {
     "iopub.execute_input": "2024-02-25T13:16:12.747734Z",
     "iopub.status.busy": "2024-02-25T13:16:12.747303Z",
     "iopub.status.idle": "2024-02-25T13:16:12.804538Z",
     "shell.execute_reply": "2024-02-25T13:16:12.803082Z"
    },
    "papermill": {
     "duration": 0.068518,
     "end_time": "2024-02-25T13:16:12.807310",
     "exception": false,
     "start_time": "2024-02-25T13:16:12.738792",
     "status": "completed"
    },
    "tags": []
   },
   "outputs": [],
   "source": [
    "# Merge Data\n",
    "train_data = train_data.drop(\"id\", axis=1)\n",
    "train_data = pd.concat([train_data, original_data], ignore_index=True).drop_duplicates()\n"
   ]
  },
  {
   "cell_type": "code",
   "execution_count": 4,
   "id": "9fd6990c",
   "metadata": {
    "execution": {
     "iopub.execute_input": "2024-02-25T13:16:12.822268Z",
     "iopub.status.busy": "2024-02-25T13:16:12.821762Z",
     "iopub.status.idle": "2024-02-25T13:16:12.842989Z",
     "shell.execute_reply": "2024-02-25T13:16:12.841633Z"
    },
    "papermill": {
     "duration": 0.032025,
     "end_time": "2024-02-25T13:16:12.845841",
     "exception": false,
     "start_time": "2024-02-25T13:16:12.813816",
     "status": "completed"
    },
    "tags": []
   },
   "outputs": [],
   "source": [
    "# Feature Scaling\n",
    "scaler = StandardScaler()\n",
    "num_cols = list(train_data.select_dtypes(exclude=['object']).columns)\n",
    "train_data[num_cols] = scaler.fit_transform(train_data[num_cols])\n",
    "test_data[num_cols] = scaler.transform(test_data[num_cols])"
   ]
  },
  {
   "cell_type": "code",
   "execution_count": 5,
   "id": "daa30daf",
   "metadata": {
    "execution": {
     "iopub.execute_input": "2024-02-25T13:16:12.861142Z",
     "iopub.status.busy": "2024-02-25T13:16:12.860692Z",
     "iopub.status.idle": "2024-02-25T13:16:12.947228Z",
     "shell.execute_reply": "2024-02-25T13:16:12.945957Z"
    },
    "papermill": {
     "duration": 0.097199,
     "end_time": "2024-02-25T13:16:12.949980",
     "exception": false,
     "start_time": "2024-02-25T13:16:12.852781",
     "status": "completed"
    },
    "tags": []
   },
   "outputs": [],
   "source": [
    "# Encoding Categorical Variables\n",
    "labelencoder = LabelEncoder()\n",
    "object_columns = train_data.select_dtypes(include='object').columns.difference(['NObeyesdad'])\n",
    "\n",
    "for col_name in object_columns:\n",
    "    if train_data[col_name].dtypes == 'object':\n",
    "        train_data[col_name] = labelencoder.fit_transform(train_data[col_name])\n",
    "        test_data[col_name] = labelencoder.transform(test_data[col_name])\n",
    "\n"
   ]
  },
  {
   "cell_type": "code",
   "execution_count": 6,
   "id": "cc7c37da",
   "metadata": {
    "execution": {
     "iopub.execute_input": "2024-02-25T13:16:12.964839Z",
     "iopub.status.busy": "2024-02-25T13:16:12.964360Z",
     "iopub.status.idle": "2024-02-25T13:16:12.981053Z",
     "shell.execute_reply": "2024-02-25T13:16:12.979736Z"
    },
    "papermill": {
     "duration": 0.027312,
     "end_time": "2024-02-25T13:16:12.983536",
     "exception": false,
     "start_time": "2024-02-25T13:16:12.956224",
     "status": "completed"
    },
    "tags": []
   },
   "outputs": [],
   "source": [
    "# Define Features and Target\n",
    "X = train_data.drop(['NObeyesdad'], axis=1)\n",
    "y = labelencoder.fit_transform(train_data['NObeyesdad'])\n",
    "X_test = test_data.drop([\"id\"], axis=1)\n"
   ]
  },
  {
   "cell_type": "code",
   "execution_count": 7,
   "id": "0253a457",
   "metadata": {
    "execution": {
     "iopub.execute_input": "2024-02-25T13:16:12.999665Z",
     "iopub.status.busy": "2024-02-25T13:16:12.999209Z",
     "iopub.status.idle": "2024-02-25T13:16:13.006276Z",
     "shell.execute_reply": "2024-02-25T13:16:13.004900Z"
    },
    "papermill": {
     "duration": 0.0193,
     "end_time": "2024-02-25T13:16:13.009049",
     "exception": false,
     "start_time": "2024-02-25T13:16:12.989749",
     "status": "completed"
    },
    "tags": []
   },
   "outputs": [],
   "source": [
    "# Define LightGBM model parameters\n",
    "lgb_param = {\n",
    "    \"objective\": \"multiclass\",\n",
    "    \"metric\": \"multi_logloss\",\n",
    "    \"verbosity\": -1,\n",
    "    \"boosting_type\": \"gbdt\",\n",
    "    \"random_state\": 42,\n",
    "    \"num_class\": 7,\n",
    "    'learning_rate': 0.030962211546832760,\n",
    "    'n_estimators': 500,\n",
    "    'lambda_l1': 0.009667446568254372,\n",
    "    'lambda_l2': 0.04018641437301800,\n",
    "    'max_depth': 10,\n",
    "    'colsample_bytree': 0.40977129346872643,\n",
    "    'subsample': 0.9535797422450176,\n",
    "    'min_child_samples': 26\n",
    "}\n",
    "\n"
   ]
  },
  {
   "cell_type": "code",
   "execution_count": 8,
   "id": "cd3606a2",
   "metadata": {
    "execution": {
     "iopub.execute_input": "2024-02-25T13:16:13.023529Z",
     "iopub.status.busy": "2024-02-25T13:16:13.023084Z",
     "iopub.status.idle": "2024-02-25T13:16:13.028408Z",
     "shell.execute_reply": "2024-02-25T13:16:13.027502Z"
    },
    "papermill": {
     "duration": 0.015276,
     "end_time": "2024-02-25T13:16:13.030587",
     "exception": false,
     "start_time": "2024-02-25T13:16:13.015311",
     "status": "completed"
    },
    "tags": []
   },
   "outputs": [],
   "source": [
    "# Define XGBoost model parameters\n",
    "xgb_param = {\n",
    "    \"objective\": \"multi:softmax\",\n",
    "    \"eval_metric\": \"mlogloss\",\n",
    "    \"verbosity\": 0,\n",
    "    \"random_state\": 42,\n",
    "    \"num_class\": 7,\n",
    "    'learning_rate': 0.030962211546832760,\n",
    "    'n_estimators': 500,\n",
    "    'reg_lambda': 0.009667446568254372,\n",
    "    'reg_alpha': 0.04018641437301800,\n",
    "    'max_depth': 10,\n",
    "    'colsample_bytree': 0.40977129346872643,\n",
    "    'subsample': 0.9535797422450176,\n",
    "    'min_child_weight': 26\n",
    "}"
   ]
  },
  {
   "cell_type": "code",
   "execution_count": 9,
   "id": "64be81df",
   "metadata": {
    "execution": {
     "iopub.execute_input": "2024-02-25T13:16:13.044741Z",
     "iopub.status.busy": "2024-02-25T13:16:13.044297Z",
     "iopub.status.idle": "2024-02-25T13:16:13.050694Z",
     "shell.execute_reply": "2024-02-25T13:16:13.049159Z"
    },
    "papermill": {
     "duration": 0.016436,
     "end_time": "2024-02-25T13:16:13.053157",
     "exception": false,
     "start_time": "2024-02-25T13:16:13.036721",
     "status": "completed"
    },
    "tags": []
   },
   "outputs": [],
   "source": [
    "# Define CatBoost model parameters\n",
    "catboost_param = {\n",
    "    'objective': 'MultiClass',\n",
    "    'eval_metric': 'MultiClass',\n",
    "    'random_seed': 42,\n",
    "    'learning_rate': 0.030962211546832760,\n",
    "    'n_estimators': 500,\n",
    "    'l2_leaf_reg': 0.009667446568254372,\n",
    "    'border_count': 128,\n",
    "    'depth': 10,\n",
    "    'colsample_bylevel': 0.40977129346872643,\n",
    "    'subsample': 0.9535797422450176,\n",
    "    'min_child_samples': 26,\n",
    "    'bootstrap_type': 'MVS'  # Change the bootstrap type\n",
    "}"
   ]
  },
  {
   "cell_type": "code",
   "execution_count": 10,
   "id": "194871ed",
   "metadata": {
    "execution": {
     "iopub.execute_input": "2024-02-25T13:16:13.067700Z",
     "iopub.status.busy": "2024-02-25T13:16:13.067229Z",
     "iopub.status.idle": "2024-02-25T13:22:11.961547Z",
     "shell.execute_reply": "2024-02-25T13:22:11.960466Z"
    },
    "papermill": {
     "duration": 358.904727,
     "end_time": "2024-02-25T13:22:11.964260",
     "exception": false,
     "start_time": "2024-02-25T13:16:13.059533",
     "status": "completed"
    },
    "tags": []
   },
   "outputs": [
    {
     "name": "stdout",
     "output_type": "stream",
     "text": [
      "0:\tlearn: 1.8248771\ttotal: 148ms\tremaining: 1m 14s\n",
      "100:\tlearn: 0.3195379\ttotal: 5.68s\tremaining: 22.4s\n",
      "200:\tlearn: 0.2111214\ttotal: 11.2s\tremaining: 16.7s\n",
      "300:\tlearn: 0.1598129\ttotal: 16.4s\tremaining: 10.8s\n",
      "400:\tlearn: 0.1258316\ttotal: 21.6s\tremaining: 5.32s\n",
      "499:\tlearn: 0.1014154\ttotal: 26.8s\tremaining: 0us\n",
      "0:\tlearn: 1.8256615\ttotal: 51ms\tremaining: 25.4s\n",
      "100:\tlearn: 0.3206345\ttotal: 5.34s\tremaining: 21.1s\n",
      "200:\tlearn: 0.2089068\ttotal: 10.5s\tremaining: 15.7s\n",
      "300:\tlearn: 0.1587370\ttotal: 15.6s\tremaining: 10.3s\n",
      "400:\tlearn: 0.1249904\ttotal: 20.9s\tremaining: 5.15s\n",
      "499:\tlearn: 0.1012619\ttotal: 26s\tremaining: 0us\n",
      "0:\tlearn: 1.8249242\ttotal: 50.4ms\tremaining: 25.2s\n",
      "100:\tlearn: 0.3188575\ttotal: 5.21s\tremaining: 20.6s\n",
      "200:\tlearn: 0.2106385\ttotal: 10.3s\tremaining: 15.4s\n",
      "300:\tlearn: 0.1587905\ttotal: 15.3s\tremaining: 10.1s\n",
      "400:\tlearn: 0.1253567\ttotal: 20.7s\tremaining: 5.1s\n",
      "499:\tlearn: 0.1015750\ttotal: 26.1s\tremaining: 0us\n",
      "0:\tlearn: 1.8270952\ttotal: 54ms\tremaining: 27s\n",
      "100:\tlearn: 0.3199735\ttotal: 5.24s\tremaining: 20.7s\n",
      "200:\tlearn: 0.2103168\ttotal: 10.4s\tremaining: 15.5s\n",
      "300:\tlearn: 0.1607233\ttotal: 15.5s\tremaining: 10.3s\n",
      "400:\tlearn: 0.1256991\ttotal: 21.3s\tremaining: 5.26s\n",
      "499:\tlearn: 0.1011869\ttotal: 26.6s\tremaining: 0us\n",
      "0:\tlearn: 1.8280411\ttotal: 50.6ms\tremaining: 25.3s\n",
      "100:\tlearn: 0.3190745\ttotal: 5.3s\tremaining: 20.9s\n",
      "200:\tlearn: 0.2107087\ttotal: 10.6s\tremaining: 15.8s\n",
      "300:\tlearn: 0.1585189\ttotal: 16s\tremaining: 10.6s\n",
      "400:\tlearn: 0.1247157\ttotal: 21.3s\tremaining: 5.26s\n",
      "499:\tlearn: 0.1001336\ttotal: 26.5s\tremaining: 0us\n"
     ]
    }
   ],
   "source": [
    "# Define Shuffle-Split Cross-Validation\n",
    "num_splits = 5\n",
    "ss = ShuffleSplit(n_splits=num_splits, test_size=0.1, random_state=42)\n",
    "\n",
    "# Initialize lists to store validation accuracies and predictions\n",
    "val_accuracies_lgb = []\n",
    "test_preds_lgb = []\n",
    "val_accuracies_xgb = []\n",
    "test_preds_xgb = []\n",
    "val_accuracies_catboost = []\n",
    "test_preds_catboost = []\n",
    "\n",
    "# Perform Shuffle-Split Cross-Validation\n",
    "for train_index, val_index in ss.split(X):\n",
    "    X_train, X_val = X.iloc[train_index], X.iloc[val_index]\n",
    "    y_train, y_val = y[train_index], y[val_index]\n",
    "    \n",
    "    # Train LightGBM model\n",
    "    model_lgb = lgb.LGBMClassifier(**lgb_param, verbose=100)\n",
    "    model_lgb.fit(X_train, y_train)\n",
    "    \n",
    "    # Make predictions on validation set (LightGBM)\n",
    "    pred_proba_lgb = model_lgb.predict_proba(X_val)\n",
    "    y_pred_lgb = np.argmax(pred_proba_lgb, axis=1)\n",
    "    \n",
    "    # Calculate accuracy and store (LightGBM)\n",
    "    val_accuracy_lgb = accuracy_score(y_val, y_pred_lgb)\n",
    "    val_accuracies_lgb.append(val_accuracy_lgb)\n",
    "    \n",
    "    # Make predictions on test set (LightGBM)\n",
    "    test_pred_proba_lgb = model_lgb.predict_proba(X_test)\n",
    "    test_preds_lgb.append(test_pred_proba_lgb)\n",
    "    \n",
    "    # Train XGBoost model\n",
    "    model_xgb = xgb.XGBClassifier(**xgb_param)\n",
    "    model_xgb.fit(X_train, y_train)\n",
    "    \n",
    "    # Make predictions on validation set (XGBoost)\n",
    "    pred_proba_xgb = model_xgb.predict_proba(X_val)\n",
    "    y_pred_xgb = np.argmax(pred_proba_xgb, axis=1)\n",
    "    \n",
    "    # Calculate accuracy and store (XGBoost)\n",
    "    val_accuracy_xgb = accuracy_score(y_val, y_pred_xgb)\n",
    "    val_accuracies_xgb.append(val_accuracy_xgb)\n",
    "    \n",
    "    # Make predictions on test set (XGBoost)\n",
    "    test_pred_proba_xgb = model_xgb.predict_proba(X_test)\n",
    "    test_preds_xgb.append(test_pred_proba_xgb)\n",
    "    \n",
    "    # Train CatBoost model\n",
    "    model_catboost = CatBoostClassifier(**catboost_param, verbose=100)\n",
    "    model_catboost.fit(X_train, y_train)\n",
    "    \n",
    "    # Make predictions on validation set (CatBoost)\n",
    "    pred_proba_catboost = model_catboost.predict_proba(X_val)\n",
    "    y_pred_catboost = np.argmax(pred_proba_catboost, axis=1)\n",
    "    \n",
    "    # Calculate accuracy and store (CatBoost)\n",
    "    val_accuracy_catboost = accuracy_score(y_val, y_pred_catboost)\n",
    "    val_accuracies_catboost.append(val_accuracy_catboost)\n",
    "    \n",
    "    # Make predictions on test set (CatBoost)\n",
    "    test_pred_proba_catboost = model_catboost.predict_proba(X_test)\n",
    "    test_preds_catboost.append(test_pred_proba_catboost)\n"
   ]
  },
  {
   "cell_type": "code",
   "execution_count": 11,
   "id": "34c0d930",
   "metadata": {
    "execution": {
     "iopub.execute_input": "2024-02-25T13:22:11.982688Z",
     "iopub.status.busy": "2024-02-25T13:22:11.981931Z",
     "iopub.status.idle": "2024-02-25T13:22:11.988676Z",
     "shell.execute_reply": "2024-02-25T13:22:11.987269Z"
    },
    "papermill": {
     "duration": 0.019051,
     "end_time": "2024-02-25T13:22:11.991306",
     "exception": false,
     "start_time": "2024-02-25T13:22:11.972255",
     "status": "completed"
    },
    "tags": []
   },
   "outputs": [
    {
     "name": "stdout",
     "output_type": "stream",
     "text": [
      "Mean Validation Accuracy (LightGBM): 0.9141356673960612\n"
     ]
    }
   ],
   "source": [
    "# Average validation accuracy (LightGBM)\n",
    "mean_val_accuracy_lgb = np.mean(val_accuracies_lgb)\n",
    "print(\"Mean Validation Accuracy (LightGBM):\", mean_val_accuracy_lgb)\n",
    "\n"
   ]
  },
  {
   "cell_type": "code",
   "execution_count": 12,
   "id": "c1a4c349",
   "metadata": {
    "execution": {
     "iopub.execute_input": "2024-02-25T13:22:12.009740Z",
     "iopub.status.busy": "2024-02-25T13:22:12.008894Z",
     "iopub.status.idle": "2024-02-25T13:22:12.017127Z",
     "shell.execute_reply": "2024-02-25T13:22:12.016147Z"
    },
    "papermill": {
     "duration": 0.020343,
     "end_time": "2024-02-25T13:22:12.019735",
     "exception": false,
     "start_time": "2024-02-25T13:22:11.999392",
     "status": "completed"
    },
    "tags": []
   },
   "outputs": [],
   "source": [
    "# Average predictions on test set (LightGBM)\n",
    "mean_test_preds_lgb = np.mean(test_preds_lgb, axis=0)\n",
    "final_test_preds_lgb = np.argmax(mean_test_preds_lgb, axis=1)\n",
    "\n"
   ]
  },
  {
   "cell_type": "code",
   "execution_count": 13,
   "id": "7c0cc794",
   "metadata": {
    "execution": {
     "iopub.execute_input": "2024-02-25T13:22:12.038266Z",
     "iopub.status.busy": "2024-02-25T13:22:12.037456Z",
     "iopub.status.idle": "2024-02-25T13:22:12.043913Z",
     "shell.execute_reply": "2024-02-25T13:22:12.042653Z"
    },
    "papermill": {
     "duration": 0.018377,
     "end_time": "2024-02-25T13:22:12.046096",
     "exception": false,
     "start_time": "2024-02-25T13:22:12.027719",
     "status": "completed"
    },
    "tags": []
   },
   "outputs": [
    {
     "name": "stdout",
     "output_type": "stream",
     "text": [
      "Mean Validation Accuracy (XGBoost): 0.9149234135667396\n"
     ]
    }
   ],
   "source": [
    "# Average validation accuracy (XGBoost)\n",
    "mean_val_accuracy_xgb = np.mean(val_accuracies_xgb)\n",
    "print(\"Mean Validation Accuracy (XGBoost):\", mean_val_accuracy_xgb)\n",
    "\n"
   ]
  },
  {
   "cell_type": "code",
   "execution_count": 14,
   "id": "178ec2f4",
   "metadata": {
    "execution": {
     "iopub.execute_input": "2024-02-25T13:22:12.064762Z",
     "iopub.status.busy": "2024-02-25T13:22:12.063907Z",
     "iopub.status.idle": "2024-02-25T13:22:12.071503Z",
     "shell.execute_reply": "2024-02-25T13:22:12.070258Z"
    },
    "papermill": {
     "duration": 0.020088,
     "end_time": "2024-02-25T13:22:12.074282",
     "exception": false,
     "start_time": "2024-02-25T13:22:12.054194",
     "status": "completed"
    },
    "tags": []
   },
   "outputs": [],
   "source": [
    "# Average predictions on test set (XGBoost)\n",
    "mean_test_preds_xgb = np.mean(test_preds_xgb, axis=0)\n",
    "final_test_preds_xgb = np.argmax(mean_test_preds_xgb, axis=1)\n",
    "\n"
   ]
  },
  {
   "cell_type": "code",
   "execution_count": 15,
   "id": "2f275ef3",
   "metadata": {
    "execution": {
     "iopub.execute_input": "2024-02-25T13:22:12.093979Z",
     "iopub.status.busy": "2024-02-25T13:22:12.093042Z",
     "iopub.status.idle": "2024-02-25T13:22:12.098960Z",
     "shell.execute_reply": "2024-02-25T13:22:12.098084Z"
    },
    "papermill": {
     "duration": 0.018361,
     "end_time": "2024-02-25T13:22:12.101485",
     "exception": false,
     "start_time": "2024-02-25T13:22:12.083124",
     "status": "completed"
    },
    "tags": []
   },
   "outputs": [],
   "source": [
    "# Decode predictions (LightGBM)\n",
    "pred_lgb = labelencoder.inverse_transform(final_test_preds_lgb)\n",
    "\n"
   ]
  },
  {
   "cell_type": "code",
   "execution_count": 16,
   "id": "4c06d668",
   "metadata": {
    "execution": {
     "iopub.execute_input": "2024-02-25T13:22:12.120413Z",
     "iopub.status.busy": "2024-02-25T13:22:12.119950Z",
     "iopub.status.idle": "2024-02-25T13:22:12.146826Z",
     "shell.execute_reply": "2024-02-25T13:22:12.145486Z"
    },
    "papermill": {
     "duration": 0.039589,
     "end_time": "2024-02-25T13:22:12.149717",
     "exception": false,
     "start_time": "2024-02-25T13:22:12.110128",
     "status": "completed"
    },
    "tags": []
   },
   "outputs": [],
   "source": [
    "# Create submission file (LightGBM)\n",
    "submission_lgb = pd.DataFrame({'id': test_data.id, 'NObeyesdad': pred_lgb})\n",
    "submission_lgb.to_csv('submission_lgb.csv', index=False)\n",
    "\n"
   ]
  },
  {
   "cell_type": "code",
   "execution_count": 17,
   "id": "2eef2e60",
   "metadata": {
    "execution": {
     "iopub.execute_input": "2024-02-25T13:22:12.169258Z",
     "iopub.status.busy": "2024-02-25T13:22:12.168760Z",
     "iopub.status.idle": "2024-02-25T13:22:12.175130Z",
     "shell.execute_reply": "2024-02-25T13:22:12.173961Z"
    },
    "papermill": {
     "duration": 0.019024,
     "end_time": "2024-02-25T13:22:12.177818",
     "exception": false,
     "start_time": "2024-02-25T13:22:12.158794",
     "status": "completed"
    },
    "tags": []
   },
   "outputs": [],
   "source": [
    "# Decode predictions (XGBoost)\n",
    "pred_xgb = labelencoder.inverse_transform(final_test_preds_xgb)\n",
    "\n"
   ]
  },
  {
   "cell_type": "code",
   "execution_count": 18,
   "id": "873f6054",
   "metadata": {
    "execution": {
     "iopub.execute_input": "2024-02-25T13:22:12.196310Z",
     "iopub.status.busy": "2024-02-25T13:22:12.195804Z",
     "iopub.status.idle": "2024-02-25T13:22:12.220346Z",
     "shell.execute_reply": "2024-02-25T13:22:12.218920Z"
    },
    "papermill": {
     "duration": 0.037108,
     "end_time": "2024-02-25T13:22:12.223230",
     "exception": false,
     "start_time": "2024-02-25T13:22:12.186122",
     "status": "completed"
    },
    "tags": []
   },
   "outputs": [],
   "source": [
    "# Create submission file (XGBoost)\n",
    "submission_xgb = pd.DataFrame({'id': test_data.id, 'NObeyesdad': pred_xgb})\n",
    "submission_xgb.to_csv('submission_xgb.csv', index=False)"
   ]
  },
  {
   "cell_type": "code",
   "execution_count": 19,
   "id": "e22d68a9",
   "metadata": {
    "execution": {
     "iopub.execute_input": "2024-02-25T13:22:12.242724Z",
     "iopub.status.busy": "2024-02-25T13:22:12.242272Z",
     "iopub.status.idle": "2024-02-25T13:22:12.248753Z",
     "shell.execute_reply": "2024-02-25T13:22:12.247549Z"
    },
    "papermill": {
     "duration": 0.018608,
     "end_time": "2024-02-25T13:22:12.251013",
     "exception": false,
     "start_time": "2024-02-25T13:22:12.232405",
     "status": "completed"
    },
    "tags": []
   },
   "outputs": [
    {
     "name": "stdout",
     "output_type": "stream",
     "text": [
      "Mean Validation Accuracy (CatBoost): 0.9051203501094092\n"
     ]
    }
   ],
   "source": [
    "# Average validation accuracy (CatBoost)\n",
    "mean_val_accuracy_catboost = np.mean(val_accuracies_catboost)\n",
    "print(\"Mean Validation Accuracy (CatBoost):\", mean_val_accuracy_catboost)\n",
    "\n"
   ]
  },
  {
   "cell_type": "code",
   "execution_count": 20,
   "id": "a06bee72",
   "metadata": {
    "execution": {
     "iopub.execute_input": "2024-02-25T13:22:12.269298Z",
     "iopub.status.busy": "2024-02-25T13:22:12.268854Z",
     "iopub.status.idle": "2024-02-25T13:22:12.276526Z",
     "shell.execute_reply": "2024-02-25T13:22:12.275427Z"
    },
    "papermill": {
     "duration": 0.01977,
     "end_time": "2024-02-25T13:22:12.279054",
     "exception": false,
     "start_time": "2024-02-25T13:22:12.259284",
     "status": "completed"
    },
    "tags": []
   },
   "outputs": [],
   "source": [
    "# Average predictions on test set (CatBoost)\n",
    "mean_test_preds_catboost = np.mean(test_preds_catboost, axis=0)\n",
    "final_test_preds_catboost = np.argmax(mean_test_preds_catboost, axis=1)\n",
    "\n"
   ]
  },
  {
   "cell_type": "code",
   "execution_count": 21,
   "id": "6bc547ed",
   "metadata": {
    "execution": {
     "iopub.execute_input": "2024-02-25T13:22:12.297987Z",
     "iopub.status.busy": "2024-02-25T13:22:12.297557Z",
     "iopub.status.idle": "2024-02-25T13:22:12.304573Z",
     "shell.execute_reply": "2024-02-25T13:22:12.303140Z"
    },
    "papermill": {
     "duration": 0.019378,
     "end_time": "2024-02-25T13:22:12.307163",
     "exception": false,
     "start_time": "2024-02-25T13:22:12.287785",
     "status": "completed"
    },
    "tags": []
   },
   "outputs": [],
   "source": [
    "# Decode predictions (CatBoost)\n",
    "pred_catboost = labelencoder.inverse_transform(final_test_preds_catboost)\n",
    "\n"
   ]
  },
  {
   "cell_type": "code",
   "execution_count": 22,
   "id": "5c3272de",
   "metadata": {
    "execution": {
     "iopub.execute_input": "2024-02-25T13:22:12.327709Z",
     "iopub.status.busy": "2024-02-25T13:22:12.325051Z",
     "iopub.status.idle": "2024-02-25T13:22:12.355140Z",
     "shell.execute_reply": "2024-02-25T13:22:12.353950Z"
    },
    "papermill": {
     "duration": 0.043057,
     "end_time": "2024-02-25T13:22:12.358537",
     "exception": false,
     "start_time": "2024-02-25T13:22:12.315480",
     "status": "completed"
    },
    "tags": []
   },
   "outputs": [],
   "source": [
    "# Create submission file (CatBoost)\n",
    "submission_catboost = pd.DataFrame({'id': test_data.id, 'NObeyesdad': pred_catboost})\n",
    "submission_catboost.to_csv('submission_catboost.csv', index=False)"
   ]
  },
  {
   "cell_type": "code",
   "execution_count": null,
   "id": "4e684880",
   "metadata": {
    "papermill": {
     "duration": 0.009047,
     "end_time": "2024-02-25T13:22:12.375914",
     "exception": false,
     "start_time": "2024-02-25T13:22:12.366867",
     "status": "completed"
    },
    "tags": []
   },
   "outputs": [],
   "source": []
  }
 ],
 "metadata": {
  "kaggle": {
   "accelerator": "none",
   "dataSources": [
    {
     "databundleVersionId": 7609535,
     "sourceId": 68479,
     "sourceType": "competition"
    },
    {
     "datasetId": 4030196,
     "sourceId": 7009925,
     "sourceType": "datasetVersion"
    }
   ],
   "dockerImageVersionId": 30646,
   "isGpuEnabled": false,
   "isInternetEnabled": true,
   "language": "python",
   "sourceType": "notebook"
  },
  "kernelspec": {
   "display_name": "Python 3",
   "language": "python",
   "name": "python3"
  },
  "language_info": {
   "codemirror_mode": {
    "name": "ipython",
    "version": 3
   },
   "file_extension": ".py",
   "mimetype": "text/x-python",
   "name": "python",
   "nbconvert_exporter": "python",
   "pygments_lexer": "ipython3",
   "version": "3.10.13"
  },
  "papermill": {
   "default_parameters": {},
   "duration": 368.650332,
   "end_time": "2024-02-25T13:22:13.308932",
   "environment_variables": {},
   "exception": null,
   "input_path": "__notebook__.ipynb",
   "output_path": "__notebook__.ipynb",
   "parameters": {},
   "start_time": "2024-02-25T13:16:04.658600",
   "version": "2.5.0"
  }
 },
 "nbformat": 4,
 "nbformat_minor": 5
}
