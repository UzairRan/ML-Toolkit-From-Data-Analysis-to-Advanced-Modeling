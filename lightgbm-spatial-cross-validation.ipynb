{
 "cells": [
  {
   "cell_type": "code",
   "execution_count": 1,
   "id": "f602551a",
   "metadata": {
    "_cell_guid": "b1076dfc-b9ad-4769-8c92-a6c4dae69d19",
    "_uuid": "8f2839f25d086af736a60e9eeb907d3b93b6e0e5",
    "execution": {
     "iopub.execute_input": "2024-02-29T21:21:27.746406Z",
     "iopub.status.busy": "2024-02-29T21:21:27.745867Z",
     "iopub.status.idle": "2024-02-29T21:21:31.707939Z",
     "shell.execute_reply": "2024-02-29T21:21:31.706230Z"
    },
    "papermill": {
     "duration": 3.973772,
     "end_time": "2024-02-29T21:21:31.711396",
     "exception": false,
     "start_time": "2024-02-29T21:21:27.737624",
     "status": "completed"
    },
    "tags": []
   },
   "outputs": [],
   "source": [
    "import pandas as pd\n",
    "import numpy as np\n",
    "from sklearn.preprocessing import LabelEncoder, StandardScaler\n",
    "from sklearn.model_selection import StratifiedKFold\n",
    "from sklearn.metrics import accuracy_score\n",
    "import lightgbm as lgb\n"
   ]
  },
  {
   "cell_type": "code",
   "execution_count": 2,
   "id": "4f30e5cd",
   "metadata": {
    "execution": {
     "iopub.execute_input": "2024-02-29T21:21:31.725933Z",
     "iopub.status.busy": "2024-02-29T21:21:31.725136Z",
     "iopub.status.idle": "2024-02-29T21:21:31.975569Z",
     "shell.execute_reply": "2024-02-29T21:21:31.974202Z"
    },
    "papermill": {
     "duration": 0.261215,
     "end_time": "2024-02-29T21:21:31.978699",
     "exception": false,
     "start_time": "2024-02-29T21:21:31.717484",
     "status": "completed"
    },
    "tags": []
   },
   "outputs": [],
   "source": [
    "# Load Data\n",
    "train_data = pd.read_csv(\"/kaggle/input/playground-series-s4e2/train.csv\")\n",
    "test_data = pd.read_csv(\"/kaggle/input/playground-series-s4e2/test.csv\")\n",
    "original_data = pd.read_csv(\"/kaggle/input/obesity-or-cvd-risk-classifyregressorcluster/ObesityDataSet.csv\")\n",
    "\n"
   ]
  },
  {
   "cell_type": "code",
   "execution_count": 3,
   "id": "50ffae3f",
   "metadata": {
    "execution": {
     "iopub.execute_input": "2024-02-29T21:21:31.991840Z",
     "iopub.status.busy": "2024-02-29T21:21:31.991358Z",
     "iopub.status.idle": "2024-02-29T21:21:32.059846Z",
     "shell.execute_reply": "2024-02-29T21:21:32.058192Z"
    },
    "papermill": {
     "duration": 0.078375,
     "end_time": "2024-02-29T21:21:32.062757",
     "exception": false,
     "start_time": "2024-02-29T21:21:31.984382",
     "status": "completed"
    },
    "tags": []
   },
   "outputs": [],
   "source": [
    "# Merge Data\n",
    "train_data = train_data.drop(\"id\", axis=1)\n",
    "train_data = pd.concat([train_data, original_data], ignore_index=True).drop_duplicates()\n",
    "\n"
   ]
  },
  {
   "cell_type": "code",
   "execution_count": 4,
   "id": "592f0b06",
   "metadata": {
    "execution": {
     "iopub.execute_input": "2024-02-29T21:21:32.075718Z",
     "iopub.status.busy": "2024-02-29T21:21:32.075231Z",
     "iopub.status.idle": "2024-02-29T21:21:32.101852Z",
     "shell.execute_reply": "2024-02-29T21:21:32.100490Z"
    },
    "papermill": {
     "duration": 0.036885,
     "end_time": "2024-02-29T21:21:32.104885",
     "exception": false,
     "start_time": "2024-02-29T21:21:32.068000",
     "status": "completed"
    },
    "tags": []
   },
   "outputs": [],
   "source": [
    "# Feature Scaling\n",
    "scaler = StandardScaler()\n",
    "num_cols = list(train_data.select_dtypes(exclude=['object']).columns)\n",
    "train_data[num_cols] = scaler.fit_transform(train_data[num_cols])\n",
    "test_data[num_cols] = scaler.transform(test_data[num_cols])\n",
    "\n"
   ]
  },
  {
   "cell_type": "code",
   "execution_count": 5,
   "id": "29b3ec93",
   "metadata": {
    "execution": {
     "iopub.execute_input": "2024-02-29T21:21:32.117775Z",
     "iopub.status.busy": "2024-02-29T21:21:32.117253Z",
     "iopub.status.idle": "2024-02-29T21:21:32.218990Z",
     "shell.execute_reply": "2024-02-29T21:21:32.217879Z"
    },
    "papermill": {
     "duration": 0.111381,
     "end_time": "2024-02-29T21:21:32.221711",
     "exception": false,
     "start_time": "2024-02-29T21:21:32.110330",
     "status": "completed"
    },
    "tags": []
   },
   "outputs": [],
   "source": [
    "# Encoding Categorical Variables\n",
    "labelencoder = LabelEncoder()\n",
    "object_columns = train_data.select_dtypes(include='object').columns.difference(['NObeyesdad'])\n",
    "\n",
    "for col_name in object_columns:\n",
    "    if train_data[col_name].dtypes == 'object':\n",
    "        train_data[col_name] = labelencoder.fit_transform(train_data[col_name])\n",
    "        test_data[col_name] = labelencoder.transform(test_data[col_name])\n",
    "\n"
   ]
  },
  {
   "cell_type": "code",
   "execution_count": 6,
   "id": "3bbe43b3",
   "metadata": {
    "execution": {
     "iopub.execute_input": "2024-02-29T21:21:32.235340Z",
     "iopub.status.busy": "2024-02-29T21:21:32.234220Z",
     "iopub.status.idle": "2024-02-29T21:21:32.254236Z",
     "shell.execute_reply": "2024-02-29T21:21:32.253087Z"
    },
    "papermill": {
     "duration": 0.029945,
     "end_time": "2024-02-29T21:21:32.256959",
     "exception": false,
     "start_time": "2024-02-29T21:21:32.227014",
     "status": "completed"
    },
    "tags": []
   },
   "outputs": [],
   "source": [
    "# Define Features and Target\n",
    "X = train_data.drop(['NObeyesdad'], axis=1)\n",
    "y = labelencoder.fit_transform(train_data['NObeyesdad'])\n",
    "X_test = test_data.drop([\"id\"], axis=1)\n",
    "\n"
   ]
  },
  {
   "cell_type": "code",
   "execution_count": 7,
   "id": "e896beea",
   "metadata": {
    "execution": {
     "iopub.execute_input": "2024-02-29T21:21:32.270481Z",
     "iopub.status.busy": "2024-02-29T21:21:32.269645Z",
     "iopub.status.idle": "2024-02-29T21:21:32.277174Z",
     "shell.execute_reply": "2024-02-29T21:21:32.275701Z"
    },
    "papermill": {
     "duration": 0.017847,
     "end_time": "2024-02-29T21:21:32.280279",
     "exception": false,
     "start_time": "2024-02-29T21:21:32.262432",
     "status": "completed"
    },
    "tags": []
   },
   "outputs": [],
   "source": [
    "# Define LightGBM model parameters\n",
    "lgb_param = {\n",
    "    \"objective\": \"multiclass\",\n",
    "    \"metric\": \"multi_logloss\",\n",
    "    \"verbosity\": -1,\n",
    "    \"boosting_type\": \"gbdt\",\n",
    "    \"random_state\": 42,\n",
    "    \"num_class\": 7,\n",
    "    'learning_rate': 0.030962211546832760,\n",
    "    'n_estimators': 500,\n",
    "    'lambda_l1': 0.009667446568254372,\n",
    "    'lambda_l2': 0.04018641437301800,\n",
    "    'max_depth': 10,\n",
    "    'colsample_bytree': 0.40977129346872643,\n",
    "    'subsample': 0.9535797422450176,\n",
    "    'min_child_samples': 26\n",
    "}\n",
    "\n"
   ]
  },
  {
   "cell_type": "code",
   "execution_count": 8,
   "id": "7d8f0169",
   "metadata": {
    "execution": {
     "iopub.execute_input": "2024-02-29T21:21:32.293126Z",
     "iopub.status.busy": "2024-02-29T21:21:32.292561Z",
     "iopub.status.idle": "2024-02-29T21:28:10.616808Z",
     "shell.execute_reply": "2024-02-29T21:28:10.615193Z"
    },
    "papermill": {
     "duration": 398.334346,
     "end_time": "2024-02-29T21:28:10.619946",
     "exception": false,
     "start_time": "2024-02-29T21:21:32.285600",
     "status": "completed"
    },
    "tags": []
   },
   "outputs": [],
   "source": [
    "# Define Spatial Cross-Validation\n",
    "num_splits = 19\n",
    "skf = StratifiedKFold(n_splits=num_splits, shuffle=True, random_state=42)\n",
    "\n",
    "# Initialize lists to store validation accuracies and predictions\n",
    "val_accuracies_lgb = []\n",
    "test_preds_lgb = []\n",
    "\n",
    "# Perform Spatial Cross-Validation\n",
    "for train_index, val_index in skf.split(X, y):\n",
    "    X_train, X_val = X.iloc[train_index], X.iloc[val_index]\n",
    "    y_train, y_val = y[train_index], y[val_index]\n",
    "    \n",
    "    # Train LightGBM model\n",
    "    model_lgb = lgb.LGBMClassifier(**lgb_param, verbose=150)\n",
    "    model_lgb.fit(X_train, y_train)\n",
    "    \n",
    "    # Make predictions on validation set using LightGBM\n",
    "    pred_proba_lgb = model_lgb.predict_proba(X_val)\n",
    "    y_pred_lgb = np.argmax(pred_proba_lgb, axis=1)\n",
    "    val_accuracy_lgb = accuracy_score(y_val, y_pred_lgb)\n",
    "    val_accuracies_lgb.append(val_accuracy_lgb)\n",
    "    \n",
    "    # Make predictions on test set using LightGBM\n",
    "    test_preds_lgb.append(model_lgb.predict_proba(X_test))"
   ]
  },
  {
   "cell_type": "code",
   "execution_count": 9,
   "id": "f1298aee",
   "metadata": {
    "execution": {
     "iopub.execute_input": "2024-02-29T21:28:10.633307Z",
     "iopub.status.busy": "2024-02-29T21:28:10.632784Z",
     "iopub.status.idle": "2024-02-29T21:28:10.641107Z",
     "shell.execute_reply": "2024-02-29T21:28:10.639363Z"
    },
    "papermill": {
     "duration": 0.018002,
     "end_time": "2024-02-29T21:28:10.643671",
     "exception": false,
     "start_time": "2024-02-29T21:28:10.625669",
     "status": "completed"
    },
    "tags": []
   },
   "outputs": [
    {
     "name": "stdout",
     "output_type": "stream",
     "text": [
      "Mean Validation Accuracy (LightGBM): 0.9155614262938562\n"
     ]
    }
   ],
   "source": [
    "# Average validation accuracies\n",
    "mean_val_accuracy_lgb = np.mean(val_accuracies_lgb)\n",
    "print(\"Mean Validation Accuracy (LightGBM):\", mean_val_accuracy_lgb)\n",
    "\n"
   ]
  },
  {
   "cell_type": "code",
   "execution_count": 10,
   "id": "8b93fad8",
   "metadata": {
    "execution": {
     "iopub.execute_input": "2024-02-29T21:28:10.657233Z",
     "iopub.status.busy": "2024-02-29T21:28:10.656329Z",
     "iopub.status.idle": "2024-02-29T21:28:10.675752Z",
     "shell.execute_reply": "2024-02-29T21:28:10.674562Z"
    },
    "papermill": {
     "duration": 0.029415,
     "end_time": "2024-02-29T21:28:10.678651",
     "exception": false,
     "start_time": "2024-02-29T21:28:10.649236",
     "status": "completed"
    },
    "tags": []
   },
   "outputs": [],
   "source": [
    "# Average predictions on test set\n",
    "mean_test_preds_lgb = np.mean(test_preds_lgb, axis=0)\n",
    "final_test_preds_lgb = np.argmax(mean_test_preds_lgb, axis=1)\n",
    "\n"
   ]
  },
  {
   "cell_type": "code",
   "execution_count": 11,
   "id": "24e94054",
   "metadata": {
    "execution": {
     "iopub.execute_input": "2024-02-29T21:28:10.691492Z",
     "iopub.status.busy": "2024-02-29T21:28:10.691006Z",
     "iopub.status.idle": "2024-02-29T21:28:10.697548Z",
     "shell.execute_reply": "2024-02-29T21:28:10.696554Z"
    },
    "papermill": {
     "duration": 0.015741,
     "end_time": "2024-02-29T21:28:10.699782",
     "exception": false,
     "start_time": "2024-02-29T21:28:10.684041",
     "status": "completed"
    },
    "tags": []
   },
   "outputs": [],
   "source": [
    "# Decode predictions\n",
    "pred_lgb = labelencoder.inverse_transform(final_test_preds_lgb)\n",
    "\n"
   ]
  },
  {
   "cell_type": "code",
   "execution_count": 12,
   "id": "988c1e78",
   "metadata": {
    "execution": {
     "iopub.execute_input": "2024-02-29T21:28:10.714995Z",
     "iopub.status.busy": "2024-02-29T21:28:10.713655Z",
     "iopub.status.idle": "2024-02-29T21:28:10.753886Z",
     "shell.execute_reply": "2024-02-29T21:28:10.752616Z"
    },
    "papermill": {
     "duration": 0.051529,
     "end_time": "2024-02-29T21:28:10.756694",
     "exception": false,
     "start_time": "2024-02-29T21:28:10.705165",
     "status": "completed"
    },
    "tags": []
   },
   "outputs": [],
   "source": [
    "# Create submission file for LightGBM\n",
    "submission_lgb = pd.DataFrame({'id': test_data.id, 'NObeyesdad': pred_lgb})\n",
    "submission_lgb.to_csv('submission_lgb.csv', index=False)"
   ]
  },
  {
   "cell_type": "code",
   "execution_count": null,
   "id": "858bc671",
   "metadata": {
    "papermill": {
     "duration": 0.004923,
     "end_time": "2024-02-29T21:28:10.767048",
     "exception": false,
     "start_time": "2024-02-29T21:28:10.762125",
     "status": "completed"
    },
    "tags": []
   },
   "outputs": [],
   "source": []
  }
 ],
 "metadata": {
  "kaggle": {
   "accelerator": "none",
   "dataSources": [
    {
     "databundleVersionId": 7609535,
     "sourceId": 68479,
     "sourceType": "competition"
    },
    {
     "datasetId": 4030196,
     "sourceId": 7009925,
     "sourceType": "datasetVersion"
    }
   ],
   "dockerImageVersionId": 30664,
   "isGpuEnabled": false,
   "isInternetEnabled": true,
   "language": "python",
   "sourceType": "notebook"
  },
  "kernelspec": {
   "display_name": "Python 3",
   "language": "python",
   "name": "python3"
  },
  "language_info": {
   "codemirror_mode": {
    "name": "ipython",
    "version": 3
   },
   "file_extension": ".py",
   "mimetype": "text/x-python",
   "name": "python",
   "nbconvert_exporter": "python",
   "pygments_lexer": "ipython3",
   "version": "3.10.13"
  },
  "papermill": {
   "default_parameters": {},
   "duration": 407.507282,
   "end_time": "2024-02-29T21:28:11.798952",
   "environment_variables": {},
   "exception": null,
   "input_path": "__notebook__.ipynb",
   "output_path": "__notebook__.ipynb",
   "parameters": {},
   "start_time": "2024-02-29T21:21:24.291670",
   "version": "2.5.0"
  }
 },
 "nbformat": 4,
 "nbformat_minor": 5
}
