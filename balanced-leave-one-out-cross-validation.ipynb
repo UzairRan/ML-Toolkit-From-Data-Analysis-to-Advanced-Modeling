{
 "cells": [
  {
   "cell_type": "code",
   "execution_count": 1,
   "id": "44c4576d",
   "metadata": {
    "_cell_guid": "b1076dfc-b9ad-4769-8c92-a6c4dae69d19",
    "_uuid": "8f2839f25d086af736a60e9eeb907d3b93b6e0e5",
    "execution": {
     "iopub.execute_input": "2024-02-28T13:59:36.035197Z",
     "iopub.status.busy": "2024-02-28T13:59:36.034770Z",
     "iopub.status.idle": "2024-02-28T13:59:40.020922Z",
     "shell.execute_reply": "2024-02-28T13:59:40.019025Z"
    },
    "papermill": {
     "duration": 3.998792,
     "end_time": "2024-02-28T13:59:40.025001",
     "exception": false,
     "start_time": "2024-02-28T13:59:36.026209",
     "status": "completed"
    },
    "tags": []
   },
   "outputs": [],
   "source": [
    "import pandas as pd\n",
    "import numpy as np\n",
    "from sklearn.preprocessing import LabelEncoder, StandardScaler\n",
    "from sklearn.metrics import accuracy_score\n",
    "import lightgbm as lgb\n",
    "import xgboost as xgb\n",
    "from sklearn.model_selection import StratifiedKFold\n",
    "from sklearn.utils import shuffle\n"
   ]
  },
  {
   "cell_type": "code",
   "execution_count": 2,
   "id": "f74072d3",
   "metadata": {
    "execution": {
     "iopub.execute_input": "2024-02-28T13:59:40.041740Z",
     "iopub.status.busy": "2024-02-28T13:59:40.040896Z",
     "iopub.status.idle": "2024-02-28T13:59:40.292693Z",
     "shell.execute_reply": "2024-02-28T13:59:40.290992Z"
    },
    "papermill": {
     "duration": 0.264139,
     "end_time": "2024-02-28T13:59:40.297075",
     "exception": false,
     "start_time": "2024-02-28T13:59:40.032936",
     "status": "completed"
    },
    "tags": []
   },
   "outputs": [],
   "source": [
    "# Load Data\n",
    "train_data = pd.read_csv(\"/kaggle/input/playground-series-s4e2/train.csv\")\n",
    "test_data = pd.read_csv(\"/kaggle/input/playground-series-s4e2/test.csv\")\n",
    "original_data = pd.read_csv(\"/kaggle/input/obesity-or-cvd-risk-classifyregressorcluster/ObesityDataSet.csv\")\n",
    "sample_submission_data = pd.read_csv(\"/kaggle/input/playground-series-s4e2/sample_submission.csv\")\n"
   ]
  },
  {
   "cell_type": "code",
   "execution_count": 3,
   "id": "65482160",
   "metadata": {
    "execution": {
     "iopub.execute_input": "2024-02-28T13:59:40.313679Z",
     "iopub.status.busy": "2024-02-28T13:59:40.312389Z",
     "iopub.status.idle": "2024-02-28T13:59:40.382499Z",
     "shell.execute_reply": "2024-02-28T13:59:40.380535Z"
    },
    "papermill": {
     "duration": 0.082486,
     "end_time": "2024-02-28T13:59:40.385569",
     "exception": false,
     "start_time": "2024-02-28T13:59:40.303083",
     "status": "completed"
    },
    "tags": []
   },
   "outputs": [],
   "source": [
    "# Merge Data\n",
    "train_data = train_data.drop(\"id\", axis=1)\n",
    "train_data = pd.concat([train_data, original_data], ignore_index=True).drop_duplicates()\n",
    "\n"
   ]
  },
  {
   "cell_type": "code",
   "execution_count": 4,
   "id": "c39a9e77",
   "metadata": {
    "execution": {
     "iopub.execute_input": "2024-02-28T13:59:40.401492Z",
     "iopub.status.busy": "2024-02-28T13:59:40.401028Z",
     "iopub.status.idle": "2024-02-28T13:59:40.432946Z",
     "shell.execute_reply": "2024-02-28T13:59:40.431391Z"
    },
    "papermill": {
     "duration": 0.043653,
     "end_time": "2024-02-28T13:59:40.436354",
     "exception": false,
     "start_time": "2024-02-28T13:59:40.392701",
     "status": "completed"
    },
    "tags": []
   },
   "outputs": [],
   "source": [
    "# Shuffle Data\n",
    "train_data = shuffle(train_data, random_state=42).reset_index(drop=True)\n"
   ]
  },
  {
   "cell_type": "code",
   "execution_count": 5,
   "id": "a4188d60",
   "metadata": {
    "execution": {
     "iopub.execute_input": "2024-02-28T13:59:40.452937Z",
     "iopub.status.busy": "2024-02-28T13:59:40.451991Z",
     "iopub.status.idle": "2024-02-28T13:59:40.476916Z",
     "shell.execute_reply": "2024-02-28T13:59:40.475321Z"
    },
    "papermill": {
     "duration": 0.037022,
     "end_time": "2024-02-28T13:59:40.480389",
     "exception": false,
     "start_time": "2024-02-28T13:59:40.443367",
     "status": "completed"
    },
    "tags": []
   },
   "outputs": [],
   "source": [
    "# Feature Scaling\n",
    "scaler = StandardScaler()\n",
    "num_cols = list(train_data.select_dtypes(exclude=['object']).columns)\n",
    "train_data[num_cols] = scaler.fit_transform(train_data[num_cols])\n",
    "test_data[num_cols] = scaler.transform(test_data[num_cols])\n",
    "\n"
   ]
  },
  {
   "cell_type": "code",
   "execution_count": 6,
   "id": "5d668cf2",
   "metadata": {
    "execution": {
     "iopub.execute_input": "2024-02-28T13:59:40.496482Z",
     "iopub.status.busy": "2024-02-28T13:59:40.495907Z",
     "iopub.status.idle": "2024-02-28T13:59:40.601491Z",
     "shell.execute_reply": "2024-02-28T13:59:40.599528Z"
    },
    "papermill": {
     "duration": 0.117708,
     "end_time": "2024-02-28T13:59:40.604715",
     "exception": false,
     "start_time": "2024-02-28T13:59:40.487007",
     "status": "completed"
    },
    "tags": []
   },
   "outputs": [],
   "source": [
    "# Encoding Categorical Variables\n",
    "labelencoder = LabelEncoder()\n",
    "object_columns = train_data.select_dtypes(include='object').columns.difference(['NObeyesdad'])\n",
    "\n",
    "for col_name in object_columns:\n",
    "    if train_data[col_name].dtypes == 'object':\n",
    "        train_data[col_name] = labelencoder.fit_transform(train_data[col_name])\n",
    "        test_data[col_name] = labelencoder.transform(test_data[col_name])\n"
   ]
  },
  {
   "cell_type": "code",
   "execution_count": 7,
   "id": "b730fefa",
   "metadata": {
    "execution": {
     "iopub.execute_input": "2024-02-28T13:59:40.618768Z",
     "iopub.status.busy": "2024-02-28T13:59:40.617977Z",
     "iopub.status.idle": "2024-02-28T13:59:40.637557Z",
     "shell.execute_reply": "2024-02-28T13:59:40.636011Z"
    },
    "papermill": {
     "duration": 0.03062,
     "end_time": "2024-02-28T13:59:40.641342",
     "exception": false,
     "start_time": "2024-02-28T13:59:40.610722",
     "status": "completed"
    },
    "tags": []
   },
   "outputs": [],
   "source": [
    "# Define Features and Target\n",
    "X = train_data.drop(['NObeyesdad'], axis=1)\n",
    "y = labelencoder.fit_transform(train_data['NObeyesdad'])\n",
    "X_test = test_data.drop([\"id\"], axis=1)\n"
   ]
  },
  {
   "cell_type": "code",
   "execution_count": 8,
   "id": "e569fa5b",
   "metadata": {
    "execution": {
     "iopub.execute_input": "2024-02-28T13:59:40.655973Z",
     "iopub.status.busy": "2024-02-28T13:59:40.655553Z",
     "iopub.status.idle": "2024-02-28T13:59:40.663921Z",
     "shell.execute_reply": "2024-02-28T13:59:40.662516Z"
    },
    "papermill": {
     "duration": 0.019965,
     "end_time": "2024-02-28T13:59:40.667375",
     "exception": false,
     "start_time": "2024-02-28T13:59:40.647410",
     "status": "completed"
    },
    "tags": []
   },
   "outputs": [],
   "source": [
    "# Define LightGBM model parameters\n",
    "lgb_param = {\n",
    "    \"objective\": \"multiclass\",\n",
    "    \"metric\": \"multi_logloss\",\n",
    "    \"verbosity\": -1,\n",
    "    \"boosting_type\": \"gbdt\",\n",
    "    \"random_state\": 42,\n",
    "    \"num_class\": 7,\n",
    "    'learning_rate': 0.030962211546832760,\n",
    "    'n_estimators': 500,\n",
    "    'lambda_l1': 0.009667446568254372,\n",
    "    'lambda_l2': 0.04018641437301800,\n",
    "    'max_depth': 10,\n",
    "    'colsample_bytree': 0.40977129346872643,\n",
    "    'subsample': 0.9535797422450176,\n",
    "    'min_child_samples': 26\n",
    "}\n"
   ]
  },
  {
   "cell_type": "code",
   "execution_count": 9,
   "id": "d5027c5e",
   "metadata": {
    "execution": {
     "iopub.execute_input": "2024-02-28T13:59:40.681299Z",
     "iopub.status.busy": "2024-02-28T13:59:40.680855Z",
     "iopub.status.idle": "2024-02-28T13:59:40.688096Z",
     "shell.execute_reply": "2024-02-28T13:59:40.686088Z"
    },
    "papermill": {
     "duration": 0.017258,
     "end_time": "2024-02-28T13:59:40.690755",
     "exception": false,
     "start_time": "2024-02-28T13:59:40.673497",
     "status": "completed"
    },
    "tags": []
   },
   "outputs": [],
   "source": [
    "# Define XGBoost model parameters\n",
    "xgb_param = {\n",
    "    'objective': 'multi:softmax',\n",
    "    'num_class': 7,\n",
    "    'learning_rate': 0.1,\n",
    "    'max_depth': 6,\n",
    "    'subsample': 0.8,\n",
    "    'colsample_bytree': 0.8,\n",
    "    'gamma': 0,\n",
    "    'seed': 42\n",
    "}\n"
   ]
  },
  {
   "cell_type": "code",
   "execution_count": 10,
   "id": "2bc85304",
   "metadata": {
    "execution": {
     "iopub.execute_input": "2024-02-28T13:59:40.705991Z",
     "iopub.status.busy": "2024-02-28T13:59:40.705597Z",
     "iopub.status.idle": "2024-02-28T14:02:47.401591Z",
     "shell.execute_reply": "2024-02-28T14:02:47.399805Z"
    },
    "papermill": {
     "duration": 186.708228,
     "end_time": "2024-02-28T14:02:47.405688",
     "exception": false,
     "start_time": "2024-02-28T13:59:40.697460",
     "status": "completed"
    },
    "tags": []
   },
   "outputs": [],
   "source": [
    "# Define Balanced Leave-One-Out Cross-Validation\n",
    "num_splits = len(np.unique(y))\n",
    "skf = StratifiedKFold(n_splits=num_splits, shuffle=True, random_state=42)\n",
    "\n",
    "# Initialize lists to store validation accuracies and predictions\n",
    "val_accuracies_lgb = []\n",
    "val_accuracies_xgb = []\n",
    "test_preds_lgb = []\n",
    "test_preds_xgb = []\n",
    "\n",
    "# Perform Balanced Leave-One-Out Cross-Validation\n",
    "for train_index, val_index in skf.split(X, y):\n",
    "    X_train, X_val = X.iloc[train_index], X.iloc[val_index]\n",
    "    y_train, y_val = y[train_index], y[val_index]\n",
    "    \n",
    "    # Train LightGBM model\n",
    "    model_lgb = lgb.LGBMClassifier(**lgb_param, verbose=100)\n",
    "    model_lgb.fit(X_train, y_train)\n",
    "    \n",
    "    # Make predictions on validation set using LightGBM\n",
    "    pred_proba_lgb = model_lgb.predict_proba(X_val)\n",
    "    y_pred_lgb = np.argmax(pred_proba_lgb, axis=1)\n",
    "    val_accuracy_lgb = accuracy_score(y_val, y_pred_lgb)\n",
    "    val_accuracies_lgb.append(val_accuracy_lgb)\n",
    "    \n",
    "    # Train XGBoost model\n",
    "    dtrain = xgb.DMatrix(X_train, label=y_train)\n",
    "    dval = xgb.DMatrix(X_val)\n",
    "    num_round = 100\n",
    "    model_xgb = xgb.train(xgb_param, dtrain, num_round)\n",
    "    \n",
    "    # Make predictions on validation set using XGBoost\n",
    "    pred_proba_xgb = model_xgb.predict(dval)\n",
    "    y_pred_xgb = np.array(pred_proba_xgb, dtype=int)\n",
    "    val_accuracy_xgb = accuracy_score(y_val, y_pred_xgb)\n",
    "    val_accuracies_xgb.append(val_accuracy_xgb)\n",
    "    \n",
    "    # Make predictions on test set using both models\n",
    "    dtest = xgb.DMatrix(X_test)\n",
    "    test_preds_lgb.append(model_lgb.predict_proba(X_test))\n",
    "    test_preds_xgb.append(model_xgb.predict(dtest))\n"
   ]
  },
  {
   "cell_type": "code",
   "execution_count": 11,
   "id": "ccef8959",
   "metadata": {
    "execution": {
     "iopub.execute_input": "2024-02-28T14:02:47.422063Z",
     "iopub.status.busy": "2024-02-28T14:02:47.421331Z",
     "iopub.status.idle": "2024-02-28T14:02:47.428774Z",
     "shell.execute_reply": "2024-02-28T14:02:47.427673Z"
    },
    "papermill": {
     "duration": 0.01965,
     "end_time": "2024-02-28T14:02:47.432920",
     "exception": false,
     "start_time": "2024-02-28T14:02:47.413270",
     "status": "completed"
    },
    "tags": []
   },
   "outputs": [
    {
     "name": "stdout",
     "output_type": "stream",
     "text": [
      "Mean Validation Accuracy (LightGBM): 0.914948332612236\n",
      "Mean Validation Accuracy (XGBoost): 0.9144230822883858\n"
     ]
    }
   ],
   "source": [
    "# Average validation accuracies\n",
    "mean_val_accuracy_lgb = np.mean(val_accuracies_lgb)\n",
    "mean_val_accuracy_xgb = np.mean(val_accuracies_xgb)\n",
    "print(\"Mean Validation Accuracy (LightGBM):\", mean_val_accuracy_lgb)\n",
    "print(\"Mean Validation Accuracy (XGBoost):\", mean_val_accuracy_xgb)\n",
    "\n"
   ]
  },
  {
   "cell_type": "code",
   "execution_count": 12,
   "id": "dd6fd471",
   "metadata": {
    "execution": {
     "iopub.execute_input": "2024-02-28T14:02:47.449581Z",
     "iopub.status.busy": "2024-02-28T14:02:47.448741Z",
     "iopub.status.idle": "2024-02-28T14:02:47.459225Z",
     "shell.execute_reply": "2024-02-28T14:02:47.457574Z"
    },
    "papermill": {
     "duration": 0.02297,
     "end_time": "2024-02-28T14:02:47.462367",
     "exception": false,
     "start_time": "2024-02-28T14:02:47.439397",
     "status": "completed"
    },
    "tags": []
   },
   "outputs": [],
   "source": [
    "# Average predictions on test set\n",
    "mean_test_preds_lgb = np.mean(test_preds_lgb, axis=0)\n",
    "mean_test_preds_xgb = np.mean(test_preds_xgb, axis=0)\n",
    "\n",
    "final_test_preds_lgb = np.argmax(mean_test_preds_lgb, axis=1)\n",
    "final_test_preds_xgb = np.array(mean_test_preds_xgb, dtype=int)\n",
    "\n"
   ]
  },
  {
   "cell_type": "code",
   "execution_count": 13,
   "id": "141ec0f7",
   "metadata": {
    "execution": {
     "iopub.execute_input": "2024-02-28T14:02:47.479209Z",
     "iopub.status.busy": "2024-02-28T14:02:47.478763Z",
     "iopub.status.idle": "2024-02-28T14:02:47.488792Z",
     "shell.execute_reply": "2024-02-28T14:02:47.487089Z"
    },
    "papermill": {
     "duration": 0.021856,
     "end_time": "2024-02-28T14:02:47.492465",
     "exception": false,
     "start_time": "2024-02-28T14:02:47.470609",
     "status": "completed"
    },
    "tags": []
   },
   "outputs": [],
   "source": [
    "# Decode predictions\n",
    "pred_lgb = labelencoder.inverse_transform(final_test_preds_lgb)\n",
    "pred_xgb = labelencoder.inverse_transform(final_test_preds_xgb)\n",
    "\n"
   ]
  },
  {
   "cell_type": "code",
   "execution_count": 14,
   "id": "d1eaa931",
   "metadata": {
    "execution": {
     "iopub.execute_input": "2024-02-28T14:02:47.507351Z",
     "iopub.status.busy": "2024-02-28T14:02:47.506933Z",
     "iopub.status.idle": "2024-02-28T14:02:47.580256Z",
     "shell.execute_reply": "2024-02-28T14:02:47.578956Z"
    },
    "papermill": {
     "duration": 0.083916,
     "end_time": "2024-02-28T14:02:47.582991",
     "exception": false,
     "start_time": "2024-02-28T14:02:47.499075",
     "status": "completed"
    },
    "tags": []
   },
   "outputs": [],
   "source": [
    "# Create submission files for both models\n",
    "submission_lgb = pd.DataFrame({'id': test_data.id, 'NObeyesdad': pred_lgb})\n",
    "submission_xgb = pd.DataFrame({'id': test_data.id, 'NObeyesdad': pred_xgb})\n",
    "\n",
    "submission_lgb.to_csv('submission_lgb.csv', index=False)\n",
    "submission_xgb.to_csv('submission_xgb.csv', index=False)"
   ]
  },
  {
   "cell_type": "code",
   "execution_count": null,
   "id": "a3cbe88c",
   "metadata": {
    "papermill": {
     "duration": 0.006046,
     "end_time": "2024-02-28T14:02:47.596569",
     "exception": false,
     "start_time": "2024-02-28T14:02:47.590523",
     "status": "completed"
    },
    "tags": []
   },
   "outputs": [],
   "source": []
  }
 ],
 "metadata": {
  "kaggle": {
   "accelerator": "none",
   "dataSources": [
    {
     "databundleVersionId": 7609535,
     "sourceId": 68479,
     "sourceType": "competition"
    },
    {
     "datasetId": 4030196,
     "sourceId": 7009925,
     "sourceType": "datasetVersion"
    }
   ],
   "dockerImageVersionId": 30664,
   "isGpuEnabled": false,
   "isInternetEnabled": true,
   "language": "python",
   "sourceType": "notebook"
  },
  "kernelspec": {
   "display_name": "Python 3",
   "language": "python",
   "name": "python3"
  },
  "language_info": {
   "codemirror_mode": {
    "name": "ipython",
    "version": 3
   },
   "file_extension": ".py",
   "mimetype": "text/x-python",
   "name": "python",
   "nbconvert_exporter": "python",
   "pygments_lexer": "ipython3",
   "version": "3.10.13"
  },
  "papermill": {
   "default_parameters": {},
   "duration": 195.765825,
   "end_time": "2024-02-28T14:02:48.427922",
   "environment_variables": {},
   "exception": null,
   "input_path": "__notebook__.ipynb",
   "output_path": "__notebook__.ipynb",
   "parameters": {},
   "start_time": "2024-02-28T13:59:32.662097",
   "version": "2.5.0"
  }
 },
 "nbformat": 4,
 "nbformat_minor": 5
}
