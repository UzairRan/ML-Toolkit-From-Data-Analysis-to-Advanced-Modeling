{
 "cells": [
  {
   "cell_type": "code",
   "execution_count": 1,
   "id": "1d0c20ad",
   "metadata": {
    "_cell_guid": "b1076dfc-b9ad-4769-8c92-a6c4dae69d19",
    "_uuid": "8f2839f25d086af736a60e9eeb907d3b93b6e0e5",
    "execution": {
     "iopub.execute_input": "2024-05-31T18:03:22.071400Z",
     "iopub.status.busy": "2024-05-31T18:03:22.070945Z",
     "iopub.status.idle": "2024-05-31T18:03:25.209096Z",
     "shell.execute_reply": "2024-05-31T18:03:25.207504Z"
    },
    "papermill": {
     "duration": 3.149581,
     "end_time": "2024-05-31T18:03:25.212875",
     "exception": false,
     "start_time": "2024-05-31T18:03:22.063294",
     "status": "completed"
    },
    "tags": []
   },
   "outputs": [],
   "source": [
    "# Required Libraries\n",
    "import pandas as pd\n",
    "import numpy as np\n",
    "from sklearn.model_selection import train_test_split\n",
    "from sklearn.preprocessing import StandardScaler\n",
    "from sklearn.impute import SimpleImputer\n",
    "from sklearn.ensemble import RandomForestRegressor, GradientBoostingRegressor, ExtraTreesRegressor, VotingRegressor\n",
    "from sklearn.linear_model import LinearRegression\n",
    "from sklearn.svm import SVR\n",
    "from sklearn.metrics import mean_squared_error\n",
    "from sklearn.pipeline import Pipeline\n",
    "from sklearn.compose import ColumnTransformer\n",
    "from sklearn.preprocessing import OneHotEncoder"
   ]
  },
  {
   "cell_type": "code",
   "execution_count": 2,
   "id": "8ef7af7e",
   "metadata": {
    "execution": {
     "iopub.execute_input": "2024-05-31T18:03:25.226942Z",
     "iopub.status.busy": "2024-05-31T18:03:25.226284Z",
     "iopub.status.idle": "2024-05-31T18:03:26.025330Z",
     "shell.execute_reply": "2024-05-31T18:03:26.023780Z"
    },
    "papermill": {
     "duration": 0.811009,
     "end_time": "2024-05-31T18:03:26.029510",
     "exception": false,
     "start_time": "2024-05-31T18:03:25.218501",
     "status": "completed"
    },
    "tags": []
   },
   "outputs": [],
   "source": [
    "# Load Data\n",
    "train_data = pd.read_csv(\"/kaggle/input/widsdatathon2024-challenge2/train.csv\")\n",
    "test_data = pd.read_csv(\"/kaggle/input/widsdatathon2024-challenge2/test.csv\")"
   ]
  },
  {
   "cell_type": "code",
   "execution_count": 3,
   "id": "abee8244",
   "metadata": {
    "execution": {
     "iopub.execute_input": "2024-05-31T18:03:26.045758Z",
     "iopub.status.busy": "2024-05-31T18:03:26.045149Z",
     "iopub.status.idle": "2024-05-31T18:03:26.119337Z",
     "shell.execute_reply": "2024-05-31T18:03:26.118072Z"
    },
    "papermill": {
     "duration": 0.085649,
     "end_time": "2024-05-31T18:03:26.122936",
     "exception": false,
     "start_time": "2024-05-31T18:03:26.037287",
     "status": "completed"
    },
    "tags": []
   },
   "outputs": [],
   "source": [
    "# Drop columns with more than 50% missing values\n",
    "train_data = train_data.dropna(thresh=len(train_data)*0.5, axis=1)\n",
    "test_data = test_data.dropna(thresh=len(test_data)*0.5, axis=1)\n",
    "\n"
   ]
  },
  {
   "cell_type": "code",
   "execution_count": 4,
   "id": "8263022f",
   "metadata": {
    "execution": {
     "iopub.execute_input": "2024-05-31T18:03:26.139421Z",
     "iopub.status.busy": "2024-05-31T18:03:26.138397Z",
     "iopub.status.idle": "2024-05-31T18:03:26.172941Z",
     "shell.execute_reply": "2024-05-31T18:03:26.171704Z"
    },
    "papermill": {
     "duration": 0.046822,
     "end_time": "2024-05-31T18:03:26.176715",
     "exception": false,
     "start_time": "2024-05-31T18:03:26.129893",
     "status": "completed"
    },
    "tags": []
   },
   "outputs": [],
   "source": [
    "# Drop the target variable from the train data\n",
    "X = train_data.drop(columns=['metastatic_diagnosis_period'])  \n",
    "y = train_data['metastatic_diagnosis_period']\n",
    "\n",
    "# Split data into train and validation sets\n",
    "X_train, X_val, y_train, y_val = train_test_split(X, y, test_size=0.2, random_state=42)\n",
    "\n"
   ]
  },
  {
   "cell_type": "code",
   "execution_count": 5,
   "id": "79a92593",
   "metadata": {
    "execution": {
     "iopub.execute_input": "2024-05-31T18:03:26.192867Z",
     "iopub.status.busy": "2024-05-31T18:03:26.191983Z",
     "iopub.status.idle": "2024-05-31T18:03:26.211409Z",
     "shell.execute_reply": "2024-05-31T18:03:26.209963Z"
    },
    "papermill": {
     "duration": 0.031134,
     "end_time": "2024-05-31T18:03:26.214937",
     "exception": false,
     "start_time": "2024-05-31T18:03:26.183803",
     "status": "completed"
    },
    "tags": []
   },
   "outputs": [],
   "source": [
    "# Preprocessing Pipeline\n",
    "numeric_features = X.select_dtypes(include=np.number).columns.tolist()\n",
    "categorical_features = X.select_dtypes(exclude=np.number).columns.tolist()\n",
    "\n",
    "numeric_transformer = Pipeline(steps=[\n",
    "    ('imputer', SimpleImputer(strategy='mean')),\n",
    "    ('scaler', StandardScaler())])\n",
    "\n",
    "categorical_transformer = Pipeline(steps=[\n",
    "    ('imputer', SimpleImputer(strategy='most_frequent')),\n",
    "    ('onehot', OneHotEncoder(handle_unknown='ignore'))])\n",
    "\n",
    "preprocessor = ColumnTransformer(\n",
    "    transformers=[\n",
    "        ('num', numeric_transformer, numeric_features),\n",
    "        ('cat', categorical_transformer, categorical_features)])\n",
    "\n"
   ]
  },
  {
   "cell_type": "code",
   "execution_count": 6,
   "id": "7ded7781",
   "metadata": {
    "execution": {
     "iopub.execute_input": "2024-05-31T18:03:26.228174Z",
     "iopub.status.busy": "2024-05-31T18:03:26.227747Z",
     "iopub.status.idle": "2024-05-31T18:03:26.234189Z",
     "shell.execute_reply": "2024-05-31T18:03:26.233077Z"
    },
    "papermill": {
     "duration": 0.02336,
     "end_time": "2024-05-31T18:03:26.243466",
     "exception": false,
     "start_time": "2024-05-31T18:03:26.220106",
     "status": "completed"
    },
    "tags": []
   },
   "outputs": [],
   "source": [
    "# Models\n",
    "models = [\n",
    "    ('lr', LinearRegression()),\n",
    "    ('rf', RandomForestRegressor()),\n",
    "    ('gb', GradientBoostingRegressor()),\n",
    "    ('svr', SVR()),\n",
    "    ('et', ExtraTreesRegressor())\n",
    "]"
   ]
  },
  {
   "cell_type": "code",
   "execution_count": 7,
   "id": "f924773d",
   "metadata": {
    "execution": {
     "iopub.execute_input": "2024-05-31T18:03:26.259859Z",
     "iopub.status.busy": "2024-05-31T18:03:26.258686Z",
     "iopub.status.idle": "2024-05-31T18:03:26.264507Z",
     "shell.execute_reply": "2024-05-31T18:03:26.263070Z"
    },
    "papermill": {
     "duration": 0.017325,
     "end_time": "2024-05-31T18:03:26.267568",
     "exception": false,
     "start_time": "2024-05-31T18:03:26.250243",
     "status": "completed"
    },
    "tags": []
   },
   "outputs": [],
   "source": [
    "# Voting Regressor\n",
    "voting_regressor = VotingRegressor(models)"
   ]
  },
  {
   "cell_type": "code",
   "execution_count": 8,
   "id": "36c09f58",
   "metadata": {
    "execution": {
     "iopub.execute_input": "2024-05-31T18:03:26.281181Z",
     "iopub.status.busy": "2024-05-31T18:03:26.279867Z",
     "iopub.status.idle": "2024-05-31T18:08:59.931895Z",
     "shell.execute_reply": "2024-05-31T18:08:59.930126Z"
    },
    "papermill": {
     "duration": 333.668569,
     "end_time": "2024-05-31T18:08:59.941670",
     "exception": false,
     "start_time": "2024-05-31T18:03:26.273101",
     "status": "completed"
    },
    "tags": []
   },
   "outputs": [
    {
     "data": {
      "text/html": [
       "<style>#sk-container-id-1 {color: black;background-color: white;}#sk-container-id-1 pre{padding: 0;}#sk-container-id-1 div.sk-toggleable {background-color: white;}#sk-container-id-1 label.sk-toggleable__label {cursor: pointer;display: block;width: 100%;margin-bottom: 0;padding: 0.3em;box-sizing: border-box;text-align: center;}#sk-container-id-1 label.sk-toggleable__label-arrow:before {content: \"▸\";float: left;margin-right: 0.25em;color: #696969;}#sk-container-id-1 label.sk-toggleable__label-arrow:hover:before {color: black;}#sk-container-id-1 div.sk-estimator:hover label.sk-toggleable__label-arrow:before {color: black;}#sk-container-id-1 div.sk-toggleable__content {max-height: 0;max-width: 0;overflow: hidden;text-align: left;background-color: #f0f8ff;}#sk-container-id-1 div.sk-toggleable__content pre {margin: 0.2em;color: black;border-radius: 0.25em;background-color: #f0f8ff;}#sk-container-id-1 input.sk-toggleable__control:checked~div.sk-toggleable__content {max-height: 200px;max-width: 100%;overflow: auto;}#sk-container-id-1 input.sk-toggleable__control:checked~label.sk-toggleable__label-arrow:before {content: \"▾\";}#sk-container-id-1 div.sk-estimator input.sk-toggleable__control:checked~label.sk-toggleable__label {background-color: #d4ebff;}#sk-container-id-1 div.sk-label input.sk-toggleable__control:checked~label.sk-toggleable__label {background-color: #d4ebff;}#sk-container-id-1 input.sk-hidden--visually {border: 0;clip: rect(1px 1px 1px 1px);clip: rect(1px, 1px, 1px, 1px);height: 1px;margin: -1px;overflow: hidden;padding: 0;position: absolute;width: 1px;}#sk-container-id-1 div.sk-estimator {font-family: monospace;background-color: #f0f8ff;border: 1px dotted black;border-radius: 0.25em;box-sizing: border-box;margin-bottom: 0.5em;}#sk-container-id-1 div.sk-estimator:hover {background-color: #d4ebff;}#sk-container-id-1 div.sk-parallel-item::after {content: \"\";width: 100%;border-bottom: 1px solid gray;flex-grow: 1;}#sk-container-id-1 div.sk-label:hover label.sk-toggleable__label {background-color: #d4ebff;}#sk-container-id-1 div.sk-serial::before {content: \"\";position: absolute;border-left: 1px solid gray;box-sizing: border-box;top: 0;bottom: 0;left: 50%;z-index: 0;}#sk-container-id-1 div.sk-serial {display: flex;flex-direction: column;align-items: center;background-color: white;padding-right: 0.2em;padding-left: 0.2em;position: relative;}#sk-container-id-1 div.sk-item {position: relative;z-index: 1;}#sk-container-id-1 div.sk-parallel {display: flex;align-items: stretch;justify-content: center;background-color: white;position: relative;}#sk-container-id-1 div.sk-item::before, #sk-container-id-1 div.sk-parallel-item::before {content: \"\";position: absolute;border-left: 1px solid gray;box-sizing: border-box;top: 0;bottom: 0;left: 50%;z-index: -1;}#sk-container-id-1 div.sk-parallel-item {display: flex;flex-direction: column;z-index: 1;position: relative;background-color: white;}#sk-container-id-1 div.sk-parallel-item:first-child::after {align-self: flex-end;width: 50%;}#sk-container-id-1 div.sk-parallel-item:last-child::after {align-self: flex-start;width: 50%;}#sk-container-id-1 div.sk-parallel-item:only-child::after {width: 0;}#sk-container-id-1 div.sk-dashed-wrapped {border: 1px dashed gray;margin: 0 0.4em 0.5em 0.4em;box-sizing: border-box;padding-bottom: 0.4em;background-color: white;}#sk-container-id-1 div.sk-label label {font-family: monospace;font-weight: bold;display: inline-block;line-height: 1.2em;}#sk-container-id-1 div.sk-label-container {text-align: center;}#sk-container-id-1 div.sk-container {/* jupyter's `normalize.less` sets `[hidden] { display: none; }` but bootstrap.min.css set `[hidden] { display: none !important; }` so we also need the `!important` here to be able to override the default hidden behavior on the sphinx rendered scikit-learn.org. See: https://github.com/scikit-learn/scikit-learn/issues/21755 */display: inline-block !important;position: relative;}#sk-container-id-1 div.sk-text-repr-fallback {display: none;}</style><div id=\"sk-container-id-1\" class=\"sk-top-container\"><div class=\"sk-text-repr-fallback\"><pre>Pipeline(steps=[(&#x27;preprocessor&#x27;,\n",
       "                 ColumnTransformer(transformers=[(&#x27;num&#x27;,\n",
       "                                                  Pipeline(steps=[(&#x27;imputer&#x27;,\n",
       "                                                                   SimpleImputer()),\n",
       "                                                                  (&#x27;scaler&#x27;,\n",
       "                                                                   StandardScaler())]),\n",
       "                                                  [&#x27;patient_id&#x27;, &#x27;patient_zip3&#x27;,\n",
       "                                                   &#x27;patient_age&#x27;, &#x27;population&#x27;,\n",
       "                                                   &#x27;density&#x27;, &#x27;age_median&#x27;,\n",
       "                                                   &#x27;age_under_10&#x27;,\n",
       "                                                   &#x27;age_10_to_19&#x27;, &#x27;age_20s&#x27;,\n",
       "                                                   &#x27;age_30s&#x27;, &#x27;age_40s&#x27;,\n",
       "                                                   &#x27;age_50s&#x27;, &#x27;age_60s&#x27;,\n",
       "                                                   &#x27;age_70s&#x27;, &#x27;age_over_80&#x27;,\n",
       "                                                   &#x27;male&#x27;, &#x27;female&#x27;, &#x27;marri...\n",
       "                                                                   OneHotEncoder(handle_unknown=&#x27;ignore&#x27;))]),\n",
       "                                                  [&#x27;payer_type&#x27;,\n",
       "                                                   &#x27;patient_state&#x27;, &#x27;Region&#x27;,\n",
       "                                                   &#x27;Division&#x27;, &#x27;patient_gender&#x27;,\n",
       "                                                   &#x27;breast_cancer_diagnosis_code&#x27;,\n",
       "                                                   &#x27;breast_cancer_diagnosis_desc&#x27;,\n",
       "                                                   &#x27;metastatic_cancer_diagnosis_code&#x27;])])),\n",
       "                (&#x27;regressor&#x27;,\n",
       "                 VotingRegressor(estimators=[(&#x27;lr&#x27;, LinearRegression()),\n",
       "                                             (&#x27;rf&#x27;, RandomForestRegressor()),\n",
       "                                             (&#x27;gb&#x27;,\n",
       "                                              GradientBoostingRegressor()),\n",
       "                                             (&#x27;svr&#x27;, SVR()),\n",
       "                                             (&#x27;et&#x27;, ExtraTreesRegressor())]))])</pre><b>In a Jupyter environment, please rerun this cell to show the HTML representation or trust the notebook. <br />On GitHub, the HTML representation is unable to render, please try loading this page with nbviewer.org.</b></div><div class=\"sk-container\" hidden><div class=\"sk-item sk-dashed-wrapped\"><div class=\"sk-label-container\"><div class=\"sk-label sk-toggleable\"><input class=\"sk-toggleable__control sk-hidden--visually\" id=\"sk-estimator-id-1\" type=\"checkbox\" ><label for=\"sk-estimator-id-1\" class=\"sk-toggleable__label sk-toggleable__label-arrow\">Pipeline</label><div class=\"sk-toggleable__content\"><pre>Pipeline(steps=[(&#x27;preprocessor&#x27;,\n",
       "                 ColumnTransformer(transformers=[(&#x27;num&#x27;,\n",
       "                                                  Pipeline(steps=[(&#x27;imputer&#x27;,\n",
       "                                                                   SimpleImputer()),\n",
       "                                                                  (&#x27;scaler&#x27;,\n",
       "                                                                   StandardScaler())]),\n",
       "                                                  [&#x27;patient_id&#x27;, &#x27;patient_zip3&#x27;,\n",
       "                                                   &#x27;patient_age&#x27;, &#x27;population&#x27;,\n",
       "                                                   &#x27;density&#x27;, &#x27;age_median&#x27;,\n",
       "                                                   &#x27;age_under_10&#x27;,\n",
       "                                                   &#x27;age_10_to_19&#x27;, &#x27;age_20s&#x27;,\n",
       "                                                   &#x27;age_30s&#x27;, &#x27;age_40s&#x27;,\n",
       "                                                   &#x27;age_50s&#x27;, &#x27;age_60s&#x27;,\n",
       "                                                   &#x27;age_70s&#x27;, &#x27;age_over_80&#x27;,\n",
       "                                                   &#x27;male&#x27;, &#x27;female&#x27;, &#x27;marri...\n",
       "                                                                   OneHotEncoder(handle_unknown=&#x27;ignore&#x27;))]),\n",
       "                                                  [&#x27;payer_type&#x27;,\n",
       "                                                   &#x27;patient_state&#x27;, &#x27;Region&#x27;,\n",
       "                                                   &#x27;Division&#x27;, &#x27;patient_gender&#x27;,\n",
       "                                                   &#x27;breast_cancer_diagnosis_code&#x27;,\n",
       "                                                   &#x27;breast_cancer_diagnosis_desc&#x27;,\n",
       "                                                   &#x27;metastatic_cancer_diagnosis_code&#x27;])])),\n",
       "                (&#x27;regressor&#x27;,\n",
       "                 VotingRegressor(estimators=[(&#x27;lr&#x27;, LinearRegression()),\n",
       "                                             (&#x27;rf&#x27;, RandomForestRegressor()),\n",
       "                                             (&#x27;gb&#x27;,\n",
       "                                              GradientBoostingRegressor()),\n",
       "                                             (&#x27;svr&#x27;, SVR()),\n",
       "                                             (&#x27;et&#x27;, ExtraTreesRegressor())]))])</pre></div></div></div><div class=\"sk-serial\"><div class=\"sk-item sk-dashed-wrapped\"><div class=\"sk-label-container\"><div class=\"sk-label sk-toggleable\"><input class=\"sk-toggleable__control sk-hidden--visually\" id=\"sk-estimator-id-2\" type=\"checkbox\" ><label for=\"sk-estimator-id-2\" class=\"sk-toggleable__label sk-toggleable__label-arrow\">preprocessor: ColumnTransformer</label><div class=\"sk-toggleable__content\"><pre>ColumnTransformer(transformers=[(&#x27;num&#x27;,\n",
       "                                 Pipeline(steps=[(&#x27;imputer&#x27;, SimpleImputer()),\n",
       "                                                 (&#x27;scaler&#x27;, StandardScaler())]),\n",
       "                                 [&#x27;patient_id&#x27;, &#x27;patient_zip3&#x27;, &#x27;patient_age&#x27;,\n",
       "                                  &#x27;population&#x27;, &#x27;density&#x27;, &#x27;age_median&#x27;,\n",
       "                                  &#x27;age_under_10&#x27;, &#x27;age_10_to_19&#x27;, &#x27;age_20s&#x27;,\n",
       "                                  &#x27;age_30s&#x27;, &#x27;age_40s&#x27;, &#x27;age_50s&#x27;, &#x27;age_60s&#x27;,\n",
       "                                  &#x27;age_70s&#x27;, &#x27;age_over_80&#x27;, &#x27;male&#x27;, &#x27;female&#x27;,\n",
       "                                  &#x27;married&#x27;, &#x27;divorced&#x27;, &#x27;never_married&#x27;,\n",
       "                                  &#x27;...\n",
       "                                  &#x27;income_household_20_to_25&#x27;,\n",
       "                                  &#x27;income_household_25_to_35&#x27;, ...]),\n",
       "                                (&#x27;cat&#x27;,\n",
       "                                 Pipeline(steps=[(&#x27;imputer&#x27;,\n",
       "                                                  SimpleImputer(strategy=&#x27;most_frequent&#x27;)),\n",
       "                                                 (&#x27;onehot&#x27;,\n",
       "                                                  OneHotEncoder(handle_unknown=&#x27;ignore&#x27;))]),\n",
       "                                 [&#x27;payer_type&#x27;, &#x27;patient_state&#x27;, &#x27;Region&#x27;,\n",
       "                                  &#x27;Division&#x27;, &#x27;patient_gender&#x27;,\n",
       "                                  &#x27;breast_cancer_diagnosis_code&#x27;,\n",
       "                                  &#x27;breast_cancer_diagnosis_desc&#x27;,\n",
       "                                  &#x27;metastatic_cancer_diagnosis_code&#x27;])])</pre></div></div></div><div class=\"sk-parallel\"><div class=\"sk-parallel-item\"><div class=\"sk-item\"><div class=\"sk-label-container\"><div class=\"sk-label sk-toggleable\"><input class=\"sk-toggleable__control sk-hidden--visually\" id=\"sk-estimator-id-3\" type=\"checkbox\" ><label for=\"sk-estimator-id-3\" class=\"sk-toggleable__label sk-toggleable__label-arrow\">num</label><div class=\"sk-toggleable__content\"><pre>[&#x27;patient_id&#x27;, &#x27;patient_zip3&#x27;, &#x27;patient_age&#x27;, &#x27;population&#x27;, &#x27;density&#x27;, &#x27;age_median&#x27;, &#x27;age_under_10&#x27;, &#x27;age_10_to_19&#x27;, &#x27;age_20s&#x27;, &#x27;age_30s&#x27;, &#x27;age_40s&#x27;, &#x27;age_50s&#x27;, &#x27;age_60s&#x27;, &#x27;age_70s&#x27;, &#x27;age_over_80&#x27;, &#x27;male&#x27;, &#x27;female&#x27;, &#x27;married&#x27;, &#x27;divorced&#x27;, &#x27;never_married&#x27;, &#x27;widowed&#x27;, &#x27;family_size&#x27;, &#x27;family_dual_income&#x27;, &#x27;income_household_median&#x27;, &#x27;income_household_under_5&#x27;, &#x27;income_household_5_to_10&#x27;, &#x27;income_household_10_to_15&#x27;, &#x27;income_household_15_to_20&#x27;, &#x27;income_household_20_to_25&#x27;, &#x27;income_household_25_to_35&#x27;, &#x27;income_household_35_to_50&#x27;, &#x27;income_household_50_to_75&#x27;, &#x27;income_household_75_to_100&#x27;, &#x27;income_household_100_to_150&#x27;, &#x27;income_household_150_over&#x27;, &#x27;income_household_six_figure&#x27;, &#x27;income_individual_median&#x27;, &#x27;home_ownership&#x27;, &#x27;housing_units&#x27;, &#x27;home_value&#x27;, &#x27;rent_median&#x27;, &#x27;rent_burden&#x27;, &#x27;education_less_highschool&#x27;, &#x27;education_highschool&#x27;, &#x27;education_some_college&#x27;, &#x27;education_bachelors&#x27;, &#x27;education_graduate&#x27;, &#x27;education_college_or_above&#x27;, &#x27;education_stem_degree&#x27;, &#x27;labor_force_participation&#x27;, &#x27;unemployment_rate&#x27;, &#x27;self_employed&#x27;, &#x27;farmer&#x27;, &#x27;race_white&#x27;, &#x27;race_black&#x27;, &#x27;race_asian&#x27;, &#x27;race_native&#x27;, &#x27;race_pacific&#x27;, &#x27;race_other&#x27;, &#x27;race_multiple&#x27;, &#x27;hispanic&#x27;, &#x27;disabled&#x27;, &#x27;poverty&#x27;, &#x27;limited_english&#x27;, &#x27;commute_time&#x27;, &#x27;health_uninsured&#x27;, &#x27;veteran&#x27;, &#x27;Average of Jan-13&#x27;, &#x27;Average of Feb-13&#x27;, &#x27;Average of Mar-13&#x27;, &#x27;Average of Apr-13&#x27;, &#x27;Average of May-13&#x27;, &#x27;Average of Jun-13&#x27;, &#x27;Average of Jul-13&#x27;, &#x27;Average of Aug-13&#x27;, &#x27;Average of Sep-13&#x27;, &#x27;Average of Oct-13&#x27;, &#x27;Average of Nov-13&#x27;, &#x27;Average of Dec-13&#x27;, &#x27;Average of Jan-14&#x27;, &#x27;Average of Feb-14&#x27;, &#x27;Average of Mar-14&#x27;, &#x27;Average of Apr-14&#x27;, &#x27;Average of May-14&#x27;, &#x27;Average of Jun-14&#x27;, &#x27;Average of Jul-14&#x27;, &#x27;Average of Aug-14&#x27;, &#x27;Average of Sep-14&#x27;, &#x27;Average of Oct-14&#x27;, &#x27;Average of Nov-14&#x27;, &#x27;Average of Dec-14&#x27;, &#x27;Average of Jan-15&#x27;, &#x27;Average of Feb-15&#x27;, &#x27;Average of Mar-15&#x27;, &#x27;Average of Apr-15&#x27;, &#x27;Average of May-15&#x27;, &#x27;Average of Jun-15&#x27;, &#x27;Average of Jul-15&#x27;, &#x27;Average of Aug-15&#x27;, &#x27;Average of Sep-15&#x27;, &#x27;Average of Oct-15&#x27;, &#x27;Average of Nov-15&#x27;, &#x27;Average of Dec-15&#x27;, &#x27;Average of Jan-16&#x27;, &#x27;Average of Feb-16&#x27;, &#x27;Average of Mar-16&#x27;, &#x27;Average of Apr-16&#x27;, &#x27;Average of May-16&#x27;, &#x27;Average of Jun-16&#x27;, &#x27;Average of Jul-16&#x27;, &#x27;Average of Aug-16&#x27;, &#x27;Average of Sep-16&#x27;, &#x27;Average of Oct-16&#x27;, &#x27;Average of Nov-16&#x27;, &#x27;Average of Dec-16&#x27;, &#x27;Average of Jan-17&#x27;, &#x27;Average of Feb-17&#x27;, &#x27;Average of Mar-17&#x27;, &#x27;Average of Apr-17&#x27;, &#x27;Average of May-17&#x27;, &#x27;Average of Jun-17&#x27;, &#x27;Average of Jul-17&#x27;, &#x27;Average of Aug-17&#x27;, &#x27;Average of Sep-17&#x27;, &#x27;Average of Oct-17&#x27;, &#x27;Average of Nov-17&#x27;, &#x27;Average of Dec-17&#x27;, &#x27;Average of Jan-18&#x27;, &#x27;Average of Feb-18&#x27;, &#x27;Average of Mar-18&#x27;, &#x27;Average of Apr-18&#x27;, &#x27;Average of May-18&#x27;, &#x27;Average of Jun-18&#x27;, &#x27;Average of Jul-18&#x27;, &#x27;Average of Aug-18&#x27;, &#x27;Average of Sep-18&#x27;, &#x27;Average of Oct-18&#x27;, &#x27;Average of Nov-18&#x27;, &#x27;Average of Dec-18&#x27;]</pre></div></div></div><div class=\"sk-serial\"><div class=\"sk-item\"><div class=\"sk-serial\"><div class=\"sk-item\"><div class=\"sk-estimator sk-toggleable\"><input class=\"sk-toggleable__control sk-hidden--visually\" id=\"sk-estimator-id-4\" type=\"checkbox\" ><label for=\"sk-estimator-id-4\" class=\"sk-toggleable__label sk-toggleable__label-arrow\">SimpleImputer</label><div class=\"sk-toggleable__content\"><pre>SimpleImputer()</pre></div></div></div><div class=\"sk-item\"><div class=\"sk-estimator sk-toggleable\"><input class=\"sk-toggleable__control sk-hidden--visually\" id=\"sk-estimator-id-5\" type=\"checkbox\" ><label for=\"sk-estimator-id-5\" class=\"sk-toggleable__label sk-toggleable__label-arrow\">StandardScaler</label><div class=\"sk-toggleable__content\"><pre>StandardScaler()</pre></div></div></div></div></div></div></div></div><div class=\"sk-parallel-item\"><div class=\"sk-item\"><div class=\"sk-label-container\"><div class=\"sk-label sk-toggleable\"><input class=\"sk-toggleable__control sk-hidden--visually\" id=\"sk-estimator-id-6\" type=\"checkbox\" ><label for=\"sk-estimator-id-6\" class=\"sk-toggleable__label sk-toggleable__label-arrow\">cat</label><div class=\"sk-toggleable__content\"><pre>[&#x27;payer_type&#x27;, &#x27;patient_state&#x27;, &#x27;Region&#x27;, &#x27;Division&#x27;, &#x27;patient_gender&#x27;, &#x27;breast_cancer_diagnosis_code&#x27;, &#x27;breast_cancer_diagnosis_desc&#x27;, &#x27;metastatic_cancer_diagnosis_code&#x27;]</pre></div></div></div><div class=\"sk-serial\"><div class=\"sk-item\"><div class=\"sk-serial\"><div class=\"sk-item\"><div class=\"sk-estimator sk-toggleable\"><input class=\"sk-toggleable__control sk-hidden--visually\" id=\"sk-estimator-id-7\" type=\"checkbox\" ><label for=\"sk-estimator-id-7\" class=\"sk-toggleable__label sk-toggleable__label-arrow\">SimpleImputer</label><div class=\"sk-toggleable__content\"><pre>SimpleImputer(strategy=&#x27;most_frequent&#x27;)</pre></div></div></div><div class=\"sk-item\"><div class=\"sk-estimator sk-toggleable\"><input class=\"sk-toggleable__control sk-hidden--visually\" id=\"sk-estimator-id-8\" type=\"checkbox\" ><label for=\"sk-estimator-id-8\" class=\"sk-toggleable__label sk-toggleable__label-arrow\">OneHotEncoder</label><div class=\"sk-toggleable__content\"><pre>OneHotEncoder(handle_unknown=&#x27;ignore&#x27;)</pre></div></div></div></div></div></div></div></div></div></div><div class=\"sk-item sk-dashed-wrapped\"><div class=\"sk-label-container\"><div class=\"sk-label sk-toggleable\"><input class=\"sk-toggleable__control sk-hidden--visually\" id=\"sk-estimator-id-9\" type=\"checkbox\" ><label for=\"sk-estimator-id-9\" class=\"sk-toggleable__label sk-toggleable__label-arrow\">regressor: VotingRegressor</label><div class=\"sk-toggleable__content\"><pre>VotingRegressor(estimators=[(&#x27;lr&#x27;, LinearRegression()),\n",
       "                            (&#x27;rf&#x27;, RandomForestRegressor()),\n",
       "                            (&#x27;gb&#x27;, GradientBoostingRegressor()), (&#x27;svr&#x27;, SVR()),\n",
       "                            (&#x27;et&#x27;, ExtraTreesRegressor())])</pre></div></div></div><div class=\"sk-parallel\"><div class=\"sk-parallel-item\"><div class=\"sk-item\"><div class=\"sk-label-container\"><div class=\"sk-label sk-toggleable\"><label>lr</label></div></div><div class=\"sk-serial\"><div class=\"sk-item\"><div class=\"sk-estimator sk-toggleable\"><input class=\"sk-toggleable__control sk-hidden--visually\" id=\"sk-estimator-id-10\" type=\"checkbox\" ><label for=\"sk-estimator-id-10\" class=\"sk-toggleable__label sk-toggleable__label-arrow\">LinearRegression</label><div class=\"sk-toggleable__content\"><pre>LinearRegression()</pre></div></div></div></div></div></div><div class=\"sk-parallel-item\"><div class=\"sk-item\"><div class=\"sk-label-container\"><div class=\"sk-label sk-toggleable\"><label>rf</label></div></div><div class=\"sk-serial\"><div class=\"sk-item\"><div class=\"sk-estimator sk-toggleable\"><input class=\"sk-toggleable__control sk-hidden--visually\" id=\"sk-estimator-id-11\" type=\"checkbox\" ><label for=\"sk-estimator-id-11\" class=\"sk-toggleable__label sk-toggleable__label-arrow\">RandomForestRegressor</label><div class=\"sk-toggleable__content\"><pre>RandomForestRegressor()</pre></div></div></div></div></div></div><div class=\"sk-parallel-item\"><div class=\"sk-item\"><div class=\"sk-label-container\"><div class=\"sk-label sk-toggleable\"><label>gb</label></div></div><div class=\"sk-serial\"><div class=\"sk-item\"><div class=\"sk-estimator sk-toggleable\"><input class=\"sk-toggleable__control sk-hidden--visually\" id=\"sk-estimator-id-12\" type=\"checkbox\" ><label for=\"sk-estimator-id-12\" class=\"sk-toggleable__label sk-toggleable__label-arrow\">GradientBoostingRegressor</label><div class=\"sk-toggleable__content\"><pre>GradientBoostingRegressor()</pre></div></div></div></div></div></div><div class=\"sk-parallel-item\"><div class=\"sk-item\"><div class=\"sk-label-container\"><div class=\"sk-label sk-toggleable\"><label>svr</label></div></div><div class=\"sk-serial\"><div class=\"sk-item\"><div class=\"sk-estimator sk-toggleable\"><input class=\"sk-toggleable__control sk-hidden--visually\" id=\"sk-estimator-id-13\" type=\"checkbox\" ><label for=\"sk-estimator-id-13\" class=\"sk-toggleable__label sk-toggleable__label-arrow\">SVR</label><div class=\"sk-toggleable__content\"><pre>SVR()</pre></div></div></div></div></div></div><div class=\"sk-parallel-item\"><div class=\"sk-item\"><div class=\"sk-label-container\"><div class=\"sk-label sk-toggleable\"><label>et</label></div></div><div class=\"sk-serial\"><div class=\"sk-item\"><div class=\"sk-estimator sk-toggleable\"><input class=\"sk-toggleable__control sk-hidden--visually\" id=\"sk-estimator-id-14\" type=\"checkbox\" ><label for=\"sk-estimator-id-14\" class=\"sk-toggleable__label sk-toggleable__label-arrow\">ExtraTreesRegressor</label><div class=\"sk-toggleable__content\"><pre>ExtraTreesRegressor()</pre></div></div></div></div></div></div></div></div></div></div></div></div>"
      ],
      "text/plain": [
       "Pipeline(steps=[('preprocessor',\n",
       "                 ColumnTransformer(transformers=[('num',\n",
       "                                                  Pipeline(steps=[('imputer',\n",
       "                                                                   SimpleImputer()),\n",
       "                                                                  ('scaler',\n",
       "                                                                   StandardScaler())]),\n",
       "                                                  ['patient_id', 'patient_zip3',\n",
       "                                                   'patient_age', 'population',\n",
       "                                                   'density', 'age_median',\n",
       "                                                   'age_under_10',\n",
       "                                                   'age_10_to_19', 'age_20s',\n",
       "                                                   'age_30s', 'age_40s',\n",
       "                                                   'age_50s', 'age_60s',\n",
       "                                                   'age_70s', 'age_over_80',\n",
       "                                                   'male', 'female', 'marri...\n",
       "                                                                   OneHotEncoder(handle_unknown='ignore'))]),\n",
       "                                                  ['payer_type',\n",
       "                                                   'patient_state', 'Region',\n",
       "                                                   'Division', 'patient_gender',\n",
       "                                                   'breast_cancer_diagnosis_code',\n",
       "                                                   'breast_cancer_diagnosis_desc',\n",
       "                                                   'metastatic_cancer_diagnosis_code'])])),\n",
       "                ('regressor',\n",
       "                 VotingRegressor(estimators=[('lr', LinearRegression()),\n",
       "                                             ('rf', RandomForestRegressor()),\n",
       "                                             ('gb',\n",
       "                                              GradientBoostingRegressor()),\n",
       "                                             ('svr', SVR()),\n",
       "                                             ('et', ExtraTreesRegressor())]))])"
      ]
     },
     "execution_count": 8,
     "metadata": {},
     "output_type": "execute_result"
    }
   ],
   "source": [
    "\n",
    "# Pipeline\n",
    "pipeline = Pipeline(steps=[('preprocessor', preprocessor),\n",
    "                           ('regressor', voting_regressor)])\n",
    "\n",
    "# Fit the model\n",
    "pipeline.fit(X_train, y_train)"
   ]
  },
  {
   "cell_type": "code",
   "execution_count": 9,
   "id": "940c6bb2",
   "metadata": {
    "execution": {
     "iopub.execute_input": "2024-05-31T18:08:59.955841Z",
     "iopub.status.busy": "2024-05-31T18:08:59.954789Z",
     "iopub.status.idle": "2024-05-31T18:09:17.129995Z",
     "shell.execute_reply": "2024-05-31T18:09:17.128255Z"
    },
    "papermill": {
     "duration": 17.185969,
     "end_time": "2024-05-31T18:09:17.133221",
     "exception": false,
     "start_time": "2024-05-31T18:08:59.947252",
     "status": "completed"
    },
    "tags": []
   },
   "outputs": [
    {
     "name": "stdout",
     "output_type": "stream",
     "text": [
      "Validation RMSE: 85.20771183661101\n"
     ]
    }
   ],
   "source": [
    "# Evaluate the model on validation data\n",
    "val_predictions = pipeline.predict(X_val)\n",
    "val_rmse = mean_squared_error(y_val, val_predictions, squared=False)\n",
    "print(\"Validation RMSE:\", val_rmse)\n",
    "\n"
   ]
  },
  {
   "cell_type": "code",
   "execution_count": 10,
   "id": "db0c03f2",
   "metadata": {
    "execution": {
     "iopub.execute_input": "2024-05-31T18:09:17.147424Z",
     "iopub.status.busy": "2024-05-31T18:09:17.146879Z",
     "iopub.status.idle": "2024-05-31T18:09:54.240692Z",
     "shell.execute_reply": "2024-05-31T18:09:54.238805Z"
    },
    "papermill": {
     "duration": 37.10488,
     "end_time": "2024-05-31T18:09:54.244045",
     "exception": false,
     "start_time": "2024-05-31T18:09:17.139165",
     "status": "completed"
    },
    "tags": []
   },
   "outputs": [],
   "source": [
    "# Predict on the test set\n",
    "test_predictions = pipeline.predict(test_data)\n",
    "\n"
   ]
  },
  {
   "cell_type": "code",
   "execution_count": 11,
   "id": "7b5c4fc6",
   "metadata": {
    "execution": {
     "iopub.execute_input": "2024-05-31T18:09:54.259201Z",
     "iopub.status.busy": "2024-05-31T18:09:54.258621Z",
     "iopub.status.idle": "2024-05-31T18:09:54.290838Z",
     "shell.execute_reply": "2024-05-31T18:09:54.289165Z"
    },
    "papermill": {
     "duration": 0.043967,
     "end_time": "2024-05-31T18:09:54.294407",
     "exception": false,
     "start_time": "2024-05-31T18:09:54.250440",
     "status": "completed"
    },
    "tags": []
   },
   "outputs": [],
   "source": [
    "# Prepare submission file\n",
    "submission = pd.DataFrame({\n",
    "    'patient_id': test_data['patient_id'],\n",
    "    'metastatic_diagnosis_period': test_predictions\n",
    "})\n",
    "\n",
    "# Save submission file\n",
    "submission.to_csv('voting_regressor_submission.csv', index=False)"
   ]
  },
  {
   "cell_type": "code",
   "execution_count": null,
   "id": "27ea1fcb",
   "metadata": {
    "papermill": {
     "duration": 0.005847,
     "end_time": "2024-05-31T18:09:54.306684",
     "exception": false,
     "start_time": "2024-05-31T18:09:54.300837",
     "status": "completed"
    },
    "tags": []
   },
   "outputs": [],
   "source": []
  }
 ],
 "metadata": {
  "kaggle": {
   "accelerator": "none",
   "dataSources": [
    {
     "databundleVersionId": 8121780,
     "sourceId": 73478,
     "sourceType": "competition"
    }
   ],
   "dockerImageVersionId": 30715,
   "isGpuEnabled": false,
   "isInternetEnabled": true,
   "language": "python",
   "sourceType": "notebook"
  },
  "kernelspec": {
   "display_name": "Python 3",
   "language": "python",
   "name": "python3"
  },
  "language_info": {
   "codemirror_mode": {
    "name": "ipython",
    "version": 3
   },
   "file_extension": ".py",
   "mimetype": "text/x-python",
   "name": "python",
   "nbconvert_exporter": "python",
   "pygments_lexer": "ipython3",
   "version": "3.10.13"
  },
  "papermill": {
   "default_parameters": {},
   "duration": 397.193029,
   "end_time": "2024-05-31T18:09:55.341364",
   "environment_variables": {},
   "exception": null,
   "input_path": "__notebook__.ipynb",
   "output_path": "__notebook__.ipynb",
   "parameters": {},
   "start_time": "2024-05-31T18:03:18.148335",
   "version": "2.5.0"
  }
 },
 "nbformat": 4,
 "nbformat_minor": 5
}
