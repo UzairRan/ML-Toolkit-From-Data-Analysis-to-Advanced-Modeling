{
 "cells": [
  {
   "cell_type": "code",
   "execution_count": 1,
   "id": "c34afed2",
   "metadata": {
    "_cell_guid": "b1076dfc-b9ad-4769-8c92-a6c4dae69d19",
    "_uuid": "8f2839f25d086af736a60e9eeb907d3b93b6e0e5",
    "execution": {
     "iopub.execute_input": "2024-07-01T11:57:40.348791Z",
     "iopub.status.busy": "2024-07-01T11:57:40.348383Z",
     "iopub.status.idle": "2024-07-01T11:58:09.468460Z",
     "shell.execute_reply": "2024-07-01T11:58:09.467275Z"
    },
    "papermill": {
     "duration": 29.128633,
     "end_time": "2024-07-01T11:58:09.471248",
     "exception": false,
     "start_time": "2024-07-01T11:57:40.342615",
     "status": "completed"
    },
    "tags": []
   },
   "outputs": [
    {
     "name": "stdout",
     "output_type": "stream",
     "text": [
      "Collecting duckdb\r\n",
      "  Downloading duckdb-1.0.0-cp310-cp310-manylinux_2_17_x86_64.manylinux2014_x86_64.whl.metadata (762 bytes)\r\n",
      "Downloading duckdb-1.0.0-cp310-cp310-manylinux_2_17_x86_64.manylinux2014_x86_64.whl (18.5 MB)\r\n",
      "\u001b[2K   \u001b[90m━━━━━━━━━━━━━━━━━━━━━━━━━━━━━━━━━━━━━━━━\u001b[0m \u001b[32m18.5/18.5 MB\u001b[0m \u001b[31m72.6 MB/s\u001b[0m eta \u001b[36m0:00:00\u001b[0m\r\n",
      "\u001b[?25hInstalling collected packages: duckdb\r\n",
      "Successfully installed duckdb-1.0.0\r\n",
      "Collecting rdkit\r\n",
      "  Downloading rdkit-2024.3.1-cp310-cp310-manylinux_2_17_x86_64.manylinux2014_x86_64.whl.metadata (3.9 kB)\r\n",
      "Requirement already satisfied: numpy in /opt/conda/lib/python3.10/site-packages (from rdkit) (1.26.4)\r\n",
      "Requirement already satisfied: Pillow in /opt/conda/lib/python3.10/site-packages (from rdkit) (9.5.0)\r\n",
      "Downloading rdkit-2024.3.1-cp310-cp310-manylinux_2_17_x86_64.manylinux2014_x86_64.whl (35.1 MB)\r\n",
      "\u001b[2K   \u001b[90m━━━━━━━━━━━━━━━━━━━━━━━━━━━━━━━━━━━━━━━━\u001b[0m \u001b[32m35.1/35.1 MB\u001b[0m \u001b[31m45.6 MB/s\u001b[0m eta \u001b[36m0:00:00\u001b[0m\r\n",
      "\u001b[?25hInstalling collected packages: rdkit\r\n",
      "Successfully installed rdkit-2024.3.1\r\n"
     ]
    }
   ],
   "source": [
    "!pip install duckdb\n",
    "!pip install rdkit"
   ]
  },
  {
   "cell_type": "code",
   "execution_count": 2,
   "id": "69cb44a4",
   "metadata": {
    "execution": {
     "iopub.execute_input": "2024-07-01T11:58:09.484550Z",
     "iopub.status.busy": "2024-07-01T11:58:09.484126Z",
     "iopub.status.idle": "2024-07-01T11:58:23.047495Z",
     "shell.execute_reply": "2024-07-01T11:58:23.046009Z"
    },
    "papermill": {
     "duration": 13.573073,
     "end_time": "2024-07-01T11:58:23.050147",
     "exception": false,
     "start_time": "2024-07-01T11:58:09.477074",
     "status": "completed"
    },
    "tags": []
   },
   "outputs": [
    {
     "name": "stdout",
     "output_type": "stream",
     "text": [
      "Collecting torch-geometric\r\n",
      "  Downloading torch_geometric-2.5.3-py3-none-any.whl.metadata (64 kB)\r\n",
      "\u001b[2K     \u001b[90m━━━━━━━━━━━━━━━━━━━━━━━━━━━━━━━━━━━━━━━━\u001b[0m \u001b[32m64.2/64.2 kB\u001b[0m \u001b[31m1.7 MB/s\u001b[0m eta \u001b[36m0:00:00\u001b[0m\r\n",
      "\u001b[?25hRequirement already satisfied: tqdm in /opt/conda/lib/python3.10/site-packages (from torch-geometric) (4.66.4)\r\n",
      "Requirement already satisfied: numpy in /opt/conda/lib/python3.10/site-packages (from torch-geometric) (1.26.4)\r\n",
      "Requirement already satisfied: scipy in /opt/conda/lib/python3.10/site-packages (from torch-geometric) (1.11.4)\r\n",
      "Requirement already satisfied: fsspec in /opt/conda/lib/python3.10/site-packages (from torch-geometric) (2024.3.1)\r\n",
      "Requirement already satisfied: jinja2 in /opt/conda/lib/python3.10/site-packages (from torch-geometric) (3.1.2)\r\n",
      "Requirement already satisfied: aiohttp in /opt/conda/lib/python3.10/site-packages (from torch-geometric) (3.9.1)\r\n",
      "Requirement already satisfied: requests in /opt/conda/lib/python3.10/site-packages (from torch-geometric) (2.32.3)\r\n",
      "Requirement already satisfied: pyparsing in /opt/conda/lib/python3.10/site-packages (from torch-geometric) (3.1.1)\r\n",
      "Requirement already satisfied: scikit-learn in /opt/conda/lib/python3.10/site-packages (from torch-geometric) (1.2.2)\r\n",
      "Requirement already satisfied: psutil>=5.8.0 in /opt/conda/lib/python3.10/site-packages (from torch-geometric) (5.9.3)\r\n",
      "Requirement already satisfied: attrs>=17.3.0 in /opt/conda/lib/python3.10/site-packages (from aiohttp->torch-geometric) (23.2.0)\r\n",
      "Requirement already satisfied: multidict<7.0,>=4.5 in /opt/conda/lib/python3.10/site-packages (from aiohttp->torch-geometric) (6.0.4)\r\n",
      "Requirement already satisfied: yarl<2.0,>=1.0 in /opt/conda/lib/python3.10/site-packages (from aiohttp->torch-geometric) (1.9.3)\r\n",
      "Requirement already satisfied: frozenlist>=1.1.1 in /opt/conda/lib/python3.10/site-packages (from aiohttp->torch-geometric) (1.4.1)\r\n",
      "Requirement already satisfied: aiosignal>=1.1.2 in /opt/conda/lib/python3.10/site-packages (from aiohttp->torch-geometric) (1.3.1)\r\n",
      "Requirement already satisfied: async-timeout<5.0,>=4.0 in /opt/conda/lib/python3.10/site-packages (from aiohttp->torch-geometric) (4.0.3)\r\n",
      "Requirement already satisfied: MarkupSafe>=2.0 in /opt/conda/lib/python3.10/site-packages (from jinja2->torch-geometric) (2.1.3)\r\n",
      "Requirement already satisfied: charset-normalizer<4,>=2 in /opt/conda/lib/python3.10/site-packages (from requests->torch-geometric) (3.3.2)\r\n",
      "Requirement already satisfied: idna<4,>=2.5 in /opt/conda/lib/python3.10/site-packages (from requests->torch-geometric) (3.6)\r\n",
      "Requirement already satisfied: urllib3<3,>=1.21.1 in /opt/conda/lib/python3.10/site-packages (from requests->torch-geometric) (1.26.18)\r\n",
      "Requirement already satisfied: certifi>=2017.4.17 in /opt/conda/lib/python3.10/site-packages (from requests->torch-geometric) (2024.2.2)\r\n",
      "Requirement already satisfied: joblib>=1.1.1 in /opt/conda/lib/python3.10/site-packages (from scikit-learn->torch-geometric) (1.4.2)\r\n",
      "Requirement already satisfied: threadpoolctl>=2.0.0 in /opt/conda/lib/python3.10/site-packages (from scikit-learn->torch-geometric) (3.2.0)\r\n",
      "Downloading torch_geometric-2.5.3-py3-none-any.whl (1.1 MB)\r\n",
      "\u001b[2K   \u001b[90m━━━━━━━━━━━━━━━━━━━━━━━━━━━━━━━━━━━━━━━━\u001b[0m \u001b[32m1.1/1.1 MB\u001b[0m \u001b[31m16.0 MB/s\u001b[0m eta \u001b[36m0:00:00\u001b[0m\r\n",
      "\u001b[?25hInstalling collected packages: torch-geometric\r\n",
      "Successfully installed torch-geometric-2.5.3\r\n"
     ]
    }
   ],
   "source": [
    "!pip install torch-geometric"
   ]
  },
  {
   "cell_type": "code",
   "execution_count": 3,
   "id": "370ac725",
   "metadata": {
    "execution": {
     "iopub.execute_input": "2024-07-01T11:58:23.065595Z",
     "iopub.status.busy": "2024-07-01T11:58:23.064630Z",
     "iopub.status.idle": "2024-07-01T11:58:32.010816Z",
     "shell.execute_reply": "2024-07-01T11:58:32.009819Z"
    },
    "papermill": {
     "duration": 8.956785,
     "end_time": "2024-07-01T11:58:32.013495",
     "exception": false,
     "start_time": "2024-07-01T11:58:23.056710",
     "status": "completed"
    },
    "tags": []
   },
   "outputs": [],
   "source": [
    "# Import necessary libraries\n",
    "from sklearn.metrics import average_precision_score\n",
    "import torch\n",
    "import torch.nn as nn\n",
    "import torch.optim as optim\n",
    "from torch_geometric.data import Data, DataLoader\n",
    "from torch_geometric.nn import GCNConv\n",
    "import pandas as pd\n",
    "from rdkit import Chem\n",
    "from rdkit.Chem import Descriptors\n",
    "import duckdb\n"
   ]
  },
  {
   "cell_type": "code",
   "execution_count": 4,
   "id": "1c466c29",
   "metadata": {
    "execution": {
     "iopub.execute_input": "2024-07-01T11:58:32.028199Z",
     "iopub.status.busy": "2024-07-01T11:58:32.027597Z",
     "iopub.status.idle": "2024-07-01T11:59:28.183430Z",
     "shell.execute_reply": "2024-07-01T11:59:28.182382Z"
    },
    "papermill": {
     "duration": 56.166102,
     "end_time": "2024-07-01T11:59:28.186070",
     "exception": false,
     "start_time": "2024-07-01T11:58:32.019968",
     "status": "completed"
    },
    "tags": []
   },
   "outputs": [
    {
     "data": {
      "application/vnd.jupyter.widget-view+json": {
       "model_id": "ae46c065d3914446ae5f0390ed5d5b93",
       "version_major": 2,
       "version_minor": 0
      },
      "text/plain": [
       "FloatProgress(value=0.0, layout=Layout(width='auto'), style=ProgressStyle(bar_color='black'))"
      ]
     },
     "metadata": {},
     "output_type": "display_data"
    }
   ],
   "source": [
    "# File paths\n",
    "train_parquet_path = '/kaggle/input/leash-BELKA/train.parquet'\n",
    "test_parquet_path = '/kaggle/input/leash-BELKA/test.parquet'\n",
    "train_csv_path = '/kaggle/input/leash-BELKA/train.csv'\n",
    "test_csv_path = '/kaggle/input/leash-BELKA/test.csv'\n",
    "\n",
    "# Connect to DuckDB\n",
    "con = duckdb.connect()\n",
    "\n",
    "# Sample 30,000 rows each for binds = 0 and binds = 1 from train.parquet\n",
    "query_train = f\"\"\"\n",
    "    (SELECT *\n",
    "    FROM parquet_scan('{train_parquet_path}')\n",
    "    WHERE binds = 0\n",
    "    ORDER BY random()\n",
    "    LIMIT 30000)\n",
    "    UNION ALL\n",
    "    (SELECT *\n",
    "    FROM parquet_scan('{train_parquet_path}')\n",
    "    WHERE binds = 1\n",
    "    ORDER BY random()\n",
    "    LIMIT 30000)\n",
    "\"\"\"\n",
    "\n",
    "# Load data into DataFrame\n",
    "train_df = con.from_query(query_train).df()\n",
    "\n",
    "# Load test data without sampling\n",
    "query_test = f\"\"\"\n",
    "    SELECT *\n",
    "    FROM parquet_scan('{test_parquet_path}')\n",
    "\"\"\"\n",
    "\n",
    "test_df = con.from_query(query_test).df()\n",
    "\n",
    "# Close DuckDB connection\n",
    "con.close()"
   ]
  },
  {
   "cell_type": "code",
   "execution_count": 5,
   "id": "3ab34109",
   "metadata": {
    "execution": {
     "iopub.execute_input": "2024-07-01T11:59:28.201233Z",
     "iopub.status.busy": "2024-07-01T11:59:28.200310Z",
     "iopub.status.idle": "2024-07-01T12:08:52.176053Z",
     "shell.execute_reply": "2024-07-01T12:08:52.174790Z"
    },
    "papermill": {
     "duration": 563.986188,
     "end_time": "2024-07-01T12:08:52.178934",
     "exception": false,
     "start_time": "2024-07-01T11:59:28.192746",
     "status": "completed"
    },
    "tags": []
   },
   "outputs": [],
   "source": [
    "# Perform feature engineering\n",
    "def calculate_descriptors(smiles):\n",
    "    mol = Chem.MolFromSmiles(smiles)\n",
    "    if mol is None:\n",
    "        return None, None\n",
    "    num_atoms = mol.GetNumAtoms()\n",
    "    mol_weight = Descriptors.MolWt(mol)\n",
    "    return num_atoms, mol_weight\n",
    "\n",
    "# Calculate descriptors for train and test data\n",
    "train_df['num_atoms'], train_df['mol_weight'] = zip(*train_df['molecule_smiles'].apply(calculate_descriptors))\n",
    "test_df['num_atoms'], test_df['mol_weight'] = zip(*test_df['molecule_smiles'].apply(calculate_descriptors))\n"
   ]
  },
  {
   "cell_type": "code",
   "execution_count": 6,
   "id": "be1ab2f9",
   "metadata": {
    "execution": {
     "iopub.execute_input": "2024-07-01T12:08:52.195516Z",
     "iopub.status.busy": "2024-07-01T12:08:52.195091Z",
     "iopub.status.idle": "2024-07-01T12:08:52.218857Z",
     "shell.execute_reply": "2024-07-01T12:08:52.217704Z"
    },
    "papermill": {
     "duration": 0.034458,
     "end_time": "2024-07-01T12:08:52.221654",
     "exception": false,
     "start_time": "2024-07-01T12:08:52.187196",
     "status": "completed"
    },
    "tags": []
   },
   "outputs": [],
   "source": [
    "# Define features and target\n",
    "features = ['num_atoms', 'mol_weight']\n",
    "target = 'binds'\n",
    "\n",
    "X_train = train_df[features]\n",
    "y_train = train_df[target]\n",
    "X_test = test_df[features]\n"
   ]
  },
  {
   "cell_type": "code",
   "execution_count": 7,
   "id": "3e99b5d4",
   "metadata": {
    "execution": {
     "iopub.execute_input": "2024-07-01T12:08:52.237975Z",
     "iopub.status.busy": "2024-07-01T12:08:52.237568Z",
     "iopub.status.idle": "2024-07-01T12:08:52.244228Z",
     "shell.execute_reply": "2024-07-01T12:08:52.243158Z"
    },
    "papermill": {
     "duration": 0.017569,
     "end_time": "2024-07-01T12:08:52.246445",
     "exception": false,
     "start_time": "2024-07-01T12:08:52.228876",
     "status": "completed"
    },
    "tags": []
   },
   "outputs": [],
   "source": [
    "# Define the GNN model\n",
    "class GNNModel(nn.Module):\n",
    "    def __init__(self, num_features, hidden_dim, num_classes):\n",
    "        super(GNNModel, self).__init__()\n",
    "        self.conv1 = GCNConv(num_features, hidden_dim)\n",
    "        self.conv2 = GCNConv(hidden_dim, num_classes)\n",
    "\n",
    "    def forward(self, x, edge_index):\n",
    "        x = self.conv1(x, edge_index)\n",
    "        x = torch.relu(x)\n",
    "        x = self.conv2(x, edge_index)\n",
    "        return torch.sigmoid(x)"
   ]
  },
  {
   "cell_type": "code",
   "execution_count": 8,
   "id": "56ec6671",
   "metadata": {
    "execution": {
     "iopub.execute_input": "2024-07-01T12:08:52.261688Z",
     "iopub.status.busy": "2024-07-01T12:08:52.260906Z",
     "iopub.status.idle": "2024-07-01T12:08:52.369048Z",
     "shell.execute_reply": "2024-07-01T12:08:52.368014Z"
    },
    "papermill": {
     "duration": 0.118653,
     "end_time": "2024-07-01T12:08:52.371763",
     "exception": false,
     "start_time": "2024-07-01T12:08:52.253110",
     "status": "completed"
    },
    "tags": []
   },
   "outputs": [],
   "source": [
    "# Initialize a basic GNN model\n",
    "num_features = len(features)\n",
    "hidden_dim = 64\n",
    "num_classes = 1  # Binary classification\n",
    "\n",
    "model = GNNModel(num_features, hidden_dim, num_classes)\n",
    "\n",
    "# Dummy edge index (assumed fully connected graph for simplicity)\n",
    "edge_index = torch.tensor([[0, 1, 2], [1, 0, 2]], dtype=torch.long)\n",
    "\n",
    "# Define loss function and optimizer\n",
    "criterion = nn.BCELoss()\n",
    "optimizer = optim.Adam(model.parameters(), lr=0.001)\n",
    "\n",
    "# Convert data to tensors\n",
    "X_train_tensor = torch.tensor(X_train.values, dtype=torch.float32)\n",
    "y_train_tensor = torch.tensor(y_train.values.reshape(-1, 1), dtype=torch.float32)\n"
   ]
  },
  {
   "cell_type": "code",
   "execution_count": 9,
   "id": "86663ce7",
   "metadata": {
    "execution": {
     "iopub.execute_input": "2024-07-01T12:08:52.386956Z",
     "iopub.status.busy": "2024-07-01T12:08:52.386546Z",
     "iopub.status.idle": "2024-07-01T12:08:52.892488Z",
     "shell.execute_reply": "2024-07-01T12:08:52.891412Z"
    },
    "papermill": {
     "duration": 0.516403,
     "end_time": "2024-07-01T12:08:52.894927",
     "exception": false,
     "start_time": "2024-07-01T12:08:52.378524",
     "status": "completed"
    },
    "tags": []
   },
   "outputs": [
    {
     "data": {
      "text/plain": [
       "GNNModel(\n",
       "  (conv1): GCNConv(2, 64)\n",
       "  (conv2): GCNConv(64, 1)\n",
       ")"
      ]
     },
     "execution_count": 9,
     "metadata": {},
     "output_type": "execute_result"
    }
   ],
   "source": [
    "# Train the model\n",
    "model.train()\n",
    "for epoch in range(10):  # Adjust epochs as needed\n",
    "    optimizer.zero_grad()\n",
    "    output = model(X_train_tensor, edge_index)\n",
    "    loss = criterion(output, y_train_tensor)\n",
    "    loss.backward()\n",
    "    optimizer.step()\n",
    "\n",
    "# Set model to evaluation mode\n",
    "model.eval()"
   ]
  },
  {
   "cell_type": "code",
   "execution_count": 10,
   "id": "2a1f9395",
   "metadata": {
    "execution": {
     "iopub.execute_input": "2024-07-01T12:08:52.910280Z",
     "iopub.status.busy": "2024-07-01T12:08:52.909885Z",
     "iopub.status.idle": "2024-07-01T12:08:52.922087Z",
     "shell.execute_reply": "2024-07-01T12:08:52.920953Z"
    },
    "papermill": {
     "duration": 0.022893,
     "end_time": "2024-07-01T12:08:52.924736",
     "exception": false,
     "start_time": "2024-07-01T12:08:52.901843",
     "status": "completed"
    },
    "tags": []
   },
   "outputs": [],
   "source": [
    "# Convert test data to tensor\n",
    "X_test_tensor = torch.tensor(X_test.values, dtype=torch.float32)\n"
   ]
  },
  {
   "cell_type": "code",
   "execution_count": 11,
   "id": "d7314971",
   "metadata": {
    "execution": {
     "iopub.execute_input": "2024-07-01T12:08:52.939930Z",
     "iopub.status.busy": "2024-07-01T12:08:52.939533Z",
     "iopub.status.idle": "2024-07-01T12:08:55.557690Z",
     "shell.execute_reply": "2024-07-01T12:08:55.554316Z"
    },
    "papermill": {
     "duration": 2.636412,
     "end_time": "2024-07-01T12:08:55.567918",
     "exception": false,
     "start_time": "2024-07-01T12:08:52.931506",
     "status": "completed"
    },
    "tags": []
   },
   "outputs": [],
   "source": [
    "# Make predictions on the test set\n",
    "with torch.no_grad():\n",
    "    y_pred = model(X_test_tensor, edge_index).numpy().flatten()  # Flatten y_pred\n",
    "\n"
   ]
  },
  {
   "cell_type": "code",
   "execution_count": 12,
   "id": "048699df",
   "metadata": {
    "execution": {
     "iopub.execute_input": "2024-07-01T12:08:55.619675Z",
     "iopub.status.busy": "2024-07-01T12:08:55.618420Z",
     "iopub.status.idle": "2024-07-01T12:08:58.667875Z",
     "shell.execute_reply": "2024-07-01T12:08:58.666652Z"
    },
    "papermill": {
     "duration": 3.077627,
     "end_time": "2024-07-01T12:08:58.670811",
     "exception": false,
     "start_time": "2024-07-01T12:08:55.593184",
     "status": "completed"
    },
    "tags": []
   },
   "outputs": [
    {
     "data": {
      "text/html": [
       "<div>\n",
       "<style scoped>\n",
       "    .dataframe tbody tr th:only-of-type {\n",
       "        vertical-align: middle;\n",
       "    }\n",
       "\n",
       "    .dataframe tbody tr th {\n",
       "        vertical-align: top;\n",
       "    }\n",
       "\n",
       "    .dataframe thead th {\n",
       "        text-align: right;\n",
       "    }\n",
       "</style>\n",
       "<table border=\"1\" class=\"dataframe\">\n",
       "  <thead>\n",
       "    <tr style=\"text-align: right;\">\n",
       "      <th></th>\n",
       "      <th>id</th>\n",
       "      <th>binds</th>\n",
       "    </tr>\n",
       "  </thead>\n",
       "  <tbody>\n",
       "    <tr>\n",
       "      <th>0</th>\n",
       "      <td>295246830</td>\n",
       "      <td>1.0</td>\n",
       "    </tr>\n",
       "    <tr>\n",
       "      <th>1</th>\n",
       "      <td>295246831</td>\n",
       "      <td>1.0</td>\n",
       "    </tr>\n",
       "    <tr>\n",
       "      <th>2</th>\n",
       "      <td>295246832</td>\n",
       "      <td>1.0</td>\n",
       "    </tr>\n",
       "    <tr>\n",
       "      <th>3</th>\n",
       "      <td>295246833</td>\n",
       "      <td>1.0</td>\n",
       "    </tr>\n",
       "    <tr>\n",
       "      <th>4</th>\n",
       "      <td>295246834</td>\n",
       "      <td>1.0</td>\n",
       "    </tr>\n",
       "  </tbody>\n",
       "</table>\n",
       "</div>"
      ],
      "text/plain": [
       "          id  binds\n",
       "0  295246830    1.0\n",
       "1  295246831    1.0\n",
       "2  295246832    1.0\n",
       "3  295246833    1.0\n",
       "4  295246834    1.0"
      ]
     },
     "execution_count": 12,
     "metadata": {},
     "output_type": "execute_result"
    }
   ],
   "source": [
    "# Create submission DataFrame\n",
    "submission_df = pd.DataFrame({'id': test_df['id'], 'binds': y_pred})\n",
    "\n",
    "# Save submission file\n",
    "submission_df.to_csv('submission_gnn.csv', index=False)\n",
    "submission_df.head()"
   ]
  },
  {
   "cell_type": "code",
   "execution_count": null,
   "id": "09d3d5c9",
   "metadata": {
    "papermill": {
     "duration": 0.007341,
     "end_time": "2024-07-01T12:08:58.686525",
     "exception": false,
     "start_time": "2024-07-01T12:08:58.679184",
     "status": "completed"
    },
    "tags": []
   },
   "outputs": [],
   "source": []
  }
 ],
 "metadata": {
  "kaggle": {
   "accelerator": "none",
   "dataSources": [
    {
     "databundleVersionId": 8006601,
     "sourceId": 67356,
     "sourceType": "competition"
    }
   ],
   "dockerImageVersionId": 30732,
   "isGpuEnabled": false,
   "isInternetEnabled": true,
   "language": "python",
   "sourceType": "notebook"
  },
  "kernelspec": {
   "display_name": "Python 3",
   "language": "python",
   "name": "python3"
  },
  "language_info": {
   "codemirror_mode": {
    "name": "ipython",
    "version": 3
   },
   "file_extension": ".py",
   "mimetype": "text/x-python",
   "name": "python",
   "nbconvert_exporter": "python",
   "pygments_lexer": "ipython3",
   "version": "3.10.13"
  },
  "papermill": {
   "default_parameters": {},
   "duration": 683.801875,
   "end_time": "2024-07-01T12:09:01.427158",
   "environment_variables": {},
   "exception": null,
   "input_path": "__notebook__.ipynb",
   "output_path": "__notebook__.ipynb",
   "parameters": {},
   "start_time": "2024-07-01T11:57:37.625283",
   "version": "2.5.0"
  },
  "widgets": {
   "application/vnd.jupyter.widget-state+json": {
    "state": {
     "67883c6bce734e4f8f84b92bbcd37826": {
      "model_module": "@jupyter-widgets/controls",
      "model_module_version": "1.5.0",
      "model_name": "ProgressStyleModel",
      "state": {
       "_model_module": "@jupyter-widgets/controls",
       "_model_module_version": "1.5.0",
       "_model_name": "ProgressStyleModel",
       "_view_count": null,
       "_view_module": "@jupyter-widgets/base",
       "_view_module_version": "1.2.0",
       "_view_name": "StyleView",
       "bar_color": "black",
       "description_width": ""
      }
     },
     "75338688b84a45798b10f7d7f747f4eb": {
      "model_module": "@jupyter-widgets/base",
      "model_module_version": "1.2.0",
      "model_name": "LayoutModel",
      "state": {
       "_model_module": "@jupyter-widgets/base",
       "_model_module_version": "1.2.0",
       "_model_name": "LayoutModel",
       "_view_count": null,
       "_view_module": "@jupyter-widgets/base",
       "_view_module_version": "1.2.0",
       "_view_name": "LayoutView",
       "align_content": null,
       "align_items": null,
       "align_self": null,
       "border": null,
       "bottom": null,
       "display": null,
       "flex": null,
       "flex_flow": null,
       "grid_area": null,
       "grid_auto_columns": null,
       "grid_auto_flow": null,
       "grid_auto_rows": null,
       "grid_column": null,
       "grid_gap": null,
       "grid_row": null,
       "grid_template_areas": null,
       "grid_template_columns": null,
       "grid_template_rows": null,
       "height": null,
       "justify_content": null,
       "justify_items": null,
       "left": null,
       "margin": null,
       "max_height": null,
       "max_width": null,
       "min_height": null,
       "min_width": null,
       "object_fit": null,
       "object_position": null,
       "order": null,
       "overflow": null,
       "overflow_x": null,
       "overflow_y": null,
       "padding": null,
       "right": null,
       "top": null,
       "visibility": null,
       "width": "auto"
      }
     },
     "ae46c065d3914446ae5f0390ed5d5b93": {
      "model_module": "@jupyter-widgets/controls",
      "model_module_version": "1.5.0",
      "model_name": "FloatProgressModel",
      "state": {
       "_dom_classes": [],
       "_model_module": "@jupyter-widgets/controls",
       "_model_module_version": "1.5.0",
       "_model_name": "FloatProgressModel",
       "_view_count": null,
       "_view_module": "@jupyter-widgets/controls",
       "_view_module_version": "1.5.0",
       "_view_name": "ProgressView",
       "bar_style": "",
       "description": "",
       "description_tooltip": null,
       "layout": "IPY_MODEL_75338688b84a45798b10f7d7f747f4eb",
       "max": 100.0,
       "min": 0.0,
       "orientation": "horizontal",
       "style": "IPY_MODEL_67883c6bce734e4f8f84b92bbcd37826",
       "value": 100.0
      }
     }
    },
    "version_major": 2,
    "version_minor": 0
   }
  }
 },
 "nbformat": 4,
 "nbformat_minor": 5
}
