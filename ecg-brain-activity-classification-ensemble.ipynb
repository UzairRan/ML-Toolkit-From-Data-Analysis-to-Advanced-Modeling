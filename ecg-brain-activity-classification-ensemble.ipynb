{
 "cells": [
  {
   "cell_type": "code",
   "execution_count": 1,
   "id": "30071a3d",
   "metadata": {
    "_cell_guid": "b1076dfc-b9ad-4769-8c92-a6c4dae69d19",
    "_uuid": "8f2839f25d086af736a60e9eeb907d3b93b6e0e5",
    "execution": {
     "iopub.execute_input": "2024-02-09T14:52:17.435589Z",
     "iopub.status.busy": "2024-02-09T14:52:17.435195Z",
     "iopub.status.idle": "2024-02-09T14:52:26.804194Z",
     "shell.execute_reply": "2024-02-09T14:52:26.802184Z"
    },
    "papermill": {
     "duration": 9.378427,
     "end_time": "2024-02-09T14:52:26.807348",
     "exception": false,
     "start_time": "2024-02-09T14:52:17.428921",
     "status": "completed"
    },
    "tags": []
   },
   "outputs": [],
   "source": [
    "# Importing essential libraries\n",
    "import gc\n",
    "import os\n",
    "import random\n",
    "import warnings\n",
    "import numpy as np\n",
    "import pandas as pd\n",
    "from IPython.display import display\n",
    "\n",
    "# PyTorch for deep learning\n",
    "import timm\n",
    "import torch\n",
    "import torch.nn as nn  \n",
    "import torch.optim as optim\n",
    "import torch.nn.functional as F\n",
    "\n",
    "# torchvision for image processing and augmentation\n",
    "import torchvision.transforms as transforms\n",
    "\n",
    "# Suppressing minor warnings to keep the output clean\n",
    "warnings.filterwarnings('ignore', category=Warning)\n"
   ]
  },
  {
   "cell_type": "code",
   "execution_count": 2,
   "id": "28a47194",
   "metadata": {
    "execution": {
     "iopub.execute_input": "2024-02-09T14:52:26.817931Z",
     "iopub.status.busy": "2024-02-09T14:52:26.817442Z",
     "iopub.status.idle": "2024-02-09T14:52:27.111982Z",
     "shell.execute_reply": "2024-02-09T14:52:27.111116Z"
    },
    "papermill": {
     "duration": 0.303187,
     "end_time": "2024-02-09T14:52:27.115000",
     "exception": false,
     "start_time": "2024-02-09T14:52:26.811813",
     "status": "completed"
    },
    "tags": []
   },
   "outputs": [
    {
     "data": {
      "text/plain": [
       "16"
      ]
     },
     "execution_count": 2,
     "metadata": {},
     "output_type": "execute_result"
    }
   ],
   "source": [
    "# Reclaim memory no longer in use.\n",
    "gc.collect()\n"
   ]
  },
  {
   "cell_type": "code",
   "execution_count": 3,
   "id": "b0cb68b7",
   "metadata": {
    "execution": {
     "iopub.execute_input": "2024-02-09T14:52:27.126092Z",
     "iopub.status.busy": "2024-02-09T14:52:27.125571Z",
     "iopub.status.idle": "2024-02-09T14:52:27.131579Z",
     "shell.execute_reply": "2024-02-09T14:52:27.130131Z"
    },
    "papermill": {
     "duration": 0.015486,
     "end_time": "2024-02-09T14:52:27.134925",
     "exception": false,
     "start_time": "2024-02-09T14:52:27.119439",
     "status": "completed"
    },
    "tags": []
   },
   "outputs": [],
   "source": [
    "# Define the configuration settings\n",
    "class Config:\n",
    "    seed = 42\n",
    "    image_transform = transforms.Resize((512, 512))\n",
    "    num_folds = 5"
   ]
  },
  {
   "cell_type": "code",
   "execution_count": 4,
   "id": "b163f444",
   "metadata": {
    "execution": {
     "iopub.execute_input": "2024-02-09T14:52:27.145136Z",
     "iopub.status.busy": "2024-02-09T14:52:27.144731Z",
     "iopub.status.idle": "2024-02-09T14:52:27.153643Z",
     "shell.execute_reply": "2024-02-09T14:52:27.152096Z"
    },
    "papermill": {
     "duration": 0.017179,
     "end_time": "2024-02-09T14:52:27.156362",
     "exception": false,
     "start_time": "2024-02-09T14:52:27.139183",
     "status": "completed"
    },
    "tags": []
   },
   "outputs": [],
   "source": [
    "# Set the seed for reproducibility across multiple libraries\n",
    "def set_seed(seed):\n",
    "    torch.backends.cudnn.deterministic = True\n",
    "    torch.backends.cudnn.benchmark = True\n",
    "    torch.manual_seed(seed)\n",
    "    np.random.seed(seed)\n",
    "    random.seed(seed)\n",
    "\n",
    "set_seed(Config.seed)\n"
   ]
  },
  {
   "cell_type": "code",
   "execution_count": 5,
   "id": "597ccc4b",
   "metadata": {
    "execution": {
     "iopub.execute_input": "2024-02-09T14:52:27.166722Z",
     "iopub.status.busy": "2024-02-09T14:52:27.166192Z",
     "iopub.status.idle": "2024-02-09T14:52:37.380686Z",
     "shell.execute_reply": "2024-02-09T14:52:37.379779Z"
    },
    "papermill": {
     "duration": 10.222535,
     "end_time": "2024-02-09T14:52:37.383078",
     "exception": false,
     "start_time": "2024-02-09T14:52:27.160543",
     "status": "completed"
    },
    "tags": []
   },
   "outputs": [],
   "source": [
    "# Data Loading\n",
    "# Load and store the trained models for each fold into a list\n",
    "models = []\n",
    "\n",
    "# Load ResNet34d\n",
    "for i in range(Config.num_folds):\n",
    "    # Create the same model architecture as during training\n",
    "    model_resnet = timm.create_model('resnet34d', pretrained=False, num_classes=6, in_chans=1)\n",
    "    \n",
    "    # Load the trained weights from the corresponding file\n",
    "    model_resnet.load_state_dict(torch.load(f'/kaggle/input/hms-train-resnet34d/resnet34d_fold{i}.pth', map_location=torch.device('cpu')))\n",
    "    \n",
    "    # Append the loaded model to the models list\n",
    "    models.append(model_resnet)\n",
    "\n",
    "# Load EfficientNetB0\n",
    "for j in range(Config.num_folds):\n",
    "    # Create the same model architecture as during training\n",
    "    model_effnet_b0 = timm.create_model('efficientnet_b0', pretrained=False, num_classes=6, in_chans=1)\n",
    "    \n",
    "    # Load the trained weights from the corresponding file\n",
    "    model_effnet_b0.load_state_dict(torch.load(f'/kaggle/input/hms-train-efficientnetb0/efficientnet_b0_fold{j}.pth', map_location=torch.device('cpu')))\n",
    "    \n",
    "    # Append the loaded model to the models list\n",
    "    models.append(model_effnet_b0)\n",
    "    \n",
    "# Load EfficientNetB1\n",
    "for k in range(Config.num_folds):\n",
    "    # Create the same model architecture as during training\n",
    "    model_effnet_b1 = timm.create_model('efficientnet_b1', pretrained=False, num_classes=6, in_chans=1)\n",
    "    \n",
    "    # Load the trained weights from the corresponding file\n",
    "    model_effnet_b1.load_state_dict(torch.load(f'/kaggle/input/hms-train-efficientnetb1/efficientnet_b1_fold{k}.pth', map_location=torch.device('cpu')))\n",
    "    \n",
    "    # Append the loaded model to the models list\n",
    "    models.append(model_effnet_b1)\n"
   ]
  },
  {
   "cell_type": "code",
   "execution_count": 6,
   "id": "ded964f1",
   "metadata": {
    "execution": {
     "iopub.execute_input": "2024-02-09T14:52:37.394474Z",
     "iopub.status.busy": "2024-02-09T14:52:37.392824Z",
     "iopub.status.idle": "2024-02-09T14:52:37.416685Z",
     "shell.execute_reply": "2024-02-09T14:52:37.415008Z"
    },
    "papermill": {
     "duration": 0.032441,
     "end_time": "2024-02-09T14:52:37.419744",
     "exception": false,
     "start_time": "2024-02-09T14:52:37.387303",
     "status": "completed"
    },
    "tags": []
   },
   "outputs": [],
   "source": [
    "# Load test data and sample submission dataframe\n",
    "test_df = pd.read_csv(\"/kaggle/input/hms-harmful-brain-activity-classification/test.csv\")\n",
    "submission = pd.read_csv(\"/kaggle/input/hms-harmful-brain-activity-classification/sample_submission.csv\")\n"
   ]
  },
  {
   "cell_type": "code",
   "execution_count": 7,
   "id": "93ffc7d3",
   "metadata": {
    "execution": {
     "iopub.execute_input": "2024-02-09T14:52:37.431344Z",
     "iopub.status.busy": "2024-02-09T14:52:37.430799Z",
     "iopub.status.idle": "2024-02-09T14:52:37.453609Z",
     "shell.execute_reply": "2024-02-09T14:52:37.451703Z"
    },
    "papermill": {
     "duration": 0.031461,
     "end_time": "2024-02-09T14:52:37.455750",
     "exception": false,
     "start_time": "2024-02-09T14:52:37.424289",
     "status": "completed"
    },
    "tags": []
   },
   "outputs": [],
   "source": [
    "# Merge the submission dataframe with the test data on EEG IDs\n",
    "submission = submission.merge(test_df, on='eeg_id', how='left')\n"
   ]
  },
  {
   "cell_type": "code",
   "execution_count": 8,
   "id": "8a8fcef2",
   "metadata": {
    "execution": {
     "iopub.execute_input": "2024-02-09T14:52:37.466847Z",
     "iopub.status.busy": "2024-02-09T14:52:37.465526Z",
     "iopub.status.idle": "2024-02-09T14:52:37.488163Z",
     "shell.execute_reply": "2024-02-09T14:52:37.486441Z"
    },
    "papermill": {
     "duration": 0.031286,
     "end_time": "2024-02-09T14:52:37.491238",
     "exception": false,
     "start_time": "2024-02-09T14:52:37.459952",
     "status": "completed"
    },
    "tags": []
   },
   "outputs": [
    {
     "data": {
      "text/html": [
       "<div>\n",
       "<style scoped>\n",
       "    .dataframe tbody tr th:only-of-type {\n",
       "        vertical-align: middle;\n",
       "    }\n",
       "\n",
       "    .dataframe tbody tr th {\n",
       "        vertical-align: top;\n",
       "    }\n",
       "\n",
       "    .dataframe thead th {\n",
       "        text-align: right;\n",
       "    }\n",
       "</style>\n",
       "<table border=\"1\" class=\"dataframe\">\n",
       "  <thead>\n",
       "    <tr style=\"text-align: right;\">\n",
       "      <th></th>\n",
       "      <th>eeg_id</th>\n",
       "      <th>seizure_vote</th>\n",
       "      <th>lpd_vote</th>\n",
       "      <th>gpd_vote</th>\n",
       "      <th>lrda_vote</th>\n",
       "      <th>grda_vote</th>\n",
       "      <th>other_vote</th>\n",
       "      <th>spectrogram_id</th>\n",
       "      <th>patient_id</th>\n",
       "      <th>path</th>\n",
       "    </tr>\n",
       "  </thead>\n",
       "  <tbody>\n",
       "    <tr>\n",
       "      <th>0</th>\n",
       "      <td>3911565283</td>\n",
       "      <td>0.166667</td>\n",
       "      <td>0.166667</td>\n",
       "      <td>0.166667</td>\n",
       "      <td>0.166667</td>\n",
       "      <td>0.166667</td>\n",
       "      <td>0.166667</td>\n",
       "      <td>853520</td>\n",
       "      <td>6885</td>\n",
       "      <td>/kaggle/input/hms-harmful-brain-activity-class...</td>\n",
       "    </tr>\n",
       "  </tbody>\n",
       "</table>\n",
       "</div>"
      ],
      "text/plain": [
       "       eeg_id  seizure_vote  lpd_vote  gpd_vote  lrda_vote  grda_vote  \\\n",
       "0  3911565283      0.166667  0.166667  0.166667   0.166667   0.166667   \n",
       "\n",
       "   other_vote  spectrogram_id  patient_id  \\\n",
       "0    0.166667          853520        6885   \n",
       "\n",
       "                                                path  \n",
       "0  /kaggle/input/hms-harmful-brain-activity-class...  "
      ]
     },
     "metadata": {},
     "output_type": "display_data"
    }
   ],
   "source": [
    "# Generate file paths for each spectrogram based on the EEG data in the submission dataframe\n",
    "submission['path'] = submission['spectrogram_id'].apply(lambda x: f\"/kaggle/input/hms-harmful-brain-activity-classification/test_spectrograms/{x}.parquet\")\n",
    "\n",
    "# Display the first few rows of the submission dataframe\n",
    "display(submission.head())"
   ]
  },
  {
   "cell_type": "code",
   "execution_count": 9,
   "id": "fe647959",
   "metadata": {
    "execution": {
     "iopub.execute_input": "2024-02-09T14:52:37.502517Z",
     "iopub.status.busy": "2024-02-09T14:52:37.502124Z",
     "iopub.status.idle": "2024-02-09T14:52:37.508922Z",
     "shell.execute_reply": "2024-02-09T14:52:37.506996Z"
    },
    "papermill": {
     "duration": 0.016351,
     "end_time": "2024-02-09T14:52:37.512206",
     "exception": false,
     "start_time": "2024-02-09T14:52:37.495855",
     "status": "completed"
    },
    "tags": []
   },
   "outputs": [],
   "source": [
    "# Define the weights for each model\n",
    "weight_resnet34d = 0.25\n",
    "weight_effnetb0 = 0.42\n",
    "weight_effnetb1 = 0.33"
   ]
  },
  {
   "cell_type": "code",
   "execution_count": 10,
   "id": "bf12b673",
   "metadata": {
    "execution": {
     "iopub.execute_input": "2024-02-09T14:52:37.523734Z",
     "iopub.status.busy": "2024-02-09T14:52:37.522617Z",
     "iopub.status.idle": "2024-02-09T14:52:40.970556Z",
     "shell.execute_reply": "2024-02-09T14:52:40.969122Z"
    },
    "papermill": {
     "duration": 3.456539,
     "end_time": "2024-02-09T14:52:40.973182",
     "exception": false,
     "start_time": "2024-02-09T14:52:37.516643",
     "status": "completed"
    },
    "tags": []
   },
   "outputs": [],
   "source": [
    "# Get file paths for test spectrograms\n",
    "paths = submission['path'].values\n",
    "test_preds = []\n",
    "\n",
    "# Generate predictions for each spectrogram using all models\n",
    "for path in paths:\n",
    "    eps = 1e-6\n",
    "    # Read and preprocess spectrogram data\n",
    "    data = pd.read_parquet(path)\n",
    "    data = data.fillna(-1).values[:, 1:].T\n",
    "    data = np.clip(data, np.exp(-6), np.exp(10))\n",
    "    data = np.log(data)\n",
    "    \n",
    "    # Normalize the data\n",
    "    data_mean = data.mean(axis=(0, 1))\n",
    "    data_std = data.std(axis=(0, 1))\n",
    "    data = (data - data_mean) / (data_std + eps)\n",
    "    data_tensor = torch.unsqueeze(torch.Tensor(data), dim=0)\n",
    "    data = Config.image_transform(data_tensor)\n",
    "\n",
    "    test_pred = []\n",
    "    \n",
    "    # Generate predictions using all models\n",
    "    for model in models:\n",
    "        model.eval()\n",
    "        with torch.no_grad():\n",
    "            pred = F.softmax(model(data.unsqueeze(0)))[0]\n",
    "            pred = pred.detach().cpu().numpy()\n",
    "        test_pred.append(pred)\n",
    "        \n",
    "    # Combine predictions from all models using weighted voting\n",
    "    weighted_pred = weight_resnet34d * np.mean(test_pred[:Config.num_folds], axis=0) + \\\n",
    "                     weight_effnetb0 * np.mean(test_pred[Config.num_folds:2*Config.num_folds], axis=0) + \\\n",
    "                     weight_effnetb1 * np.mean(test_pred[2*Config.num_folds:], axis=0)\n",
    "    \n",
    "    test_preds.append(weighted_pred)\n",
    "\n",
    "# Convert the list of predictions to a NumPy array for further processing\n",
    "test_preds = np.array(test_preds)"
   ]
  },
  {
   "cell_type": "code",
   "execution_count": 11,
   "id": "5402373e",
   "metadata": {
    "execution": {
     "iopub.execute_input": "2024-02-09T14:52:40.984049Z",
     "iopub.status.busy": "2024-02-09T14:52:40.983278Z",
     "iopub.status.idle": "2024-02-09T14:52:40.993206Z",
     "shell.execute_reply": "2024-02-09T14:52:40.991553Z"
    },
    "papermill": {
     "duration": 0.018773,
     "end_time": "2024-02-09T14:52:40.996272",
     "exception": false,
     "start_time": "2024-02-09T14:52:40.977499",
     "status": "completed"
    },
    "tags": []
   },
   "outputs": [],
   "source": [
    "# Submission\n",
    "# Load the sample submission file and update it with model predictions for each label\n",
    "submission = pd.read_csv(\"/kaggle/input/hms-harmful-brain-activity-classification/sample_submission.csv\")\n",
    "labels = ['seizure', 'lpd', 'gpd', 'lrda', 'grda', 'other']"
   ]
  },
  {
   "cell_type": "code",
   "execution_count": 12,
   "id": "06632187",
   "metadata": {
    "execution": {
     "iopub.execute_input": "2024-02-09T14:52:41.007396Z",
     "iopub.status.busy": "2024-02-09T14:52:41.006669Z",
     "iopub.status.idle": "2024-02-09T14:52:41.018183Z",
     "shell.execute_reply": "2024-02-09T14:52:41.017086Z"
    },
    "papermill": {
     "duration": 0.020271,
     "end_time": "2024-02-09T14:52:41.021124",
     "exception": false,
     "start_time": "2024-02-09T14:52:41.000853",
     "status": "completed"
    },
    "tags": []
   },
   "outputs": [],
   "source": [
    "# Assign model predictions to respective columns in the submission DataFrame\n",
    "for i in range(len(labels)):\n",
    "    submission[f'{labels[i]}_vote'] = test_preds[:, i]\n",
    "\n",
    "# Save the updated DataFrame as the final submission file\n",
    "submission.to_csv(\"submission.csv\", index=None)\n"
   ]
  },
  {
   "cell_type": "code",
   "execution_count": 13,
   "id": "b32907f7",
   "metadata": {
    "execution": {
     "iopub.execute_input": "2024-02-09T14:52:41.031793Z",
     "iopub.status.busy": "2024-02-09T14:52:41.031325Z",
     "iopub.status.idle": "2024-02-09T14:52:41.376830Z",
     "shell.execute_reply": "2024-02-09T14:52:41.375456Z"
    },
    "papermill": {
     "duration": 0.354013,
     "end_time": "2024-02-09T14:52:41.379608",
     "exception": false,
     "start_time": "2024-02-09T14:52:41.025595",
     "status": "completed"
    },
    "tags": []
   },
   "outputs": [
    {
     "data": {
      "text/html": [
       "<div>\n",
       "<style scoped>\n",
       "    .dataframe tbody tr th:only-of-type {\n",
       "        vertical-align: middle;\n",
       "    }\n",
       "\n",
       "    .dataframe tbody tr th {\n",
       "        vertical-align: top;\n",
       "    }\n",
       "\n",
       "    .dataframe thead th {\n",
       "        text-align: right;\n",
       "    }\n",
       "</style>\n",
       "<table border=\"1\" class=\"dataframe\">\n",
       "  <thead>\n",
       "    <tr style=\"text-align: right;\">\n",
       "      <th></th>\n",
       "      <th>eeg_id</th>\n",
       "      <th>seizure_vote</th>\n",
       "      <th>lpd_vote</th>\n",
       "      <th>gpd_vote</th>\n",
       "      <th>lrda_vote</th>\n",
       "      <th>grda_vote</th>\n",
       "      <th>other_vote</th>\n",
       "    </tr>\n",
       "  </thead>\n",
       "  <tbody>\n",
       "    <tr>\n",
       "      <th>0</th>\n",
       "      <td>3911565283</td>\n",
       "      <td>0.032143</td>\n",
       "      <td>0.098905</td>\n",
       "      <td>0.000776</td>\n",
       "      <td>0.379415</td>\n",
       "      <td>0.010905</td>\n",
       "      <td>0.477857</td>\n",
       "    </tr>\n",
       "  </tbody>\n",
       "</table>\n",
       "</div>"
      ],
      "text/plain": [
       "       eeg_id  seizure_vote  lpd_vote  gpd_vote  lrda_vote  grda_vote  \\\n",
       "0  3911565283      0.032143  0.098905  0.000776   0.379415   0.010905   \n",
       "\n",
       "   other_vote  \n",
       "0    0.477857  "
      ]
     },
     "metadata": {},
     "output_type": "display_data"
    },
    {
     "data": {
      "text/plain": [
       "18"
      ]
     },
     "execution_count": 13,
     "metadata": {},
     "output_type": "execute_result"
    }
   ],
   "source": [
    "# Display the first few rows of the submission file\n",
    "display(submission.head())\n",
    "\n",
    "# Reclaim memory no longer in use.\n",
    "gc.collect()"
   ]
  },
  {
   "cell_type": "code",
   "execution_count": null,
   "id": "5270702c",
   "metadata": {
    "papermill": {
     "duration": 0.004158,
     "end_time": "2024-02-09T14:52:41.388648",
     "exception": false,
     "start_time": "2024-02-09T14:52:41.384490",
     "status": "completed"
    },
    "tags": []
   },
   "outputs": [],
   "source": []
  }
 ],
 "metadata": {
  "kaggle": {
   "accelerator": "none",
   "dataSources": [
    {
     "databundleVersionId": 7469972,
     "sourceId": 59093,
     "sourceType": "competition"
    },
    {
     "sourceId": 160674831,
     "sourceType": "kernelVersion"
    },
    {
     "sourceId": 160700706,
     "sourceType": "kernelVersion"
    },
    {
     "sourceId": 161586765,
     "sourceType": "kernelVersion"
    }
   ],
   "dockerImageVersionId": 30646,
   "isGpuEnabled": false,
   "isInternetEnabled": false,
   "language": "python",
   "sourceType": "notebook"
  },
  "kernelspec": {
   "display_name": "Python 3",
   "language": "python",
   "name": "python3"
  },
  "language_info": {
   "codemirror_mode": {
    "name": "ipython",
    "version": 3
   },
   "file_extension": ".py",
   "mimetype": "text/x-python",
   "name": "python",
   "nbconvert_exporter": "python",
   "pygments_lexer": "ipython3",
   "version": "3.10.13"
  },
  "papermill": {
   "default_parameters": {},
   "duration": 28.822805,
   "end_time": "2024-02-09T14:52:43.624485",
   "environment_variables": {},
   "exception": null,
   "input_path": "__notebook__.ipynb",
   "output_path": "__notebook__.ipynb",
   "parameters": {},
   "start_time": "2024-02-09T14:52:14.801680",
   "version": "2.5.0"
  }
 },
 "nbformat": 4,
 "nbformat_minor": 5
}
