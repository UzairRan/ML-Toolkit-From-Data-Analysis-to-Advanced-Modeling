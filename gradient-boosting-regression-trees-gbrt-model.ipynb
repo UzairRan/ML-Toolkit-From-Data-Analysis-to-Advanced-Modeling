{
 "cells": [
  {
   "cell_type": "code",
   "execution_count": 1,
   "id": "2f121681",
   "metadata": {
    "_cell_guid": "b1076dfc-b9ad-4769-8c92-a6c4dae69d19",
    "_uuid": "8f2839f25d086af736a60e9eeb907d3b93b6e0e5",
    "execution": {
     "iopub.execute_input": "2024-05-29T19:09:05.214145Z",
     "iopub.status.busy": "2024-05-29T19:09:05.213716Z",
     "iopub.status.idle": "2024-05-29T19:09:08.609104Z",
     "shell.execute_reply": "2024-05-29T19:09:08.607238Z"
    },
    "papermill": {
     "duration": 3.406933,
     "end_time": "2024-05-29T19:09:08.613886",
     "exception": false,
     "start_time": "2024-05-29T19:09:05.206953",
     "status": "completed"
    },
    "tags": []
   },
   "outputs": [],
   "source": [
    "import pandas as pd\n",
    "import numpy as np\n",
    "from sklearn.preprocessing import StandardScaler\n",
    "from sklearn.ensemble import GradientBoostingRegressor\n",
    "from sklearn.metrics import mean_squared_error\n"
   ]
  },
  {
   "cell_type": "code",
   "execution_count": 2,
   "id": "b2d72be8",
   "metadata": {
    "execution": {
     "iopub.execute_input": "2024-05-29T19:09:08.625155Z",
     "iopub.status.busy": "2024-05-29T19:09:08.624450Z",
     "iopub.status.idle": "2024-05-29T19:09:14.103448Z",
     "shell.execute_reply": "2024-05-29T19:09:14.102104Z"
    },
    "papermill": {
     "duration": 5.488041,
     "end_time": "2024-05-29T19:09:14.106685",
     "exception": false,
     "start_time": "2024-05-29T19:09:08.618644",
     "status": "completed"
    },
    "tags": []
   },
   "outputs": [],
   "source": [
    "# Load the datasets\n",
    "train_data = pd.read_csv(\"/kaggle/input/playground-series-s4e5/train.csv\")\n",
    "test_data = pd.read_csv(\"/kaggle/input/playground-series-s4e5/test.csv\")\n"
   ]
  },
  {
   "cell_type": "code",
   "execution_count": 3,
   "id": "1130824f",
   "metadata": {
    "execution": {
     "iopub.execute_input": "2024-05-29T19:09:14.117230Z",
     "iopub.status.busy": "2024-05-29T19:09:14.115898Z",
     "iopub.status.idle": "2024-05-29T19:09:14.268045Z",
     "shell.execute_reply": "2024-05-29T19:09:14.266840Z"
    },
    "papermill": {
     "duration": 0.161603,
     "end_time": "2024-05-29T19:09:14.272197",
     "exception": false,
     "start_time": "2024-05-29T19:09:14.110594",
     "status": "completed"
    },
    "tags": []
   },
   "outputs": [],
   "source": [
    "# Extract features and target variable from training data\n",
    "X_train = train_data.drop(columns=['id', 'FloodProbability'])\n",
    "y_train = train_data['FloodProbability']\n",
    "\n",
    "# Extract features from test data\n",
    "X_test = test_data.drop(columns=['id'])"
   ]
  },
  {
   "cell_type": "code",
   "execution_count": 4,
   "id": "6744bcdb",
   "metadata": {
    "execution": {
     "iopub.execute_input": "2024-05-29T19:09:14.283120Z",
     "iopub.status.busy": "2024-05-29T19:09:14.281987Z",
     "iopub.status.idle": "2024-05-29T19:09:14.832698Z",
     "shell.execute_reply": "2024-05-29T19:09:14.831245Z"
    },
    "papermill": {
     "duration": 0.559973,
     "end_time": "2024-05-29T19:09:14.836245",
     "exception": false,
     "start_time": "2024-05-29T19:09:14.276272",
     "status": "completed"
    },
    "tags": []
   },
   "outputs": [],
   "source": [
    "# Feature Scaling\n",
    "scaler = StandardScaler()\n",
    "X_train_scaled = scaler.fit_transform(X_train)\n",
    "X_test_scaled = scaler.transform(X_test)\n"
   ]
  },
  {
   "cell_type": "code",
   "execution_count": 5,
   "id": "9a54e541",
   "metadata": {
    "execution": {
     "iopub.execute_input": "2024-05-29T19:09:14.846958Z",
     "iopub.status.busy": "2024-05-29T19:09:14.846552Z",
     "iopub.status.idle": "2024-05-29T19:16:35.255193Z",
     "shell.execute_reply": "2024-05-29T19:16:35.253129Z"
    },
    "papermill": {
     "duration": 440.422095,
     "end_time": "2024-05-29T19:16:35.262691",
     "exception": false,
     "start_time": "2024-05-29T19:09:14.840596",
     "status": "completed"
    },
    "tags": []
   },
   "outputs": [
    {
     "name": "stdout",
     "output_type": "stream",
     "text": [
      "GBRT Train MSE: 0.0009995129537374052\n"
     ]
    }
   ],
   "source": [
    "# Train and evaluate Gradient Boosting Regression Trees (GBRT) model\n",
    "gbrt_model = GradientBoostingRegressor()\n",
    "gbrt_model.fit(X_train_scaled, y_train)\n",
    "y_train_pred_gbrt = gbrt_model.predict(X_train_scaled)\n",
    "gbrt_train_mse = mean_squared_error(y_train, y_train_pred_gbrt)\n",
    "print(f'GBRT Train MSE: {gbrt_train_mse}')\n"
   ]
  },
  {
   "cell_type": "code",
   "execution_count": 6,
   "id": "9c3d7971",
   "metadata": {
    "execution": {
     "iopub.execute_input": "2024-05-29T19:16:35.275380Z",
     "iopub.status.busy": "2024-05-29T19:16:35.274435Z",
     "iopub.status.idle": "2024-05-29T19:16:37.278596Z",
     "shell.execute_reply": "2024-05-29T19:16:37.276820Z"
    },
    "papermill": {
     "duration": 2.015015,
     "end_time": "2024-05-29T19:16:37.282112",
     "exception": false,
     "start_time": "2024-05-29T19:16:35.267097",
     "status": "completed"
    },
    "tags": []
   },
   "outputs": [],
   "source": [
    "# Predict on test data using GBRT model\n",
    "y_test_pred_gbrt = gbrt_model.predict(X_test_scaled)\n"
   ]
  },
  {
   "cell_type": "code",
   "execution_count": 7,
   "id": "92677d73",
   "metadata": {
    "execution": {
     "iopub.execute_input": "2024-05-29T19:16:37.293454Z",
     "iopub.status.busy": "2024-05-29T19:16:37.292934Z",
     "iopub.status.idle": "2024-05-29T19:16:39.813650Z",
     "shell.execute_reply": "2024-05-29T19:16:39.812131Z"
    },
    "papermill": {
     "duration": 2.530909,
     "end_time": "2024-05-29T19:16:39.817634",
     "exception": false,
     "start_time": "2024-05-29T19:16:37.286725",
     "status": "completed"
    },
    "tags": []
   },
   "outputs": [
    {
     "name": "stdout",
     "output_type": "stream",
     "text": [
      "Submission file saved to 'submission.csv'.\n"
     ]
    }
   ],
   "source": [
    "# Prepare submission file\n",
    "submission = pd.DataFrame({\n",
    "    'id': test_data['id'],\n",
    "    'FloodProbability': y_test_pred_gbrt\n",
    "})\n",
    "submission.to_csv('submission.csv', index=False)\n",
    "\n",
    "print(\"Submission file saved to 'submission.csv'.\")"
   ]
  },
  {
   "cell_type": "code",
   "execution_count": null,
   "id": "2862d2d6",
   "metadata": {
    "papermill": {
     "duration": 0.010839,
     "end_time": "2024-05-29T19:16:39.835746",
     "exception": false,
     "start_time": "2024-05-29T19:16:39.824907",
     "status": "completed"
    },
    "tags": []
   },
   "outputs": [],
   "source": []
  }
 ],
 "metadata": {
  "kaggle": {
   "accelerator": "none",
   "dataSources": [
    {
     "databundleVersionId": 8121328,
     "sourceId": 73278,
     "sourceType": "competition"
    }
   ],
   "dockerImageVersionId": 30698,
   "isGpuEnabled": false,
   "isInternetEnabled": true,
   "language": "python",
   "sourceType": "notebook"
  },
  "kernelspec": {
   "display_name": "Python 3",
   "language": "python",
   "name": "python3"
  },
  "language_info": {
   "codemirror_mode": {
    "name": "ipython",
    "version": 3
   },
   "file_extension": ".py",
   "mimetype": "text/x-python",
   "name": "python",
   "nbconvert_exporter": "python",
   "pygments_lexer": "ipython3",
   "version": "3.10.13"
  },
  "papermill": {
   "default_parameters": {},
   "duration": 459.172207,
   "end_time": "2024-05-29T19:16:40.671304",
   "environment_variables": {},
   "exception": null,
   "input_path": "__notebook__.ipynb",
   "output_path": "__notebook__.ipynb",
   "parameters": {},
   "start_time": "2024-05-29T19:09:01.499097",
   "version": "2.5.0"
  }
 },
 "nbformat": 4,
 "nbformat_minor": 5
}
